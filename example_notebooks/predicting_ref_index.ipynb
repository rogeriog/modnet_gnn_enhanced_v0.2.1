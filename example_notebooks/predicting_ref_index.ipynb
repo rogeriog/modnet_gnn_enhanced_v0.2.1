{
 "cells": [
  {
   "cell_type": "markdown",
   "metadata": {},
   "source": [
    "# Predicting the refractive index for the Materials Project\n",
    "\n",
    "This notebook will predict the refractive index for ~68,000 materials from the Materials Project (MP).\n",
    "This is done by using the pretrained model \"refractive_index\" available in the following directory: modnet/pretrained.\n",
    "\n",
    "## Load model\n",
    "First the MODNetModel is loaded:"
   ]
  },
  {
   "cell_type": "code",
   "execution_count": 1,
   "metadata": {},
   "outputs": [],
   "source": [
    "import sys\n",
    "from modnet.models import MODNetModel\n",
    "from modnet.preprocessing import MODData"
   ]
  },
  {
   "cell_type": "code",
   "execution_count": 2,
   "metadata": {},
   "outputs": [
    {
     "name": "stdout",
     "output_type": "stream",
     "text": [
      "2021-02-24 14:28:00,039 - modnet - INFO - Loading model from ../pretrained/refractive_index(.json/.h5/.pkl)\n",
      "2021-02-24 14:28:00,118 - modnet - INFO - Loaded `MODNetModel` created with modnet version 0.1.8.\n"
     ]
    }
   ],
   "source": [
    "model = MODNetModel.load('../pretrained/refractive_index')"
   ]
  },
  {
   "cell_type": "markdown",
   "metadata": {},
   "source": [
    "## Load MODData\n",
    "In order to predict it on new structures a MODData should be created. Here we want to predict on structures from the MP, and therefore load the precomputed MP MODData.\n",
    "This takes some time and memory."
   ]
  },
  {
   "cell_type": "code",
   "execution_count": 3,
   "metadata": {},
   "outputs": [
    {
     "name": "stdout",
     "output_type": "stream",
     "text": [
      "2021-02-24 14:28:33,168 - modnet - INFO - Loaded <modnet.preprocessing.MODData object at 0x7f98b3463af0> object, created with modnet version <=0.1.7\n"
     ]
    }
   ],
   "source": [
    "MP_data = MODData.load(\"../moddata/MP_2018.6\")"
   ]
  },
  {
   "cell_type": "code",
   "execution_count": 4,
   "metadata": {},
   "outputs": [],
   "source": [
    "import numpy as np"
   ]
  },
  {
   "cell_type": "markdown",
   "metadata": {},
   "source": [
    "## Predict on new structures\n",
    "By using the predict() method on the MP_data, a dataframe containing the predictions is obtained."
   ]
  },
  {
   "cell_type": "code",
   "execution_count": 5,
   "metadata": {},
   "outputs": [],
   "source": [
    "df = model.predict(MP_data)"
   ]
  },
  {
   "cell_type": "code",
   "execution_count": 6,
   "metadata": {},
   "outputs": [
    {
     "data": {
      "text/html": [
       "<div>\n",
       "<style scoped>\n",
       "    .dataframe tbody tr th:only-of-type {\n",
       "        vertical-align: middle;\n",
       "    }\n",
       "\n",
       "    .dataframe tbody tr th {\n",
       "        vertical-align: top;\n",
       "    }\n",
       "\n",
       "    .dataframe thead th {\n",
       "        text-align: right;\n",
       "    }\n",
       "</style>\n",
       "<table border=\"1\" class=\"dataframe\">\n",
       "  <thead>\n",
       "    <tr style=\"text-align: right;\">\n",
       "      <th></th>\n",
       "      <th>refractive_index</th>\n",
       "    </tr>\n",
       "  </thead>\n",
       "  <tbody>\n",
       "    <tr>\n",
       "      <th>mvc-8151</th>\n",
       "      <td>1.804972</td>\n",
       "    </tr>\n",
       "    <tr>\n",
       "      <th>mvc-8154</th>\n",
       "      <td>2.209564</td>\n",
       "    </tr>\n",
       "    <tr>\n",
       "      <th>mvc-1148</th>\n",
       "      <td>2.175929</td>\n",
       "    </tr>\n",
       "    <tr>\n",
       "      <th>mvc-14313</th>\n",
       "      <td>2.161505</td>\n",
       "    </tr>\n",
       "    <tr>\n",
       "      <th>mvc-9795</th>\n",
       "      <td>1.622048</td>\n",
       "    </tr>\n",
       "    <tr>\n",
       "      <th>...</th>\n",
       "      <td>...</td>\n",
       "    </tr>\n",
       "    <tr>\n",
       "      <th>mp-568848</th>\n",
       "      <td>1.801694</td>\n",
       "    </tr>\n",
       "    <tr>\n",
       "      <th>mp-864715</th>\n",
       "      <td>4.736323</td>\n",
       "    </tr>\n",
       "    <tr>\n",
       "      <th>mp-677105</th>\n",
       "      <td>3.370936</td>\n",
       "    </tr>\n",
       "    <tr>\n",
       "      <th>mp-17095</th>\n",
       "      <td>2.846345</td>\n",
       "    </tr>\n",
       "    <tr>\n",
       "      <th>mp-774245</th>\n",
       "      <td>2.284011</td>\n",
       "    </tr>\n",
       "  </tbody>\n",
       "</table>\n",
       "<p>68489 rows × 1 columns</p>\n",
       "</div>"
      ],
      "text/plain": [
       "           refractive_index\n",
       "mvc-8151           1.804972\n",
       "mvc-8154           2.209564\n",
       "mvc-1148           2.175929\n",
       "mvc-14313          2.161505\n",
       "mvc-9795           1.622048\n",
       "...                     ...\n",
       "mp-568848          1.801694\n",
       "mp-864715          4.736323\n",
       "mp-677105          3.370936\n",
       "mp-17095           2.846345\n",
       "mp-774245          2.284011\n",
       "\n",
       "[68489 rows x 1 columns]"
      ]
     },
     "execution_count": 6,
     "metadata": {},
     "output_type": "execute_result"
    }
   ],
   "source": [
    "df"
   ]
  },
  {
   "cell_type": "markdown",
   "metadata": {},
   "source": [
    "As a test, 3 materials with id mp-19033, mp-559175, and mp-6930, not included in the training set, were computed by DFT with corresponding 'true' refractive index: 2.59, 2.53 and 1.56.\n",
    "\n",
    "The following  approximation was found by our model, in a fraction of time:"
   ]
  },
  {
   "cell_type": "code",
   "execution_count": 7,
   "metadata": {},
   "outputs": [
    {
     "data": {
      "text/html": [
       "<div>\n",
       "<style scoped>\n",
       "    .dataframe tbody tr th:only-of-type {\n",
       "        vertical-align: middle;\n",
       "    }\n",
       "\n",
       "    .dataframe tbody tr th {\n",
       "        vertical-align: top;\n",
       "    }\n",
       "\n",
       "    .dataframe thead th {\n",
       "        text-align: right;\n",
       "    }\n",
       "</style>\n",
       "<table border=\"1\" class=\"dataframe\">\n",
       "  <thead>\n",
       "    <tr style=\"text-align: right;\">\n",
       "      <th></th>\n",
       "      <th>refractive_index</th>\n",
       "    </tr>\n",
       "  </thead>\n",
       "  <tbody>\n",
       "    <tr>\n",
       "      <th>mp-19033</th>\n",
       "      <td>2.547379</td>\n",
       "    </tr>\n",
       "    <tr>\n",
       "      <th>mp-559175</th>\n",
       "      <td>2.454858</td>\n",
       "    </tr>\n",
       "    <tr>\n",
       "      <th>mp-6930</th>\n",
       "      <td>1.551571</td>\n",
       "    </tr>\n",
       "  </tbody>\n",
       "</table>\n",
       "</div>"
      ],
      "text/plain": [
       "           refractive_index\n",
       "mp-19033           2.547379\n",
       "mp-559175          2.454858\n",
       "mp-6930            1.551571"
      ]
     },
     "execution_count": 7,
     "metadata": {},
     "output_type": "execute_result"
    }
   ],
   "source": [
    "df.loc[['mp-19033', 'mp-559175', 'mp-6930']]"
   ]
  },
  {
   "cell_type": "code",
   "execution_count": null,
   "metadata": {},
   "outputs": [],
   "source": []
  }
 ],
 "metadata": {
  "kernelspec": {
   "display_name": "Python [conda env:modnet-develop]",
   "language": "python",
   "name": "conda-env-modnet-develop-py"
  },
  "language_info": {
   "codemirror_mode": {
    "name": "ipython",
    "version": 3
   },
   "file_extension": ".py",
   "mimetype": "text/x-python",
   "name": "python",
   "nbconvert_exporter": "python",
   "pygments_lexer": "ipython3",
   "version": "3.8.5"
  }
 },
 "nbformat": 4,
 "nbformat_minor": 4
}
