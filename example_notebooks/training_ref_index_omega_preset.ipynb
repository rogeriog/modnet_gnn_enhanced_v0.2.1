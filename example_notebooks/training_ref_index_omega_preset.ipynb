{
 "cells": [
  {
   "cell_type": "code",
   "execution_count": 1,
   "metadata": {},
   "outputs": [
    {
     "name": "stdout",
     "output_type": "stream",
     "text": [
      "4022 datapoints\n"
     ]
    },
    {
     "data": {
      "text/html": [
       "<div>\n",
       "<style scoped>\n",
       "    .dataframe tbody tr th:only-of-type {\n",
       "        vertical-align: middle;\n",
       "    }\n",
       "\n",
       "    .dataframe tbody tr th {\n",
       "        vertical-align: top;\n",
       "    }\n",
       "\n",
       "    .dataframe thead th {\n",
       "        text-align: right;\n",
       "    }\n",
       "</style>\n",
       "<table border=\"1\" class=\"dataframe\">\n",
       "  <thead>\n",
       "    <tr style=\"text-align: right;\">\n",
       "      <th></th>\n",
       "      <th>structure</th>\n",
       "      <th>ref_index</th>\n",
       "    </tr>\n",
       "  </thead>\n",
       "  <tbody>\n",
       "    <tr>\n",
       "      <th>mp-624234</th>\n",
       "      <td>[[0.67808954 1.32800354 5.90141888] Te, [1.500...</td>\n",
       "      <td>2.440483</td>\n",
       "    </tr>\n",
       "    <tr>\n",
       "      <th>mp-560478</th>\n",
       "      <td>[[-0.62755181  6.55361247  9.268476  ] Ba, [4....</td>\n",
       "      <td>1.790685</td>\n",
       "    </tr>\n",
       "    <tr>\n",
       "      <th>mp-556346</th>\n",
       "      <td>[[4.43332093 4.12714801 8.8721209 ] Pr, [ 1.40...</td>\n",
       "      <td>2.056131</td>\n",
       "    </tr>\n",
       "    <tr>\n",
       "      <th>mp-13676</th>\n",
       "      <td>[[-0.14481557  3.41229366  4.12618551] O, [3.2...</td>\n",
       "      <td>2.023772</td>\n",
       "    </tr>\n",
       "    <tr>\n",
       "      <th>mp-7610</th>\n",
       "      <td>[[ 0.12549448  3.01287591 -0.20434955] Li, [1....</td>\n",
       "      <td>1.745509</td>\n",
       "    </tr>\n",
       "  </tbody>\n",
       "</table>\n",
       "</div>"
      ],
      "text/plain": [
       "                                                   structure  ref_index\n",
       "mp-624234  [[0.67808954 1.32800354 5.90141888] Te, [1.500...   2.440483\n",
       "mp-560478  [[-0.62755181  6.55361247  9.268476  ] Ba, [4....   1.790685\n",
       "mp-556346  [[4.43332093 4.12714801 8.8721209 ] Pr, [ 1.40...   2.056131\n",
       "mp-13676   [[-0.14481557  3.41229366  4.12618551] O, [3.2...   2.023772\n",
       "mp-7610    [[ 0.12549448  3.01287591 -0.20434955] Li, [1....   1.745509"
      ]
     },
     "execution_count": 1,
     "metadata": {},
     "output_type": "execute_result"
    }
   ],
   "source": [
    "import pandas as pd\n",
    "### preseting MODNet path, remove this section later, just for manneback\n",
    "import os\n",
    "import sys\n",
    "modnet_parent_path = os.path.abspath(os.path.join(\"..\", \"..\"))\n",
    "sys.path.append(modnet_parent_path)\n",
    "# Import modnet\n",
    "import modnet\n",
    "# Then load the MODData for training\n",
    "from modnet.preprocessing import MODData\n",
    "\n",
    "df = pd.read_pickle('data/df_ref_index.pkl')\n",
    "print('{} datapoints'.format(len(df)))\n",
    "df.head()"
   ]
  },
  {
   "cell_type": "code",
   "execution_count": 2,
   "metadata": {},
   "outputs": [
    {
     "name": "stdout",
     "output_type": "stream",
     "text": [
      "['command_history_march.txt', 'rclone', 'MEGNetModel_encodedMMfeats', 'log_relax_1.txt', 'cssbbr.json', 'qmpy_rester', 'test_megnet_gpu', 'matbench_mp_gap_light_featurized.pkl', 'trainingCSB.pkl', 'testlayers.py', 'test_crossnmi.py', 'rclone-v1.65.2-linux-amd64', 'MEGNetModelTools', 'trainingCSI.json', 'featurize_OFM', '.vscode', 'original', 'blas-3.11.0.tgz', 'modnet_b', 'BLAS-3.11.0', 'crystalfeatures', 'Project_Perovskites2D', 'trainingCSI.pkl', 'modnet', 'matbench_mp_gap_matminer.pkl', 'featurize_SOAP', 'modnet_gnn_enhanced_v0.2.1', 'MEGNetModel_for_FeaturizedData', 'rclone-v1.65.2-linux-amd64.zip', 'ProjectVAE_MODNet', 'getPCA_matbench_mp_gap.py', 'clustering_old_tests', 'rclone-v1.65.1-linux-amd64', 'view_mp_gap.py', 'SHAP_analysis', 'test_modnetgnn', 'MMPCA', 'rclone-v1.65.1-linux-amd64.zip', 'trainingCSB.json', 'AutoencoderTools', 'modnet_misctools', 'autoencode_OFM', 'MEGNet_featurization_full', 'libxc-6.2.2', 'test_swifter.py', 'gpaw-21.1.0', 'OFM_mp_gap_dataset.pkl', 'MODNet_Perovskite_Benchmark']\n"
     ]
    },
    {
     "name": "stderr",
     "output_type": "stream",
     "text": [
      "2024-09-19 18:36:22.234639: I tensorflow/core/platform/cpu_feature_guard.cc:193] This TensorFlow binary is optimized with oneAPI Deep Neural Network Library (oneDNN) to use the following CPU instructions in performance-critical operations:  AVX2 AVX512F FMA\n",
      "To enable them in other operations, rebuild TensorFlow with the appropriate compiler flags.\n",
      "2024-09-19 18:36:22.422472: E tensorflow/stream_executor/cuda/cuda_blas.cc:2981] Unable to register cuBLAS factory: Attempting to register factory for plugin cuBLAS when one has already been registered\n"
     ]
    },
    {
     "name": "stdout",
     "output_type": "stream",
     "text": [
      "2024-09-19 18:36:25,207 - modnet - INFO - Loaded Matminer2023Featurizer featurizer.\n",
      "Scaler of the targets for adjacent model saved to MEGNetModel__adjacent_scaler.pkl\n"
     ]
    },
    {
     "name": "stderr",
     "output_type": "stream",
     "text": [
      "2024-09-19 18:36:25.538983: W tensorflow/stream_executor/platform/default/dso_loader.cc:64] Could not load dynamic library 'libcuda.so.1'; dlerror: libcuda.so.1: cannot open shared object file: No such file or directory; LD_LIBRARY_PATH: /home/ucl/modl/rgouvea/anaconda3/pkgs/cudatoolkit-11.2.2-hbe64b41_10/lib/:/home/ucl/modl/rgouvea/anaconda3/envs/env_tfmodnet/lib/python3.8/site-packages/nvidia/cuda_nvcc/:/home/ucl/modl/rgouvea/anaconda3/envs/env_tfmodnet/lib/python3.8/site-packages/nvidia/cuda_cupti/lib/:/home/ucl/modl/rgouvea/anaconda3/envs/py3.8/lib/python3.8/site-packages/tensorrt/:/home/ucl/modl/rgouvea/anaconda3/envs/env_tfmodnet/lib:/home/ucl/modl/rgouvea/anaconda3/envs/env_tfmodnet/lib/python3.8/site-packages/nvidia/cusolver/lib/:/auto/home/users/r/g/rgouvea/anaconda3/envs/env_tfmodnet/lib:/auto/home/users/r/g/rgouvea/anaconda3/envs/env_tfmodnet/lib/python3.8/site-packages/nvidia/cuda_runtime/lib/:/auto/home/users/r/g/rgouvea/anaconda3/envs/env_tfmodnet/lib/python3.8/site-packages/nvidia/cublas/lib/:/opt/sw/arch/easybuild/2020b/software/FFTW/3.3.8-gompic-2020b/lib:/opt/sw/arch/easybuild/2020b/software/OpenMPI/4.0.5-gcccuda-2020b/lib:/opt/sw/arch/easybuild/2020b/software/PMIx/3.1.5-GCCcore-10.2.0/lib:/opt/sw/arch/easybuild/2020b/software/libfabric/1.11.0-GCCcore-10.2.0/lib:/opt/sw/arch/easybuild/2020b/software/UCX/1.9.0-GCCcore-10.2.0-CUDA-11.1.1/lib:/opt/sw/arch/easybuild/2020b/software/GDRCopy/2.1-GCCcore-10.2.0-CUDA-11.1.1/lib:/opt/sw/arch/easybuild/2020b/software/Check/0.15.2-GCCcore-10.2.0/lib:/opt/sw/arch/easybuild/2020b/software/libevent/2.1.12-GCCcore-10.2.0/lib:/opt/sw/arch/easybuild/2020b/software/hwloc/2.2.0-GCCcore-10.2.0/lib:/opt/sw/arch/easybuild/2020b/software/libpciaccess/0.16-GCCcore-10.2.0/lib:/opt/sw/arch/easybuild/2020b/software/libxml2/2.9.10-GCCcore-10.2.0/lib:/opt/sw/arch/easybuild/2020b/software/XZ/5.2.5-GCCcore-10.2.0/lib:/opt/sw/arch/easybuild/2020b/software/numactl/2.0.13-GCCcore-10.2.0/lib:/opt/sw/arch/easybuild/2020b/software/CUDAcore/11.1.1/nvvm/lib64:/opt/sw/arch/easybuild/2020b/software/CUDAcore/11.1.1/extras/CUPTI/lib64:/opt/sw/arch/easybuild/2020b/software/CUDAcore/11.1.1/lib:/opt/sw/arch/easybuild/2020b/software/binutils/2.35-GCCcore-10.2.0/lib:/opt/sw/arch/easybuild/2020b/software/zlib/1.2.11-GCCcore-10.2.0/lib:/opt/sw/arch/easybuild/2020b/software/GCCcore/10.2.0/lib64:/home/ucl/modl/rgouvea/anaconda3/pkgs/cudatoolkit-11.2.2-hbe64b41_10/lib:/home/ucl/modl/rgouvea/anaconda3/envs/env_tfmodnet/lib/python3.8/site-packages/nvidia/cuda_nvcc:/home/ucl/modl/rgouvea/anaconda3/envs/env_tfmodnet/lib/python3.8/site-packages/nvidia/cuda_cupti/lib:/home/ucl/modl/rgouvea/anaconda3/envs/py3.8/lib/python3.8/site-packages/tensorrt:/home/ucl/modl/rgouvea/anaconda3/envs/env_tfmodnet/lib:/home/ucl/modl/rgouvea/anaconda3/envs/env_tfmodnet/lib/python3.8/site-packages/nvidia/cusolver/lib:/auto/home/users/r/g/rgouvea/anaconda3/envs/env_tfmodnet/lib:/auto/home/users/r/g/rgouvea/anaconda3/envs/env_tfmodnet/lib/python3.8/site-packages/nvidia/cuda_runtime/lib:/auto/home/users/r/g/rgouvea/anaconda3/envs/env_tfmodnet/lib/python3.8/site-packages/nvidia/cublas/lib::\n",
      "2024-09-19 18:36:25.539017: W tensorflow/stream_executor/cuda/cuda_driver.cc:263] failed call to cuInit: UNKNOWN ERROR (303)\n",
      "2024-09-19 18:36:25.539038: I tensorflow/stream_executor/cuda/cuda_diagnostics.cc:156] kernel driver does not appear to be running on this host (mbackf2.cism.ucl.ac.be): /proc/driver/nvidia/version does not exist\n",
      "2024-09-19 18:36:25.539278: I tensorflow/core/platform/cpu_feature_guard.cc:193] This TensorFlow binary is optimized with oneAPI Deep Neural Network Library (oneDNN) to use the following CPU instructions in performance-critical operations:  AVX2 AVX512F FMA\n",
      "To enable them in other operations, rebuild TensorFlow with the appropriate compiler flags.\n"
     ]
    },
    {
     "name": "stdout",
     "output_type": "stream",
     "text": [
      "Epoch 1/10\n",
      "21/21 [==============================] - 41s 1s/step - loss: 0.0099 - mae: 0.0720 - val_loss: 0.0079 - val_mae: 0.0625\n",
      "Epoch 2/10\n",
      "21/21 [==============================] - 20s 941ms/step - loss: 0.0074 - mae: 0.0607 - val_loss: 0.0062 - val_mae: 0.0588\n",
      "Epoch 3/10\n",
      "21/21 [==============================] - 20s 923ms/step - loss: 0.0049 - mae: 0.0481 - val_loss: 0.0030 - val_mae: 0.0357\n",
      "Epoch 4/10\n",
      "21/21 [==============================] - 20s 928ms/step - loss: 0.0029 - mae: 0.0338 - val_loss: 0.0023 - val_mae: 0.0327\n",
      "Epoch 5/10\n",
      "21/21 [==============================] - 20s 930ms/step - loss: 0.0023 - mae: 0.0303 - val_loss: 0.0018 - val_mae: 0.0263\n",
      "Epoch 6/10\n",
      "21/21 [==============================] - 20s 988ms/step - loss: 0.0020 - mae: 0.0291 - val_loss: 0.0020 - val_mae: 0.0271\n",
      "Epoch 7/10\n",
      "21/21 [==============================] - 20s 942ms/step - loss: 0.0018 - mae: 0.0270 - val_loss: 0.0017 - val_mae: 0.0248\n",
      "Epoch 8/10\n",
      "21/21 [==============================] - 19s 908ms/step - loss: 0.0016 - mae: 0.0251 - val_loss: 0.0015 - val_mae: 0.0237\n",
      "Epoch 9/10\n",
      "21/21 [==============================] - 19s 952ms/step - loss: 0.0015 - mae: 0.0239 - val_loss: 0.0015 - val_mae: 0.0251\n",
      "Epoch 10/10\n",
      "21/21 [==============================] - 19s 914ms/step - loss: 0.0014 - mae: 0.0240 - val_loss: 0.0016 - val_mae: 0.0223\n",
      "MEGNet model on the fly saved to out/MEGNetModel__adjacent.h5\n"
     ]
    }
   ],
   "source": [
    "# Lets save 20% of the data for testing\n",
    "df_test = df.sample(frac=0.2, random_state=42)\n",
    "df_train = df.drop(df_test.index)\n",
    "\n",
    "md = MODData(materials = df_train['structure'],\n",
    "             targets = df_train['ref_index'].values,\n",
    "             structure_ids = df_train.index,\n",
    "             target_names = ['refractive_index']\n",
    "            )\n",
    "# As we initialize the MODNetOmega2024 featurizer, the adjacent model\n",
    "# will be trained and saved in the 'out' folder, we do only 10 epochs\n",
    "# as set with the max_epochs parameter.\n",
    "from modnet.featurizers.presets.modnet_omega_2024 import MODNetOmega2024\n",
    "md.featurizer = MODNetOmega2024(structures=md.df_structure['structure'],\n",
    "                        targets=md.df_targets.values,\n",
    "                        adjacent_model_path='out',\n",
    "                        max_epochs=10)"
   ]
  },
  {
   "cell_type": "code",
   "execution_count": 3,
   "metadata": {},
   "outputs": [
    {
     "name": "stdout",
     "output_type": "stream",
     "text": [
      "2024-09-19 18:44:56,086 - modnet - INFO - Computing features, this can take time...\n",
      "2024-09-19 18:44:56,088 - modnet - INFO - Applying composition featurizers...\n",
      "2024-09-19 18:44:56,363 - modnet - INFO - Applying featurizers (AtomicOrbitals(), AtomicPackingEfficiency(), BandCenter(), ElementFraction(), ElementProperty(data_source=<matminer.utils.data.MagpieData object at 0x7f70ec023b20>,\n",
      "                features=['Number', 'MendeleevNumber', 'AtomicWeight',\n",
      "                          'MeltingT', 'Column', 'Row', 'CovalentRadius',\n",
      "                          'Electronegativity', 'NsValence', 'NpValence',\n",
      "                          'NdValence', 'NfValence', 'NValence', 'NsUnfilled',\n",
      "                          'NpUnfilled', 'NdUnfilled', 'NfUnfilled', 'NUnfilled',\n",
      "                          'GSvolume_pa', 'GSbandgap', 'GSmagmom',\n",
      "                          'SpaceGroupNumber'],\n",
      "                stats=['minimum', 'maximum', 'range', 'mean', 'avg_dev',\n",
      "                       'mode']), IonProperty(), Miedema(ss_types=['min'], struct_types=['inter', 'amor', 'ss']), Stoichiometry(), TMetalFraction(), ValenceOrbital(), YangSolidSolution()) to column 'composition'.\n"
     ]
    },
    {
     "data": {
      "application/vnd.jupyter.widget-view+json": {
       "model_id": "2d44e2ddde93459386ecd7dfa170c065",
       "version_major": 2,
       "version_minor": 0
      },
      "text/plain": [
       "MultipleFeaturizer:   0%|          | 0/3218 [00:00<?, ?it/s]"
      ]
     },
     "metadata": {},
     "output_type": "display_data"
    },
    {
     "name": "stdout",
     "output_type": "stream",
     "text": [
      "2024-09-19 18:54:46,512 - modnet - INFO - Applying oxidation state featurizers...\n"
     ]
    },
    {
     "data": {
      "application/vnd.jupyter.widget-view+json": {
       "model_id": "1e14806a4f6b4194bb04397f49ab8b43",
       "version_major": 2,
       "version_minor": 0
      },
      "text/plain": [
       "CompositionToOxidComposition:   0%|          | 0/3218 [00:00<?, ?it/s]"
      ]
     },
     "metadata": {},
     "output_type": "display_data"
    },
    {
     "name": "stdout",
     "output_type": "stream",
     "text": [
      "2024-09-19 18:57:23,253 - modnet - INFO - Applying featurizers (ElectronegativityDiff(stats=['minimum', 'maximum', 'range', 'mean', 'std_dev']), OxidationStates(stats=['minimum', 'maximum', 'range', 'std_dev'])) to column 'composition_oxid'.\n"
     ]
    },
    {
     "data": {
      "application/vnd.jupyter.widget-view+json": {
       "model_id": "e374157101f448f19c4136d6d6c9c2b8",
       "version_major": 2,
       "version_minor": 0
      },
      "text/plain": [
       "MultipleFeaturizer:   0%|          | 0/3218 [00:00<?, ?it/s]"
      ]
     },
     "metadata": {},
     "output_type": "display_data"
    },
    {
     "name": "stdout",
     "output_type": "stream",
     "text": [
      "2024-09-19 18:57:24,383 - modnet - INFO - Applying site featurizers...\n"
     ]
    },
    {
     "data": {
      "application/vnd.jupyter.widget-view+json": {
       "model_id": "dc4880bfb4424cd38934d183a1f7ee10",
       "version_major": 2,
       "version_minor": 0
      },
      "text/plain": [
       "SiteStatsFingerprint:   0%|          | 0/3218 [00:00<?, ?it/s]"
      ]
     },
     "metadata": {},
     "output_type": "display_data"
    },
    {
     "data": {
      "application/vnd.jupyter.widget-view+json": {
       "model_id": "babc5cf60c9546489aaec7a08c96df14",
       "version_major": 2,
       "version_minor": 0
      },
      "text/plain": [
       "SiteStatsFingerprint:   0%|          | 0/3218 [00:00<?, ?it/s]"
      ]
     },
     "metadata": {},
     "output_type": "display_data"
    },
    {
     "data": {
      "application/vnd.jupyter.widget-view+json": {
       "model_id": "36b6b6d4ef2a47a0bfac462a1f3e8105",
       "version_major": 2,
       "version_minor": 0
      },
      "text/plain": [
       "SiteStatsFingerprint:   0%|          | 0/3218 [00:00<?, ?it/s]"
      ]
     },
     "metadata": {},
     "output_type": "display_data"
    },
    {
     "data": {
      "application/vnd.jupyter.widget-view+json": {
       "model_id": "2ee2c582ae4145c7bb8fe039403a4ba5",
       "version_major": 2,
       "version_minor": 0
      },
      "text/plain": [
       "SiteStatsFingerprint:   0%|          | 0/3218 [00:00<?, ?it/s]"
      ]
     },
     "metadata": {},
     "output_type": "display_data"
    },
    {
     "data": {
      "application/vnd.jupyter.widget-view+json": {
       "model_id": "5d09b854417e406aa3924241f246be3a",
       "version_major": 2,
       "version_minor": 0
      },
      "text/plain": [
       "SiteStatsFingerprint:   0%|          | 0/3218 [00:00<?, ?it/s]"
      ]
     },
     "metadata": {},
     "output_type": "display_data"
    },
    {
     "data": {
      "application/vnd.jupyter.widget-view+json": {
       "model_id": "6bfd8a9c9a504a819cf4ba481c7b5377",
       "version_major": 2,
       "version_minor": 0
      },
      "text/plain": [
       "SiteStatsFingerprint:   0%|          | 0/3218 [00:00<?, ?it/s]"
      ]
     },
     "metadata": {},
     "output_type": "display_data"
    },
    {
     "data": {
      "application/vnd.jupyter.widget-view+json": {
       "model_id": "6ed8397f5ca34ee1b227dfe3012e592b",
       "version_major": 2,
       "version_minor": 0
      },
      "text/plain": [
       "SiteStatsFingerprint:   0%|          | 0/3218 [00:00<?, ?it/s]"
      ]
     },
     "metadata": {},
     "output_type": "display_data"
    },
    {
     "data": {
      "application/vnd.jupyter.widget-view+json": {
       "model_id": "3194d5fda2c9400995e21a178035cfab",
       "version_major": 2,
       "version_minor": 0
      },
      "text/plain": [
       "SiteStatsFingerprint:   0%|          | 0/3218 [00:00<?, ?it/s]"
      ]
     },
     "metadata": {},
     "output_type": "display_data"
    },
    {
     "data": {
      "application/vnd.jupyter.widget-view+json": {
       "model_id": "4342b7ec3c754850bc3e61357f7a6edc",
       "version_major": 2,
       "version_minor": 0
      },
      "text/plain": [
       "SiteStatsFingerprint:   0%|          | 0/3218 [00:00<?, ?it/s]"
      ]
     },
     "metadata": {},
     "output_type": "display_data"
    },
    {
     "data": {
      "application/vnd.jupyter.widget-view+json": {
       "model_id": "c41fb30d67bf46d492cbe948a5effd7b",
       "version_major": 2,
       "version_minor": 0
      },
      "text/plain": [
       "SiteStatsFingerprint:   0%|          | 0/3218 [00:00<?, ?it/s]"
      ]
     },
     "metadata": {},
     "output_type": "display_data"
    },
    {
     "data": {
      "application/vnd.jupyter.widget-view+json": {
       "model_id": "f430c573768e4b22b52a39665b1441d3",
       "version_major": 2,
       "version_minor": 0
      },
      "text/plain": [
       "SiteStatsFingerprint:   0%|          | 0/3218 [00:00<?, ?it/s]"
      ]
     },
     "metadata": {},
     "output_type": "display_data"
    },
    {
     "data": {
      "application/vnd.jupyter.widget-view+json": {
       "model_id": "cf0189d0dde54bb799b044523d957004",
       "version_major": 2,
       "version_minor": 0
      },
      "text/plain": [
       "SiteStatsFingerprint:   0%|          | 0/3218 [00:00<?, ?it/s]"
      ]
     },
     "metadata": {},
     "output_type": "display_data"
    },
    {
     "name": "stdout",
     "output_type": "stream",
     "text": [
      "2024-09-19 18:58:25,691 - modnet - INFO - Applying structure featurizers...\n",
      "2024-09-19 18:58:25,703 - modnet - INFO - Applying featurizers [DensityFeatures(), GlobalSymmetryFeatures(), RadialDistributionFunction(), CoulombMatrix(), SineCoulombMatrix(), EwaldEnergy(), BondFractions(), StructuralHeterogeneity(), MaximumPackingEfficiency(), ChemicalOrdering(), XRDPowderPattern(pattern_length=128)] to column 'structure'.\n"
     ]
    },
    {
     "data": {
      "application/vnd.jupyter.widget-view+json": {
       "model_id": "c7724303841d4b5f91c913ecd7b9e636",
       "version_major": 2,
       "version_minor": 0
      },
      "text/plain": [
       "MultipleFeaturizer:   0%|          | 0/3218 [00:00<?, ?it/s]"
      ]
     },
     "metadata": {},
     "output_type": "display_data"
    },
    {
     "name": "stdout",
     "output_type": "stream",
     "text": [
      "Total params: 644,652\n",
      "Following invalid structures: [].\n",
      "Features calculated for model Efermi_MP_2019.\n",
      "Features calculated for model Bandgap_MP_2018.\n",
      "Features calculated for model logK_MP_2019.\n",
      "Features calculated for model logG_MP_2019.\n",
      "MEGNetModel__adjacent.h5 found.\n",
      "Total params: 167,761\n",
      "Features calculated for model Adjacent.\n",
      "2024-09-19 19:25:58,366 - modnet - INFO - Data has successfully been featurized!\n",
      "2024-09-19 19:26:00,924 - modnet - INFO - Data successfully saved as data/md_ref_index_omega.pkl!\n",
      "Featurization finished, data saved in data/md_ref_index_omega.pkl\n",
      "           AtomicOrbitals|HOMO_character  AtomicOrbitals|HOMO_element  \\\n",
      "id                                                                      \n",
      "mp-624234                              2                            8   \n",
      "mp-560478                              2                            8   \n",
      "mp-556346                              2                           53   \n",
      "mp-13676                               2                            8   \n",
      "mp-7610                                2                            8   \n",
      "...                                  ...                          ...   \n",
      "mp-752676                              2                            8   \n",
      "mp-8960                                2                            8   \n",
      "mp-558257                              4                           66   \n",
      "mp-722684                              2                            8   \n",
      "mp-559961                              1                           81   \n",
      "\n",
      "           AtomicOrbitals|HOMO_energy  AtomicOrbitals|LUMO_character  \\\n",
      "id                                                                     \n",
      "mp-624234                   -0.338381                              2   \n",
      "mp-560478                   -0.338381                              2   \n",
      "mp-556346                   -0.267904                              2   \n",
      "mp-13676                    -0.338381                              2   \n",
      "mp-7610                     -0.338381                              2   \n",
      "...                               ...                            ...   \n",
      "mp-752676                   -0.338381                              2   \n",
      "mp-8960                     -0.338381                              1   \n",
      "mp-558257                   -0.265302                              4   \n",
      "mp-722684                   -0.338381                              2   \n",
      "mp-559961                   -0.285020                              1   \n",
      "\n",
      "           AtomicOrbitals|LUMO_element  AtomicOrbitals|LUMO_energy  \\\n",
      "id                                                                   \n",
      "mp-624234                            8                   -0.338381   \n",
      "mp-560478                            8                   -0.338381   \n",
      "mp-556346                           53                   -0.267904   \n",
      "mp-13676                             8                   -0.338381   \n",
      "mp-7610                              8                   -0.338381   \n",
      "...                                ...                         ...   \n",
      "mp-752676                           83                   -0.180198   \n",
      "mp-8960                             41                   -0.144272   \n",
      "mp-558257                           66                   -0.265302   \n",
      "mp-722684                            8                   -0.338381   \n",
      "mp-559961                           81                   -0.285020   \n",
      "\n",
      "           AtomicOrbitals|gap_AO  \\\n",
      "id                                 \n",
      "mp-624234               0.000000   \n",
      "mp-560478               0.000000   \n",
      "mp-556346               0.000000   \n",
      "mp-13676                0.000000   \n",
      "mp-7610                 0.000000   \n",
      "...                          ...   \n",
      "mp-752676               0.158183   \n",
      "mp-8960                 0.194109   \n",
      "mp-558257               0.000000   \n",
      "mp-722684               0.000000   \n",
      "mp-559961               0.000000   \n",
      "\n",
      "           AtomicPackingEfficiency|mean simul. packing efficiency  \\\n",
      "id                                                                  \n",
      "mp-624234                                           0.027355        \n",
      "mp-560478                                           0.074526        \n",
      "mp-556346                                           0.000000        \n",
      "mp-13676                                            0.033992        \n",
      "mp-7610                                            -0.003304        \n",
      "...                                                      ...        \n",
      "mp-752676                                           0.033000        \n",
      "mp-8960                                             0.014486        \n",
      "mp-558257                                           0.000000        \n",
      "mp-722684                                           0.000000        \n",
      "mp-559961                                           0.005765        \n",
      "\n",
      "           AtomicPackingEfficiency|mean abs simul. packing efficiency  \\\n",
      "id                                                                      \n",
      "mp-624234                                           0.027355            \n",
      "mp-560478                                           0.074526            \n",
      "mp-556346                                           0.000000            \n",
      "mp-13676                                            0.042208            \n",
      "mp-7610                                             0.045497            \n",
      "...                                                      ...            \n",
      "mp-752676                                           0.036121            \n",
      "mp-8960                                             0.028382            \n",
      "mp-558257                                           0.000000            \n",
      "mp-722684                                           0.000000            \n",
      "mp-559961                                           0.013902            \n",
      "\n",
      "           AtomicPackingEfficiency|dist from 1 clusters |APE| < 0.010  ...  \\\n",
      "id                                                                     ...   \n",
      "mp-624234                                           0.061237           ...   \n",
      "mp-560478                                           0.088388           ...   \n",
      "mp-556346                                           0.282843           ...   \n",
      "mp-13676                                            0.051031           ...   \n",
      "mp-7610                                             0.043741           ...   \n",
      "...                                                      ...           ...   \n",
      "mp-752676                                           0.027835           ...   \n",
      "mp-8960                                             0.025974           ...   \n",
      "mp-558257                                           0.215407           ...   \n",
      "mp-722684                                           0.187340           ...   \n",
      "mp-559961                                           0.064143           ...   \n",
      "\n",
      "           Adjacent_23  Adjacent_24  Adjacent_25  Adjacent_26  Adjacent_27  \\\n",
      "id                                                                           \n",
      "mp-624234    -0.011280     0.191361     0.128201     0.103555     0.063907   \n",
      "mp-560478    -0.078945     0.029206    -0.003997    -0.012534    -0.035306   \n",
      "mp-556346    -0.089583     0.019220    -0.010258    -0.020193    -0.045849   \n",
      "mp-13676     -0.073234     0.045256     0.003551     0.006310    -0.019484   \n",
      "mp-7610      -0.084394     0.024544    -0.009730    -0.021800    -0.046976   \n",
      "...                ...          ...          ...          ...          ...   \n",
      "mp-752676    -0.007349     0.202641     0.132862     0.126625     0.083181   \n",
      "mp-8960      -0.056949     0.095069     0.050122     0.032735    -0.001468   \n",
      "mp-558257    -0.065415     0.054240     0.017064     0.013763    -0.013535   \n",
      "mp-722684    -0.098134    -0.023437    -0.040716    -0.049847    -0.066814   \n",
      "mp-559961    -0.023206     0.156198     0.095370     0.082056     0.047826   \n",
      "\n",
      "           Adjacent_28  Adjacent_29  Adjacent_30  Adjacent_31  Adjacent_32  \n",
      "id                                                                          \n",
      "mp-624234     0.043282    -0.010597     0.033604    -0.040049     0.011982  \n",
      "mp-560478     0.078061    -0.070742    -0.060313    -0.049527     0.011849  \n",
      "mp-556346     0.088949    -0.088021    -0.069317    -0.050148     0.019860  \n",
      "mp-13676      0.074279    -0.058729    -0.039669    -0.047007     0.004680  \n",
      "mp-7610       0.089627    -0.085632    -0.065401    -0.052276     0.021286  \n",
      "...                ...          ...          ...          ...          ...  \n",
      "mp-752676     0.034713     0.011993     0.053734    -0.037761    -0.003380  \n",
      "mp-8960       0.078782    -0.070436    -0.023763    -0.045501     0.024112  \n",
      "mp-558257     0.070122    -0.058153    -0.041124    -0.045438     0.004950  \n",
      "mp-722684     0.090076    -0.095426    -0.092321    -0.051858     0.014878  \n",
      "mp-559961     0.040969    -0.008239     0.020447    -0.042643     0.006734  \n",
      "\n",
      "[3218 rows x 958 columns]\n",
      "Index(['AtomicOrbitals|HOMO_character', 'AtomicOrbitals|HOMO_element',\n",
      "       'AtomicOrbitals|HOMO_energy', 'AtomicOrbitals|LUMO_character',\n",
      "       'AtomicOrbitals|LUMO_element', 'AtomicOrbitals|LUMO_energy',\n",
      "       'AtomicOrbitals|gap_AO',\n",
      "       'AtomicPackingEfficiency|mean simul. packing efficiency',\n",
      "       'AtomicPackingEfficiency|mean abs simul. packing efficiency',\n",
      "       'AtomicPackingEfficiency|dist from 1 clusters |APE| < 0.010',\n",
      "       ...\n",
      "       'Adjacent_23', 'Adjacent_24', 'Adjacent_25', 'Adjacent_26',\n",
      "       'Adjacent_27', 'Adjacent_28', 'Adjacent_29', 'Adjacent_30',\n",
      "       'Adjacent_31', 'Adjacent_32'],\n",
      "      dtype='object', length=958)\n"
     ]
    }
   ],
   "source": [
    "## Now the featurization follows as usual\n",
    "md.featurize(n_jobs=12)\n",
    "md.save('data/md_ref_index_omega.pkl')\n",
    "print(f'Featurization finished, data saved in data/md_ref_index_omega.pkl')\n",
    "print(md.df_featurized)\n",
    "# print all columns of the dataframe\n",
    "print(md.df_featurized.columns)\n"
   ]
  },
  {
   "cell_type": "code",
   "execution_count": 2,
   "metadata": {},
   "outputs": [
    {
     "name": "stderr",
     "output_type": "stream",
     "text": [
      "2024-09-20 02:04:04.489440: I tensorflow/core/platform/cpu_feature_guard.cc:193] This TensorFlow binary is optimized with oneAPI Deep Neural Network Library (oneDNN) to use the following CPU instructions in performance-critical operations:  AVX2 AVX512F FMA\n",
      "To enable them in other operations, rebuild TensorFlow with the appropriate compiler flags.\n",
      "2024-09-20 02:04:04.691767: E tensorflow/stream_executor/cuda/cuda_blas.cc:2981] Unable to register cuBLAS factory: Attempting to register factory for plugin cuBLAS when one has already been registered\n"
     ]
    },
    {
     "name": "stdout",
     "output_type": "stream",
     "text": [
      "2024-09-20 02:04:10,283 - modnet - INFO - Loaded <modnet.preprocessing.MODData object at 0x7fe3d280abb0> object, created with modnet version 0.2.1\n",
      "['AtomicOrbitals|HOMO_character', 'AtomicOrbitals|HOMO_element', 'AtomicOrbitals|HOMO_energy', 'AtomicOrbitals|LUMO_character', 'AtomicOrbitals|LUMO_element']\n",
      "['AtomicOrbitals|LUMO_energy', 'AtomicOrbitals|gap_AO', 'AtomicPackingEfficiency|mean simul. packing efficiency', 'AtomicPackingEfficiency|mean abs simul. packing efficiency', 'AtomicPackingEfficiency|dist from 1 clusters |APE| < 0.010']\n",
      "['AtomicPackingEfficiency|dist from 3 clusters |APE| < 0.010', 'AtomicPackingEfficiency|dist from 5 clusters |APE| < 0.010', 'BandCenter|band center', 'ElementFraction|H', 'ElementFraction|He']\n",
      "['ElementFraction|Li', 'ElementFraction|Be', 'ElementFraction|B', 'ElementFraction|C', 'ElementFraction|N']\n",
      "['ElementFraction|O', 'ElementFraction|F', 'ElementFraction|Ne', 'ElementFraction|Na', 'ElementFraction|Mg']\n",
      "['ElementFraction|Al', 'ElementFraction|Si', 'ElementFraction|P', 'ElementFraction|S', 'ElementFraction|Cl']\n",
      "['ElementFraction|Ar', 'ElementFraction|K', 'ElementFraction|Ca', 'ElementFraction|Sc', 'ElementFraction|Ti']\n",
      "['ElementFraction|V', 'ElementFraction|Cr', 'ElementFraction|Mn', 'ElementFraction|Fe', 'ElementFraction|Co']\n",
      "['ElementFraction|Ni', 'ElementFraction|Cu', 'ElementFraction|Zn', 'ElementFraction|Ga', 'ElementFraction|Ge']\n",
      "['ElementFraction|As', 'ElementFraction|Se', 'ElementFraction|Br', 'ElementFraction|Kr', 'ElementFraction|Rb']\n",
      "['ElementFraction|Sr', 'ElementFraction|Y', 'ElementFraction|Zr', 'ElementFraction|Nb', 'ElementFraction|Mo']\n",
      "['ElementFraction|Tc', 'ElementFraction|Ru', 'ElementFraction|Rh', 'ElementFraction|Pd', 'ElementFraction|Ag']\n",
      "['ElementFraction|Cd', 'ElementFraction|In', 'ElementFraction|Sn', 'ElementFraction|Sb', 'ElementFraction|Te']\n",
      "['ElementFraction|I', 'ElementFraction|Xe', 'ElementFraction|Cs', 'ElementFraction|Ba', 'ElementFraction|La']\n",
      "['ElementFraction|Ce', 'ElementFraction|Pr', 'ElementFraction|Nd', 'ElementFraction|Pm', 'ElementFraction|Sm']\n",
      "['ElementFraction|Eu', 'ElementFraction|Gd', 'ElementFraction|Tb', 'ElementFraction|Dy', 'ElementFraction|Ho']\n",
      "['ElementFraction|Er', 'ElementFraction|Tm', 'ElementFraction|Yb', 'ElementFraction|Lu', 'ElementFraction|Hf']\n",
      "['ElementFraction|Ta', 'ElementFraction|W', 'ElementFraction|Re', 'ElementFraction|Os', 'ElementFraction|Ir']\n",
      "['ElementFraction|Pt', 'ElementFraction|Au', 'ElementFraction|Hg', 'ElementFraction|Tl', 'ElementFraction|Pb']\n",
      "['ElementFraction|Bi', 'ElementFraction|Po', 'ElementFraction|At', 'ElementFraction|Rn', 'ElementFraction|Fr']\n",
      "['ElementFraction|Ra', 'ElementFraction|Ac', 'ElementFraction|Th', 'ElementFraction|Pa', 'ElementFraction|U']\n",
      "['ElementFraction|Np', 'ElementFraction|Pu', 'ElementFraction|Am', 'ElementFraction|Cm', 'ElementFraction|Bk']\n",
      "['ElementFraction|Cf', 'ElementFraction|Es', 'ElementFraction|Fm', 'ElementFraction|Md', 'ElementFraction|No']\n",
      "['ElementFraction|Lr', 'ElementProperty|MagpieData minimum Number', 'ElementProperty|MagpieData maximum Number', 'ElementProperty|MagpieData range Number', 'ElementProperty|MagpieData mean Number']\n",
      "['ElementProperty|MagpieData avg_dev Number', 'ElementProperty|MagpieData mode Number', 'ElementProperty|MagpieData minimum MendeleevNumber', 'ElementProperty|MagpieData maximum MendeleevNumber', 'ElementProperty|MagpieData range MendeleevNumber']\n",
      "['ElementProperty|MagpieData mean MendeleevNumber', 'ElementProperty|MagpieData avg_dev MendeleevNumber', 'ElementProperty|MagpieData mode MendeleevNumber', 'ElementProperty|MagpieData minimum AtomicWeight', 'ElementProperty|MagpieData maximum AtomicWeight']\n",
      "['ElementProperty|MagpieData range AtomicWeight', 'ElementProperty|MagpieData mean AtomicWeight', 'ElementProperty|MagpieData avg_dev AtomicWeight', 'ElementProperty|MagpieData mode AtomicWeight', 'ElementProperty|MagpieData minimum MeltingT']\n",
      "['ElementProperty|MagpieData maximum MeltingT', 'ElementProperty|MagpieData range MeltingT', 'ElementProperty|MagpieData mean MeltingT', 'ElementProperty|MagpieData avg_dev MeltingT', 'ElementProperty|MagpieData mode MeltingT']\n",
      "['ElementProperty|MagpieData minimum Column', 'ElementProperty|MagpieData maximum Column', 'ElementProperty|MagpieData range Column', 'ElementProperty|MagpieData mean Column', 'ElementProperty|MagpieData avg_dev Column']\n",
      "['ElementProperty|MagpieData mode Column', 'ElementProperty|MagpieData minimum Row', 'ElementProperty|MagpieData maximum Row', 'ElementProperty|MagpieData range Row', 'ElementProperty|MagpieData mean Row']\n",
      "['ElementProperty|MagpieData avg_dev Row', 'ElementProperty|MagpieData mode Row', 'ElementProperty|MagpieData minimum CovalentRadius', 'ElementProperty|MagpieData maximum CovalentRadius', 'ElementProperty|MagpieData range CovalentRadius']\n",
      "['ElementProperty|MagpieData mean CovalentRadius', 'ElementProperty|MagpieData avg_dev CovalentRadius', 'ElementProperty|MagpieData mode CovalentRadius', 'ElementProperty|MagpieData minimum Electronegativity', 'ElementProperty|MagpieData maximum Electronegativity']\n",
      "['ElementProperty|MagpieData range Electronegativity', 'ElementProperty|MagpieData mean Electronegativity', 'ElementProperty|MagpieData avg_dev Electronegativity', 'ElementProperty|MagpieData mode Electronegativity', 'ElementProperty|MagpieData minimum NsValence']\n",
      "['ElementProperty|MagpieData maximum NsValence', 'ElementProperty|MagpieData range NsValence', 'ElementProperty|MagpieData mean NsValence', 'ElementProperty|MagpieData avg_dev NsValence', 'ElementProperty|MagpieData mode NsValence']\n",
      "['ElementProperty|MagpieData minimum NpValence', 'ElementProperty|MagpieData maximum NpValence', 'ElementProperty|MagpieData range NpValence', 'ElementProperty|MagpieData mean NpValence', 'ElementProperty|MagpieData avg_dev NpValence']\n",
      "['ElementProperty|MagpieData mode NpValence', 'ElementProperty|MagpieData minimum NdValence', 'ElementProperty|MagpieData maximum NdValence', 'ElementProperty|MagpieData range NdValence', 'ElementProperty|MagpieData mean NdValence']\n",
      "['ElementProperty|MagpieData avg_dev NdValence', 'ElementProperty|MagpieData mode NdValence', 'ElementProperty|MagpieData minimum NfValence', 'ElementProperty|MagpieData maximum NfValence', 'ElementProperty|MagpieData range NfValence']\n",
      "['ElementProperty|MagpieData mean NfValence', 'ElementProperty|MagpieData avg_dev NfValence', 'ElementProperty|MagpieData mode NfValence', 'ElementProperty|MagpieData minimum NValence', 'ElementProperty|MagpieData maximum NValence']\n",
      "['ElementProperty|MagpieData range NValence', 'ElementProperty|MagpieData mean NValence', 'ElementProperty|MagpieData avg_dev NValence', 'ElementProperty|MagpieData mode NValence', 'ElementProperty|MagpieData minimum NsUnfilled']\n",
      "['ElementProperty|MagpieData maximum NsUnfilled', 'ElementProperty|MagpieData range NsUnfilled', 'ElementProperty|MagpieData mean NsUnfilled', 'ElementProperty|MagpieData avg_dev NsUnfilled', 'ElementProperty|MagpieData mode NsUnfilled']\n",
      "['ElementProperty|MagpieData minimum NpUnfilled', 'ElementProperty|MagpieData maximum NpUnfilled', 'ElementProperty|MagpieData range NpUnfilled', 'ElementProperty|MagpieData mean NpUnfilled', 'ElementProperty|MagpieData avg_dev NpUnfilled']\n",
      "['ElementProperty|MagpieData mode NpUnfilled', 'ElementProperty|MagpieData minimum NdUnfilled', 'ElementProperty|MagpieData maximum NdUnfilled', 'ElementProperty|MagpieData range NdUnfilled', 'ElementProperty|MagpieData mean NdUnfilled']\n",
      "['ElementProperty|MagpieData avg_dev NdUnfilled', 'ElementProperty|MagpieData mode NdUnfilled', 'ElementProperty|MagpieData minimum NfUnfilled', 'ElementProperty|MagpieData maximum NfUnfilled', 'ElementProperty|MagpieData range NfUnfilled']\n",
      "['ElementProperty|MagpieData mean NfUnfilled', 'ElementProperty|MagpieData avg_dev NfUnfilled', 'ElementProperty|MagpieData mode NfUnfilled', 'ElementProperty|MagpieData minimum NUnfilled', 'ElementProperty|MagpieData maximum NUnfilled']\n",
      "['ElementProperty|MagpieData range NUnfilled', 'ElementProperty|MagpieData mean NUnfilled', 'ElementProperty|MagpieData avg_dev NUnfilled', 'ElementProperty|MagpieData mode NUnfilled', 'ElementProperty|MagpieData minimum GSvolume_pa']\n",
      "['ElementProperty|MagpieData maximum GSvolume_pa', 'ElementProperty|MagpieData range GSvolume_pa', 'ElementProperty|MagpieData mean GSvolume_pa', 'ElementProperty|MagpieData avg_dev GSvolume_pa', 'ElementProperty|MagpieData mode GSvolume_pa']\n",
      "['ElementProperty|MagpieData minimum GSbandgap', 'ElementProperty|MagpieData maximum GSbandgap', 'ElementProperty|MagpieData range GSbandgap', 'ElementProperty|MagpieData mean GSbandgap', 'ElementProperty|MagpieData avg_dev GSbandgap']\n",
      "['ElementProperty|MagpieData mode GSbandgap', 'ElementProperty|MagpieData minimum GSmagmom', 'ElementProperty|MagpieData maximum GSmagmom', 'ElementProperty|MagpieData range GSmagmom', 'ElementProperty|MagpieData mean GSmagmom']\n",
      "['ElementProperty|MagpieData avg_dev GSmagmom', 'ElementProperty|MagpieData mode GSmagmom', 'ElementProperty|MagpieData minimum SpaceGroupNumber', 'ElementProperty|MagpieData maximum SpaceGroupNumber', 'ElementProperty|MagpieData range SpaceGroupNumber']\n",
      "['ElementProperty|MagpieData mean SpaceGroupNumber', 'ElementProperty|MagpieData avg_dev SpaceGroupNumber', 'ElementProperty|MagpieData mode SpaceGroupNumber', 'IonProperty|max ionic char', 'IonProperty|avg ionic char']\n",
      "['Miedema|Miedema_deltaH_inter', 'Miedema|Miedema_deltaH_amor', 'Miedema|Miedema_deltaH_ss_min', 'Stoichiometry|0-norm', 'Stoichiometry|2-norm']\n",
      "['Stoichiometry|3-norm', 'Stoichiometry|5-norm', 'Stoichiometry|7-norm', 'Stoichiometry|10-norm', 'TMetalFraction|transition metal fraction']\n",
      "['ValenceOrbital|avg s valence electrons', 'ValenceOrbital|avg p valence electrons', 'ValenceOrbital|avg d valence electrons', 'ValenceOrbital|avg f valence electrons', 'ValenceOrbital|frac s valence electrons']\n",
      "['ValenceOrbital|frac p valence electrons', 'ValenceOrbital|frac d valence electrons', 'ValenceOrbital|frac f valence electrons', 'YangSolidSolution|Yang omega', 'YangSolidSolution|Yang delta']\n",
      "['ElectronegativityDiff|minimum EN difference', 'ElectronegativityDiff|maximum EN difference', 'ElectronegativityDiff|range EN difference', 'ElectronegativityDiff|mean EN difference', 'ElectronegativityDiff|std_dev EN difference']\n",
      "['OxidationStates|minimum oxidation state', 'OxidationStates|maximum oxidation state', 'OxidationStates|range oxidation state', 'OxidationStates|std_dev oxidation state', 'DensityFeatures|density']\n",
      "['DensityFeatures|vpa', 'DensityFeatures|packing fraction', 'GlobalSymmetryFeatures|spacegroup_num', 'GlobalSymmetryFeatures|crystal_system', 'GlobalSymmetryFeatures|crystal_system_int']\n",
      "['GlobalSymmetryFeatures|is_centrosymmetric', 'GlobalSymmetryFeatures|n_symmetry_ops', 'SineCoulombMatrix|sine coulomb matrix eig 0', 'SineCoulombMatrix|sine coulomb matrix eig 1', 'SineCoulombMatrix|sine coulomb matrix eig 2']\n",
      "['SineCoulombMatrix|sine coulomb matrix eig 3', 'SineCoulombMatrix|sine coulomb matrix eig 4', 'SineCoulombMatrix|sine coulomb matrix eig 5', 'SineCoulombMatrix|sine coulomb matrix eig 6', 'SineCoulombMatrix|sine coulomb matrix eig 7']\n",
      "['SineCoulombMatrix|sine coulomb matrix eig 8', 'SineCoulombMatrix|sine coulomb matrix eig 9', 'SineCoulombMatrix|sine coulomb matrix eig 10', 'SineCoulombMatrix|sine coulomb matrix eig 11', 'SineCoulombMatrix|sine coulomb matrix eig 12']\n",
      "['SineCoulombMatrix|sine coulomb matrix eig 13', 'SineCoulombMatrix|sine coulomb matrix eig 14', 'SineCoulombMatrix|sine coulomb matrix eig 15', 'SineCoulombMatrix|sine coulomb matrix eig 16', 'SineCoulombMatrix|sine coulomb matrix eig 17']\n",
      "['SineCoulombMatrix|sine coulomb matrix eig 18', 'SineCoulombMatrix|sine coulomb matrix eig 19', 'SineCoulombMatrix|sine coulomb matrix eig 20', 'SineCoulombMatrix|sine coulomb matrix eig 21', 'SineCoulombMatrix|sine coulomb matrix eig 22']\n",
      "['SineCoulombMatrix|sine coulomb matrix eig 23', 'SineCoulombMatrix|sine coulomb matrix eig 24', 'SineCoulombMatrix|sine coulomb matrix eig 25', 'SineCoulombMatrix|sine coulomb matrix eig 26', 'SineCoulombMatrix|sine coulomb matrix eig 27']\n",
      "['SineCoulombMatrix|sine coulomb matrix eig 28', 'SineCoulombMatrix|sine coulomb matrix eig 29', 'SineCoulombMatrix|sine coulomb matrix eig 30', 'SineCoulombMatrix|sine coulomb matrix eig 31', 'SineCoulombMatrix|sine coulomb matrix eig 32']\n",
      "['SineCoulombMatrix|sine coulomb matrix eig 33', 'SineCoulombMatrix|sine coulomb matrix eig 34', 'SineCoulombMatrix|sine coulomb matrix eig 35', 'SineCoulombMatrix|sine coulomb matrix eig 36', 'SineCoulombMatrix|sine coulomb matrix eig 37']\n",
      "['SineCoulombMatrix|sine coulomb matrix eig 38', 'SineCoulombMatrix|sine coulomb matrix eig 39', 'SineCoulombMatrix|sine coulomb matrix eig 40', 'SineCoulombMatrix|sine coulomb matrix eig 41', 'SineCoulombMatrix|sine coulomb matrix eig 42']\n",
      "['SineCoulombMatrix|sine coulomb matrix eig 43', 'SineCoulombMatrix|sine coulomb matrix eig 44', 'SineCoulombMatrix|sine coulomb matrix eig 45', 'SineCoulombMatrix|sine coulomb matrix eig 46', 'SineCoulombMatrix|sine coulomb matrix eig 47']\n",
      "['SineCoulombMatrix|sine coulomb matrix eig 48', 'SineCoulombMatrix|sine coulomb matrix eig 49', 'SineCoulombMatrix|sine coulomb matrix eig 50', 'SineCoulombMatrix|sine coulomb matrix eig 51', 'SineCoulombMatrix|sine coulomb matrix eig 52']\n",
      "['SineCoulombMatrix|sine coulomb matrix eig 53', 'SineCoulombMatrix|sine coulomb matrix eig 54', 'SineCoulombMatrix|sine coulomb matrix eig 55', 'SineCoulombMatrix|sine coulomb matrix eig 56', 'SineCoulombMatrix|sine coulomb matrix eig 57']\n",
      "['SineCoulombMatrix|sine coulomb matrix eig 58', 'SineCoulombMatrix|sine coulomb matrix eig 59', 'SineCoulombMatrix|sine coulomb matrix eig 60', 'SineCoulombMatrix|sine coulomb matrix eig 61', 'SineCoulombMatrix|sine coulomb matrix eig 62']\n",
      "['SineCoulombMatrix|sine coulomb matrix eig 63', 'SineCoulombMatrix|sine coulomb matrix eig 64', 'SineCoulombMatrix|sine coulomb matrix eig 65', 'SineCoulombMatrix|sine coulomb matrix eig 66', 'SineCoulombMatrix|sine coulomb matrix eig 67']\n",
      "['SineCoulombMatrix|sine coulomb matrix eig 68', 'SineCoulombMatrix|sine coulomb matrix eig 69', 'SineCoulombMatrix|sine coulomb matrix eig 70', 'SineCoulombMatrix|sine coulomb matrix eig 71', 'SineCoulombMatrix|sine coulomb matrix eig 72']\n",
      "['SineCoulombMatrix|sine coulomb matrix eig 73', 'SineCoulombMatrix|sine coulomb matrix eig 74', 'SineCoulombMatrix|sine coulomb matrix eig 75', 'SineCoulombMatrix|sine coulomb matrix eig 76', 'SineCoulombMatrix|sine coulomb matrix eig 77']\n",
      "['SineCoulombMatrix|sine coulomb matrix eig 78', 'SineCoulombMatrix|sine coulomb matrix eig 79', 'SineCoulombMatrix|sine coulomb matrix eig 80', 'SineCoulombMatrix|sine coulomb matrix eig 81', 'SineCoulombMatrix|sine coulomb matrix eig 82']\n",
      "['SineCoulombMatrix|sine coulomb matrix eig 83', 'SineCoulombMatrix|sine coulomb matrix eig 84', 'SineCoulombMatrix|sine coulomb matrix eig 85', 'SineCoulombMatrix|sine coulomb matrix eig 86', 'SineCoulombMatrix|sine coulomb matrix eig 87']\n",
      "['SineCoulombMatrix|sine coulomb matrix eig 88', 'SineCoulombMatrix|sine coulomb matrix eig 89', 'SineCoulombMatrix|sine coulomb matrix eig 90', 'SineCoulombMatrix|sine coulomb matrix eig 91', 'SineCoulombMatrix|sine coulomb matrix eig 92']\n",
      "['SineCoulombMatrix|sine coulomb matrix eig 93', 'SineCoulombMatrix|sine coulomb matrix eig 94', 'SineCoulombMatrix|sine coulomb matrix eig 95', 'SineCoulombMatrix|sine coulomb matrix eig 96', 'SineCoulombMatrix|sine coulomb matrix eig 97']\n",
      "['SineCoulombMatrix|sine coulomb matrix eig 98', 'SineCoulombMatrix|sine coulomb matrix eig 99', 'SineCoulombMatrix|sine coulomb matrix eig 100', 'SineCoulombMatrix|sine coulomb matrix eig 101', 'SineCoulombMatrix|sine coulomb matrix eig 102']\n",
      "['SineCoulombMatrix|sine coulomb matrix eig 103', 'SineCoulombMatrix|sine coulomb matrix eig 104', 'SineCoulombMatrix|sine coulomb matrix eig 105', 'SineCoulombMatrix|sine coulomb matrix eig 106', 'SineCoulombMatrix|sine coulomb matrix eig 107']\n",
      "['SineCoulombMatrix|sine coulomb matrix eig 108', 'SineCoulombMatrix|sine coulomb matrix eig 109', 'SineCoulombMatrix|sine coulomb matrix eig 110', 'SineCoulombMatrix|sine coulomb matrix eig 111', 'SineCoulombMatrix|sine coulomb matrix eig 112']\n",
      "['SineCoulombMatrix|sine coulomb matrix eig 113', 'SineCoulombMatrix|sine coulomb matrix eig 114', 'SineCoulombMatrix|sine coulomb matrix eig 115', 'SineCoulombMatrix|sine coulomb matrix eig 116', 'SineCoulombMatrix|sine coulomb matrix eig 117']\n",
      "['SineCoulombMatrix|sine coulomb matrix eig 118', 'SineCoulombMatrix|sine coulomb matrix eig 119', 'SineCoulombMatrix|sine coulomb matrix eig 120', 'SineCoulombMatrix|sine coulomb matrix eig 121', 'SineCoulombMatrix|sine coulomb matrix eig 122']\n",
      "['SineCoulombMatrix|sine coulomb matrix eig 123', 'SineCoulombMatrix|sine coulomb matrix eig 124', 'SineCoulombMatrix|sine coulomb matrix eig 125', 'SineCoulombMatrix|sine coulomb matrix eig 126', 'SineCoulombMatrix|sine coulomb matrix eig 127']\n",
      "['SineCoulombMatrix|sine coulomb matrix eig 128', 'SineCoulombMatrix|sine coulomb matrix eig 129', 'SineCoulombMatrix|sine coulomb matrix eig 130', 'SineCoulombMatrix|sine coulomb matrix eig 131', 'SineCoulombMatrix|sine coulomb matrix eig 132']\n",
      "['SineCoulombMatrix|sine coulomb matrix eig 133', 'SineCoulombMatrix|sine coulomb matrix eig 134', 'SineCoulombMatrix|sine coulomb matrix eig 135', 'SineCoulombMatrix|sine coulomb matrix eig 136', 'SineCoulombMatrix|sine coulomb matrix eig 137']\n",
      "['SineCoulombMatrix|sine coulomb matrix eig 138', 'SineCoulombMatrix|sine coulomb matrix eig 139', 'SineCoulombMatrix|sine coulomb matrix eig 140', 'SineCoulombMatrix|sine coulomb matrix eig 141', 'SineCoulombMatrix|sine coulomb matrix eig 142']\n",
      "['SineCoulombMatrix|sine coulomb matrix eig 143', 'SineCoulombMatrix|sine coulomb matrix eig 144', 'SineCoulombMatrix|sine coulomb matrix eig 145', 'SineCoulombMatrix|sine coulomb matrix eig 146', 'SineCoulombMatrix|sine coulomb matrix eig 147']\n",
      "['SineCoulombMatrix|sine coulomb matrix eig 148', 'SineCoulombMatrix|sine coulomb matrix eig 149', 'SineCoulombMatrix|sine coulomb matrix eig 150', 'SineCoulombMatrix|sine coulomb matrix eig 151', 'SineCoulombMatrix|sine coulomb matrix eig 152']\n",
      "['SineCoulombMatrix|sine coulomb matrix eig 153', 'SineCoulombMatrix|sine coulomb matrix eig 154', 'SineCoulombMatrix|sine coulomb matrix eig 155', 'SineCoulombMatrix|sine coulomb matrix eig 156', 'SineCoulombMatrix|sine coulomb matrix eig 157']\n",
      "['SineCoulombMatrix|sine coulomb matrix eig 158', 'SineCoulombMatrix|sine coulomb matrix eig 159', 'SineCoulombMatrix|sine coulomb matrix eig 160', 'SineCoulombMatrix|sine coulomb matrix eig 161', 'SineCoulombMatrix|sine coulomb matrix eig 162']\n",
      "['SineCoulombMatrix|sine coulomb matrix eig 163', 'SineCoulombMatrix|sine coulomb matrix eig 164', 'SineCoulombMatrix|sine coulomb matrix eig 165', 'SineCoulombMatrix|sine coulomb matrix eig 166', 'SineCoulombMatrix|sine coulomb matrix eig 167']\n",
      "['SineCoulombMatrix|sine coulomb matrix eig 168', 'SineCoulombMatrix|sine coulomb matrix eig 169', 'SineCoulombMatrix|sine coulomb matrix eig 170', 'SineCoulombMatrix|sine coulomb matrix eig 171', 'SineCoulombMatrix|sine coulomb matrix eig 172']\n",
      "['SineCoulombMatrix|sine coulomb matrix eig 173', 'SineCoulombMatrix|sine coulomb matrix eig 174', 'SineCoulombMatrix|sine coulomb matrix eig 175', 'SineCoulombMatrix|sine coulomb matrix eig 176', 'SineCoulombMatrix|sine coulomb matrix eig 177']\n",
      "['SineCoulombMatrix|sine coulomb matrix eig 178', 'SineCoulombMatrix|sine coulomb matrix eig 179', 'SineCoulombMatrix|sine coulomb matrix eig 180', 'SineCoulombMatrix|sine coulomb matrix eig 181', 'SineCoulombMatrix|sine coulomb matrix eig 182']\n",
      "['SineCoulombMatrix|sine coulomb matrix eig 183', 'SineCoulombMatrix|sine coulomb matrix eig 184', 'SineCoulombMatrix|sine coulomb matrix eig 185', 'SineCoulombMatrix|sine coulomb matrix eig 186', 'SineCoulombMatrix|sine coulomb matrix eig 187']\n",
      "['SineCoulombMatrix|sine coulomb matrix eig 188', 'SineCoulombMatrix|sine coulomb matrix eig 189', 'SineCoulombMatrix|sine coulomb matrix eig 190', 'SineCoulombMatrix|sine coulomb matrix eig 191', 'ChemicalOrdering|mean ordering parameter shell 1']\n",
      "['ChemicalOrdering|mean ordering parameter shell 2', 'ChemicalOrdering|mean ordering parameter shell 3', 'XRDPowderPattern|xrd_0', 'XRDPowderPattern|xrd_1', 'XRDPowderPattern|xrd_2']\n",
      "['XRDPowderPattern|xrd_3', 'XRDPowderPattern|xrd_4', 'XRDPowderPattern|xrd_5', 'XRDPowderPattern|xrd_6', 'XRDPowderPattern|xrd_7']\n",
      "['XRDPowderPattern|xrd_8', 'XRDPowderPattern|xrd_9', 'XRDPowderPattern|xrd_10', 'XRDPowderPattern|xrd_11', 'XRDPowderPattern|xrd_12']\n",
      "['XRDPowderPattern|xrd_13', 'XRDPowderPattern|xrd_14', 'XRDPowderPattern|xrd_15', 'XRDPowderPattern|xrd_16', 'XRDPowderPattern|xrd_17']\n",
      "['XRDPowderPattern|xrd_18', 'XRDPowderPattern|xrd_19', 'XRDPowderPattern|xrd_20', 'XRDPowderPattern|xrd_21', 'XRDPowderPattern|xrd_22']\n",
      "['XRDPowderPattern|xrd_23', 'XRDPowderPattern|xrd_24', 'XRDPowderPattern|xrd_25', 'XRDPowderPattern|xrd_26', 'XRDPowderPattern|xrd_27']\n",
      "['XRDPowderPattern|xrd_28', 'XRDPowderPattern|xrd_29', 'XRDPowderPattern|xrd_30', 'XRDPowderPattern|xrd_31', 'XRDPowderPattern|xrd_32']\n",
      "['XRDPowderPattern|xrd_33', 'XRDPowderPattern|xrd_34', 'XRDPowderPattern|xrd_35', 'XRDPowderPattern|xrd_36', 'XRDPowderPattern|xrd_37']\n",
      "['XRDPowderPattern|xrd_38', 'XRDPowderPattern|xrd_39', 'XRDPowderPattern|xrd_40', 'XRDPowderPattern|xrd_41', 'XRDPowderPattern|xrd_42']\n",
      "['XRDPowderPattern|xrd_43', 'XRDPowderPattern|xrd_44', 'XRDPowderPattern|xrd_45', 'XRDPowderPattern|xrd_46', 'XRDPowderPattern|xrd_47']\n",
      "['XRDPowderPattern|xrd_48', 'XRDPowderPattern|xrd_49', 'XRDPowderPattern|xrd_50', 'XRDPowderPattern|xrd_51', 'XRDPowderPattern|xrd_52']\n",
      "['XRDPowderPattern|xrd_53', 'XRDPowderPattern|xrd_54', 'XRDPowderPattern|xrd_55', 'XRDPowderPattern|xrd_56', 'XRDPowderPattern|xrd_57']\n",
      "['XRDPowderPattern|xrd_58', 'XRDPowderPattern|xrd_59', 'XRDPowderPattern|xrd_60', 'XRDPowderPattern|xrd_61', 'XRDPowderPattern|xrd_62']\n",
      "['XRDPowderPattern|xrd_63', 'XRDPowderPattern|xrd_64', 'XRDPowderPattern|xrd_65', 'XRDPowderPattern|xrd_66', 'XRDPowderPattern|xrd_67']\n",
      "['XRDPowderPattern|xrd_68', 'XRDPowderPattern|xrd_69', 'XRDPowderPattern|xrd_70', 'XRDPowderPattern|xrd_71', 'XRDPowderPattern|xrd_72']\n",
      "['XRDPowderPattern|xrd_73', 'XRDPowderPattern|xrd_74', 'XRDPowderPattern|xrd_75', 'XRDPowderPattern|xrd_76', 'XRDPowderPattern|xrd_77']\n",
      "['XRDPowderPattern|xrd_78', 'XRDPowderPattern|xrd_79', 'XRDPowderPattern|xrd_80', 'XRDPowderPattern|xrd_81', 'XRDPowderPattern|xrd_82']\n",
      "['XRDPowderPattern|xrd_83', 'XRDPowderPattern|xrd_84', 'XRDPowderPattern|xrd_85', 'XRDPowderPattern|xrd_86', 'XRDPowderPattern|xrd_87']\n",
      "['XRDPowderPattern|xrd_88', 'XRDPowderPattern|xrd_89', 'XRDPowderPattern|xrd_90', 'XRDPowderPattern|xrd_91', 'XRDPowderPattern|xrd_92']\n",
      "['XRDPowderPattern|xrd_93', 'XRDPowderPattern|xrd_94', 'XRDPowderPattern|xrd_95', 'XRDPowderPattern|xrd_96', 'XRDPowderPattern|xrd_97']\n",
      "['XRDPowderPattern|xrd_98', 'XRDPowderPattern|xrd_99', 'XRDPowderPattern|xrd_100', 'XRDPowderPattern|xrd_101', 'XRDPowderPattern|xrd_102']\n",
      "['XRDPowderPattern|xrd_103', 'XRDPowderPattern|xrd_104', 'XRDPowderPattern|xrd_105', 'XRDPowderPattern|xrd_106', 'XRDPowderPattern|xrd_107']\n",
      "['XRDPowderPattern|xrd_108', 'XRDPowderPattern|xrd_109', 'XRDPowderPattern|xrd_110', 'XRDPowderPattern|xrd_111', 'XRDPowderPattern|xrd_112']\n",
      "['XRDPowderPattern|xrd_113', 'XRDPowderPattern|xrd_114', 'XRDPowderPattern|xrd_115', 'XRDPowderPattern|xrd_116', 'XRDPowderPattern|xrd_117']\n",
      "['XRDPowderPattern|xrd_118', 'XRDPowderPattern|xrd_119', 'XRDPowderPattern|xrd_120', 'XRDPowderPattern|xrd_121', 'XRDPowderPattern|xrd_122']\n",
      "['XRDPowderPattern|xrd_123', 'XRDPowderPattern|xrd_124', 'XRDPowderPattern|xrd_125', 'XRDPowderPattern|xrd_126', 'XRDPowderPattern|xrd_127']\n",
      "['MEGNet_OFMEncoded_v1_1', 'MEGNet_OFMEncoded_v1_2', 'MEGNet_OFMEncoded_v1_3', 'MEGNet_OFMEncoded_v1_4', 'MEGNet_OFMEncoded_v1_5']\n",
      "['MEGNet_OFMEncoded_v1_6', 'MEGNet_OFMEncoded_v1_7', 'MEGNet_OFMEncoded_v1_8', 'MEGNet_OFMEncoded_v1_9', 'MEGNet_OFMEncoded_v1_10']\n",
      "['MEGNet_OFMEncoded_v1_11', 'MEGNet_OFMEncoded_v1_12', 'MEGNet_OFMEncoded_v1_13', 'MEGNet_OFMEncoded_v1_14', 'MEGNet_OFMEncoded_v1_15']\n",
      "['MEGNet_OFMEncoded_v1_16', 'MEGNet_OFMEncoded_v1_17', 'MEGNet_OFMEncoded_v1_18', 'MEGNet_OFMEncoded_v1_19', 'MEGNet_OFMEncoded_v1_20']\n",
      "['MEGNet_OFMEncoded_v1_21', 'MEGNet_OFMEncoded_v1_22', 'MEGNet_OFMEncoded_v1_23', 'MEGNet_OFMEncoded_v1_24', 'MEGNet_OFMEncoded_v1_25']\n",
      "['MEGNet_OFMEncoded_v1_26', 'MEGNet_OFMEncoded_v1_27', 'MEGNet_OFMEncoded_v1_28', 'MEGNet_OFMEncoded_v1_29', 'MEGNet_OFMEncoded_v1_30']\n",
      "['MEGNet_OFMEncoded_v1_31', 'MEGNet_OFMEncoded_v1_32', 'MEGNet_OFMEncoded_v1_33', 'MEGNet_OFMEncoded_v1_34', 'MEGNet_OFMEncoded_v1_35']\n",
      "['MEGNet_OFMEncoded_v1_36', 'MEGNet_OFMEncoded_v1_37', 'MEGNet_OFMEncoded_v1_38', 'MEGNet_OFMEncoded_v1_39', 'MEGNet_OFMEncoded_v1_40']\n",
      "['MEGNet_OFMEncoded_v1_41', 'MEGNet_OFMEncoded_v1_42', 'MEGNet_OFMEncoded_v1_43', 'MEGNet_OFMEncoded_v1_44', 'MEGNet_OFMEncoded_v1_45']\n",
      "['MEGNet_OFMEncoded_v1_46', 'MEGNet_OFMEncoded_v1_47', 'MEGNet_OFMEncoded_v1_48', 'MEGNet_OFMEncoded_v1_49', 'MEGNet_OFMEncoded_v1_50']\n",
      "['MEGNet_OFMEncoded_v1_51', 'MEGNet_OFMEncoded_v1_52', 'MEGNet_OFMEncoded_v1_53', 'MEGNet_OFMEncoded_v1_54', 'MEGNet_OFMEncoded_v1_55']\n",
      "['MEGNet_OFMEncoded_v1_56', 'MEGNet_OFMEncoded_v1_57', 'MEGNet_OFMEncoded_v1_58', 'MEGNet_OFMEncoded_v1_59', 'MEGNet_OFMEncoded_v1_60']\n",
      "['MEGNet_OFMEncoded_v1_61', 'MEGNet_OFMEncoded_v1_62', 'MEGNet_OFMEncoded_v1_63', 'MEGNet_OFMEncoded_v1_64', 'MEGNet_OFMEncoded_v1_65']\n",
      "['MEGNet_OFMEncoded_v1_66', 'MEGNet_OFMEncoded_v1_67', 'MEGNet_OFMEncoded_v1_68', 'MEGNet_OFMEncoded_v1_69', 'MEGNet_OFMEncoded_v1_70']\n",
      "['MEGNet_OFMEncoded_v1_71', 'MEGNet_OFMEncoded_v1_72', 'MEGNet_OFMEncoded_v1_73', 'MEGNet_OFMEncoded_v1_74', 'MEGNet_OFMEncoded_v1_75']\n",
      "['MEGNet_OFMEncoded_v1_76', 'MEGNet_OFMEncoded_v1_77', 'MEGNet_OFMEncoded_v1_78', 'MEGNet_OFMEncoded_v1_79', 'MEGNet_OFMEncoded_v1_80']\n",
      "['MEGNet_OFMEncoded_v1_81', 'MEGNet_OFMEncoded_v1_82', 'MEGNet_OFMEncoded_v1_83', 'MEGNet_OFMEncoded_v1_84', 'MEGNet_OFMEncoded_v1_85']\n",
      "['MEGNet_OFMEncoded_v1_86', 'MEGNet_OFMEncoded_v1_87', 'MEGNet_OFMEncoded_v1_88', 'MEGNet_OFMEncoded_v1_89', 'MEGNet_OFMEncoded_v1_90']\n",
      "['MEGNet_OFMEncoded_v1_91', 'MEGNet_OFMEncoded_v1_92', 'MEGNet_OFMEncoded_v1_93', 'MEGNet_OFMEncoded_v1_94', 'MEGNet_OFMEncoded_v1_95']\n",
      "['MEGNet_OFMEncoded_v1_96', 'MEGNet_OFMEncoded_v1_97', 'MEGNet_OFMEncoded_v1_98', 'MEGNet_OFMEncoded_v1_99', 'MEGNet_OFMEncoded_v1_100']\n",
      "['MEGNet_OFMEncoded_v1_101', 'MEGNet_OFMEncoded_v1_102', 'MEGNet_OFMEncoded_v1_103', 'MEGNet_OFMEncoded_v1_104', 'MEGNet_OFMEncoded_v1_105']\n",
      "['MEGNet_OFMEncoded_v1_106', 'MEGNet_OFMEncoded_v1_107', 'MEGNet_OFMEncoded_v1_108', 'MEGNet_OFMEncoded_v1_109', 'MEGNet_OFMEncoded_v1_110']\n",
      "['MEGNet_OFMEncoded_v1_111', 'MEGNet_OFMEncoded_v1_112', 'MEGNet_OFMEncoded_v1_113', 'MEGNet_OFMEncoded_v1_114', 'MEGNet_OFMEncoded_v1_115']\n",
      "['MEGNet_OFMEncoded_v1_116', 'MEGNet_OFMEncoded_v1_117', 'MEGNet_OFMEncoded_v1_118', 'MEGNet_OFMEncoded_v1_119', 'MEGNet_OFMEncoded_v1_120']\n",
      "['MEGNet_OFMEncoded_v1_121', 'MEGNet_OFMEncoded_v1_122', 'MEGNet_OFMEncoded_v1_123', 'MEGNet_OFMEncoded_v1_124', 'MEGNet_OFMEncoded_v1_125']\n",
      "['MEGNet_OFMEncoded_v1_126', 'MEGNet_OFMEncoded_v1_127', 'MEGNet_OFMEncoded_v1_128', 'MEGNet_OFMEncoded_v1_129', 'MEGNet_OFMEncoded_v1_130']\n",
      "['MEGNet_OFMEncoded_v1_131', 'MEGNet_OFMEncoded_v1_132', 'MEGNet_OFMEncoded_v1_133', 'MEGNet_OFMEncoded_v1_134', 'MEGNet_OFMEncoded_v1_135']\n",
      "['MEGNet_OFMEncoded_v1_136', 'MEGNet_OFMEncoded_v1_137', 'MEGNet_OFMEncoded_v1_138', 'MEGNet_OFMEncoded_v1_139', 'MEGNet_OFMEncoded_v1_140']\n",
      "['MEGNet_OFMEncoded_v1_141', 'MEGNet_OFMEncoded_v1_142', 'MEGNet_OFMEncoded_v1_143', 'MEGNet_OFMEncoded_v1_144', 'MEGNet_OFMEncoded_v1_145']\n",
      "['MEGNet_OFMEncoded_v1_146', 'MEGNet_OFMEncoded_v1_147', 'MEGNet_OFMEncoded_v1_148', 'MEGNet_OFMEncoded_v1_149', 'MEGNet_OFMEncoded_v1_150']\n",
      "['MEGNet_OFMEncoded_v1_151', 'MEGNet_OFMEncoded_v1_152', 'MEGNet_OFMEncoded_v1_153', 'MEGNet_OFMEncoded_v1_154', 'MEGNet_OFMEncoded_v1_155']\n",
      "['MEGNet_OFMEncoded_v1_156', 'MEGNet_OFMEncoded_v1_157', 'MEGNet_OFMEncoded_v1_158', 'MEGNet_OFMEncoded_v1_159', 'MEGNet_OFMEncoded_v1_160']\n",
      "['MEGNet_OFMEncoded_v1_161', 'MEGNet_OFMEncoded_v1_162', 'MEGNet_OFMEncoded_v1_163', 'MEGNet_OFMEncoded_v1_164', 'MEGNet_OFMEncoded_v1_165']\n",
      "['MEGNet_OFMEncoded_v1_166', 'MEGNet_OFMEncoded_v1_167', 'MEGNet_OFMEncoded_v1_168', 'MEGNet_OFMEncoded_v1_169', 'MEGNet_OFMEncoded_v1_170']\n",
      "['MEGNet_OFMEncoded_v1_171', 'MEGNet_OFMEncoded_v1_172', 'MEGNet_OFMEncoded_v1_173', 'MEGNet_OFMEncoded_v1_174', 'MEGNet_OFMEncoded_v1_175']\n",
      "['MEGNet_OFMEncoded_v1_176', 'MEGNet_OFMEncoded_v1_177', 'MEGNet_OFMEncoded_v1_178', 'MEGNet_OFMEncoded_v1_179', 'MEGNet_OFMEncoded_v1_180']\n",
      "['MEGNet_OFMEncoded_v1_181', 'MEGNet_OFMEncoded_v1_182', 'MEGNet_OFMEncoded_v1_183', 'MEGNet_OFMEncoded_v1_184', 'MEGNet_OFMEncoded_v1_185']\n",
      "['MEGNet_OFMEncoded_v1_186', 'MEGNet_OFMEncoded_v1_187', 'MEGNet_OFMEncoded_v1_188', 'Efermi_MP_2019_1', 'Efermi_MP_2019_2']\n",
      "['Efermi_MP_2019_3', 'Efermi_MP_2019_4', 'Efermi_MP_2019_5', 'Efermi_MP_2019_6', 'Efermi_MP_2019_7']\n",
      "['Efermi_MP_2019_8', 'Efermi_MP_2019_9', 'Efermi_MP_2019_10', 'Efermi_MP_2019_11', 'Efermi_MP_2019_12']\n",
      "['Efermi_MP_2019_13', 'Efermi_MP_2019_14', 'Efermi_MP_2019_15', 'Efermi_MP_2019_16', 'Efermi_MP_2019_17']\n",
      "['Efermi_MP_2019_18', 'Efermi_MP_2019_19', 'Efermi_MP_2019_20', 'Efermi_MP_2019_21', 'Efermi_MP_2019_22']\n",
      "['Efermi_MP_2019_23', 'Efermi_MP_2019_24', 'Efermi_MP_2019_25', 'Efermi_MP_2019_26', 'Efermi_MP_2019_27']\n",
      "['Efermi_MP_2019_28', 'Efermi_MP_2019_29', 'Efermi_MP_2019_30', 'Efermi_MP_2019_31', 'Efermi_MP_2019_32']\n",
      "['Bandgap_MP_2018_1', 'Bandgap_MP_2018_2', 'Bandgap_MP_2018_3', 'Bandgap_MP_2018_4', 'Bandgap_MP_2018_5']\n",
      "['Bandgap_MP_2018_6', 'Bandgap_MP_2018_7', 'Bandgap_MP_2018_8', 'Bandgap_MP_2018_9', 'Bandgap_MP_2018_10']\n",
      "['Bandgap_MP_2018_11', 'Bandgap_MP_2018_12', 'Bandgap_MP_2018_13', 'Bandgap_MP_2018_14', 'Bandgap_MP_2018_15']\n",
      "['Bandgap_MP_2018_16', 'Bandgap_MP_2018_17', 'Bandgap_MP_2018_18', 'Bandgap_MP_2018_19', 'Bandgap_MP_2018_20']\n",
      "['Bandgap_MP_2018_21', 'Bandgap_MP_2018_22', 'Bandgap_MP_2018_23', 'Bandgap_MP_2018_24', 'Bandgap_MP_2018_25']\n",
      "['Bandgap_MP_2018_26', 'Bandgap_MP_2018_27', 'Bandgap_MP_2018_28', 'Bandgap_MP_2018_29', 'Bandgap_MP_2018_30']\n",
      "['Bandgap_MP_2018_31', 'Bandgap_MP_2018_32', 'logK_MP_2019_1', 'logK_MP_2019_2', 'logK_MP_2019_3']\n",
      "['logK_MP_2019_4', 'logK_MP_2019_5', 'logK_MP_2019_6', 'logK_MP_2019_7', 'logK_MP_2019_8']\n",
      "['logK_MP_2019_9', 'logK_MP_2019_10', 'logK_MP_2019_11', 'logK_MP_2019_12', 'logK_MP_2019_13']\n",
      "['logK_MP_2019_14', 'logK_MP_2019_15', 'logK_MP_2019_16', 'logK_MP_2019_17', 'logK_MP_2019_18']\n",
      "['logK_MP_2019_19', 'logK_MP_2019_20', 'logK_MP_2019_21', 'logK_MP_2019_22', 'logK_MP_2019_23']\n",
      "['logK_MP_2019_24', 'logK_MP_2019_25', 'logK_MP_2019_26', 'logK_MP_2019_27', 'logK_MP_2019_28']\n",
      "['logK_MP_2019_29', 'logK_MP_2019_30', 'logK_MP_2019_31', 'logK_MP_2019_32', 'logG_MP_2019_1']\n",
      "['logG_MP_2019_2', 'logG_MP_2019_3', 'logG_MP_2019_4', 'logG_MP_2019_5', 'logG_MP_2019_6']\n",
      "['logG_MP_2019_7', 'logG_MP_2019_8', 'logG_MP_2019_9', 'logG_MP_2019_10', 'logG_MP_2019_11']\n",
      "['logG_MP_2019_12', 'logG_MP_2019_13', 'logG_MP_2019_14', 'logG_MP_2019_15', 'logG_MP_2019_16']\n",
      "['logG_MP_2019_17', 'logG_MP_2019_18', 'logG_MP_2019_19', 'logG_MP_2019_20', 'logG_MP_2019_21']\n",
      "['logG_MP_2019_22', 'logG_MP_2019_23', 'logG_MP_2019_24', 'logG_MP_2019_25', 'logG_MP_2019_26']\n",
      "['logG_MP_2019_27', 'logG_MP_2019_28', 'logG_MP_2019_29', 'logG_MP_2019_30', 'logG_MP_2019_31']\n",
      "['logG_MP_2019_32', 'Adjacent_1', 'Adjacent_2', 'Adjacent_3', 'Adjacent_4']\n",
      "['Adjacent_5', 'Adjacent_6', 'Adjacent_7', 'Adjacent_8', 'Adjacent_9']\n",
      "['Adjacent_10', 'Adjacent_11', 'Adjacent_12', 'Adjacent_13', 'Adjacent_14']\n",
      "['Adjacent_15', 'Adjacent_16', 'Adjacent_17', 'Adjacent_18', 'Adjacent_19']\n",
      "['Adjacent_20', 'Adjacent_21', 'Adjacent_22', 'Adjacent_23', 'Adjacent_24']\n",
      "['Adjacent_25', 'Adjacent_26', 'Adjacent_27', 'Adjacent_28', 'Adjacent_29']\n",
      "['Adjacent_30', 'Adjacent_31', 'Adjacent_32']\n"
     ]
    }
   ],
   "source": [
    "# Load previous MODData\n",
    "md = MODData.load('data/md_ref_index_omega.pkl')\n",
    "allcolumns = md.df_featurized.columns.tolist()\n",
    "# print pretty\n",
    "for i in range(0, len(allcolumns), 5):\n",
    "    print(allcolumns[i:i+5])\n",
    "# notice how GNN features are at the end of the dataframe\n",
    "# including the MEGNet OFM, pretrained MEGNet models features,\n",
    "# and features from the adjacent GNN model we just trained."
   ]
  },
  {
   "cell_type": "code",
   "execution_count": 4,
   "metadata": {},
   "outputs": [
    {
     "name": "stdout",
     "output_type": "stream",
     "text": [
      "2024-09-19 20:23:48,431 - modnet - INFO - Multiprocessing on 48 workers.\n",
      "2024-09-19 20:23:48,434 - modnet - INFO - Computing \"self\" MI (i.e. information entropy) of features\n"
     ]
    },
    {
     "name": "stderr",
     "output_type": "stream",
     "text": [
      "100%|██████████| 958/958 [00:01<00:00, 523.82it/s]"
     ]
    },
    {
     "name": "stdout",
     "output_type": "stream",
     "text": [
      "2024-09-19 20:23:50,323 - modnet - INFO - Computing cross NMI between all features...\n"
     ]
    },
    {
     "name": "stderr",
     "output_type": "stream",
     "text": [
      "\n",
      "100%|██████████| 291466/291466 [03:32<00:00, 1368.79it/s]\n"
     ]
    },
    {
     "name": "stdout",
     "output_type": "stream",
     "text": [
      "2024-09-19 20:27:26,698 - modnet - INFO - Starting target 1/1: refractive_index ...\n",
      "2024-09-19 20:27:26,699 - modnet - INFO - Computing mutual information between features and target...\n",
      "2024-09-19 20:27:55,593 - modnet - INFO - Computing optimal features...\n",
      "2024-09-19 20:28:11,186 - modnet - INFO - Selected 50/764 features...\n",
      "2024-09-19 20:28:27,016 - modnet - INFO - Selected 100/764 features...\n",
      "2024-09-19 20:28:42,850 - modnet - INFO - Selected 150/764 features...\n",
      "2024-09-19 20:28:58,444 - modnet - INFO - Selected 200/764 features...\n",
      "2024-09-19 20:29:13,438 - modnet - INFO - Selected 250/764 features...\n",
      "2024-09-19 20:29:27,778 - modnet - INFO - Selected 300/764 features...\n",
      "2024-09-19 20:29:41,209 - modnet - INFO - Selected 350/764 features...\n",
      "2024-09-19 20:29:53,657 - modnet - INFO - Selected 400/764 features...\n",
      "2024-09-19 20:30:05,193 - modnet - INFO - Selected 450/764 features...\n",
      "2024-09-19 20:30:15,323 - modnet - INFO - Selected 500/764 features...\n",
      "2024-09-19 20:30:24,290 - modnet - INFO - Selected 550/764 features...\n",
      "2024-09-19 20:30:31,717 - modnet - INFO - Selected 600/764 features...\n",
      "2024-09-19 20:30:37,357 - modnet - INFO - Selected 650/764 features...\n",
      "2024-09-19 20:30:41,236 - modnet - INFO - Selected 700/764 features...\n",
      "2024-09-19 20:30:43,167 - modnet - INFO - Selected 750/764 features...\n",
      "2024-09-19 20:30:43,351 - modnet - INFO - Done with target 1/1: refractive_index.\n",
      "2024-09-19 20:30:43,352 - modnet - INFO - Merging all features...\n",
      "2024-09-19 20:30:43,352 - modnet - INFO - Done.\n"
     ]
    }
   ],
   "source": [
    "# select the features to be used in the model\n",
    "md.feature_selection(n=-1, n_jobs=48) # cross nmi might take some time...\n",
    "\n",
    "# overwrite with the crossnmi calculated\n",
    "md.save('data/md_ref_index_omega.pkl')"
   ]
  },
  {
   "cell_type": "code",
   "execution_count": 7,
   "metadata": {},
   "outputs": [
    {
     "name": "stdout",
     "output_type": "stream",
     "text": [
      "21/21 [==============================] - 0s 2ms/step\n"
     ]
    },
    {
     "name": "stderr",
     "output_type": "stream",
     "text": [
      "2024-09-19 20:36:29.900081: W tensorflow/stream_executor/platform/default/dso_loader.cc:64] Could not load dynamic library 'libcuda.so.1'; dlerror: libcuda.so.1: cannot open shared object file: No such file or directory; LD_LIBRARY_PATH: /home/ucl/modl/rgouvea/anaconda3/pkgs/cudatoolkit-11.2.2-hbe64b41_10/lib/:/home/ucl/modl/rgouvea/anaconda3/envs/env_tfmodnet/lib/python3.8/site-packages/nvidia/cuda_nvcc/:/home/ucl/modl/rgouvea/anaconda3/envs/env_tfmodnet/lib/python3.8/site-packages/nvidia/cuda_cupti/lib/:/home/ucl/modl/rgouvea/anaconda3/envs/py3.8/lib/python3.8/site-packages/tensorrt/:/home/ucl/modl/rgouvea/anaconda3/envs/env_tfmodnet/lib:/home/ucl/modl/rgouvea/anaconda3/envs/env_tfmodnet/lib/python3.8/site-packages/nvidia/cusolver/lib/:/auto/home/users/r/g/rgouvea/anaconda3/envs/env_tfmodnet/lib:/auto/home/users/r/g/rgouvea/anaconda3/envs/env_tfmodnet/lib/python3.8/site-packages/nvidia/cuda_runtime/lib/:/auto/home/users/r/g/rgouvea/anaconda3/envs/env_tfmodnet/lib/python3.8/site-packages/nvidia/cublas/lib/:/opt/sw/arch/easybuild/2020b/software/FFTW/3.3.8-gompic-2020b/lib:/opt/sw/arch/easybuild/2020b/software/OpenMPI/4.0.5-gcccuda-2020b/lib:/opt/sw/arch/easybuild/2020b/software/PMIx/3.1.5-GCCcore-10.2.0/lib:/opt/sw/arch/easybuild/2020b/software/libfabric/1.11.0-GCCcore-10.2.0/lib:/opt/sw/arch/easybuild/2020b/software/UCX/1.9.0-GCCcore-10.2.0-CUDA-11.1.1/lib:/opt/sw/arch/easybuild/2020b/software/GDRCopy/2.1-GCCcore-10.2.0-CUDA-11.1.1/lib:/opt/sw/arch/easybuild/2020b/software/Check/0.15.2-GCCcore-10.2.0/lib:/opt/sw/arch/easybuild/2020b/software/libevent/2.1.12-GCCcore-10.2.0/lib:/opt/sw/arch/easybuild/2020b/software/hwloc/2.2.0-GCCcore-10.2.0/lib:/opt/sw/arch/easybuild/2020b/software/libpciaccess/0.16-GCCcore-10.2.0/lib:/opt/sw/arch/easybuild/2020b/software/libxml2/2.9.10-GCCcore-10.2.0/lib:/opt/sw/arch/easybuild/2020b/software/XZ/5.2.5-GCCcore-10.2.0/lib:/opt/sw/arch/easybuild/2020b/software/numactl/2.0.13-GCCcore-10.2.0/lib:/opt/sw/arch/easybuild/2020b/software/CUDAcore/11.1.1/nvvm/lib64:/opt/sw/arch/easybuild/2020b/software/CUDAcore/11.1.1/extras/CUPTI/lib64:/opt/sw/arch/easybuild/2020b/software/CUDAcore/11.1.1/lib:/opt/sw/arch/easybuild/2020b/software/binutils/2.35-GCCcore-10.2.0/lib:/opt/sw/arch/easybuild/2020b/software/zlib/1.2.11-GCCcore-10.2.0/lib:/opt/sw/arch/easybuild/2020b/software/GCCcore/10.2.0/lib64:/home/ucl/modl/rgouvea/anaconda3/pkgs/cudatoolkit-11.2.2-hbe64b41_10/lib:/home/ucl/modl/rgouvea/anaconda3/envs/env_tfmodnet/lib/python3.8/site-packages/nvidia/cuda_nvcc:/home/ucl/modl/rgouvea/anaconda3/envs/env_tfmodnet/lib/python3.8/site-packages/nvidia/cuda_cupti/lib:/home/ucl/modl/rgouvea/anaconda3/envs/py3.8/lib/python3.8/site-packages/tensorrt:/home/ucl/modl/rgouvea/anaconda3/envs/env_tfmodnet/lib:/home/ucl/modl/rgouvea/anaconda3/envs/env_tfmodnet/lib/python3.8/site-packages/nvidia/cusolver/lib:/auto/home/users/r/g/rgouvea/anaconda3/envs/env_tfmodnet/lib:/auto/home/users/r/g/rgouvea/anaconda3/envs/env_tfmodnet/lib/python3.8/site-packages/nvidia/cuda_runtime/lib:/auto/home/users/r/g/rgouvea/anaconda3/envs/env_tfmodnet/lib/python3.8/site-packages/nvidia/cublas/lib::\n",
      "2024-09-19 20:36:29.900126: W tensorflow/stream_executor/cuda/cuda_driver.cc:263] failed call to cuInit: UNKNOWN ERROR (303)\n",
      "2024-09-19 20:36:29.900150: I tensorflow/stream_executor/cuda/cuda_diagnostics.cc:156] kernel driver does not appear to be running on this host (mbackf2.cism.ucl.ac.be): /proc/driver/nvidia/version does not exist\n",
      "2024-09-19 20:36:29.900442: I tensorflow/core/platform/cpu_feature_guard.cc:193] This TensorFlow binary is optimized with oneAPI Deep Neural Network Library (oneDNN) to use the following CPU instructions in performance-critical operations:  AVX2 AVX512F FMA\n",
      "To enable them in other operations, rebuild TensorFlow with the appropriate compiler flags.\n"
     ]
    },
    {
     "name": "stdout",
     "output_type": "stream",
     "text": [
      "2024-09-19 20:36:30,840 - modnet - INFO - Targets:\n",
      "2024-09-19 20:36:30,841 - modnet - INFO - 1)refractive_index: regression\n",
      "21/21 [==============================] - 0s 2ms/step\n"
     ]
    },
    {
     "name": "stderr",
     "output_type": "stream",
     "text": [
      "2024-09-19 20:36:33.069154: W tensorflow/stream_executor/platform/default/dso_loader.cc:64] Could not load dynamic library 'libcuda.so.1'; dlerror: libcuda.so.1: cannot open shared object file: No such file or directory; LD_LIBRARY_PATH: /home/ucl/modl/rgouvea/anaconda3/pkgs/cudatoolkit-11.2.2-hbe64b41_10/lib/:/home/ucl/modl/rgouvea/anaconda3/envs/env_tfmodnet/lib/python3.8/site-packages/nvidia/cuda_nvcc/:/home/ucl/modl/rgouvea/anaconda3/envs/env_tfmodnet/lib/python3.8/site-packages/nvidia/cuda_cupti/lib/:/home/ucl/modl/rgouvea/anaconda3/envs/py3.8/lib/python3.8/site-packages/tensorrt/:/home/ucl/modl/rgouvea/anaconda3/envs/env_tfmodnet/lib:/home/ucl/modl/rgouvea/anaconda3/envs/env_tfmodnet/lib/python3.8/site-packages/nvidia/cusolver/lib/:/auto/home/users/r/g/rgouvea/anaconda3/envs/env_tfmodnet/lib:/auto/home/users/r/g/rgouvea/anaconda3/envs/env_tfmodnet/lib/python3.8/site-packages/nvidia/cuda_runtime/lib/:/auto/home/users/r/g/rgouvea/anaconda3/envs/env_tfmodnet/lib/python3.8/site-packages/nvidia/cublas/lib/:/opt/sw/arch/easybuild/2020b/software/FFTW/3.3.8-gompic-2020b/lib:/opt/sw/arch/easybuild/2020b/software/OpenMPI/4.0.5-gcccuda-2020b/lib:/opt/sw/arch/easybuild/2020b/software/PMIx/3.1.5-GCCcore-10.2.0/lib:/opt/sw/arch/easybuild/2020b/software/libfabric/1.11.0-GCCcore-10.2.0/lib:/opt/sw/arch/easybuild/2020b/software/UCX/1.9.0-GCCcore-10.2.0-CUDA-11.1.1/lib:/opt/sw/arch/easybuild/2020b/software/GDRCopy/2.1-GCCcore-10.2.0-CUDA-11.1.1/lib:/opt/sw/arch/easybuild/2020b/software/Check/0.15.2-GCCcore-10.2.0/lib:/opt/sw/arch/easybuild/2020b/software/libevent/2.1.12-GCCcore-10.2.0/lib:/opt/sw/arch/easybuild/2020b/software/hwloc/2.2.0-GCCcore-10.2.0/lib:/opt/sw/arch/easybuild/2020b/software/libpciaccess/0.16-GCCcore-10.2.0/lib:/opt/sw/arch/easybuild/2020b/software/libxml2/2.9.10-GCCcore-10.2.0/lib:/opt/sw/arch/easybuild/2020b/software/XZ/5.2.5-GCCcore-10.2.0/lib:/opt/sw/arch/easybuild/2020b/software/numactl/2.0.13-GCCcore-10.2.0/lib:/opt/sw/arch/easybuild/2020b/software/CUDAcore/11.1.1/nvvm/lib64:/opt/sw/arch/easybuild/2020b/software/CUDAcore/11.1.1/extras/CUPTI/lib64:/opt/sw/arch/easybuild/2020b/software/CUDAcore/11.1.1/lib:/opt/sw/arch/easybuild/2020b/software/binutils/2.35-GCCcore-10.2.0/lib:/opt/sw/arch/easybuild/2020b/software/zlib/1.2.11-GCCcore-10.2.0/lib:/opt/sw/arch/easybuild/2020b/software/GCCcore/10.2.0/lib64:/home/ucl/modl/rgouvea/anaconda3/pkgs/cudatoolkit-11.2.2-hbe64b41_10/lib:/home/ucl/modl/rgouvea/anaconda3/envs/env_tfmodnet/lib/python3.8/site-packages/nvidia/cuda_nvcc:/home/ucl/modl/rgouvea/anaconda3/envs/env_tfmodnet/lib/python3.8/site-packages/nvidia/cuda_cupti/lib:/home/ucl/modl/rgouvea/anaconda3/envs/py3.8/lib/python3.8/site-packages/tensorrt:/home/ucl/modl/rgouvea/anaconda3/envs/env_tfmodnet/lib:/home/ucl/modl/rgouvea/anaconda3/envs/env_tfmodnet/lib/python3.8/site-packages/nvidia/cusolver/lib:/auto/home/users/r/g/rgouvea/anaconda3/envs/env_tfmodnet/lib:/auto/home/users/r/g/rgouvea/anaconda3/envs/env_tfmodnet/lib/python3.8/site-packages/nvidia/cuda_runtime/lib:/auto/home/users/r/g/rgouvea/anaconda3/envs/env_tfmodnet/lib/python3.8/site-packages/nvidia/cublas/lib::\n",
      "2024-09-19 20:36:33.069204: W tensorflow/stream_executor/cuda/cuda_driver.cc:263] failed call to cuInit: UNKNOWN ERROR (303)\n",
      "2024-09-19 20:36:33.069240: I tensorflow/stream_executor/cuda/cuda_diagnostics.cc:156] kernel driver does not appear to be running on this host (mbackf2.cism.ucl.ac.be): /proc/driver/nvidia/version does not exist\n",
      "2024-09-19 20:36:33.069598: I tensorflow/core/platform/cpu_feature_guard.cc:193] This TensorFlow binary is optimized with oneAPI Deep Neural Network Library (oneDNN) to use the following CPU instructions in performance-critical operations:  AVX2 AVX512F FMA\n",
      "To enable them in other operations, rebuild TensorFlow with the appropriate compiler flags.\n"
     ]
    },
    {
     "name": "stdout",
     "output_type": "stream",
     "text": [
      "2024-09-19 20:36:33,240 - modnet - INFO - Multiprocessing on 48 cores. Total of 48 cores available.\n",
      "2024-09-19 20:36:33,245 - modnet - INFO - Generation number 0\n"
     ]
    },
    {
     "name": "stderr",
     "output_type": "stream",
     "text": [
      "  0%|          | 0/10 [00:00<?, ?it/s]"
     ]
    },
    {
     "name": "stdout",
     "output_type": "stream",
     "text": [
      "21/21 [==============================] - 0s 2ms/step\n"
     ]
    },
    {
     "name": "stderr",
     "output_type": "stream",
     "text": [
      "2024-09-19 20:36:39.868805: E tensorflow/stream_executor/cuda/cuda_blas.cc:2981] Unable to register cuBLAS factory: Attempting to register factory for plugin cuBLAS when one has already been registered\n"
     ]
    },
    {
     "name": "stdout",
     "output_type": "stream",
     "text": [
      "21/21 [==============================] - 0s 2ms/step\n",
      "21/21 [==============================] - 0s 1ms/step\n"
     ]
    },
    {
     "name": "stderr",
     "output_type": "stream",
     "text": [
      "2024-09-19 20:36:43.486267: E tensorflow/stream_executor/cuda/cuda_blas.cc:2981] Unable to register cuBLAS factory: Attempting to register factory for plugin cuBLAS when one has already been registered\n",
      "2024-09-19 20:36:46.662976: E tensorflow/stream_executor/cuda/cuda_blas.cc:2981] Unable to register cuBLAS factory: Attempting to register factory for plugin cuBLAS when one has already been registered\n"
     ]
    },
    {
     "name": "stdout",
     "output_type": "stream",
     "text": [
      "21/21 [==============================] - 0s 2ms/step\n",
      "21/21 [==============================] - 0s 1ms/step\n"
     ]
    },
    {
     "name": "stderr",
     "output_type": "stream",
     "text": [
      "2024-09-19 20:36:49.733543: E tensorflow/stream_executor/cuda/cuda_blas.cc:2981] Unable to register cuBLAS factory: Attempting to register factory for plugin cuBLAS when one has already been registered\n",
      "2024-09-19 20:36:52.031079: E tensorflow/stream_executor/cuda/cuda_blas.cc:2981] Unable to register cuBLAS factory: Attempting to register factory for plugin cuBLAS when one has already been registered\n",
      "2024-09-19 20:36:54.433272: E tensorflow/stream_executor/cuda/cuda_blas.cc:2981] Unable to register cuBLAS factory: Attempting to register factory for plugin cuBLAS when one has already been registered\n",
      "2024-09-19 20:36:57.526509: E tensorflow/stream_executor/cuda/cuda_blas.cc:2981] Unable to register cuBLAS factory: Attempting to register factory for plugin cuBLAS when one has already been registered\n",
      "2024-09-19 20:37:00.825248: E tensorflow/stream_executor/cuda/cuda_blas.cc:2981] Unable to register cuBLAS factory: Attempting to register factory for plugin cuBLAS when one has already been registered\n"
     ]
    },
    {
     "name": "stdout",
     "output_type": "stream",
     "text": [
      "11/11 [==============================] - 0s 1ms/step\n"
     ]
    },
    {
     "name": "stderr",
     "output_type": "stream",
     "text": [
      " 10%|█         | 1/10 [00:28<04:17, 28.63s/it]2024-09-19 20:37:04.213228: E tensorflow/stream_executor/cuda/cuda_blas.cc:2981] Unable to register cuBLAS factory: Attempting to register factory for plugin cuBLAS when one has already been registered\n",
      "2024-09-19 20:37:07.684538: E tensorflow/stream_executor/cuda/cuda_blas.cc:2981] Unable to register cuBLAS factory: Attempting to register factory for plugin cuBLAS when one has already been registered\n",
      " 20%|██        | 2/10 [00:46<02:59, 22.46s/it]"
     ]
    },
    {
     "name": "stdout",
     "output_type": "stream",
     "text": [
      "11/11 [==============================] - 0s 2ms/step\n"
     ]
    },
    {
     "name": "stderr",
     "output_type": "stream",
     "text": [
      " 30%|███       | 3/10 [00:53<01:45, 15.12s/it]"
     ]
    },
    {
     "name": "stdout",
     "output_type": "stream",
     "text": [
      "11/11 [==============================] - 0s 2ms/step\n"
     ]
    },
    {
     "name": "stderr",
     "output_type": "stream",
     "text": [
      " 40%|████      | 4/10 [00:56<01:02, 10.46s/it]"
     ]
    },
    {
     "name": "stdout",
     "output_type": "stream",
     "text": [
      "11/11 [==============================] - 0s 1ms/step\n"
     ]
    },
    {
     "name": "stderr",
     "output_type": "stream",
     "text": [
      " 50%|█████     | 5/10 [01:03<00:45,  9.19s/it]"
     ]
    },
    {
     "name": "stdout",
     "output_type": "stream",
     "text": [
      "11/11 [==============================] - 0s 2ms/step\n"
     ]
    },
    {
     "name": "stderr",
     "output_type": "stream",
     "text": [
      " 60%|██████    | 6/10 [01:08<00:31,  7.75s/it]"
     ]
    },
    {
     "name": "stdout",
     "output_type": "stream",
     "text": [
      "11/11 [==============================] - 0s 2ms/step\n"
     ]
    },
    {
     "name": "stderr",
     "output_type": "stream",
     "text": [
      " 70%|███████   | 7/10 [01:11<00:18,  6.29s/it]"
     ]
    },
    {
     "name": "stdout",
     "output_type": "stream",
     "text": [
      "11/11 [==============================] - 0s 1ms/step\n"
     ]
    },
    {
     "name": "stderr",
     "output_type": "stream",
     "text": [
      " 80%|████████  | 8/10 [01:26<00:18,  9.06s/it]"
     ]
    },
    {
     "name": "stdout",
     "output_type": "stream",
     "text": [
      "11/11 [==============================] - 0s 1ms/step\n",
      "11/11 [==============================] - 0s 983us/step\n"
     ]
    },
    {
     "name": "stderr",
     "output_type": "stream",
     "text": [
      "100%|██████████| 10/10 [01:34<00:00,  9.50s/it]"
     ]
    },
    {
     "name": "stdout",
     "output_type": "stream",
     "text": [
      "11/11 [==============================] - 0s 1ms/step\n",
      "2024-09-19 20:38:10,269 - modnet - INFO - Loss per individual: ind 0: 0.070 \tind 1: 0.061 \tind 2: 0.056 \tind 3: 0.058 \tind 4: 0.058 \tind 5: 0.068 \tind 6: 0.079 \tind 7: 0.068 \tind 8: 0.062 \tind 9: 0.294 \t\n",
      "2024-09-19 20:38:10,270 - modnet - INFO - Generation number 1\n"
     ]
    },
    {
     "name": "stderr",
     "output_type": "stream",
     "text": [
      "\n",
      "  0%|          | 0/10 [00:00<?, ?it/s]2024-09-19 20:38:13.797396: E tensorflow/stream_executor/cuda/cuda_blas.cc:2981] Unable to register cuBLAS factory: Attempting to register factory for plugin cuBLAS when one has already been registered\n",
      "2024-09-19 20:38:15.931298: E tensorflow/stream_executor/cuda/cuda_blas.cc:2981] Unable to register cuBLAS factory: Attempting to register factory for plugin cuBLAS when one has already been registered\n",
      "2024-09-19 20:38:18.029987: E tensorflow/stream_executor/cuda/cuda_blas.cc:2981] Unable to register cuBLAS factory: Attempting to register factory for plugin cuBLAS when one has already been registered\n",
      "2024-09-19 20:38:20.147244: E tensorflow/stream_executor/cuda/cuda_blas.cc:2981] Unable to register cuBLAS factory: Attempting to register factory for plugin cuBLAS when one has already been registered\n",
      "2024-09-19 20:38:22.300623: E tensorflow/stream_executor/cuda/cuda_blas.cc:2981] Unable to register cuBLAS factory: Attempting to register factory for plugin cuBLAS when one has already been registered\n",
      "2024-09-19 20:38:24.948877: E tensorflow/stream_executor/cuda/cuda_blas.cc:2981] Unable to register cuBLAS factory: Attempting to register factory for plugin cuBLAS when one has already been registered\n",
      "2024-09-19 20:38:28.069453: E tensorflow/stream_executor/cuda/cuda_blas.cc:2981] Unable to register cuBLAS factory: Attempting to register factory for plugin cuBLAS when one has already been registered\n",
      "2024-09-19 20:38:31.317741: E tensorflow/stream_executor/cuda/cuda_blas.cc:2981] Unable to register cuBLAS factory: Attempting to register factory for plugin cuBLAS when one has already been registered\n",
      "2024-09-19 20:38:34.765305: E tensorflow/stream_executor/cuda/cuda_blas.cc:2981] Unable to register cuBLAS factory: Attempting to register factory for plugin cuBLAS when one has already been registered\n"
     ]
    },
    {
     "name": "stdout",
     "output_type": "stream",
     "text": [
      "11/11 [==============================] - 0s 1ms/step\n"
     ]
    },
    {
     "name": "stderr",
     "output_type": "stream",
     "text": [
      " 10%|█         | 1/10 [00:26<03:58, 26.52s/it]2024-09-19 20:38:40.299063: E tensorflow/stream_executor/cuda/cuda_blas.cc:2981] Unable to register cuBLAS factory: Attempting to register factory for plugin cuBLAS when one has already been registered\n",
      " 20%|██        | 2/10 [00:36<02:16, 17.01s/it]"
     ]
    },
    {
     "name": "stdout",
     "output_type": "stream",
     "text": [
      "11/11 [==============================] - 0s 1ms/step\n"
     ]
    },
    {
     "name": "stderr",
     "output_type": "stream",
     "text": [
      " 30%|███       | 3/10 [00:41<01:19, 11.29s/it]"
     ]
    },
    {
     "name": "stdout",
     "output_type": "stream",
     "text": [
      "11/11 [==============================] - 0s 2ms/step\n"
     ]
    },
    {
     "name": "stderr",
     "output_type": "stream",
     "text": [
      " 40%|████      | 4/10 [00:56<01:16, 12.74s/it]"
     ]
    },
    {
     "name": "stdout",
     "output_type": "stream",
     "text": [
      "11/11 [==============================] - 0s 2ms/step\n"
     ]
    },
    {
     "name": "stderr",
     "output_type": "stream",
     "text": [
      " 50%|█████     | 5/10 [00:58<00:44,  8.80s/it]"
     ]
    },
    {
     "name": "stdout",
     "output_type": "stream",
     "text": [
      "11/11 [==============================] - 0s 2ms/step\n"
     ]
    },
    {
     "name": "stderr",
     "output_type": "stream",
     "text": [
      " 60%|██████    | 6/10 [01:04<00:31,  7.90s/it]"
     ]
    },
    {
     "name": "stdout",
     "output_type": "stream",
     "text": [
      "11/11 [==============================] - 0s 2ms/step\n"
     ]
    },
    {
     "name": "stderr",
     "output_type": "stream",
     "text": [
      " 70%|███████   | 7/10 [01:19<00:30, 10.27s/it]"
     ]
    },
    {
     "name": "stdout",
     "output_type": "stream",
     "text": [
      "11/11 [==============================] - 0s 2ms/step\n"
     ]
    },
    {
     "name": "stderr",
     "output_type": "stream",
     "text": [
      " 80%|████████  | 8/10 [01:20<00:14,  7.21s/it]"
     ]
    },
    {
     "name": "stdout",
     "output_type": "stream",
     "text": [
      "11/11 [==============================] - 0s 2ms/step\n"
     ]
    },
    {
     "name": "stderr",
     "output_type": "stream",
     "text": [
      " 90%|█████████ | 9/10 [01:37<00:10, 10.30s/it]"
     ]
    },
    {
     "name": "stdout",
     "output_type": "stream",
     "text": [
      "11/11 [==============================] - 0s 2ms/step\n"
     ]
    },
    {
     "name": "stderr",
     "output_type": "stream",
     "text": [
      "100%|██████████| 10/10 [01:42<00:00, 10.23s/it]"
     ]
    },
    {
     "name": "stdout",
     "output_type": "stream",
     "text": [
      "11/11 [==============================] - 0s 1ms/step\n",
      "2024-09-19 20:39:53,555 - modnet - INFO - Loss per individual: ind 0: 0.057 \tind 1: 0.067 \tind 2: 0.070 \tind 3: 0.058 \tind 4: 0.058 \tind 5: 0.067 \tind 6: 0.062 \tind 7: 0.067 \tind 8: 0.073 \tind 9: 0.065 \t\n",
      "2024-09-19 20:39:53,556 - modnet - INFO - Generation number 2\n"
     ]
    },
    {
     "name": "stderr",
     "output_type": "stream",
     "text": [
      "\n",
      "  0%|          | 0/10 [00:00<?, ?it/s]2024-09-19 20:39:57.195298: E tensorflow/stream_executor/cuda/cuda_blas.cc:2981] Unable to register cuBLAS factory: Attempting to register factory for plugin cuBLAS when one has already been registered\n",
      "2024-09-19 20:39:59.452189: E tensorflow/stream_executor/cuda/cuda_blas.cc:2981] Unable to register cuBLAS factory: Attempting to register factory for plugin cuBLAS when one has already been registered\n",
      "2024-09-19 20:40:01.670576: E tensorflow/stream_executor/cuda/cuda_blas.cc:2981] Unable to register cuBLAS factory: Attempting to register factory for plugin cuBLAS when one has already been registered\n",
      "2024-09-19 20:40:03.848125: E tensorflow/stream_executor/cuda/cuda_blas.cc:2981] Unable to register cuBLAS factory: Attempting to register factory for plugin cuBLAS when one has already been registered\n",
      "2024-09-19 20:40:06.184066: E tensorflow/stream_executor/cuda/cuda_blas.cc:2981] Unable to register cuBLAS factory: Attempting to register factory for plugin cuBLAS when one has already been registered\n",
      "2024-09-19 20:40:09.133140: E tensorflow/stream_executor/cuda/cuda_blas.cc:2981] Unable to register cuBLAS factory: Attempting to register factory for plugin cuBLAS when one has already been registered\n",
      "2024-09-19 20:40:11.923961: E tensorflow/stream_executor/cuda/cuda_blas.cc:2981] Unable to register cuBLAS factory: Attempting to register factory for plugin cuBLAS when one has already been registered\n",
      "2024-09-19 20:40:14.964916: E tensorflow/stream_executor/cuda/cuda_blas.cc:2981] Unable to register cuBLAS factory: Attempting to register factory for plugin cuBLAS when one has already been registered\n",
      "2024-09-19 20:40:18.265326: E tensorflow/stream_executor/cuda/cuda_blas.cc:2981] Unable to register cuBLAS factory: Attempting to register factory for plugin cuBLAS when one has already been registered\n",
      "2024-09-19 20:40:21.550655: E tensorflow/stream_executor/cuda/cuda_blas.cc:2981] Unable to register cuBLAS factory: Attempting to register factory for plugin cuBLAS when one has already been registered\n",
      " 10%|█         | 1/10 [00:41<06:14, 41.61s/it]"
     ]
    },
    {
     "name": "stdout",
     "output_type": "stream",
     "text": [
      "11/11 [==============================] - 0s 2ms/step\n"
     ]
    },
    {
     "name": "stderr",
     "output_type": "stream",
     "text": [
      " 20%|██        | 2/10 [00:45<02:37, 19.67s/it]"
     ]
    },
    {
     "name": "stdout",
     "output_type": "stream",
     "text": [
      "11/11 [==============================] - 0s 2ms/step\n"
     ]
    },
    {
     "name": "stderr",
     "output_type": "stream",
     "text": [
      " 30%|███       | 3/10 [00:49<01:27, 12.49s/it]"
     ]
    },
    {
     "name": "stdout",
     "output_type": "stream",
     "text": [
      "11/11 [==============================] - 0s 1ms/step\n"
     ]
    },
    {
     "name": "stderr",
     "output_type": "stream",
     "text": [
      " 40%|████      | 4/10 [00:54<00:56,  9.34s/it]"
     ]
    },
    {
     "name": "stdout",
     "output_type": "stream",
     "text": [
      "11/11 [==============================] - 0s 1ms/step\n"
     ]
    },
    {
     "name": "stderr",
     "output_type": "stream",
     "text": [
      " 50%|█████     | 5/10 [00:54<00:30,  6.20s/it]"
     ]
    },
    {
     "name": "stdout",
     "output_type": "stream",
     "text": [
      "11/11 [==============================] - 0s 1ms/step\n"
     ]
    },
    {
     "name": "stderr",
     "output_type": "stream",
     "text": [
      " 60%|██████    | 6/10 [00:58<00:21,  5.31s/it]"
     ]
    },
    {
     "name": "stdout",
     "output_type": "stream",
     "text": [
      "11/11 [==============================] - 0s 2ms/step\n"
     ]
    },
    {
     "name": "stderr",
     "output_type": "stream",
     "text": [
      " 70%|███████   | 7/10 [01:12<00:24,  8.20s/it]"
     ]
    },
    {
     "name": "stdout",
     "output_type": "stream",
     "text": [
      "11/11 [==============================] - 0s 2ms/step\n"
     ]
    },
    {
     "name": "stderr",
     "output_type": "stream",
     "text": [
      " 80%|████████  | 8/10 [01:26<00:20, 10.04s/it]"
     ]
    },
    {
     "name": "stdout",
     "output_type": "stream",
     "text": [
      "11/11 [==============================] - 0s 2ms/step\n"
     ]
    },
    {
     "name": "stderr",
     "output_type": "stream",
     "text": [
      " 90%|█████████ | 9/10 [01:39<00:11, 11.05s/it]"
     ]
    },
    {
     "name": "stdout",
     "output_type": "stream",
     "text": [
      "11/11 [==============================] - 0s 1ms/step\n"
     ]
    },
    {
     "name": "stderr",
     "output_type": "stream",
     "text": [
      "100%|██████████| 10/10 [01:53<00:00, 11.32s/it]"
     ]
    },
    {
     "name": "stdout",
     "output_type": "stream",
     "text": [
      "11/11 [==============================] - 0s 2ms/step\n",
      "2024-09-19 20:41:47,779 - modnet - INFO - Loss per individual: ind 0: 0.057 \tind 1: 0.070 \tind 2: 0.060 \tind 3: 0.054 \tind 4: 0.058 \tind 5: 0.051 \tind 6: 0.054 \tind 7: 0.062 \tind 8: 0.050 \tind 9: 0.079 \t\n",
      "2024-09-19 20:41:47,783 - modnet - INFO - Generation number 3\n"
     ]
    },
    {
     "name": "stderr",
     "output_type": "stream",
     "text": [
      "\n",
      "  0%|          | 0/10 [00:00<?, ?it/s]2024-09-19 20:41:51.256551: E tensorflow/stream_executor/cuda/cuda_blas.cc:2981] Unable to register cuBLAS factory: Attempting to register factory for plugin cuBLAS when one has already been registered\n",
      "2024-09-19 20:41:53.280920: E tensorflow/stream_executor/cuda/cuda_blas.cc:2981] Unable to register cuBLAS factory: Attempting to register factory for plugin cuBLAS when one has already been registered\n",
      "2024-09-19 20:41:55.348102: E tensorflow/stream_executor/cuda/cuda_blas.cc:2981] Unable to register cuBLAS factory: Attempting to register factory for plugin cuBLAS when one has already been registered\n",
      "2024-09-19 20:41:57.463621: E tensorflow/stream_executor/cuda/cuda_blas.cc:2981] Unable to register cuBLAS factory: Attempting to register factory for plugin cuBLAS when one has already been registered\n",
      "2024-09-19 20:41:59.849153: E tensorflow/stream_executor/cuda/cuda_blas.cc:2981] Unable to register cuBLAS factory: Attempting to register factory for plugin cuBLAS when one has already been registered\n",
      "2024-09-19 20:42:02.370952: E tensorflow/stream_executor/cuda/cuda_blas.cc:2981] Unable to register cuBLAS factory: Attempting to register factory for plugin cuBLAS when one has already been registered\n",
      "2024-09-19 20:42:05.191684: E tensorflow/stream_executor/cuda/cuda_blas.cc:2981] Unable to register cuBLAS factory: Attempting to register factory for plugin cuBLAS when one has already been registered\n",
      "2024-09-19 20:42:08.270381: E tensorflow/stream_executor/cuda/cuda_blas.cc:2981] Unable to register cuBLAS factory: Attempting to register factory for plugin cuBLAS when one has already been registered\n",
      "2024-09-19 20:42:11.762248: E tensorflow/stream_executor/cuda/cuda_blas.cc:2981] Unable to register cuBLAS factory: Attempting to register factory for plugin cuBLAS when one has already been registered\n",
      "2024-09-19 20:42:15.354122: E tensorflow/stream_executor/cuda/cuda_blas.cc:2981] Unable to register cuBLAS factory: Attempting to register factory for plugin cuBLAS when one has already been registered\n",
      " 10%|█         | 1/10 [00:33<05:03, 33.77s/it]"
     ]
    },
    {
     "name": "stdout",
     "output_type": "stream",
     "text": [
      "11/11 [==============================] - 0s 2ms/step\n"
     ]
    },
    {
     "name": "stderr",
     "output_type": "stream",
     "text": [
      " 20%|██        | 2/10 [00:42<02:34, 19.32s/it]"
     ]
    },
    {
     "name": "stdout",
     "output_type": "stream",
     "text": [
      "11/11 [==============================] - 0s 2ms/step\n",
      "11/11 [==============================] - 0s 2ms/step\n"
     ]
    },
    {
     "name": "stderr",
     "output_type": "stream",
     "text": [
      " 40%|████      | 4/10 [00:47<00:51,  8.64s/it]"
     ]
    },
    {
     "name": "stdout",
     "output_type": "stream",
     "text": [
      "11/11 [==============================] - 0s 2ms/step\n"
     ]
    },
    {
     "name": "stderr",
     "output_type": "stream",
     "text": [
      " 50%|█████     | 5/10 [00:54<00:39,  7.97s/it]"
     ]
    },
    {
     "name": "stdout",
     "output_type": "stream",
     "text": [
      "11/11 [==============================] - 0s 2ms/step\n"
     ]
    },
    {
     "name": "stderr",
     "output_type": "stream",
     "text": [
      " 60%|██████    | 6/10 [01:08<00:40, 10.02s/it]"
     ]
    },
    {
     "name": "stdout",
     "output_type": "stream",
     "text": [
      "11/11 [==============================] - 0s 2ms/step\n"
     ]
    },
    {
     "name": "stderr",
     "output_type": "stream",
     "text": [
      " 70%|███████   | 7/10 [01:11<00:23,  7.72s/it]"
     ]
    },
    {
     "name": "stdout",
     "output_type": "stream",
     "text": [
      "11/11 [==============================] - 0s 1ms/step\n"
     ]
    },
    {
     "name": "stderr",
     "output_type": "stream",
     "text": [
      " 80%|████████  | 8/10 [01:13<00:12,  6.10s/it]"
     ]
    },
    {
     "name": "stdout",
     "output_type": "stream",
     "text": [
      "11/11 [==============================] - 0s 2ms/step\n"
     ]
    },
    {
     "name": "stderr",
     "output_type": "stream",
     "text": [
      " 90%|█████████ | 9/10 [01:21<00:06,  6.63s/it]"
     ]
    },
    {
     "name": "stdout",
     "output_type": "stream",
     "text": [
      "11/11 [==============================] - 0s 1ms/step\n"
     ]
    },
    {
     "name": "stderr",
     "output_type": "stream",
     "text": [
      "100%|██████████| 10/10 [01:42<00:00, 10.27s/it]"
     ]
    },
    {
     "name": "stdout",
     "output_type": "stream",
     "text": [
      "11/11 [==============================] - 0s 2ms/step\n",
      "2024-09-19 20:43:31,638 - modnet - INFO - Loss per individual: ind 0: 0.051 \tind 1: 0.071 \tind 2: 0.050 \tind 3: 0.057 \tind 4: 0.055 \tind 5: 0.062 \tind 6: 0.069 \tind 7: 0.054 \tind 8: 0.047 \tind 9: 0.057 \t\n",
      "2024-09-19 20:43:31,643 - modnet - INFO - Generation number 4\n"
     ]
    },
    {
     "name": "stderr",
     "output_type": "stream",
     "text": [
      "\n",
      "  0%|          | 0/10 [00:00<?, ?it/s]2024-09-19 20:43:35.034986: E tensorflow/stream_executor/cuda/cuda_blas.cc:2981] Unable to register cuBLAS factory: Attempting to register factory for plugin cuBLAS when one has already been registered\n",
      "2024-09-19 20:43:37.074967: E tensorflow/stream_executor/cuda/cuda_blas.cc:2981] Unable to register cuBLAS factory: Attempting to register factory for plugin cuBLAS when one has already been registered\n",
      "2024-09-19 20:43:39.105518: E tensorflow/stream_executor/cuda/cuda_blas.cc:2981] Unable to register cuBLAS factory: Attempting to register factory for plugin cuBLAS when one has already been registered\n",
      "2024-09-19 20:43:41.236438: E tensorflow/stream_executor/cuda/cuda_blas.cc:2981] Unable to register cuBLAS factory: Attempting to register factory for plugin cuBLAS when one has already been registered\n",
      "2024-09-19 20:43:43.549204: E tensorflow/stream_executor/cuda/cuda_blas.cc:2981] Unable to register cuBLAS factory: Attempting to register factory for plugin cuBLAS when one has already been registered\n",
      "2024-09-19 20:43:46.301214: E tensorflow/stream_executor/cuda/cuda_blas.cc:2981] Unable to register cuBLAS factory: Attempting to register factory for plugin cuBLAS when one has already been registered\n",
      "2024-09-19 20:43:50.658371: E tensorflow/stream_executor/cuda/cuda_blas.cc:2981] Unable to register cuBLAS factory: Attempting to register factory for plugin cuBLAS when one has already been registered\n",
      "2024-09-19 20:43:53.864289: E tensorflow/stream_executor/cuda/cuda_blas.cc:2981] Unable to register cuBLAS factory: Attempting to register factory for plugin cuBLAS when one has already been registered\n"
     ]
    },
    {
     "name": "stdout",
     "output_type": "stream",
     "text": [
      "11/11 [==============================] - 0s 3ms/step\n"
     ]
    },
    {
     "name": "stderr",
     "output_type": "stream",
     "text": [
      " 20%|██        | 2/10 [00:37<02:06, 15.76s/it]"
     ]
    },
    {
     "name": "stdout",
     "output_type": "stream",
     "text": [
      "11/11 [==============================] - 0s 2ms/step\n"
     ]
    },
    {
     "name": "stderr",
     "output_type": "stream",
     "text": [
      " 30%|███       | 3/10 [00:49<01:36, 13.74s/it]"
     ]
    },
    {
     "name": "stdout",
     "output_type": "stream",
     "text": [
      "11/11 [==============================] - 0s 1ms/step\n"
     ]
    },
    {
     "name": "stderr",
     "output_type": "stream",
     "text": [
      " 40%|████      | 4/10 [00:56<01:07, 11.31s/it]"
     ]
    },
    {
     "name": "stdout",
     "output_type": "stream",
     "text": [
      "11/11 [==============================] - 0s 2ms/step\n"
     ]
    },
    {
     "name": "stderr",
     "output_type": "stream",
     "text": [
      " 50%|█████     | 5/10 [00:59<00:41,  8.27s/it]"
     ]
    },
    {
     "name": "stdout",
     "output_type": "stream",
     "text": [
      "11/11 [==============================] - 0s 2ms/step\n"
     ]
    },
    {
     "name": "stderr",
     "output_type": "stream",
     "text": [
      " 60%|██████    | 6/10 [01:00<00:22,  5.72s/it]"
     ]
    },
    {
     "name": "stdout",
     "output_type": "stream",
     "text": [
      "11/11 [==============================] - 0s 2ms/step\n"
     ]
    },
    {
     "name": "stderr",
     "output_type": "stream",
     "text": [
      " 70%|███████   | 7/10 [01:03<00:14,  4.99s/it]"
     ]
    },
    {
     "name": "stdout",
     "output_type": "stream",
     "text": [
      "11/11 [==============================] - 0s 2ms/step\n"
     ]
    },
    {
     "name": "stderr",
     "output_type": "stream",
     "text": [
      " 80%|████████  | 8/10 [01:04<00:07,  3.76s/it]"
     ]
    },
    {
     "name": "stdout",
     "output_type": "stream",
     "text": [
      "11/11 [==============================] - 0s 2ms/step\n"
     ]
    },
    {
     "name": "stderr",
     "output_type": "stream",
     "text": [
      " 90%|█████████ | 9/10 [01:07<00:03,  3.35s/it]"
     ]
    },
    {
     "name": "stdout",
     "output_type": "stream",
     "text": [
      "11/11 [==============================] - 0s 1ms/step\n"
     ]
    },
    {
     "name": "stderr",
     "output_type": "stream",
     "text": [
      "100%|██████████| 10/10 [01:20<00:00,  8.00s/it]"
     ]
    },
    {
     "name": "stdout",
     "output_type": "stream",
     "text": [
      "11/11 [==============================] - 0s 2ms/step\n",
      "2024-09-19 20:44:52,724 - modnet - INFO - Loss per individual: ind 0: 0.067 \tind 1: 0.068 \tind 2: 0.069 \tind 3: 0.086 \tind 4: 0.309 \tind 5: 0.075 \tind 6: 0.081 \tind 7: 0.069 \tind 8: 0.076 \tind 9: 0.072 \t\n"
     ]
    },
    {
     "name": "stderr",
     "output_type": "stream",
     "text": [
      "\n"
     ]
    },
    {
     "name": "stdout",
     "output_type": "stream",
     "text": [
      "2024-09-19 20:44:55,316 - modnet - INFO - Refit...\n",
      "2024-09-19 20:44:55,427 - modnet - INFO - Generating bootstrap data...\n"
     ]
    },
    {
     "name": "stderr",
     "output_type": "stream",
     "text": [
      "  0%|          | 0/3 [00:00<?, ?it/s]2024-09-19 20:45:02.505353: I tensorflow/core/platform/cpu_feature_guard.cc:193] This TensorFlow binary is optimized with oneAPI Deep Neural Network Library (oneDNN) to use the following CPU instructions in performance-critical operations:  AVX2 AVX512F FMA\n",
      "To enable them in other operations, rebuild TensorFlow with the appropriate compiler flags.\n",
      "2024-09-19 20:45:02.708452: E tensorflow/stream_executor/cuda/cuda_blas.cc:2981] Unable to register cuBLAS factory: Attempting to register factory for plugin cuBLAS when one has already been registered\n",
      "2024-09-19 20:45:04.086005: I tensorflow/core/platform/cpu_feature_guard.cc:193] This TensorFlow binary is optimized with oneAPI Deep Neural Network Library (oneDNN) to use the following CPU instructions in performance-critical operations:  AVX2 AVX512F FMA\n",
      "To enable them in other operations, rebuild TensorFlow with the appropriate compiler flags.\n",
      "2024-09-19 20:45:04.274746: E tensorflow/stream_executor/cuda/cuda_blas.cc:2981] Unable to register cuBLAS factory: Attempting to register factory for plugin cuBLAS when one has already been registered\n",
      "2024-09-19 20:45:05.716961: I tensorflow/core/platform/cpu_feature_guard.cc:193] This TensorFlow binary is optimized with oneAPI Deep Neural Network Library (oneDNN) to use the following CPU instructions in performance-critical operations:  AVX2 AVX512F FMA\n",
      "To enable them in other operations, rebuild TensorFlow with the appropriate compiler flags.\n",
      "2024-09-19 20:45:05.889999: E tensorflow/stream_executor/cuda/cuda_blas.cc:2981] Unable to register cuBLAS factory: Attempting to register factory for plugin cuBLAS when one has already been registered\n",
      "2024-09-19 20:45:10.202134: W tensorflow/stream_executor/platform/default/dso_loader.cc:64] Could not load dynamic library 'libcuda.so.1'; dlerror: libcuda.so.1: cannot open shared object file: No such file or directory; LD_LIBRARY_PATH: /home/ucl/modl/rgouvea/anaconda3/pkgs/cudatoolkit-11.2.2-hbe64b41_10/lib/:/home/ucl/modl/rgouvea/anaconda3/envs/env_tfmodnet/lib/python3.8/site-packages/nvidia/cuda_nvcc/:/home/ucl/modl/rgouvea/anaconda3/envs/env_tfmodnet/lib/python3.8/site-packages/nvidia/cuda_cupti/lib/:/home/ucl/modl/rgouvea/anaconda3/envs/py3.8/lib/python3.8/site-packages/tensorrt/:/home/ucl/modl/rgouvea/anaconda3/envs/env_tfmodnet/lib:/home/ucl/modl/rgouvea/anaconda3/envs/env_tfmodnet/lib/python3.8/site-packages/nvidia/cusolver/lib/:/auto/home/users/r/g/rgouvea/anaconda3/envs/env_tfmodnet/lib:/auto/home/users/r/g/rgouvea/anaconda3/envs/env_tfmodnet/lib/python3.8/site-packages/nvidia/cuda_runtime/lib/:/auto/home/users/r/g/rgouvea/anaconda3/envs/env_tfmodnet/lib/python3.8/site-packages/nvidia/cublas/lib/:/opt/sw/arch/easybuild/2020b/software/FFTW/3.3.8-gompic-2020b/lib:/opt/sw/arch/easybuild/2020b/software/OpenMPI/4.0.5-gcccuda-2020b/lib:/opt/sw/arch/easybuild/2020b/software/PMIx/3.1.5-GCCcore-10.2.0/lib:/opt/sw/arch/easybuild/2020b/software/libfabric/1.11.0-GCCcore-10.2.0/lib:/opt/sw/arch/easybuild/2020b/software/UCX/1.9.0-GCCcore-10.2.0-CUDA-11.1.1/lib:/opt/sw/arch/easybuild/2020b/software/GDRCopy/2.1-GCCcore-10.2.0-CUDA-11.1.1/lib:/opt/sw/arch/easybuild/2020b/software/Check/0.15.2-GCCcore-10.2.0/lib:/opt/sw/arch/easybuild/2020b/software/libevent/2.1.12-GCCcore-10.2.0/lib:/opt/sw/arch/easybuild/2020b/software/hwloc/2.2.0-GCCcore-10.2.0/lib:/opt/sw/arch/easybuild/2020b/software/libpciaccess/0.16-GCCcore-10.2.0/lib:/opt/sw/arch/easybuild/2020b/software/libxml2/2.9.10-GCCcore-10.2.0/lib:/opt/sw/arch/easybuild/2020b/software/XZ/5.2.5-GCCcore-10.2.0/lib:/opt/sw/arch/easybuild/2020b/software/numactl/2.0.13-GCCcore-10.2.0/lib:/opt/sw/arch/easybuild/2020b/software/CUDAcore/11.1.1/nvvm/lib64:/opt/sw/arch/easybuild/2020b/software/CUDAcore/11.1.1/extras/CUPTI/lib64:/opt/sw/arch/easybuild/2020b/software/CUDAcore/11.1.1/lib:/opt/sw/arch/easybuild/2020b/software/binutils/2.35-GCCcore-10.2.0/lib:/opt/sw/arch/easybuild/2020b/software/zlib/1.2.11-GCCcore-10.2.0/lib:/opt/sw/arch/easybuild/2020b/software/GCCcore/10.2.0/lib64:/home/ucl/modl/rgouvea/anaconda3/pkgs/cudatoolkit-11.2.2-hbe64b41_10/lib:/home/ucl/modl/rgouvea/anaconda3/envs/env_tfmodnet/lib/python3.8/site-packages/nvidia/cuda_nvcc:/home/ucl/modl/rgouvea/anaconda3/envs/env_tfmodnet/lib/python3.8/site-packages/nvidia/cuda_cupti/lib:/home/ucl/modl/rgouvea/anaconda3/envs/py3.8/lib/python3.8/site-packages/tensorrt:/home/ucl/modl/rgouvea/anaconda3/envs/env_tfmodnet/lib:/home/ucl/modl/rgouvea/anaconda3/envs/env_tfmodnet/lib/python3.8/site-packages/nvidia/cusolver/lib:/auto/home/users/r/g/rgouvea/anaconda3/envs/env_tfmodnet/lib:/auto/home/users/r/g/rgouvea/anaconda3/envs/env_tfmodnet/lib/python3.8/site-packages/nvidia/cuda_runtime/lib:/auto/home/users/r/g/rgouvea/anaconda3/envs/env_tfmodnet/lib/python3.8/site-packages/nvidia/cublas/lib::\n",
      "2024-09-19 20:45:10.202172: W tensorflow/stream_executor/cuda/cuda_driver.cc:263] failed call to cuInit: UNKNOWN ERROR (303)\n",
      "2024-09-19 20:45:10.202194: I tensorflow/stream_executor/cuda/cuda_diagnostics.cc:156] kernel driver does not appear to be running on this host (mbackf2.cism.ucl.ac.be): /proc/driver/nvidia/version does not exist\n",
      "2024-09-19 20:45:10.202534: I tensorflow/core/platform/cpu_feature_guard.cc:193] This TensorFlow binary is optimized with oneAPI Deep Neural Network Library (oneDNN) to use the following CPU instructions in performance-critical operations:  AVX2 AVX512F FMA\n",
      "To enable them in other operations, rebuild TensorFlow with the appropriate compiler flags.\n",
      "2024-09-19 20:45:11.424344: W tensorflow/stream_executor/platform/default/dso_loader.cc:64] Could not load dynamic library 'libcuda.so.1'; dlerror: libcuda.so.1: cannot open shared object file: No such file or directory; LD_LIBRARY_PATH: /home/ucl/modl/rgouvea/anaconda3/pkgs/cudatoolkit-11.2.2-hbe64b41_10/lib/:/home/ucl/modl/rgouvea/anaconda3/envs/env_tfmodnet/lib/python3.8/site-packages/nvidia/cuda_nvcc/:/home/ucl/modl/rgouvea/anaconda3/envs/env_tfmodnet/lib/python3.8/site-packages/nvidia/cuda_cupti/lib/:/home/ucl/modl/rgouvea/anaconda3/envs/py3.8/lib/python3.8/site-packages/tensorrt/:/home/ucl/modl/rgouvea/anaconda3/envs/env_tfmodnet/lib:/home/ucl/modl/rgouvea/anaconda3/envs/env_tfmodnet/lib/python3.8/site-packages/nvidia/cusolver/lib/:/auto/home/users/r/g/rgouvea/anaconda3/envs/env_tfmodnet/lib:/auto/home/users/r/g/rgouvea/anaconda3/envs/env_tfmodnet/lib/python3.8/site-packages/nvidia/cuda_runtime/lib/:/auto/home/users/r/g/rgouvea/anaconda3/envs/env_tfmodnet/lib/python3.8/site-packages/nvidia/cublas/lib/:/opt/sw/arch/easybuild/2020b/software/FFTW/3.3.8-gompic-2020b/lib:/opt/sw/arch/easybuild/2020b/software/OpenMPI/4.0.5-gcccuda-2020b/lib:/opt/sw/arch/easybuild/2020b/software/PMIx/3.1.5-GCCcore-10.2.0/lib:/opt/sw/arch/easybuild/2020b/software/libfabric/1.11.0-GCCcore-10.2.0/lib:/opt/sw/arch/easybuild/2020b/software/UCX/1.9.0-GCCcore-10.2.0-CUDA-11.1.1/lib:/opt/sw/arch/easybuild/2020b/software/GDRCopy/2.1-GCCcore-10.2.0-CUDA-11.1.1/lib:/opt/sw/arch/easybuild/2020b/software/Check/0.15.2-GCCcore-10.2.0/lib:/opt/sw/arch/easybuild/2020b/software/libevent/2.1.12-GCCcore-10.2.0/lib:/opt/sw/arch/easybuild/2020b/software/hwloc/2.2.0-GCCcore-10.2.0/lib:/opt/sw/arch/easybuild/2020b/software/libpciaccess/0.16-GCCcore-10.2.0/lib:/opt/sw/arch/easybuild/2020b/software/libxml2/2.9.10-GCCcore-10.2.0/lib:/opt/sw/arch/easybuild/2020b/software/XZ/5.2.5-GCCcore-10.2.0/lib:/opt/sw/arch/easybuild/2020b/software/numactl/2.0.13-GCCcore-10.2.0/lib:/opt/sw/arch/easybuild/2020b/software/CUDAcore/11.1.1/nvvm/lib64:/opt/sw/arch/easybuild/2020b/software/CUDAcore/11.1.1/extras/CUPTI/lib64:/opt/sw/arch/easybuild/2020b/software/CUDAcore/11.1.1/lib:/opt/sw/arch/easybuild/2020b/software/binutils/2.35-GCCcore-10.2.0/lib:/opt/sw/arch/easybuild/2020b/software/zlib/1.2.11-GCCcore-10.2.0/lib:/opt/sw/arch/easybuild/2020b/software/GCCcore/10.2.0/lib64:/home/ucl/modl/rgouvea/anaconda3/pkgs/cudatoolkit-11.2.2-hbe64b41_10/lib:/home/ucl/modl/rgouvea/anaconda3/envs/env_tfmodnet/lib/python3.8/site-packages/nvidia/cuda_nvcc:/home/ucl/modl/rgouvea/anaconda3/envs/env_tfmodnet/lib/python3.8/site-packages/nvidia/cuda_cupti/lib:/home/ucl/modl/rgouvea/anaconda3/envs/py3.8/lib/python3.8/site-packages/tensorrt:/home/ucl/modl/rgouvea/anaconda3/envs/env_tfmodnet/lib:/home/ucl/modl/rgouvea/anaconda3/envs/env_tfmodnet/lib/python3.8/site-packages/nvidia/cusolver/lib:/auto/home/users/r/g/rgouvea/anaconda3/envs/env_tfmodnet/lib:/auto/home/users/r/g/rgouvea/anaconda3/envs/env_tfmodnet/lib/python3.8/site-packages/nvidia/cuda_runtime/lib:/auto/home/users/r/g/rgouvea/anaconda3/envs/env_tfmodnet/lib/python3.8/site-packages/nvidia/cublas/lib::\n",
      "2024-09-19 20:45:11.424381: W tensorflow/stream_executor/cuda/cuda_driver.cc:263] failed call to cuInit: UNKNOWN ERROR (303)\n",
      "2024-09-19 20:45:11.424405: I tensorflow/stream_executor/cuda/cuda_diagnostics.cc:156] kernel driver does not appear to be running on this host (mbackf2.cism.ucl.ac.be): /proc/driver/nvidia/version does not exist\n",
      "2024-09-19 20:45:11.424740: I tensorflow/core/platform/cpu_feature_guard.cc:193] This TensorFlow binary is optimized with oneAPI Deep Neural Network Library (oneDNN) to use the following CPU instructions in performance-critical operations:  AVX2 AVX512F FMA\n",
      "To enable them in other operations, rebuild TensorFlow with the appropriate compiler flags.\n",
      "2024-09-19 20:45:14.663999: W tensorflow/stream_executor/platform/default/dso_loader.cc:64] Could not load dynamic library 'libcuda.so.1'; dlerror: libcuda.so.1: cannot open shared object file: No such file or directory; LD_LIBRARY_PATH: /home/ucl/modl/rgouvea/anaconda3/pkgs/cudatoolkit-11.2.2-hbe64b41_10/lib/:/home/ucl/modl/rgouvea/anaconda3/envs/env_tfmodnet/lib/python3.8/site-packages/nvidia/cuda_nvcc/:/home/ucl/modl/rgouvea/anaconda3/envs/env_tfmodnet/lib/python3.8/site-packages/nvidia/cuda_cupti/lib/:/home/ucl/modl/rgouvea/anaconda3/envs/py3.8/lib/python3.8/site-packages/tensorrt/:/home/ucl/modl/rgouvea/anaconda3/envs/env_tfmodnet/lib:/home/ucl/modl/rgouvea/anaconda3/envs/env_tfmodnet/lib/python3.8/site-packages/nvidia/cusolver/lib/:/auto/home/users/r/g/rgouvea/anaconda3/envs/env_tfmodnet/lib:/auto/home/users/r/g/rgouvea/anaconda3/envs/env_tfmodnet/lib/python3.8/site-packages/nvidia/cuda_runtime/lib/:/auto/home/users/r/g/rgouvea/anaconda3/envs/env_tfmodnet/lib/python3.8/site-packages/nvidia/cublas/lib/:/opt/sw/arch/easybuild/2020b/software/FFTW/3.3.8-gompic-2020b/lib:/opt/sw/arch/easybuild/2020b/software/OpenMPI/4.0.5-gcccuda-2020b/lib:/opt/sw/arch/easybuild/2020b/software/PMIx/3.1.5-GCCcore-10.2.0/lib:/opt/sw/arch/easybuild/2020b/software/libfabric/1.11.0-GCCcore-10.2.0/lib:/opt/sw/arch/easybuild/2020b/software/UCX/1.9.0-GCCcore-10.2.0-CUDA-11.1.1/lib:/opt/sw/arch/easybuild/2020b/software/GDRCopy/2.1-GCCcore-10.2.0-CUDA-11.1.1/lib:/opt/sw/arch/easybuild/2020b/software/Check/0.15.2-GCCcore-10.2.0/lib:/opt/sw/arch/easybuild/2020b/software/libevent/2.1.12-GCCcore-10.2.0/lib:/opt/sw/arch/easybuild/2020b/software/hwloc/2.2.0-GCCcore-10.2.0/lib:/opt/sw/arch/easybuild/2020b/software/libpciaccess/0.16-GCCcore-10.2.0/lib:/opt/sw/arch/easybuild/2020b/software/libxml2/2.9.10-GCCcore-10.2.0/lib:/opt/sw/arch/easybuild/2020b/software/XZ/5.2.5-GCCcore-10.2.0/lib:/opt/sw/arch/easybuild/2020b/software/numactl/2.0.13-GCCcore-10.2.0/lib:/opt/sw/arch/easybuild/2020b/software/CUDAcore/11.1.1/nvvm/lib64:/opt/sw/arch/easybuild/2020b/software/CUDAcore/11.1.1/extras/CUPTI/lib64:/opt/sw/arch/easybuild/2020b/software/CUDAcore/11.1.1/lib:/opt/sw/arch/easybuild/2020b/software/binutils/2.35-GCCcore-10.2.0/lib:/opt/sw/arch/easybuild/2020b/software/zlib/1.2.11-GCCcore-10.2.0/lib:/opt/sw/arch/easybuild/2020b/software/GCCcore/10.2.0/lib64:/home/ucl/modl/rgouvea/anaconda3/pkgs/cudatoolkit-11.2.2-hbe64b41_10/lib:/home/ucl/modl/rgouvea/anaconda3/envs/env_tfmodnet/lib/python3.8/site-packages/nvidia/cuda_nvcc:/home/ucl/modl/rgouvea/anaconda3/envs/env_tfmodnet/lib/python3.8/site-packages/nvidia/cuda_cupti/lib:/home/ucl/modl/rgouvea/anaconda3/envs/py3.8/lib/python3.8/site-packages/tensorrt:/home/ucl/modl/rgouvea/anaconda3/envs/env_tfmodnet/lib:/home/ucl/modl/rgouvea/anaconda3/envs/env_tfmodnet/lib/python3.8/site-packages/nvidia/cusolver/lib:/auto/home/users/r/g/rgouvea/anaconda3/envs/env_tfmodnet/lib:/auto/home/users/r/g/rgouvea/anaconda3/envs/env_tfmodnet/lib/python3.8/site-packages/nvidia/cuda_runtime/lib:/auto/home/users/r/g/rgouvea/anaconda3/envs/env_tfmodnet/lib/python3.8/site-packages/nvidia/cublas/lib::\n",
      "2024-09-19 20:45:14.664083: W tensorflow/stream_executor/cuda/cuda_driver.cc:263] failed call to cuInit: UNKNOWN ERROR (303)\n",
      "2024-09-19 20:45:14.664125: I tensorflow/stream_executor/cuda/cuda_diagnostics.cc:156] kernel driver does not appear to be running on this host (mbackf2.cism.ucl.ac.be): /proc/driver/nvidia/version does not exist\n",
      "2024-09-19 20:45:14.664634: I tensorflow/core/platform/cpu_feature_guard.cc:193] This TensorFlow binary is optimized with oneAPI Deep Neural Network Library (oneDNN) to use the following CPU instructions in performance-critical operations:  AVX2 AVX512F FMA\n",
      "To enable them in other operations, rebuild TensorFlow with the appropriate compiler flags.\n"
     ]
    },
    {
     "name": "stdout",
     "output_type": "stream",
     "text": [
      "2024-09-19 20:45:32,853 - modnet - INFO - Model #1\tloss: 0.0393\tmae: 0.0393\t\n"
     ]
    },
    {
     "name": "stderr",
     "output_type": "stream",
     "text": [
      " 33%|███▎      | 1/3 [00:32<01:05, 32.79s/it]"
     ]
    },
    {
     "name": "stdout",
     "output_type": "stream",
     "text": [
      "2024-09-19 20:45:38,074 - modnet - INFO - Model #2\tloss: 0.0366\tmae: 0.0366\t\n"
     ]
    },
    {
     "name": "stderr",
     "output_type": "stream",
     "text": [
      " 67%|██████▋   | 2/3 [00:38<00:16, 16.57s/it]"
     ]
    },
    {
     "name": "stdout",
     "output_type": "stream",
     "text": [
      "2024-09-19 20:45:39,873 - modnet - INFO - Model #0\tloss: 0.0304\tmae: 0.0304\t\n"
     ]
    },
    {
     "name": "stderr",
     "output_type": "stream",
     "text": [
      "100%|██████████| 3/3 [00:39<00:00, 13.27s/it]\n"
     ]
    },
    {
     "name": "stdout",
     "output_type": "stream",
     "text": [
      "2024-09-19 20:45:41,398 - modnet - INFO - Model successfully saved as out/MODNet_ref_index_bestGA!\n",
      "Model saved in out/MODNet_ref_index_bestGA\n"
     ]
    }
   ],
   "source": [
    "# now we train the model with the FitGenetic algorithm\n",
    "from modnet.hyper_opt.fit_genetic import FitGenetic\n",
    "ga_settings = {\"size_pop\": 10, \"num_generations\": 5, \"n_jobs\": 48, \n",
    "                    \"refit\": 3, \"nested\" : 0 }\n",
    "model_name = f'out/MODNet_ref_index_bestGA'\n",
    "ga = FitGenetic(md)\n",
    "best_model = ga.run(**ga_settings)\n",
    "best_model.save(model_name)\n",
    "print(f'Model saved in {model_name}')"
   ]
  },
  {
   "cell_type": "code",
   "execution_count": 13,
   "metadata": {},
   "outputs": [
    {
     "name": "stdout",
     "output_type": "stream",
     "text": [
      "2024-09-20 02:33:04,255 - modnet - INFO - Loaded <modnet.models.ensemble.EnsembleMODNetModel object at 0x7fe33a12dfa0> object, created with modnet version 0.2.1\n",
      "101/101 [==============================] - 0s 2ms/step\n"
     ]
    },
    {
     "name": "stdout",
     "output_type": "stream",
     "text": [
      "101/101 [==============================] - 0s 2ms/step\n",
      "101/101 [==============================] - 0s 2ms/step\n",
      "MAE_train: 0.03457720048363484\n",
      "MSE_train: 0.006241776242497601\n",
      "R2_train: 0.9655211534916224\n"
     ]
    }
   ],
   "source": [
    "from sklearn.metrics import mean_absolute_error, mean_squared_error, r2_score\n",
    "from modnet.models import MODNetModel\n",
    "# load model\n",
    "model_name = f'out/MODNet_ref_index_bestGA'\n",
    "best_model = MODNetModel.load(model_name)\n",
    "\n",
    "# Evaluate the model in training data.\n",
    "train_results = best_model.predict(md)\n",
    "# Get statistics of the evaluation comparing with target data.\n",
    "y_true = md.df_targets.values.flatten()\n",
    "y_pred = train_results.values.flatten()\n",
    "\n",
    "mae_train = mean_absolute_error(y_true, y_pred)\n",
    "mse_train = mean_squared_error(y_true, y_pred)\n",
    "r2_train = r2_score(y_true, y_pred)\n",
    "\n",
    "print(f'MAE_train: {mae_train}')\n",
    "print(f'MSE_train: {mse_train}')\n",
    "print(f'R2_train: {r2_train}')\n"
   ]
  },
  {
   "cell_type": "code",
   "execution_count": 6,
   "metadata": {},
   "outputs": [
    {
     "name": "stdout",
     "output_type": "stream",
     "text": [
      "2024-09-20 02:08:49,265 - modnet - INFO - Loaded Matminer2023Featurizer featurizer.\n"
     ]
    },
    {
     "name": "stdout",
     "output_type": "stream",
     "text": [
      "2024-09-20 02:08:49,560 - modnet - INFO - Computing features, this can take time...\n",
      "2024-09-20 02:08:49,561 - modnet - INFO - Applying composition featurizers...\n",
      "2024-09-20 02:08:49,624 - modnet - INFO - Applying featurizers (AtomicOrbitals(), AtomicPackingEfficiency(), BandCenter(), ElementFraction(), ElementProperty(data_source=<matminer.utils.data.MagpieData object at 0x7fe33a220eb0>,\n",
      "                features=['Number', 'MendeleevNumber', 'AtomicWeight',\n",
      "                          'MeltingT', 'Column', 'Row', 'CovalentRadius',\n",
      "                          'Electronegativity', 'NsValence', 'NpValence',\n",
      "                          'NdValence', 'NfValence', 'NValence', 'NsUnfilled',\n",
      "                          'NpUnfilled', 'NdUnfilled', 'NfUnfilled', 'NUnfilled',\n",
      "                          'GSvolume_pa', 'GSbandgap', 'GSmagmom',\n",
      "                          'SpaceGroupNumber'],\n",
      "                stats=['minimum', 'maximum', 'range', 'mean', 'avg_dev',\n",
      "                       'mode']), IonProperty(), Miedema(ss_types=['min'], struct_types=['inter', 'amor', 'ss']), Stoichiometry(), TMetalFraction(), ValenceOrbital(), YangSolidSolution()) to column 'composition'.\n"
     ]
    },
    {
     "data": {
      "application/vnd.jupyter.widget-view+json": {
       "model_id": "3026237513b643108632d83f91128a82",
       "version_major": 2,
       "version_minor": 0
      },
      "text/plain": [
       "MultipleFeaturizer:   0%|          | 0/804 [00:00<?, ?it/s]"
      ]
     },
     "metadata": {},
     "output_type": "display_data"
    },
    {
     "name": "stderr",
     "output_type": "stream",
     "text": [
      "/home/ucl/modl/rgouvea/anaconda3/envs/env_tfmodnet/lib/python3.8/site-packages/matminer/featurizers/composition/alloy.py:202: RuntimeWarning: invalid value encountered in power\n",
      "  alp_a = np.multiply(1.5, np.power(v_a, 2 / 3)) / reduce(lambda x, y: 1 / x + 1 / y, np.power(n_ws, 1 / 3))\n",
      "/home/ucl/modl/rgouvea/anaconda3/envs/env_tfmodnet/lib/python3.8/site-packages/matminer/featurizers/composition/alloy.py:202: RuntimeWarning: invalid value encountered in power\n",
      "  alp_a = np.multiply(1.5, np.power(v_a, 2 / 3)) / reduce(lambda x, y: 1 / x + 1 / y, np.power(n_ws, 1 / 3))\n",
      "/home/ucl/modl/rgouvea/anaconda3/envs/env_tfmodnet/lib/python3.8/site-packages/matminer/featurizers/composition/alloy.py:202: RuntimeWarning: invalid value encountered in power\n",
      "  alp_a = np.multiply(1.5, np.power(v_a, 2 / 3)) / reduce(lambda x, y: 1 / x + 1 / y, np.power(n_ws, 1 / 3))\n",
      "/home/ucl/modl/rgouvea/anaconda3/envs/env_tfmodnet/lib/python3.8/site-packages/matminer/featurizers/composition/alloy.py:202: RuntimeWarning: invalid value encountered in power\n",
      "  alp_a = np.multiply(1.5, np.power(v_a, 2 / 3)) / reduce(lambda x, y: 1 / x + 1 / y, np.power(n_ws, 1 / 3))\n",
      "/home/ucl/modl/rgouvea/anaconda3/envs/env_tfmodnet/lib/python3.8/site-packages/matminer/featurizers/composition/alloy.py:202: RuntimeWarning: invalid value encountered in power\n",
      "  alp_a = np.multiply(1.5, np.power(v_a, 2 / 3)) / reduce(lambda x, y: 1 / x + 1 / y, np.power(n_ws, 1 / 3))\n",
      "/home/ucl/modl/rgouvea/anaconda3/envs/env_tfmodnet/lib/python3.8/site-packages/matminer/featurizers/composition/alloy.py:202: RuntimeWarning: invalid value encountered in power\n",
      "  alp_a = np.multiply(1.5, np.power(v_a, 2 / 3)) / reduce(lambda x, y: 1 / x + 1 / y, np.power(n_ws, 1 / 3))\n",
      "/home/ucl/modl/rgouvea/anaconda3/envs/env_tfmodnet/lib/python3.8/site-packages/matminer/featurizers/composition/alloy.py:202: RuntimeWarning: invalid value encountered in power\n",
      "  alp_a = np.multiply(1.5, np.power(v_a, 2 / 3)) / reduce(lambda x, y: 1 / x + 1 / y, np.power(n_ws, 1 / 3))\n",
      "/home/ucl/modl/rgouvea/anaconda3/envs/env_tfmodnet/lib/python3.8/site-packages/matminer/featurizers/composition/alloy.py:202: RuntimeWarning: invalid value encountered in power\n",
      "  alp_a = np.multiply(1.5, np.power(v_a, 2 / 3)) / reduce(lambda x, y: 1 / x + 1 / y, np.power(n_ws, 1 / 3))\n",
      "/home/ucl/modl/rgouvea/anaconda3/envs/env_tfmodnet/lib/python3.8/site-packages/matminer/featurizers/composition/alloy.py:202: RuntimeWarning: invalid value encountered in power\n",
      "  alp_a = np.multiply(1.5, np.power(v_a, 2 / 3)) / reduce(lambda x, y: 1 / x + 1 / y, np.power(n_ws, 1 / 3))\n",
      "/home/ucl/modl/rgouvea/anaconda3/envs/env_tfmodnet/lib/python3.8/site-packages/matminer/featurizers/composition/alloy.py:202: RuntimeWarning: invalid value encountered in power\n",
      "  alp_a = np.multiply(1.5, np.power(v_a, 2 / 3)) / reduce(lambda x, y: 1 / x + 1 / y, np.power(n_ws, 1 / 3))\n",
      "/home/ucl/modl/rgouvea/anaconda3/envs/env_tfmodnet/lib/python3.8/site-packages/matminer/featurizers/composition/alloy.py:202: RuntimeWarning: invalid value encountered in power\n",
      "  alp_a = np.multiply(1.5, np.power(v_a, 2 / 3)) / reduce(lambda x, y: 1 / x + 1 / y, np.power(n_ws, 1 / 3))\n",
      "/home/ucl/modl/rgouvea/anaconda3/envs/env_tfmodnet/lib/python3.8/site-packages/matminer/featurizers/composition/alloy.py:202: RuntimeWarning: invalid value encountered in power\n",
      "  alp_a = np.multiply(1.5, np.power(v_a, 2 / 3)) / reduce(lambda x, y: 1 / x + 1 / y, np.power(n_ws, 1 / 3))\n",
      "/home/ucl/modl/rgouvea/anaconda3/envs/env_tfmodnet/lib/python3.8/site-packages/matminer/featurizers/composition/alloy.py:202: RuntimeWarning: invalid value encountered in power\n",
      "  alp_a = np.multiply(1.5, np.power(v_a, 2 / 3)) / reduce(lambda x, y: 1 / x + 1 / y, np.power(n_ws, 1 / 3))\n",
      "/home/ucl/modl/rgouvea/anaconda3/envs/env_tfmodnet/lib/python3.8/site-packages/matminer/featurizers/composition/alloy.py:202: RuntimeWarning: invalid value encountered in power\n",
      "  alp_a = np.multiply(1.5, np.power(v_a, 2 / 3)) / reduce(lambda x, y: 1 / x + 1 / y, np.power(n_ws, 1 / 3))\n",
      "/home/ucl/modl/rgouvea/anaconda3/envs/env_tfmodnet/lib/python3.8/site-packages/matminer/featurizers/composition/alloy.py:202: RuntimeWarning: invalid value encountered in power\n",
      "  alp_a = np.multiply(1.5, np.power(v_a, 2 / 3)) / reduce(lambda x, y: 1 / x + 1 / y, np.power(n_ws, 1 / 3))\n",
      "/home/ucl/modl/rgouvea/anaconda3/envs/env_tfmodnet/lib/python3.8/site-packages/matminer/featurizers/composition/alloy.py:202: RuntimeWarning: invalid value encountered in power\n",
      "  alp_a = np.multiply(1.5, np.power(v_a, 2 / 3)) / reduce(lambda x, y: 1 / x + 1 / y, np.power(n_ws, 1 / 3))\n",
      "/home/ucl/modl/rgouvea/anaconda3/envs/env_tfmodnet/lib/python3.8/site-packages/matminer/featurizers/composition/alloy.py:202: RuntimeWarning: invalid value encountered in power\n",
      "  alp_a = np.multiply(1.5, np.power(v_a, 2 / 3)) / reduce(lambda x, y: 1 / x + 1 / y, np.power(n_ws, 1 / 3))\n",
      "/home/ucl/modl/rgouvea/anaconda3/envs/env_tfmodnet/lib/python3.8/site-packages/matminer/featurizers/composition/alloy.py:202: RuntimeWarning: invalid value encountered in power\n",
      "  alp_a = np.multiply(1.5, np.power(v_a, 2 / 3)) / reduce(lambda x, y: 1 / x + 1 / y, np.power(n_ws, 1 / 3))\n",
      "/home/ucl/modl/rgouvea/anaconda3/envs/env_tfmodnet/lib/python3.8/site-packages/matminer/featurizers/composition/alloy.py:202: RuntimeWarning: invalid value encountered in power\n",
      "  alp_a = np.multiply(1.5, np.power(v_a, 2 / 3)) / reduce(lambda x, y: 1 / x + 1 / y, np.power(n_ws, 1 / 3))\n",
      "/home/ucl/modl/rgouvea/anaconda3/envs/env_tfmodnet/lib/python3.8/site-packages/matminer/featurizers/composition/alloy.py:202: RuntimeWarning: invalid value encountered in power\n",
      "  alp_a = np.multiply(1.5, np.power(v_a, 2 / 3)) / reduce(lambda x, y: 1 / x + 1 / y, np.power(n_ws, 1 / 3))\n",
      "/home/ucl/modl/rgouvea/anaconda3/envs/env_tfmodnet/lib/python3.8/site-packages/matminer/featurizers/composition/alloy.py:202: RuntimeWarning: invalid value encountered in power\n",
      "  alp_a = np.multiply(1.5, np.power(v_a, 2 / 3)) / reduce(lambda x, y: 1 / x + 1 / y, np.power(n_ws, 1 / 3))\n",
      "/home/ucl/modl/rgouvea/anaconda3/envs/env_tfmodnet/lib/python3.8/site-packages/matminer/featurizers/composition/alloy.py:202: RuntimeWarning: invalid value encountered in power\n",
      "  alp_a = np.multiply(1.5, np.power(v_a, 2 / 3)) / reduce(lambda x, y: 1 / x + 1 / y, np.power(n_ws, 1 / 3))\n",
      "/home/ucl/modl/rgouvea/anaconda3/envs/env_tfmodnet/lib/python3.8/site-packages/matminer/featurizers/composition/alloy.py:202: RuntimeWarning: invalid value encountered in power\n",
      "  alp_a = np.multiply(1.5, np.power(v_a, 2 / 3)) / reduce(lambda x, y: 1 / x + 1 / y, np.power(n_ws, 1 / 3))\n",
      "/home/ucl/modl/rgouvea/anaconda3/envs/env_tfmodnet/lib/python3.8/site-packages/matminer/featurizers/composition/alloy.py:202: RuntimeWarning: invalid value encountered in power\n",
      "  alp_a = np.multiply(1.5, np.power(v_a, 2 / 3)) / reduce(lambda x, y: 1 / x + 1 / y, np.power(n_ws, 1 / 3))\n",
      "/home/ucl/modl/rgouvea/anaconda3/envs/env_tfmodnet/lib/python3.8/site-packages/matminer/featurizers/composition/alloy.py:202: RuntimeWarning: invalid value encountered in power\n",
      "  alp_a = np.multiply(1.5, np.power(v_a, 2 / 3)) / reduce(lambda x, y: 1 / x + 1 / y, np.power(n_ws, 1 / 3))\n",
      "/home/ucl/modl/rgouvea/anaconda3/envs/env_tfmodnet/lib/python3.8/site-packages/matminer/featurizers/composition/alloy.py:202: RuntimeWarning: invalid value encountered in power\n",
      "  alp_a = np.multiply(1.5, np.power(v_a, 2 / 3)) / reduce(lambda x, y: 1 / x + 1 / y, np.power(n_ws, 1 / 3))\n",
      "/home/ucl/modl/rgouvea/anaconda3/envs/env_tfmodnet/lib/python3.8/site-packages/matminer/featurizers/composition/alloy.py:202: RuntimeWarning: invalid value encountered in power\n",
      "  alp_a = np.multiply(1.5, np.power(v_a, 2 / 3)) / reduce(lambda x, y: 1 / x + 1 / y, np.power(n_ws, 1 / 3))\n",
      "/home/ucl/modl/rgouvea/anaconda3/envs/env_tfmodnet/lib/python3.8/site-packages/matminer/featurizers/composition/alloy.py:202: RuntimeWarning: invalid value encountered in power\n",
      "  alp_a = np.multiply(1.5, np.power(v_a, 2 / 3)) / reduce(lambda x, y: 1 / x + 1 / y, np.power(n_ws, 1 / 3))\n",
      "/home/ucl/modl/rgouvea/anaconda3/envs/env_tfmodnet/lib/python3.8/site-packages/matminer/featurizers/composition/alloy.py:202: RuntimeWarning: invalid value encountered in power\n",
      "  alp_a = np.multiply(1.5, np.power(v_a, 2 / 3)) / reduce(lambda x, y: 1 / x + 1 / y, np.power(n_ws, 1 / 3))\n",
      "/home/ucl/modl/rgouvea/anaconda3/envs/env_tfmodnet/lib/python3.8/site-packages/matminer/featurizers/composition/alloy.py:202: RuntimeWarning: invalid value encountered in power\n",
      "  alp_a = np.multiply(1.5, np.power(v_a, 2 / 3)) / reduce(lambda x, y: 1 / x + 1 / y, np.power(n_ws, 1 / 3))\n",
      "/home/ucl/modl/rgouvea/anaconda3/envs/env_tfmodnet/lib/python3.8/site-packages/matminer/featurizers/composition/alloy.py:202: RuntimeWarning: invalid value encountered in power\n",
      "  alp_a = np.multiply(1.5, np.power(v_a, 2 / 3)) / reduce(lambda x, y: 1 / x + 1 / y, np.power(n_ws, 1 / 3))\n",
      "/home/ucl/modl/rgouvea/anaconda3/envs/env_tfmodnet/lib/python3.8/site-packages/matminer/featurizers/composition/alloy.py:202: RuntimeWarning: invalid value encountered in power\n",
      "  alp_a = np.multiply(1.5, np.power(v_a, 2 / 3)) / reduce(lambda x, y: 1 / x + 1 / y, np.power(n_ws, 1 / 3))\n",
      "/home/ucl/modl/rgouvea/anaconda3/envs/env_tfmodnet/lib/python3.8/site-packages/matminer/featurizers/composition/alloy.py:219: RuntimeWarning: invalid value encountered in double_scalars\n",
      "  hab_elast = (2 * compr[0] * shear_mod[1] * np.power((vab_a[0] - vba_a[0]), 2)) / (\n",
      "/home/ucl/modl/rgouvea/anaconda3/envs/env_tfmodnet/lib/python3.8/site-packages/matminer/featurizers/composition/alloy.py:223: RuntimeWarning: invalid value encountered in double_scalars\n",
      "  hba_elast = (2 * compr[1] * shear_mod[0] * np.power((vba_a[1] - vab_a[1]), 2)) / (\n",
      "/home/ucl/modl/rgouvea/anaconda3/envs/env_tfmodnet/lib/python3.8/site-packages/matminer/featurizers/composition/alloy.py:202: RuntimeWarning: invalid value encountered in power\n",
      "  alp_a = np.multiply(1.5, np.power(v_a, 2 / 3)) / reduce(lambda x, y: 1 / x + 1 / y, np.power(n_ws, 1 / 3))\n",
      "/home/ucl/modl/rgouvea/anaconda3/envs/env_tfmodnet/lib/python3.8/site-packages/matminer/featurizers/composition/alloy.py:202: RuntimeWarning: invalid value encountered in power\n",
      "  alp_a = np.multiply(1.5, np.power(v_a, 2 / 3)) / reduce(lambda x, y: 1 / x + 1 / y, np.power(n_ws, 1 / 3))\n",
      "/home/ucl/modl/rgouvea/anaconda3/envs/env_tfmodnet/lib/python3.8/site-packages/matminer/featurizers/composition/alloy.py:202: RuntimeWarning: invalid value encountered in power\n",
      "  alp_a = np.multiply(1.5, np.power(v_a, 2 / 3)) / reduce(lambda x, y: 1 / x + 1 / y, np.power(n_ws, 1 / 3))\n",
      "/home/ucl/modl/rgouvea/anaconda3/envs/env_tfmodnet/lib/python3.8/site-packages/matminer/featurizers/composition/alloy.py:202: RuntimeWarning: invalid value encountered in power\n",
      "  alp_a = np.multiply(1.5, np.power(v_a, 2 / 3)) / reduce(lambda x, y: 1 / x + 1 / y, np.power(n_ws, 1 / 3))\n",
      "/home/ucl/modl/rgouvea/anaconda3/envs/env_tfmodnet/lib/python3.8/site-packages/matminer/featurizers/composition/alloy.py:202: RuntimeWarning: invalid value encountered in power\n",
      "  alp_a = np.multiply(1.5, np.power(v_a, 2 / 3)) / reduce(lambda x, y: 1 / x + 1 / y, np.power(n_ws, 1 / 3))\n",
      "/home/ucl/modl/rgouvea/anaconda3/envs/env_tfmodnet/lib/python3.8/site-packages/matminer/featurizers/composition/alloy.py:219: RuntimeWarning: invalid value encountered in double_scalars\n",
      "  hab_elast = (2 * compr[0] * shear_mod[1] * np.power((vab_a[0] - vba_a[0]), 2)) / (\n",
      "/home/ucl/modl/rgouvea/anaconda3/envs/env_tfmodnet/lib/python3.8/site-packages/matminer/featurizers/composition/alloy.py:223: RuntimeWarning: invalid value encountered in double_scalars\n",
      "  hba_elast = (2 * compr[1] * shear_mod[0] * np.power((vba_a[1] - vab_a[1]), 2)) / (\n",
      "/home/ucl/modl/rgouvea/anaconda3/envs/env_tfmodnet/lib/python3.8/site-packages/matminer/featurizers/composition/alloy.py:202: RuntimeWarning: invalid value encountered in power\n",
      "  alp_a = np.multiply(1.5, np.power(v_a, 2 / 3)) / reduce(lambda x, y: 1 / x + 1 / y, np.power(n_ws, 1 / 3))\n",
      "/home/ucl/modl/rgouvea/anaconda3/envs/env_tfmodnet/lib/python3.8/site-packages/matminer/featurizers/composition/alloy.py:202: RuntimeWarning: invalid value encountered in power\n",
      "  alp_a = np.multiply(1.5, np.power(v_a, 2 / 3)) / reduce(lambda x, y: 1 / x + 1 / y, np.power(n_ws, 1 / 3))\n",
      "/home/ucl/modl/rgouvea/anaconda3/envs/env_tfmodnet/lib/python3.8/site-packages/matminer/featurizers/composition/alloy.py:202: RuntimeWarning: invalid value encountered in power\n",
      "  alp_a = np.multiply(1.5, np.power(v_a, 2 / 3)) / reduce(lambda x, y: 1 / x + 1 / y, np.power(n_ws, 1 / 3))\n",
      "/home/ucl/modl/rgouvea/anaconda3/envs/env_tfmodnet/lib/python3.8/site-packages/matminer/featurizers/composition/alloy.py:202: RuntimeWarning: invalid value encountered in power\n",
      "  alp_a = np.multiply(1.5, np.power(v_a, 2 / 3)) / reduce(lambda x, y: 1 / x + 1 / y, np.power(n_ws, 1 / 3))\n",
      "/home/ucl/modl/rgouvea/anaconda3/envs/env_tfmodnet/lib/python3.8/site-packages/matminer/featurizers/composition/alloy.py:202: RuntimeWarning: invalid value encountered in power\n",
      "  alp_a = np.multiply(1.5, np.power(v_a, 2 / 3)) / reduce(lambda x, y: 1 / x + 1 / y, np.power(n_ws, 1 / 3))\n",
      "/home/ucl/modl/rgouvea/anaconda3/envs/env_tfmodnet/lib/python3.8/site-packages/matminer/featurizers/composition/alloy.py:202: RuntimeWarning: invalid value encountered in power\n",
      "  alp_a = np.multiply(1.5, np.power(v_a, 2 / 3)) / reduce(lambda x, y: 1 / x + 1 / y, np.power(n_ws, 1 / 3))\n",
      "/home/ucl/modl/rgouvea/anaconda3/envs/env_tfmodnet/lib/python3.8/site-packages/matminer/featurizers/composition/alloy.py:202: RuntimeWarning: invalid value encountered in power\n",
      "  alp_a = np.multiply(1.5, np.power(v_a, 2 / 3)) / reduce(lambda x, y: 1 / x + 1 / y, np.power(n_ws, 1 / 3))\n",
      "/home/ucl/modl/rgouvea/anaconda3/envs/env_tfmodnet/lib/python3.8/site-packages/matminer/featurizers/composition/alloy.py:202: RuntimeWarning: invalid value encountered in power\n",
      "  alp_a = np.multiply(1.5, np.power(v_a, 2 / 3)) / reduce(lambda x, y: 1 / x + 1 / y, np.power(n_ws, 1 / 3))\n",
      "/home/ucl/modl/rgouvea/anaconda3/envs/env_tfmodnet/lib/python3.8/site-packages/matminer/featurizers/composition/alloy.py:202: RuntimeWarning: invalid value encountered in power\n",
      "  alp_a = np.multiply(1.5, np.power(v_a, 2 / 3)) / reduce(lambda x, y: 1 / x + 1 / y, np.power(n_ws, 1 / 3))\n",
      "/home/ucl/modl/rgouvea/anaconda3/envs/env_tfmodnet/lib/python3.8/site-packages/matminer/featurizers/composition/alloy.py:202: RuntimeWarning: invalid value encountered in power\n",
      "  alp_a = np.multiply(1.5, np.power(v_a, 2 / 3)) / reduce(lambda x, y: 1 / x + 1 / y, np.power(n_ws, 1 / 3))\n",
      "/home/ucl/modl/rgouvea/anaconda3/envs/env_tfmodnet/lib/python3.8/site-packages/matminer/featurizers/composition/alloy.py:202: RuntimeWarning: invalid value encountered in power\n",
      "  alp_a = np.multiply(1.5, np.power(v_a, 2 / 3)) / reduce(lambda x, y: 1 / x + 1 / y, np.power(n_ws, 1 / 3))\n",
      "/home/ucl/modl/rgouvea/anaconda3/envs/env_tfmodnet/lib/python3.8/site-packages/matminer/featurizers/composition/alloy.py:202: RuntimeWarning: invalid value encountered in power\n",
      "  alp_a = np.multiply(1.5, np.power(v_a, 2 / 3)) / reduce(lambda x, y: 1 / x + 1 / y, np.power(n_ws, 1 / 3))\n",
      "/home/ucl/modl/rgouvea/anaconda3/envs/env_tfmodnet/lib/python3.8/site-packages/matminer/featurizers/composition/alloy.py:202: RuntimeWarning: invalid value encountered in power\n",
      "  alp_a = np.multiply(1.5, np.power(v_a, 2 / 3)) / reduce(lambda x, y: 1 / x + 1 / y, np.power(n_ws, 1 / 3))\n",
      "/home/ucl/modl/rgouvea/anaconda3/envs/env_tfmodnet/lib/python3.8/site-packages/matminer/featurizers/composition/alloy.py:202: RuntimeWarning: invalid value encountered in power\n",
      "  alp_a = np.multiply(1.5, np.power(v_a, 2 / 3)) / reduce(lambda x, y: 1 / x + 1 / y, np.power(n_ws, 1 / 3))\n",
      "/home/ucl/modl/rgouvea/anaconda3/envs/env_tfmodnet/lib/python3.8/site-packages/matminer/featurizers/composition/alloy.py:202: RuntimeWarning: invalid value encountered in power\n",
      "  alp_a = np.multiply(1.5, np.power(v_a, 2 / 3)) / reduce(lambda x, y: 1 / x + 1 / y, np.power(n_ws, 1 / 3))\n",
      "/home/ucl/modl/rgouvea/anaconda3/envs/env_tfmodnet/lib/python3.8/site-packages/matminer/featurizers/composition/alloy.py:219: RuntimeWarning: invalid value encountered in double_scalars\n",
      "  hab_elast = (2 * compr[0] * shear_mod[1] * np.power((vab_a[0] - vba_a[0]), 2)) / (\n",
      "/home/ucl/modl/rgouvea/anaconda3/envs/env_tfmodnet/lib/python3.8/site-packages/matminer/featurizers/composition/alloy.py:223: RuntimeWarning: invalid value encountered in double_scalars\n",
      "  hba_elast = (2 * compr[1] * shear_mod[0] * np.power((vba_a[1] - vab_a[1]), 2)) / (\n",
      "/home/ucl/modl/rgouvea/anaconda3/envs/env_tfmodnet/lib/python3.8/site-packages/matminer/featurizers/composition/alloy.py:202: RuntimeWarning: invalid value encountered in power\n",
      "  alp_a = np.multiply(1.5, np.power(v_a, 2 / 3)) / reduce(lambda x, y: 1 / x + 1 / y, np.power(n_ws, 1 / 3))\n",
      "/home/ucl/modl/rgouvea/anaconda3/envs/env_tfmodnet/lib/python3.8/site-packages/matminer/featurizers/composition/alloy.py:219: RuntimeWarning: invalid value encountered in double_scalars\n",
      "  hab_elast = (2 * compr[0] * shear_mod[1] * np.power((vab_a[0] - vba_a[0]), 2)) / (\n",
      "/home/ucl/modl/rgouvea/anaconda3/envs/env_tfmodnet/lib/python3.8/site-packages/matminer/featurizers/composition/alloy.py:223: RuntimeWarning: invalid value encountered in double_scalars\n",
      "  hba_elast = (2 * compr[1] * shear_mod[0] * np.power((vba_a[1] - vab_a[1]), 2)) / (\n",
      "/home/ucl/modl/rgouvea/anaconda3/envs/env_tfmodnet/lib/python3.8/site-packages/matminer/featurizers/composition/alloy.py:202: RuntimeWarning: invalid value encountered in power\n",
      "  alp_a = np.multiply(1.5, np.power(v_a, 2 / 3)) / reduce(lambda x, y: 1 / x + 1 / y, np.power(n_ws, 1 / 3))\n",
      "/home/ucl/modl/rgouvea/anaconda3/envs/env_tfmodnet/lib/python3.8/site-packages/matminer/featurizers/composition/alloy.py:202: RuntimeWarning: invalid value encountered in power\n",
      "  alp_a = np.multiply(1.5, np.power(v_a, 2 / 3)) / reduce(lambda x, y: 1 / x + 1 / y, np.power(n_ws, 1 / 3))\n",
      "/home/ucl/modl/rgouvea/anaconda3/envs/env_tfmodnet/lib/python3.8/site-packages/matminer/featurizers/composition/alloy.py:202: RuntimeWarning: invalid value encountered in power\n",
      "  alp_a = np.multiply(1.5, np.power(v_a, 2 / 3)) / reduce(lambda x, y: 1 / x + 1 / y, np.power(n_ws, 1 / 3))\n",
      "/home/ucl/modl/rgouvea/anaconda3/envs/env_tfmodnet/lib/python3.8/site-packages/matminer/featurizers/composition/alloy.py:202: RuntimeWarning: invalid value encountered in power\n",
      "  alp_a = np.multiply(1.5, np.power(v_a, 2 / 3)) / reduce(lambda x, y: 1 / x + 1 / y, np.power(n_ws, 1 / 3))\n",
      "/home/ucl/modl/rgouvea/anaconda3/envs/env_tfmodnet/lib/python3.8/site-packages/matminer/featurizers/composition/alloy.py:202: RuntimeWarning: invalid value encountered in power\n",
      "  alp_a = np.multiply(1.5, np.power(v_a, 2 / 3)) / reduce(lambda x, y: 1 / x + 1 / y, np.power(n_ws, 1 / 3))\n",
      "/home/ucl/modl/rgouvea/anaconda3/envs/env_tfmodnet/lib/python3.8/site-packages/matminer/featurizers/composition/alloy.py:202: RuntimeWarning: invalid value encountered in power\n",
      "  alp_a = np.multiply(1.5, np.power(v_a, 2 / 3)) / reduce(lambda x, y: 1 / x + 1 / y, np.power(n_ws, 1 / 3))\n",
      "/home/ucl/modl/rgouvea/anaconda3/envs/env_tfmodnet/lib/python3.8/site-packages/matminer/featurizers/composition/alloy.py:202: RuntimeWarning: invalid value encountered in power\n",
      "  alp_a = np.multiply(1.5, np.power(v_a, 2 / 3)) / reduce(lambda x, y: 1 / x + 1 / y, np.power(n_ws, 1 / 3))\n",
      "/home/ucl/modl/rgouvea/anaconda3/envs/env_tfmodnet/lib/python3.8/site-packages/matminer/featurizers/composition/alloy.py:202: RuntimeWarning: invalid value encountered in power\n",
      "  alp_a = np.multiply(1.5, np.power(v_a, 2 / 3)) / reduce(lambda x, y: 1 / x + 1 / y, np.power(n_ws, 1 / 3))\n",
      "/home/ucl/modl/rgouvea/anaconda3/envs/env_tfmodnet/lib/python3.8/site-packages/matminer/featurizers/composition/alloy.py:202: RuntimeWarning: invalid value encountered in power\n",
      "  alp_a = np.multiply(1.5, np.power(v_a, 2 / 3)) / reduce(lambda x, y: 1 / x + 1 / y, np.power(n_ws, 1 / 3))\n",
      "/home/ucl/modl/rgouvea/anaconda3/envs/env_tfmodnet/lib/python3.8/site-packages/matminer/featurizers/composition/alloy.py:202: RuntimeWarning: invalid value encountered in power\n",
      "  alp_a = np.multiply(1.5, np.power(v_a, 2 / 3)) / reduce(lambda x, y: 1 / x + 1 / y, np.power(n_ws, 1 / 3))\n",
      "/home/ucl/modl/rgouvea/anaconda3/envs/env_tfmodnet/lib/python3.8/site-packages/matminer/featurizers/composition/alloy.py:202: RuntimeWarning: invalid value encountered in power\n",
      "  alp_a = np.multiply(1.5, np.power(v_a, 2 / 3)) / reduce(lambda x, y: 1 / x + 1 / y, np.power(n_ws, 1 / 3))\n",
      "/home/ucl/modl/rgouvea/anaconda3/envs/env_tfmodnet/lib/python3.8/site-packages/matminer/featurizers/composition/alloy.py:202: RuntimeWarning: invalid value encountered in power\n",
      "  alp_a = np.multiply(1.5, np.power(v_a, 2 / 3)) / reduce(lambda x, y: 1 / x + 1 / y, np.power(n_ws, 1 / 3))\n",
      "/home/ucl/modl/rgouvea/anaconda3/envs/env_tfmodnet/lib/python3.8/site-packages/matminer/featurizers/composition/alloy.py:202: RuntimeWarning: invalid value encountered in power\n",
      "  alp_a = np.multiply(1.5, np.power(v_a, 2 / 3)) / reduce(lambda x, y: 1 / x + 1 / y, np.power(n_ws, 1 / 3))\n",
      "/home/ucl/modl/rgouvea/anaconda3/envs/env_tfmodnet/lib/python3.8/site-packages/matminer/featurizers/composition/alloy.py:202: RuntimeWarning: invalid value encountered in power\n",
      "  alp_a = np.multiply(1.5, np.power(v_a, 2 / 3)) / reduce(lambda x, y: 1 / x + 1 / y, np.power(n_ws, 1 / 3))\n",
      "/home/ucl/modl/rgouvea/anaconda3/envs/env_tfmodnet/lib/python3.8/site-packages/matminer/featurizers/composition/alloy.py:202: RuntimeWarning: invalid value encountered in power\n",
      "  alp_a = np.multiply(1.5, np.power(v_a, 2 / 3)) / reduce(lambda x, y: 1 / x + 1 / y, np.power(n_ws, 1 / 3))\n",
      "/home/ucl/modl/rgouvea/anaconda3/envs/env_tfmodnet/lib/python3.8/site-packages/matminer/featurizers/composition/alloy.py:202: RuntimeWarning: invalid value encountered in power\n",
      "  alp_a = np.multiply(1.5, np.power(v_a, 2 / 3)) / reduce(lambda x, y: 1 / x + 1 / y, np.power(n_ws, 1 / 3))\n",
      "/home/ucl/modl/rgouvea/anaconda3/envs/env_tfmodnet/lib/python3.8/site-packages/matminer/featurizers/composition/alloy.py:202: RuntimeWarning: invalid value encountered in power\n",
      "  alp_a = np.multiply(1.5, np.power(v_a, 2 / 3)) / reduce(lambda x, y: 1 / x + 1 / y, np.power(n_ws, 1 / 3))\n",
      "/home/ucl/modl/rgouvea/anaconda3/envs/env_tfmodnet/lib/python3.8/site-packages/matminer/featurizers/composition/alloy.py:202: RuntimeWarning: invalid value encountered in power\n",
      "  alp_a = np.multiply(1.5, np.power(v_a, 2 / 3)) / reduce(lambda x, y: 1 / x + 1 / y, np.power(n_ws, 1 / 3))\n",
      "/home/ucl/modl/rgouvea/anaconda3/envs/env_tfmodnet/lib/python3.8/site-packages/matminer/featurizers/composition/alloy.py:202: RuntimeWarning: invalid value encountered in power\n",
      "  alp_a = np.multiply(1.5, np.power(v_a, 2 / 3)) / reduce(lambda x, y: 1 / x + 1 / y, np.power(n_ws, 1 / 3))\n",
      "/home/ucl/modl/rgouvea/anaconda3/envs/env_tfmodnet/lib/python3.8/site-packages/matminer/featurizers/composition/alloy.py:202: RuntimeWarning: invalid value encountered in power\n",
      "  alp_a = np.multiply(1.5, np.power(v_a, 2 / 3)) / reduce(lambda x, y: 1 / x + 1 / y, np.power(n_ws, 1 / 3))\n",
      "/home/ucl/modl/rgouvea/anaconda3/envs/env_tfmodnet/lib/python3.8/site-packages/matminer/featurizers/composition/alloy.py:219: RuntimeWarning: invalid value encountered in double_scalars\n",
      "  hab_elast = (2 * compr[0] * shear_mod[1] * np.power((vab_a[0] - vba_a[0]), 2)) / (\n",
      "/home/ucl/modl/rgouvea/anaconda3/envs/env_tfmodnet/lib/python3.8/site-packages/matminer/featurizers/composition/alloy.py:223: RuntimeWarning: invalid value encountered in double_scalars\n",
      "  hba_elast = (2 * compr[1] * shear_mod[0] * np.power((vba_a[1] - vab_a[1]), 2)) / (\n",
      "/home/ucl/modl/rgouvea/anaconda3/envs/env_tfmodnet/lib/python3.8/site-packages/matminer/featurizers/composition/alloy.py:202: RuntimeWarning: invalid value encountered in power\n",
      "  alp_a = np.multiply(1.5, np.power(v_a, 2 / 3)) / reduce(lambda x, y: 1 / x + 1 / y, np.power(n_ws, 1 / 3))\n",
      "/home/ucl/modl/rgouvea/anaconda3/envs/env_tfmodnet/lib/python3.8/site-packages/matminer/featurizers/composition/alloy.py:202: RuntimeWarning: invalid value encountered in power\n",
      "  alp_a = np.multiply(1.5, np.power(v_a, 2 / 3)) / reduce(lambda x, y: 1 / x + 1 / y, np.power(n_ws, 1 / 3))\n",
      "/home/ucl/modl/rgouvea/anaconda3/envs/env_tfmodnet/lib/python3.8/site-packages/matminer/featurizers/composition/alloy.py:202: RuntimeWarning: invalid value encountered in power\n",
      "  alp_a = np.multiply(1.5, np.power(v_a, 2 / 3)) / reduce(lambda x, y: 1 / x + 1 / y, np.power(n_ws, 1 / 3))\n",
      "/home/ucl/modl/rgouvea/anaconda3/envs/env_tfmodnet/lib/python3.8/site-packages/matminer/featurizers/composition/alloy.py:202: RuntimeWarning: invalid value encountered in power\n",
      "  alp_a = np.multiply(1.5, np.power(v_a, 2 / 3)) / reduce(lambda x, y: 1 / x + 1 / y, np.power(n_ws, 1 / 3))\n",
      "/home/ucl/modl/rgouvea/anaconda3/envs/env_tfmodnet/lib/python3.8/site-packages/matminer/featurizers/composition/alloy.py:202: RuntimeWarning: invalid value encountered in power\n",
      "  alp_a = np.multiply(1.5, np.power(v_a, 2 / 3)) / reduce(lambda x, y: 1 / x + 1 / y, np.power(n_ws, 1 / 3))\n",
      "/home/ucl/modl/rgouvea/anaconda3/envs/env_tfmodnet/lib/python3.8/site-packages/matminer/featurizers/composition/alloy.py:202: RuntimeWarning: invalid value encountered in power\n",
      "  alp_a = np.multiply(1.5, np.power(v_a, 2 / 3)) / reduce(lambda x, y: 1 / x + 1 / y, np.power(n_ws, 1 / 3))\n",
      "/home/ucl/modl/rgouvea/anaconda3/envs/env_tfmodnet/lib/python3.8/site-packages/matminer/featurizers/composition/alloy.py:202: RuntimeWarning: invalid value encountered in power\n",
      "  alp_a = np.multiply(1.5, np.power(v_a, 2 / 3)) / reduce(lambda x, y: 1 / x + 1 / y, np.power(n_ws, 1 / 3))\n",
      "/home/ucl/modl/rgouvea/anaconda3/envs/env_tfmodnet/lib/python3.8/site-packages/matminer/featurizers/composition/alloy.py:202: RuntimeWarning: invalid value encountered in power\n",
      "  alp_a = np.multiply(1.5, np.power(v_a, 2 / 3)) / reduce(lambda x, y: 1 / x + 1 / y, np.power(n_ws, 1 / 3))\n",
      "/home/ucl/modl/rgouvea/anaconda3/envs/env_tfmodnet/lib/python3.8/site-packages/matminer/featurizers/composition/alloy.py:202: RuntimeWarning: invalid value encountered in power\n",
      "  alp_a = np.multiply(1.5, np.power(v_a, 2 / 3)) / reduce(lambda x, y: 1 / x + 1 / y, np.power(n_ws, 1 / 3))\n",
      "/home/ucl/modl/rgouvea/anaconda3/envs/env_tfmodnet/lib/python3.8/site-packages/matminer/featurizers/composition/alloy.py:202: RuntimeWarning: invalid value encountered in power\n",
      "  alp_a = np.multiply(1.5, np.power(v_a, 2 / 3)) / reduce(lambda x, y: 1 / x + 1 / y, np.power(n_ws, 1 / 3))\n",
      "/home/ucl/modl/rgouvea/anaconda3/envs/env_tfmodnet/lib/python3.8/site-packages/matminer/featurizers/composition/alloy.py:202: RuntimeWarning: invalid value encountered in power\n",
      "  alp_a = np.multiply(1.5, np.power(v_a, 2 / 3)) / reduce(lambda x, y: 1 / x + 1 / y, np.power(n_ws, 1 / 3))\n",
      "/home/ucl/modl/rgouvea/anaconda3/envs/env_tfmodnet/lib/python3.8/site-packages/matminer/featurizers/composition/alloy.py:202: RuntimeWarning: invalid value encountered in power\n",
      "  alp_a = np.multiply(1.5, np.power(v_a, 2 / 3)) / reduce(lambda x, y: 1 / x + 1 / y, np.power(n_ws, 1 / 3))\n",
      "/home/ucl/modl/rgouvea/anaconda3/envs/env_tfmodnet/lib/python3.8/site-packages/matminer/featurizers/composition/alloy.py:202: RuntimeWarning: invalid value encountered in power\n",
      "  alp_a = np.multiply(1.5, np.power(v_a, 2 / 3)) / reduce(lambda x, y: 1 / x + 1 / y, np.power(n_ws, 1 / 3))\n",
      "/home/ucl/modl/rgouvea/anaconda3/envs/env_tfmodnet/lib/python3.8/site-packages/matminer/featurizers/composition/alloy.py:202: RuntimeWarning: invalid value encountered in power\n",
      "  alp_a = np.multiply(1.5, np.power(v_a, 2 / 3)) / reduce(lambda x, y: 1 / x + 1 / y, np.power(n_ws, 1 / 3))\n",
      "/home/ucl/modl/rgouvea/anaconda3/envs/env_tfmodnet/lib/python3.8/site-packages/matminer/featurizers/composition/alloy.py:202: RuntimeWarning: invalid value encountered in power\n",
      "  alp_a = np.multiply(1.5, np.power(v_a, 2 / 3)) / reduce(lambda x, y: 1 / x + 1 / y, np.power(n_ws, 1 / 3))\n",
      "/home/ucl/modl/rgouvea/anaconda3/envs/env_tfmodnet/lib/python3.8/site-packages/matminer/featurizers/composition/alloy.py:202: RuntimeWarning: invalid value encountered in power\n",
      "  alp_a = np.multiply(1.5, np.power(v_a, 2 / 3)) / reduce(lambda x, y: 1 / x + 1 / y, np.power(n_ws, 1 / 3))\n",
      "/home/ucl/modl/rgouvea/anaconda3/envs/env_tfmodnet/lib/python3.8/site-packages/matminer/featurizers/composition/alloy.py:202: RuntimeWarning: invalid value encountered in power\n",
      "  alp_a = np.multiply(1.5, np.power(v_a, 2 / 3)) / reduce(lambda x, y: 1 / x + 1 / y, np.power(n_ws, 1 / 3))\n",
      "/home/ucl/modl/rgouvea/anaconda3/envs/env_tfmodnet/lib/python3.8/site-packages/matminer/featurizers/composition/alloy.py:219: RuntimeWarning: invalid value encountered in double_scalars\n",
      "  hab_elast = (2 * compr[0] * shear_mod[1] * np.power((vab_a[0] - vba_a[0]), 2)) / (\n",
      "/home/ucl/modl/rgouvea/anaconda3/envs/env_tfmodnet/lib/python3.8/site-packages/matminer/featurizers/composition/alloy.py:223: RuntimeWarning: invalid value encountered in double_scalars\n",
      "  hba_elast = (2 * compr[1] * shear_mod[0] * np.power((vba_a[1] - vab_a[1]), 2)) / (\n",
      "/home/ucl/modl/rgouvea/anaconda3/envs/env_tfmodnet/lib/python3.8/site-packages/matminer/featurizers/composition/alloy.py:202: RuntimeWarning: invalid value encountered in power\n",
      "  alp_a = np.multiply(1.5, np.power(v_a, 2 / 3)) / reduce(lambda x, y: 1 / x + 1 / y, np.power(n_ws, 1 / 3))\n",
      "/home/ucl/modl/rgouvea/anaconda3/envs/env_tfmodnet/lib/python3.8/site-packages/matminer/featurizers/composition/alloy.py:202: RuntimeWarning: invalid value encountered in power\n",
      "  alp_a = np.multiply(1.5, np.power(v_a, 2 / 3)) / reduce(lambda x, y: 1 / x + 1 / y, np.power(n_ws, 1 / 3))\n",
      "/home/ucl/modl/rgouvea/anaconda3/envs/env_tfmodnet/lib/python3.8/site-packages/matminer/featurizers/composition/alloy.py:202: RuntimeWarning: invalid value encountered in power\n",
      "  alp_a = np.multiply(1.5, np.power(v_a, 2 / 3)) / reduce(lambda x, y: 1 / x + 1 / y, np.power(n_ws, 1 / 3))\n",
      "/home/ucl/modl/rgouvea/anaconda3/envs/env_tfmodnet/lib/python3.8/site-packages/matminer/featurizers/composition/alloy.py:202: RuntimeWarning: invalid value encountered in power\n",
      "  alp_a = np.multiply(1.5, np.power(v_a, 2 / 3)) / reduce(lambda x, y: 1 / x + 1 / y, np.power(n_ws, 1 / 3))\n",
      "/home/ucl/modl/rgouvea/anaconda3/envs/env_tfmodnet/lib/python3.8/site-packages/matminer/featurizers/composition/alloy.py:219: RuntimeWarning: invalid value encountered in double_scalars\n",
      "  hab_elast = (2 * compr[0] * shear_mod[1] * np.power((vab_a[0] - vba_a[0]), 2)) / (\n",
      "/home/ucl/modl/rgouvea/anaconda3/envs/env_tfmodnet/lib/python3.8/site-packages/matminer/featurizers/composition/alloy.py:223: RuntimeWarning: invalid value encountered in double_scalars\n",
      "  hba_elast = (2 * compr[1] * shear_mod[0] * np.power((vba_a[1] - vab_a[1]), 2)) / (\n",
      "/home/ucl/modl/rgouvea/anaconda3/envs/env_tfmodnet/lib/python3.8/site-packages/matminer/featurizers/composition/alloy.py:202: RuntimeWarning: invalid value encountered in power\n",
      "  alp_a = np.multiply(1.5, np.power(v_a, 2 / 3)) / reduce(lambda x, y: 1 / x + 1 / y, np.power(n_ws, 1 / 3))\n",
      "/home/ucl/modl/rgouvea/anaconda3/envs/env_tfmodnet/lib/python3.8/site-packages/matminer/featurizers/composition/alloy.py:202: RuntimeWarning: invalid value encountered in power\n",
      "  alp_a = np.multiply(1.5, np.power(v_a, 2 / 3)) / reduce(lambda x, y: 1 / x + 1 / y, np.power(n_ws, 1 / 3))\n",
      "/home/ucl/modl/rgouvea/anaconda3/envs/env_tfmodnet/lib/python3.8/site-packages/matminer/featurizers/composition/alloy.py:202: RuntimeWarning: invalid value encountered in power\n",
      "  alp_a = np.multiply(1.5, np.power(v_a, 2 / 3)) / reduce(lambda x, y: 1 / x + 1 / y, np.power(n_ws, 1 / 3))\n",
      "/home/ucl/modl/rgouvea/anaconda3/envs/env_tfmodnet/lib/python3.8/site-packages/matminer/featurizers/composition/alloy.py:202: RuntimeWarning: invalid value encountered in power\n",
      "  alp_a = np.multiply(1.5, np.power(v_a, 2 / 3)) / reduce(lambda x, y: 1 / x + 1 / y, np.power(n_ws, 1 / 3))\n",
      "/home/ucl/modl/rgouvea/anaconda3/envs/env_tfmodnet/lib/python3.8/site-packages/matminer/featurizers/composition/alloy.py:202: RuntimeWarning: invalid value encountered in power\n",
      "  alp_a = np.multiply(1.5, np.power(v_a, 2 / 3)) / reduce(lambda x, y: 1 / x + 1 / y, np.power(n_ws, 1 / 3))\n",
      "/home/ucl/modl/rgouvea/anaconda3/envs/env_tfmodnet/lib/python3.8/site-packages/matminer/featurizers/composition/alloy.py:202: RuntimeWarning: invalid value encountered in power\n",
      "  alp_a = np.multiply(1.5, np.power(v_a, 2 / 3)) / reduce(lambda x, y: 1 / x + 1 / y, np.power(n_ws, 1 / 3))\n",
      "/home/ucl/modl/rgouvea/anaconda3/envs/env_tfmodnet/lib/python3.8/site-packages/matminer/featurizers/composition/alloy.py:202: RuntimeWarning: invalid value encountered in power\n",
      "  alp_a = np.multiply(1.5, np.power(v_a, 2 / 3)) / reduce(lambda x, y: 1 / x + 1 / y, np.power(n_ws, 1 / 3))\n",
      "/home/ucl/modl/rgouvea/anaconda3/envs/env_tfmodnet/lib/python3.8/site-packages/matminer/featurizers/composition/alloy.py:202: RuntimeWarning: invalid value encountered in power\n",
      "  alp_a = np.multiply(1.5, np.power(v_a, 2 / 3)) / reduce(lambda x, y: 1 / x + 1 / y, np.power(n_ws, 1 / 3))\n",
      "/home/ucl/modl/rgouvea/anaconda3/envs/env_tfmodnet/lib/python3.8/site-packages/matminer/featurizers/composition/alloy.py:202: RuntimeWarning: invalid value encountered in power\n",
      "  alp_a = np.multiply(1.5, np.power(v_a, 2 / 3)) / reduce(lambda x, y: 1 / x + 1 / y, np.power(n_ws, 1 / 3))\n",
      "/home/ucl/modl/rgouvea/anaconda3/envs/env_tfmodnet/lib/python3.8/site-packages/matminer/featurizers/composition/alloy.py:202: RuntimeWarning: invalid value encountered in power\n",
      "  alp_a = np.multiply(1.5, np.power(v_a, 2 / 3)) / reduce(lambda x, y: 1 / x + 1 / y, np.power(n_ws, 1 / 3))\n",
      "/home/ucl/modl/rgouvea/anaconda3/envs/env_tfmodnet/lib/python3.8/site-packages/matminer/featurizers/composition/alloy.py:202: RuntimeWarning: invalid value encountered in power\n",
      "  alp_a = np.multiply(1.5, np.power(v_a, 2 / 3)) / reduce(lambda x, y: 1 / x + 1 / y, np.power(n_ws, 1 / 3))\n",
      "/home/ucl/modl/rgouvea/anaconda3/envs/env_tfmodnet/lib/python3.8/site-packages/matminer/featurizers/composition/alloy.py:202: RuntimeWarning: invalid value encountered in power\n",
      "  alp_a = np.multiply(1.5, np.power(v_a, 2 / 3)) / reduce(lambda x, y: 1 / x + 1 / y, np.power(n_ws, 1 / 3))\n",
      "/home/ucl/modl/rgouvea/anaconda3/envs/env_tfmodnet/lib/python3.8/site-packages/matminer/featurizers/composition/alloy.py:202: RuntimeWarning: invalid value encountered in power\n",
      "  alp_a = np.multiply(1.5, np.power(v_a, 2 / 3)) / reduce(lambda x, y: 1 / x + 1 / y, np.power(n_ws, 1 / 3))\n",
      "/home/ucl/modl/rgouvea/anaconda3/envs/env_tfmodnet/lib/python3.8/site-packages/matminer/featurizers/composition/alloy.py:202: RuntimeWarning: invalid value encountered in power\n",
      "  alp_a = np.multiply(1.5, np.power(v_a, 2 / 3)) / reduce(lambda x, y: 1 / x + 1 / y, np.power(n_ws, 1 / 3))\n",
      "/home/ucl/modl/rgouvea/anaconda3/envs/env_tfmodnet/lib/python3.8/site-packages/matminer/featurizers/composition/alloy.py:202: RuntimeWarning: invalid value encountered in power\n",
      "  alp_a = np.multiply(1.5, np.power(v_a, 2 / 3)) / reduce(lambda x, y: 1 / x + 1 / y, np.power(n_ws, 1 / 3))\n",
      "/home/ucl/modl/rgouvea/anaconda3/envs/env_tfmodnet/lib/python3.8/site-packages/matminer/featurizers/composition/alloy.py:202: RuntimeWarning: invalid value encountered in power\n",
      "  alp_a = np.multiply(1.5, np.power(v_a, 2 / 3)) / reduce(lambda x, y: 1 / x + 1 / y, np.power(n_ws, 1 / 3))\n",
      "/home/ucl/modl/rgouvea/anaconda3/envs/env_tfmodnet/lib/python3.8/site-packages/matminer/featurizers/composition/alloy.py:219: RuntimeWarning: invalid value encountered in double_scalars\n",
      "  hab_elast = (2 * compr[0] * shear_mod[1] * np.power((vab_a[0] - vba_a[0]), 2)) / (\n",
      "/home/ucl/modl/rgouvea/anaconda3/envs/env_tfmodnet/lib/python3.8/site-packages/matminer/featurizers/composition/alloy.py:223: RuntimeWarning: invalid value encountered in double_scalars\n",
      "  hba_elast = (2 * compr[1] * shear_mod[0] * np.power((vba_a[1] - vab_a[1]), 2)) / (\n",
      "/home/ucl/modl/rgouvea/anaconda3/envs/env_tfmodnet/lib/python3.8/site-packages/matminer/featurizers/composition/alloy.py:202: RuntimeWarning: invalid value encountered in power\n",
      "  alp_a = np.multiply(1.5, np.power(v_a, 2 / 3)) / reduce(lambda x, y: 1 / x + 1 / y, np.power(n_ws, 1 / 3))\n",
      "/home/ucl/modl/rgouvea/anaconda3/envs/env_tfmodnet/lib/python3.8/site-packages/matminer/featurizers/composition/alloy.py:202: RuntimeWarning: invalid value encountered in power\n",
      "  alp_a = np.multiply(1.5, np.power(v_a, 2 / 3)) / reduce(lambda x, y: 1 / x + 1 / y, np.power(n_ws, 1 / 3))\n",
      "/home/ucl/modl/rgouvea/anaconda3/envs/env_tfmodnet/lib/python3.8/site-packages/matminer/featurizers/composition/alloy.py:202: RuntimeWarning: invalid value encountered in power\n",
      "  alp_a = np.multiply(1.5, np.power(v_a, 2 / 3)) / reduce(lambda x, y: 1 / x + 1 / y, np.power(n_ws, 1 / 3))\n",
      "/home/ucl/modl/rgouvea/anaconda3/envs/env_tfmodnet/lib/python3.8/site-packages/matminer/featurizers/composition/alloy.py:202: RuntimeWarning: invalid value encountered in power\n",
      "  alp_a = np.multiply(1.5, np.power(v_a, 2 / 3)) / reduce(lambda x, y: 1 / x + 1 / y, np.power(n_ws, 1 / 3))\n",
      "/home/ucl/modl/rgouvea/anaconda3/envs/env_tfmodnet/lib/python3.8/site-packages/matminer/featurizers/composition/alloy.py:202: RuntimeWarning: invalid value encountered in power\n",
      "  alp_a = np.multiply(1.5, np.power(v_a, 2 / 3)) / reduce(lambda x, y: 1 / x + 1 / y, np.power(n_ws, 1 / 3))\n",
      "/home/ucl/modl/rgouvea/anaconda3/envs/env_tfmodnet/lib/python3.8/site-packages/matminer/featurizers/composition/alloy.py:202: RuntimeWarning: invalid value encountered in power\n",
      "  alp_a = np.multiply(1.5, np.power(v_a, 2 / 3)) / reduce(lambda x, y: 1 / x + 1 / y, np.power(n_ws, 1 / 3))\n",
      "/home/ucl/modl/rgouvea/anaconda3/envs/env_tfmodnet/lib/python3.8/site-packages/matminer/featurizers/composition/alloy.py:202: RuntimeWarning: invalid value encountered in power\n",
      "  alp_a = np.multiply(1.5, np.power(v_a, 2 / 3)) / reduce(lambda x, y: 1 / x + 1 / y, np.power(n_ws, 1 / 3))\n",
      "/home/ucl/modl/rgouvea/anaconda3/envs/env_tfmodnet/lib/python3.8/site-packages/matminer/featurizers/composition/alloy.py:202: RuntimeWarning: invalid value encountered in power\n",
      "  alp_a = np.multiply(1.5, np.power(v_a, 2 / 3)) / reduce(lambda x, y: 1 / x + 1 / y, np.power(n_ws, 1 / 3))\n",
      "/home/ucl/modl/rgouvea/anaconda3/envs/env_tfmodnet/lib/python3.8/site-packages/matminer/featurizers/composition/alloy.py:202: RuntimeWarning: invalid value encountered in power\n",
      "  alp_a = np.multiply(1.5, np.power(v_a, 2 / 3)) / reduce(lambda x, y: 1 / x + 1 / y, np.power(n_ws, 1 / 3))\n",
      "/home/ucl/modl/rgouvea/anaconda3/envs/env_tfmodnet/lib/python3.8/site-packages/matminer/featurizers/composition/alloy.py:202: RuntimeWarning: invalid value encountered in power\n",
      "  alp_a = np.multiply(1.5, np.power(v_a, 2 / 3)) / reduce(lambda x, y: 1 / x + 1 / y, np.power(n_ws, 1 / 3))\n",
      "/home/ucl/modl/rgouvea/anaconda3/envs/env_tfmodnet/lib/python3.8/site-packages/matminer/featurizers/composition/alloy.py:202: RuntimeWarning: invalid value encountered in power\n",
      "  alp_a = np.multiply(1.5, np.power(v_a, 2 / 3)) / reduce(lambda x, y: 1 / x + 1 / y, np.power(n_ws, 1 / 3))\n",
      "/home/ucl/modl/rgouvea/anaconda3/envs/env_tfmodnet/lib/python3.8/site-packages/matminer/featurizers/composition/alloy.py:202: RuntimeWarning: invalid value encountered in power\n",
      "  alp_a = np.multiply(1.5, np.power(v_a, 2 / 3)) / reduce(lambda x, y: 1 / x + 1 / y, np.power(n_ws, 1 / 3))\n",
      "/home/ucl/modl/rgouvea/anaconda3/envs/env_tfmodnet/lib/python3.8/site-packages/matminer/featurizers/composition/alloy.py:202: RuntimeWarning: invalid value encountered in power\n",
      "  alp_a = np.multiply(1.5, np.power(v_a, 2 / 3)) / reduce(lambda x, y: 1 / x + 1 / y, np.power(n_ws, 1 / 3))\n",
      "/home/ucl/modl/rgouvea/anaconda3/envs/env_tfmodnet/lib/python3.8/site-packages/matminer/featurizers/composition/alloy.py:202: RuntimeWarning: invalid value encountered in power\n",
      "  alp_a = np.multiply(1.5, np.power(v_a, 2 / 3)) / reduce(lambda x, y: 1 / x + 1 / y, np.power(n_ws, 1 / 3))\n",
      "/home/ucl/modl/rgouvea/anaconda3/envs/env_tfmodnet/lib/python3.8/site-packages/matminer/featurizers/composition/alloy.py:202: RuntimeWarning: invalid value encountered in power\n",
      "  alp_a = np.multiply(1.5, np.power(v_a, 2 / 3)) / reduce(lambda x, y: 1 / x + 1 / y, np.power(n_ws, 1 / 3))\n",
      "/home/ucl/modl/rgouvea/anaconda3/envs/env_tfmodnet/lib/python3.8/site-packages/matminer/featurizers/composition/alloy.py:202: RuntimeWarning: invalid value encountered in power\n",
      "  alp_a = np.multiply(1.5, np.power(v_a, 2 / 3)) / reduce(lambda x, y: 1 / x + 1 / y, np.power(n_ws, 1 / 3))\n",
      "/home/ucl/modl/rgouvea/anaconda3/envs/env_tfmodnet/lib/python3.8/site-packages/matminer/featurizers/composition/alloy.py:202: RuntimeWarning: invalid value encountered in power\n",
      "  alp_a = np.multiply(1.5, np.power(v_a, 2 / 3)) / reduce(lambda x, y: 1 / x + 1 / y, np.power(n_ws, 1 / 3))\n",
      "/home/ucl/modl/rgouvea/anaconda3/envs/env_tfmodnet/lib/python3.8/site-packages/matminer/featurizers/composition/alloy.py:202: RuntimeWarning: invalid value encountered in power\n",
      "  alp_a = np.multiply(1.5, np.power(v_a, 2 / 3)) / reduce(lambda x, y: 1 / x + 1 / y, np.power(n_ws, 1 / 3))\n",
      "/home/ucl/modl/rgouvea/anaconda3/envs/env_tfmodnet/lib/python3.8/site-packages/matminer/featurizers/composition/alloy.py:202: RuntimeWarning: invalid value encountered in power\n",
      "  alp_a = np.multiply(1.5, np.power(v_a, 2 / 3)) / reduce(lambda x, y: 1 / x + 1 / y, np.power(n_ws, 1 / 3))\n",
      "/home/ucl/modl/rgouvea/anaconda3/envs/env_tfmodnet/lib/python3.8/site-packages/matminer/featurizers/composition/alloy.py:202: RuntimeWarning: invalid value encountered in power\n",
      "  alp_a = np.multiply(1.5, np.power(v_a, 2 / 3)) / reduce(lambda x, y: 1 / x + 1 / y, np.power(n_ws, 1 / 3))\n",
      "/home/ucl/modl/rgouvea/anaconda3/envs/env_tfmodnet/lib/python3.8/site-packages/matminer/featurizers/composition/alloy.py:202: RuntimeWarning: invalid value encountered in power\n",
      "  alp_a = np.multiply(1.5, np.power(v_a, 2 / 3)) / reduce(lambda x, y: 1 / x + 1 / y, np.power(n_ws, 1 / 3))\n",
      "/home/ucl/modl/rgouvea/anaconda3/envs/env_tfmodnet/lib/python3.8/site-packages/matminer/featurizers/composition/alloy.py:202: RuntimeWarning: invalid value encountered in power\n",
      "  alp_a = np.multiply(1.5, np.power(v_a, 2 / 3)) / reduce(lambda x, y: 1 / x + 1 / y, np.power(n_ws, 1 / 3))\n",
      "/home/ucl/modl/rgouvea/anaconda3/envs/env_tfmodnet/lib/python3.8/site-packages/matminer/featurizers/composition/alloy.py:202: RuntimeWarning: invalid value encountered in power\n",
      "  alp_a = np.multiply(1.5, np.power(v_a, 2 / 3)) / reduce(lambda x, y: 1 / x + 1 / y, np.power(n_ws, 1 / 3))\n",
      "/home/ucl/modl/rgouvea/anaconda3/envs/env_tfmodnet/lib/python3.8/site-packages/matminer/featurizers/composition/alloy.py:202: RuntimeWarning: invalid value encountered in power\n",
      "  alp_a = np.multiply(1.5, np.power(v_a, 2 / 3)) / reduce(lambda x, y: 1 / x + 1 / y, np.power(n_ws, 1 / 3))\n",
      "/home/ucl/modl/rgouvea/anaconda3/envs/env_tfmodnet/lib/python3.8/site-packages/matminer/featurizers/composition/alloy.py:202: RuntimeWarning: invalid value encountered in power\n",
      "  alp_a = np.multiply(1.5, np.power(v_a, 2 / 3)) / reduce(lambda x, y: 1 / x + 1 / y, np.power(n_ws, 1 / 3))\n",
      "/home/ucl/modl/rgouvea/anaconda3/envs/env_tfmodnet/lib/python3.8/site-packages/matminer/featurizers/composition/alloy.py:202: RuntimeWarning: invalid value encountered in power\n",
      "  alp_a = np.multiply(1.5, np.power(v_a, 2 / 3)) / reduce(lambda x, y: 1 / x + 1 / y, np.power(n_ws, 1 / 3))\n",
      "/home/ucl/modl/rgouvea/anaconda3/envs/env_tfmodnet/lib/python3.8/site-packages/matminer/featurizers/composition/alloy.py:202: RuntimeWarning: invalid value encountered in power\n",
      "  alp_a = np.multiply(1.5, np.power(v_a, 2 / 3)) / reduce(lambda x, y: 1 / x + 1 / y, np.power(n_ws, 1 / 3))\n",
      "/home/ucl/modl/rgouvea/anaconda3/envs/env_tfmodnet/lib/python3.8/site-packages/matminer/featurizers/composition/alloy.py:202: RuntimeWarning: invalid value encountered in power\n",
      "  alp_a = np.multiply(1.5, np.power(v_a, 2 / 3)) / reduce(lambda x, y: 1 / x + 1 / y, np.power(n_ws, 1 / 3))\n",
      "/home/ucl/modl/rgouvea/anaconda3/envs/env_tfmodnet/lib/python3.8/site-packages/matminer/featurizers/composition/alloy.py:202: RuntimeWarning: invalid value encountered in power\n",
      "  alp_a = np.multiply(1.5, np.power(v_a, 2 / 3)) / reduce(lambda x, y: 1 / x + 1 / y, np.power(n_ws, 1 / 3))\n",
      "/home/ucl/modl/rgouvea/anaconda3/envs/env_tfmodnet/lib/python3.8/site-packages/matminer/featurizers/composition/alloy.py:202: RuntimeWarning: invalid value encountered in power\n",
      "  alp_a = np.multiply(1.5, np.power(v_a, 2 / 3)) / reduce(lambda x, y: 1 / x + 1 / y, np.power(n_ws, 1 / 3))\n",
      "/home/ucl/modl/rgouvea/anaconda3/envs/env_tfmodnet/lib/python3.8/site-packages/matminer/featurizers/composition/alloy.py:202: RuntimeWarning: invalid value encountered in power\n",
      "  alp_a = np.multiply(1.5, np.power(v_a, 2 / 3)) / reduce(lambda x, y: 1 / x + 1 / y, np.power(n_ws, 1 / 3))\n",
      "/home/ucl/modl/rgouvea/anaconda3/envs/env_tfmodnet/lib/python3.8/site-packages/matminer/featurizers/composition/alloy.py:202: RuntimeWarning: invalid value encountered in power\n",
      "  alp_a = np.multiply(1.5, np.power(v_a, 2 / 3)) / reduce(lambda x, y: 1 / x + 1 / y, np.power(n_ws, 1 / 3))\n",
      "/home/ucl/modl/rgouvea/anaconda3/envs/env_tfmodnet/lib/python3.8/site-packages/matminer/featurizers/composition/alloy.py:202: RuntimeWarning: invalid value encountered in power\n",
      "  alp_a = np.multiply(1.5, np.power(v_a, 2 / 3)) / reduce(lambda x, y: 1 / x + 1 / y, np.power(n_ws, 1 / 3))\n",
      "/home/ucl/modl/rgouvea/anaconda3/envs/env_tfmodnet/lib/python3.8/site-packages/matminer/featurizers/composition/alloy.py:202: RuntimeWarning: invalid value encountered in power\n",
      "  alp_a = np.multiply(1.5, np.power(v_a, 2 / 3)) / reduce(lambda x, y: 1 / x + 1 / y, np.power(n_ws, 1 / 3))\n",
      "/home/ucl/modl/rgouvea/anaconda3/envs/env_tfmodnet/lib/python3.8/site-packages/matminer/featurizers/composition/alloy.py:202: RuntimeWarning: invalid value encountered in power\n",
      "  alp_a = np.multiply(1.5, np.power(v_a, 2 / 3)) / reduce(lambda x, y: 1 / x + 1 / y, np.power(n_ws, 1 / 3))\n",
      "/home/ucl/modl/rgouvea/anaconda3/envs/env_tfmodnet/lib/python3.8/site-packages/matminer/featurizers/composition/alloy.py:202: RuntimeWarning: invalid value encountered in power\n",
      "  alp_a = np.multiply(1.5, np.power(v_a, 2 / 3)) / reduce(lambda x, y: 1 / x + 1 / y, np.power(n_ws, 1 / 3))\n",
      "/home/ucl/modl/rgouvea/anaconda3/envs/env_tfmodnet/lib/python3.8/site-packages/matminer/featurizers/composition/alloy.py:202: RuntimeWarning: invalid value encountered in power\n",
      "  alp_a = np.multiply(1.5, np.power(v_a, 2 / 3)) / reduce(lambda x, y: 1 / x + 1 / y, np.power(n_ws, 1 / 3))\n",
      "/home/ucl/modl/rgouvea/anaconda3/envs/env_tfmodnet/lib/python3.8/site-packages/matminer/featurizers/composition/alloy.py:202: RuntimeWarning: invalid value encountered in power\n",
      "  alp_a = np.multiply(1.5, np.power(v_a, 2 / 3)) / reduce(lambda x, y: 1 / x + 1 / y, np.power(n_ws, 1 / 3))\n",
      "/home/ucl/modl/rgouvea/anaconda3/envs/env_tfmodnet/lib/python3.8/site-packages/matminer/featurizers/composition/alloy.py:202: RuntimeWarning: invalid value encountered in power\n",
      "  alp_a = np.multiply(1.5, np.power(v_a, 2 / 3)) / reduce(lambda x, y: 1 / x + 1 / y, np.power(n_ws, 1 / 3))\n",
      "/home/ucl/modl/rgouvea/anaconda3/envs/env_tfmodnet/lib/python3.8/site-packages/matminer/featurizers/composition/alloy.py:202: RuntimeWarning: invalid value encountered in power\n",
      "  alp_a = np.multiply(1.5, np.power(v_a, 2 / 3)) / reduce(lambda x, y: 1 / x + 1 / y, np.power(n_ws, 1 / 3))\n",
      "/home/ucl/modl/rgouvea/anaconda3/envs/env_tfmodnet/lib/python3.8/site-packages/matminer/featurizers/composition/alloy.py:202: RuntimeWarning: invalid value encountered in power\n",
      "  alp_a = np.multiply(1.5, np.power(v_a, 2 / 3)) / reduce(lambda x, y: 1 / x + 1 / y, np.power(n_ws, 1 / 3))\n",
      "/home/ucl/modl/rgouvea/anaconda3/envs/env_tfmodnet/lib/python3.8/site-packages/matminer/featurizers/composition/alloy.py:202: RuntimeWarning: invalid value encountered in power\n",
      "  alp_a = np.multiply(1.5, np.power(v_a, 2 / 3)) / reduce(lambda x, y: 1 / x + 1 / y, np.power(n_ws, 1 / 3))\n",
      "/home/ucl/modl/rgouvea/anaconda3/envs/env_tfmodnet/lib/python3.8/site-packages/matminer/featurizers/composition/alloy.py:202: RuntimeWarning: invalid value encountered in power\n",
      "  alp_a = np.multiply(1.5, np.power(v_a, 2 / 3)) / reduce(lambda x, y: 1 / x + 1 / y, np.power(n_ws, 1 / 3))\n",
      "/home/ucl/modl/rgouvea/anaconda3/envs/env_tfmodnet/lib/python3.8/site-packages/matminer/featurizers/composition/alloy.py:202: RuntimeWarning: invalid value encountered in power\n",
      "  alp_a = np.multiply(1.5, np.power(v_a, 2 / 3)) / reduce(lambda x, y: 1 / x + 1 / y, np.power(n_ws, 1 / 3))\n",
      "/home/ucl/modl/rgouvea/anaconda3/envs/env_tfmodnet/lib/python3.8/site-packages/matminer/featurizers/composition/alloy.py:202: RuntimeWarning: invalid value encountered in power\n",
      "  alp_a = np.multiply(1.5, np.power(v_a, 2 / 3)) / reduce(lambda x, y: 1 / x + 1 / y, np.power(n_ws, 1 / 3))\n",
      "/home/ucl/modl/rgouvea/anaconda3/envs/env_tfmodnet/lib/python3.8/site-packages/matminer/featurizers/composition/alloy.py:202: RuntimeWarning: invalid value encountered in power\n",
      "  alp_a = np.multiply(1.5, np.power(v_a, 2 / 3)) / reduce(lambda x, y: 1 / x + 1 / y, np.power(n_ws, 1 / 3))\n",
      "/home/ucl/modl/rgouvea/anaconda3/envs/env_tfmodnet/lib/python3.8/site-packages/matminer/featurizers/composition/alloy.py:202: RuntimeWarning: invalid value encountered in power\n",
      "  alp_a = np.multiply(1.5, np.power(v_a, 2 / 3)) / reduce(lambda x, y: 1 / x + 1 / y, np.power(n_ws, 1 / 3))\n",
      "/home/ucl/modl/rgouvea/anaconda3/envs/env_tfmodnet/lib/python3.8/site-packages/matminer/featurizers/composition/alloy.py:202: RuntimeWarning: invalid value encountered in power\n",
      "  alp_a = np.multiply(1.5, np.power(v_a, 2 / 3)) / reduce(lambda x, y: 1 / x + 1 / y, np.power(n_ws, 1 / 3))\n",
      "/home/ucl/modl/rgouvea/anaconda3/envs/env_tfmodnet/lib/python3.8/site-packages/matminer/featurizers/composition/alloy.py:202: RuntimeWarning: invalid value encountered in power\n",
      "  alp_a = np.multiply(1.5, np.power(v_a, 2 / 3)) / reduce(lambda x, y: 1 / x + 1 / y, np.power(n_ws, 1 / 3))\n",
      "/home/ucl/modl/rgouvea/anaconda3/envs/env_tfmodnet/lib/python3.8/site-packages/matminer/featurizers/composition/alloy.py:202: RuntimeWarning: invalid value encountered in power\n",
      "  alp_a = np.multiply(1.5, np.power(v_a, 2 / 3)) / reduce(lambda x, y: 1 / x + 1 / y, np.power(n_ws, 1 / 3))\n",
      "/home/ucl/modl/rgouvea/anaconda3/envs/env_tfmodnet/lib/python3.8/site-packages/matminer/featurizers/composition/alloy.py:202: RuntimeWarning: invalid value encountered in power\n",
      "  alp_a = np.multiply(1.5, np.power(v_a, 2 / 3)) / reduce(lambda x, y: 1 / x + 1 / y, np.power(n_ws, 1 / 3))\n",
      "/home/ucl/modl/rgouvea/anaconda3/envs/env_tfmodnet/lib/python3.8/site-packages/matminer/featurizers/composition/alloy.py:202: RuntimeWarning: invalid value encountered in power\n",
      "  alp_a = np.multiply(1.5, np.power(v_a, 2 / 3)) / reduce(lambda x, y: 1 / x + 1 / y, np.power(n_ws, 1 / 3))\n",
      "/home/ucl/modl/rgouvea/anaconda3/envs/env_tfmodnet/lib/python3.8/site-packages/matminer/featurizers/composition/alloy.py:202: RuntimeWarning: invalid value encountered in power\n",
      "  alp_a = np.multiply(1.5, np.power(v_a, 2 / 3)) / reduce(lambda x, y: 1 / x + 1 / y, np.power(n_ws, 1 / 3))\n",
      "/home/ucl/modl/rgouvea/anaconda3/envs/env_tfmodnet/lib/python3.8/site-packages/matminer/featurizers/composition/alloy.py:202: RuntimeWarning: invalid value encountered in power\n",
      "  alp_a = np.multiply(1.5, np.power(v_a, 2 / 3)) / reduce(lambda x, y: 1 / x + 1 / y, np.power(n_ws, 1 / 3))\n",
      "/home/ucl/modl/rgouvea/anaconda3/envs/env_tfmodnet/lib/python3.8/site-packages/matminer/featurizers/composition/alloy.py:202: RuntimeWarning: invalid value encountered in power\n",
      "  alp_a = np.multiply(1.5, np.power(v_a, 2 / 3)) / reduce(lambda x, y: 1 / x + 1 / y, np.power(n_ws, 1 / 3))\n",
      "/home/ucl/modl/rgouvea/anaconda3/envs/env_tfmodnet/lib/python3.8/site-packages/matminer/featurizers/composition/alloy.py:202: RuntimeWarning: invalid value encountered in power\n",
      "  alp_a = np.multiply(1.5, np.power(v_a, 2 / 3)) / reduce(lambda x, y: 1 / x + 1 / y, np.power(n_ws, 1 / 3))\n",
      "/home/ucl/modl/rgouvea/anaconda3/envs/env_tfmodnet/lib/python3.8/site-packages/matminer/featurizers/composition/alloy.py:202: RuntimeWarning: invalid value encountered in power\n",
      "  alp_a = np.multiply(1.5, np.power(v_a, 2 / 3)) / reduce(lambda x, y: 1 / x + 1 / y, np.power(n_ws, 1 / 3))\n",
      "/home/ucl/modl/rgouvea/anaconda3/envs/env_tfmodnet/lib/python3.8/site-packages/matminer/featurizers/composition/alloy.py:202: RuntimeWarning: invalid value encountered in power\n",
      "  alp_a = np.multiply(1.5, np.power(v_a, 2 / 3)) / reduce(lambda x, y: 1 / x + 1 / y, np.power(n_ws, 1 / 3))\n",
      "/home/ucl/modl/rgouvea/anaconda3/envs/env_tfmodnet/lib/python3.8/site-packages/matminer/featurizers/composition/alloy.py:202: RuntimeWarning: invalid value encountered in power\n",
      "  alp_a = np.multiply(1.5, np.power(v_a, 2 / 3)) / reduce(lambda x, y: 1 / x + 1 / y, np.power(n_ws, 1 / 3))\n",
      "/home/ucl/modl/rgouvea/anaconda3/envs/env_tfmodnet/lib/python3.8/site-packages/matminer/featurizers/composition/alloy.py:202: RuntimeWarning: invalid value encountered in power\n",
      "  alp_a = np.multiply(1.5, np.power(v_a, 2 / 3)) / reduce(lambda x, y: 1 / x + 1 / y, np.power(n_ws, 1 / 3))\n",
      "/home/ucl/modl/rgouvea/anaconda3/envs/env_tfmodnet/lib/python3.8/site-packages/matminer/featurizers/composition/alloy.py:202: RuntimeWarning: invalid value encountered in power\n",
      "  alp_a = np.multiply(1.5, np.power(v_a, 2 / 3)) / reduce(lambda x, y: 1 / x + 1 / y, np.power(n_ws, 1 / 3))\n",
      "/home/ucl/modl/rgouvea/anaconda3/envs/env_tfmodnet/lib/python3.8/site-packages/matminer/featurizers/composition/alloy.py:202: RuntimeWarning: invalid value encountered in power\n",
      "  alp_a = np.multiply(1.5, np.power(v_a, 2 / 3)) / reduce(lambda x, y: 1 / x + 1 / y, np.power(n_ws, 1 / 3))\n",
      "/home/ucl/modl/rgouvea/anaconda3/envs/env_tfmodnet/lib/python3.8/site-packages/matminer/featurizers/composition/alloy.py:202: RuntimeWarning: invalid value encountered in power\n",
      "  alp_a = np.multiply(1.5, np.power(v_a, 2 / 3)) / reduce(lambda x, y: 1 / x + 1 / y, np.power(n_ws, 1 / 3))\n",
      "/home/ucl/modl/rgouvea/anaconda3/envs/env_tfmodnet/lib/python3.8/site-packages/matminer/featurizers/composition/alloy.py:202: RuntimeWarning: invalid value encountered in power\n",
      "  alp_a = np.multiply(1.5, np.power(v_a, 2 / 3)) / reduce(lambda x, y: 1 / x + 1 / y, np.power(n_ws, 1 / 3))\n",
      "/home/ucl/modl/rgouvea/anaconda3/envs/env_tfmodnet/lib/python3.8/site-packages/matminer/featurizers/composition/alloy.py:219: RuntimeWarning: invalid value encountered in double_scalars\n",
      "  hab_elast = (2 * compr[0] * shear_mod[1] * np.power((vab_a[0] - vba_a[0]), 2)) / (\n",
      "/home/ucl/modl/rgouvea/anaconda3/envs/env_tfmodnet/lib/python3.8/site-packages/matminer/featurizers/composition/alloy.py:223: RuntimeWarning: invalid value encountered in double_scalars\n",
      "  hba_elast = (2 * compr[1] * shear_mod[0] * np.power((vba_a[1] - vab_a[1]), 2)) / (\n",
      "/home/ucl/modl/rgouvea/anaconda3/envs/env_tfmodnet/lib/python3.8/site-packages/matminer/featurizers/composition/alloy.py:202: RuntimeWarning: invalid value encountered in power\n",
      "  alp_a = np.multiply(1.5, np.power(v_a, 2 / 3)) / reduce(lambda x, y: 1 / x + 1 / y, np.power(n_ws, 1 / 3))\n",
      "/home/ucl/modl/rgouvea/anaconda3/envs/env_tfmodnet/lib/python3.8/site-packages/matminer/featurizers/composition/alloy.py:202: RuntimeWarning: invalid value encountered in power\n",
      "  alp_a = np.multiply(1.5, np.power(v_a, 2 / 3)) / reduce(lambda x, y: 1 / x + 1 / y, np.power(n_ws, 1 / 3))\n",
      "/home/ucl/modl/rgouvea/anaconda3/envs/env_tfmodnet/lib/python3.8/site-packages/matminer/featurizers/composition/alloy.py:202: RuntimeWarning: invalid value encountered in power\n",
      "  alp_a = np.multiply(1.5, np.power(v_a, 2 / 3)) / reduce(lambda x, y: 1 / x + 1 / y, np.power(n_ws, 1 / 3))\n",
      "/home/ucl/modl/rgouvea/anaconda3/envs/env_tfmodnet/lib/python3.8/site-packages/matminer/featurizers/composition/alloy.py:202: RuntimeWarning: invalid value encountered in power\n",
      "  alp_a = np.multiply(1.5, np.power(v_a, 2 / 3)) / reduce(lambda x, y: 1 / x + 1 / y, np.power(n_ws, 1 / 3))\n",
      "/home/ucl/modl/rgouvea/anaconda3/envs/env_tfmodnet/lib/python3.8/site-packages/matminer/featurizers/composition/alloy.py:202: RuntimeWarning: invalid value encountered in power\n",
      "  alp_a = np.multiply(1.5, np.power(v_a, 2 / 3)) / reduce(lambda x, y: 1 / x + 1 / y, np.power(n_ws, 1 / 3))\n",
      "/home/ucl/modl/rgouvea/anaconda3/envs/env_tfmodnet/lib/python3.8/site-packages/matminer/featurizers/composition/alloy.py:202: RuntimeWarning: invalid value encountered in power\n",
      "  alp_a = np.multiply(1.5, np.power(v_a, 2 / 3)) / reduce(lambda x, y: 1 / x + 1 / y, np.power(n_ws, 1 / 3))\n",
      "/home/ucl/modl/rgouvea/anaconda3/envs/env_tfmodnet/lib/python3.8/site-packages/matminer/featurizers/composition/alloy.py:202: RuntimeWarning: invalid value encountered in power\n",
      "  alp_a = np.multiply(1.5, np.power(v_a, 2 / 3)) / reduce(lambda x, y: 1 / x + 1 / y, np.power(n_ws, 1 / 3))\n",
      "/home/ucl/modl/rgouvea/anaconda3/envs/env_tfmodnet/lib/python3.8/site-packages/matminer/featurizers/composition/alloy.py:202: RuntimeWarning: invalid value encountered in power\n",
      "  alp_a = np.multiply(1.5, np.power(v_a, 2 / 3)) / reduce(lambda x, y: 1 / x + 1 / y, np.power(n_ws, 1 / 3))\n",
      "/home/ucl/modl/rgouvea/anaconda3/envs/env_tfmodnet/lib/python3.8/site-packages/matminer/featurizers/composition/alloy.py:202: RuntimeWarning: invalid value encountered in power\n",
      "  alp_a = np.multiply(1.5, np.power(v_a, 2 / 3)) / reduce(lambda x, y: 1 / x + 1 / y, np.power(n_ws, 1 / 3))\n",
      "/home/ucl/modl/rgouvea/anaconda3/envs/env_tfmodnet/lib/python3.8/site-packages/matminer/featurizers/composition/alloy.py:202: RuntimeWarning: invalid value encountered in power\n",
      "  alp_a = np.multiply(1.5, np.power(v_a, 2 / 3)) / reduce(lambda x, y: 1 / x + 1 / y, np.power(n_ws, 1 / 3))\n",
      "/home/ucl/modl/rgouvea/anaconda3/envs/env_tfmodnet/lib/python3.8/site-packages/matminer/featurizers/composition/alloy.py:202: RuntimeWarning: invalid value encountered in power\n",
      "  alp_a = np.multiply(1.5, np.power(v_a, 2 / 3)) / reduce(lambda x, y: 1 / x + 1 / y, np.power(n_ws, 1 / 3))\n",
      "/home/ucl/modl/rgouvea/anaconda3/envs/env_tfmodnet/lib/python3.8/site-packages/matminer/featurizers/composition/alloy.py:202: RuntimeWarning: invalid value encountered in power\n",
      "  alp_a = np.multiply(1.5, np.power(v_a, 2 / 3)) / reduce(lambda x, y: 1 / x + 1 / y, np.power(n_ws, 1 / 3))\n",
      "/home/ucl/modl/rgouvea/anaconda3/envs/env_tfmodnet/lib/python3.8/site-packages/matminer/featurizers/composition/alloy.py:202: RuntimeWarning: invalid value encountered in power\n",
      "  alp_a = np.multiply(1.5, np.power(v_a, 2 / 3)) / reduce(lambda x, y: 1 / x + 1 / y, np.power(n_ws, 1 / 3))\n",
      "/home/ucl/modl/rgouvea/anaconda3/envs/env_tfmodnet/lib/python3.8/site-packages/matminer/featurizers/composition/alloy.py:219: RuntimeWarning: invalid value encountered in double_scalars\n",
      "  hab_elast = (2 * compr[0] * shear_mod[1] * np.power((vab_a[0] - vba_a[0]), 2)) / (\n",
      "/home/ucl/modl/rgouvea/anaconda3/envs/env_tfmodnet/lib/python3.8/site-packages/matminer/featurizers/composition/alloy.py:223: RuntimeWarning: invalid value encountered in double_scalars\n",
      "  hba_elast = (2 * compr[1] * shear_mod[0] * np.power((vba_a[1] - vab_a[1]), 2)) / (\n",
      "/home/ucl/modl/rgouvea/anaconda3/envs/env_tfmodnet/lib/python3.8/site-packages/matminer/featurizers/composition/alloy.py:202: RuntimeWarning: invalid value encountered in power\n",
      "  alp_a = np.multiply(1.5, np.power(v_a, 2 / 3)) / reduce(lambda x, y: 1 / x + 1 / y, np.power(n_ws, 1 / 3))\n",
      "/home/ucl/modl/rgouvea/anaconda3/envs/env_tfmodnet/lib/python3.8/site-packages/matminer/featurizers/composition/alloy.py:202: RuntimeWarning: invalid value encountered in power\n",
      "  alp_a = np.multiply(1.5, np.power(v_a, 2 / 3)) / reduce(lambda x, y: 1 / x + 1 / y, np.power(n_ws, 1 / 3))\n",
      "/home/ucl/modl/rgouvea/anaconda3/envs/env_tfmodnet/lib/python3.8/site-packages/matminer/featurizers/composition/alloy.py:202: RuntimeWarning: invalid value encountered in power\n",
      "  alp_a = np.multiply(1.5, np.power(v_a, 2 / 3)) / reduce(lambda x, y: 1 / x + 1 / y, np.power(n_ws, 1 / 3))\n",
      "/home/ucl/modl/rgouvea/anaconda3/envs/env_tfmodnet/lib/python3.8/site-packages/matminer/featurizers/composition/alloy.py:202: RuntimeWarning: invalid value encountered in power\n",
      "  alp_a = np.multiply(1.5, np.power(v_a, 2 / 3)) / reduce(lambda x, y: 1 / x + 1 / y, np.power(n_ws, 1 / 3))\n",
      "/home/ucl/modl/rgouvea/anaconda3/envs/env_tfmodnet/lib/python3.8/site-packages/matminer/featurizers/composition/alloy.py:202: RuntimeWarning: invalid value encountered in power\n",
      "  alp_a = np.multiply(1.5, np.power(v_a, 2 / 3)) / reduce(lambda x, y: 1 / x + 1 / y, np.power(n_ws, 1 / 3))\n",
      "/home/ucl/modl/rgouvea/anaconda3/envs/env_tfmodnet/lib/python3.8/site-packages/matminer/featurizers/composition/alloy.py:202: RuntimeWarning: invalid value encountered in power\n",
      "  alp_a = np.multiply(1.5, np.power(v_a, 2 / 3)) / reduce(lambda x, y: 1 / x + 1 / y, np.power(n_ws, 1 / 3))\n",
      "/home/ucl/modl/rgouvea/anaconda3/envs/env_tfmodnet/lib/python3.8/site-packages/matminer/featurizers/composition/alloy.py:202: RuntimeWarning: invalid value encountered in power\n",
      "  alp_a = np.multiply(1.5, np.power(v_a, 2 / 3)) / reduce(lambda x, y: 1 / x + 1 / y, np.power(n_ws, 1 / 3))\n",
      "/home/ucl/modl/rgouvea/anaconda3/envs/env_tfmodnet/lib/python3.8/site-packages/matminer/featurizers/composition/alloy.py:202: RuntimeWarning: invalid value encountered in power\n",
      "  alp_a = np.multiply(1.5, np.power(v_a, 2 / 3)) / reduce(lambda x, y: 1 / x + 1 / y, np.power(n_ws, 1 / 3))\n",
      "/home/ucl/modl/rgouvea/anaconda3/envs/env_tfmodnet/lib/python3.8/site-packages/matminer/featurizers/composition/alloy.py:202: RuntimeWarning: invalid value encountered in power\n",
      "  alp_a = np.multiply(1.5, np.power(v_a, 2 / 3)) / reduce(lambda x, y: 1 / x + 1 / y, np.power(n_ws, 1 / 3))\n",
      "/home/ucl/modl/rgouvea/anaconda3/envs/env_tfmodnet/lib/python3.8/site-packages/matminer/featurizers/composition/alloy.py:202: RuntimeWarning: invalid value encountered in power\n",
      "  alp_a = np.multiply(1.5, np.power(v_a, 2 / 3)) / reduce(lambda x, y: 1 / x + 1 / y, np.power(n_ws, 1 / 3))\n",
      "/home/ucl/modl/rgouvea/anaconda3/envs/env_tfmodnet/lib/python3.8/site-packages/matminer/featurizers/composition/alloy.py:202: RuntimeWarning: invalid value encountered in power\n",
      "  alp_a = np.multiply(1.5, np.power(v_a, 2 / 3)) / reduce(lambda x, y: 1 / x + 1 / y, np.power(n_ws, 1 / 3))\n",
      "/home/ucl/modl/rgouvea/anaconda3/envs/env_tfmodnet/lib/python3.8/site-packages/matminer/featurizers/composition/alloy.py:202: RuntimeWarning: invalid value encountered in power\n",
      "  alp_a = np.multiply(1.5, np.power(v_a, 2 / 3)) / reduce(lambda x, y: 1 / x + 1 / y, np.power(n_ws, 1 / 3))\n",
      "/home/ucl/modl/rgouvea/anaconda3/envs/env_tfmodnet/lib/python3.8/site-packages/matminer/featurizers/composition/alloy.py:202: RuntimeWarning: invalid value encountered in power\n",
      "  alp_a = np.multiply(1.5, np.power(v_a, 2 / 3)) / reduce(lambda x, y: 1 / x + 1 / y, np.power(n_ws, 1 / 3))\n",
      "/home/ucl/modl/rgouvea/anaconda3/envs/env_tfmodnet/lib/python3.8/site-packages/matminer/featurizers/composition/alloy.py:202: RuntimeWarning: invalid value encountered in power\n",
      "  alp_a = np.multiply(1.5, np.power(v_a, 2 / 3)) / reduce(lambda x, y: 1 / x + 1 / y, np.power(n_ws, 1 / 3))\n",
      "/home/ucl/modl/rgouvea/anaconda3/envs/env_tfmodnet/lib/python3.8/site-packages/matminer/featurizers/composition/alloy.py:202: RuntimeWarning: invalid value encountered in power\n",
      "  alp_a = np.multiply(1.5, np.power(v_a, 2 / 3)) / reduce(lambda x, y: 1 / x + 1 / y, np.power(n_ws, 1 / 3))\n",
      "/home/ucl/modl/rgouvea/anaconda3/envs/env_tfmodnet/lib/python3.8/site-packages/matminer/featurizers/composition/alloy.py:202: RuntimeWarning: invalid value encountered in power\n",
      "  alp_a = np.multiply(1.5, np.power(v_a, 2 / 3)) / reduce(lambda x, y: 1 / x + 1 / y, np.power(n_ws, 1 / 3))\n",
      "/home/ucl/modl/rgouvea/anaconda3/envs/env_tfmodnet/lib/python3.8/site-packages/matminer/featurizers/composition/alloy.py:202: RuntimeWarning: invalid value encountered in power\n",
      "  alp_a = np.multiply(1.5, np.power(v_a, 2 / 3)) / reduce(lambda x, y: 1 / x + 1 / y, np.power(n_ws, 1 / 3))\n",
      "/home/ucl/modl/rgouvea/anaconda3/envs/env_tfmodnet/lib/python3.8/site-packages/matminer/featurizers/composition/alloy.py:202: RuntimeWarning: invalid value encountered in power\n",
      "  alp_a = np.multiply(1.5, np.power(v_a, 2 / 3)) / reduce(lambda x, y: 1 / x + 1 / y, np.power(n_ws, 1 / 3))\n",
      "/home/ucl/modl/rgouvea/anaconda3/envs/env_tfmodnet/lib/python3.8/site-packages/matminer/featurizers/composition/alloy.py:219: RuntimeWarning: invalid value encountered in double_scalars\n",
      "  hab_elast = (2 * compr[0] * shear_mod[1] * np.power((vab_a[0] - vba_a[0]), 2)) / (\n",
      "/home/ucl/modl/rgouvea/anaconda3/envs/env_tfmodnet/lib/python3.8/site-packages/matminer/featurizers/composition/alloy.py:223: RuntimeWarning: invalid value encountered in double_scalars\n",
      "  hba_elast = (2 * compr[1] * shear_mod[0] * np.power((vba_a[1] - vab_a[1]), 2)) / (\n",
      "/home/ucl/modl/rgouvea/anaconda3/envs/env_tfmodnet/lib/python3.8/site-packages/matminer/featurizers/composition/alloy.py:202: RuntimeWarning: invalid value encountered in power\n",
      "  alp_a = np.multiply(1.5, np.power(v_a, 2 / 3)) / reduce(lambda x, y: 1 / x + 1 / y, np.power(n_ws, 1 / 3))\n",
      "/home/ucl/modl/rgouvea/anaconda3/envs/env_tfmodnet/lib/python3.8/site-packages/matminer/featurizers/composition/alloy.py:202: RuntimeWarning: invalid value encountered in power\n",
      "  alp_a = np.multiply(1.5, np.power(v_a, 2 / 3)) / reduce(lambda x, y: 1 / x + 1 / y, np.power(n_ws, 1 / 3))\n",
      "/home/ucl/modl/rgouvea/anaconda3/envs/env_tfmodnet/lib/python3.8/site-packages/matminer/featurizers/composition/alloy.py:219: RuntimeWarning: invalid value encountered in double_scalars\n",
      "  hab_elast = (2 * compr[0] * shear_mod[1] * np.power((vab_a[0] - vba_a[0]), 2)) / (\n",
      "/home/ucl/modl/rgouvea/anaconda3/envs/env_tfmodnet/lib/python3.8/site-packages/matminer/featurizers/composition/alloy.py:223: RuntimeWarning: invalid value encountered in double_scalars\n",
      "  hba_elast = (2 * compr[1] * shear_mod[0] * np.power((vba_a[1] - vab_a[1]), 2)) / (\n",
      "/home/ucl/modl/rgouvea/anaconda3/envs/env_tfmodnet/lib/python3.8/site-packages/matminer/featurizers/composition/alloy.py:202: RuntimeWarning: invalid value encountered in power\n",
      "  alp_a = np.multiply(1.5, np.power(v_a, 2 / 3)) / reduce(lambda x, y: 1 / x + 1 / y, np.power(n_ws, 1 / 3))\n",
      "/home/ucl/modl/rgouvea/anaconda3/envs/env_tfmodnet/lib/python3.8/site-packages/matminer/featurizers/composition/alloy.py:202: RuntimeWarning: invalid value encountered in power\n",
      "  alp_a = np.multiply(1.5, np.power(v_a, 2 / 3)) / reduce(lambda x, y: 1 / x + 1 / y, np.power(n_ws, 1 / 3))\n",
      "/home/ucl/modl/rgouvea/anaconda3/envs/env_tfmodnet/lib/python3.8/site-packages/matminer/featurizers/composition/alloy.py:202: RuntimeWarning: invalid value encountered in power\n",
      "  alp_a = np.multiply(1.5, np.power(v_a, 2 / 3)) / reduce(lambda x, y: 1 / x + 1 / y, np.power(n_ws, 1 / 3))\n",
      "/home/ucl/modl/rgouvea/anaconda3/envs/env_tfmodnet/lib/python3.8/site-packages/matminer/featurizers/composition/alloy.py:202: RuntimeWarning: invalid value encountered in power\n",
      "  alp_a = np.multiply(1.5, np.power(v_a, 2 / 3)) / reduce(lambda x, y: 1 / x + 1 / y, np.power(n_ws, 1 / 3))\n",
      "/home/ucl/modl/rgouvea/anaconda3/envs/env_tfmodnet/lib/python3.8/site-packages/matminer/featurizers/composition/alloy.py:202: RuntimeWarning: invalid value encountered in power\n",
      "  alp_a = np.multiply(1.5, np.power(v_a, 2 / 3)) / reduce(lambda x, y: 1 / x + 1 / y, np.power(n_ws, 1 / 3))\n",
      "/home/ucl/modl/rgouvea/anaconda3/envs/env_tfmodnet/lib/python3.8/site-packages/matminer/featurizers/composition/alloy.py:202: RuntimeWarning: invalid value encountered in power\n",
      "  alp_a = np.multiply(1.5, np.power(v_a, 2 / 3)) / reduce(lambda x, y: 1 / x + 1 / y, np.power(n_ws, 1 / 3))\n",
      "/home/ucl/modl/rgouvea/anaconda3/envs/env_tfmodnet/lib/python3.8/site-packages/matminer/featurizers/composition/alloy.py:202: RuntimeWarning: invalid value encountered in power\n",
      "  alp_a = np.multiply(1.5, np.power(v_a, 2 / 3)) / reduce(lambda x, y: 1 / x + 1 / y, np.power(n_ws, 1 / 3))\n",
      "/home/ucl/modl/rgouvea/anaconda3/envs/env_tfmodnet/lib/python3.8/site-packages/matminer/featurizers/composition/alloy.py:202: RuntimeWarning: invalid value encountered in power\n",
      "  alp_a = np.multiply(1.5, np.power(v_a, 2 / 3)) / reduce(lambda x, y: 1 / x + 1 / y, np.power(n_ws, 1 / 3))\n",
      "/home/ucl/modl/rgouvea/anaconda3/envs/env_tfmodnet/lib/python3.8/site-packages/matminer/featurizers/composition/alloy.py:202: RuntimeWarning: invalid value encountered in power\n",
      "  alp_a = np.multiply(1.5, np.power(v_a, 2 / 3)) / reduce(lambda x, y: 1 / x + 1 / y, np.power(n_ws, 1 / 3))\n",
      "/home/ucl/modl/rgouvea/anaconda3/envs/env_tfmodnet/lib/python3.8/site-packages/matminer/featurizers/composition/alloy.py:202: RuntimeWarning: invalid value encountered in power\n",
      "  alp_a = np.multiply(1.5, np.power(v_a, 2 / 3)) / reduce(lambda x, y: 1 / x + 1 / y, np.power(n_ws, 1 / 3))\n",
      "/home/ucl/modl/rgouvea/anaconda3/envs/env_tfmodnet/lib/python3.8/site-packages/matminer/featurizers/composition/alloy.py:202: RuntimeWarning: invalid value encountered in power\n",
      "  alp_a = np.multiply(1.5, np.power(v_a, 2 / 3)) / reduce(lambda x, y: 1 / x + 1 / y, np.power(n_ws, 1 / 3))\n",
      "/home/ucl/modl/rgouvea/anaconda3/envs/env_tfmodnet/lib/python3.8/site-packages/matminer/featurizers/composition/alloy.py:202: RuntimeWarning: invalid value encountered in power\n",
      "  alp_a = np.multiply(1.5, np.power(v_a, 2 / 3)) / reduce(lambda x, y: 1 / x + 1 / y, np.power(n_ws, 1 / 3))\n",
      "/home/ucl/modl/rgouvea/anaconda3/envs/env_tfmodnet/lib/python3.8/site-packages/matminer/featurizers/composition/alloy.py:202: RuntimeWarning: invalid value encountered in power\n",
      "  alp_a = np.multiply(1.5, np.power(v_a, 2 / 3)) / reduce(lambda x, y: 1 / x + 1 / y, np.power(n_ws, 1 / 3))\n",
      "/home/ucl/modl/rgouvea/anaconda3/envs/env_tfmodnet/lib/python3.8/site-packages/matminer/featurizers/composition/alloy.py:202: RuntimeWarning: invalid value encountered in power\n",
      "  alp_a = np.multiply(1.5, np.power(v_a, 2 / 3)) / reduce(lambda x, y: 1 / x + 1 / y, np.power(n_ws, 1 / 3))\n",
      "/home/ucl/modl/rgouvea/anaconda3/envs/env_tfmodnet/lib/python3.8/site-packages/matminer/featurizers/composition/alloy.py:202: RuntimeWarning: invalid value encountered in power\n",
      "  alp_a = np.multiply(1.5, np.power(v_a, 2 / 3)) / reduce(lambda x, y: 1 / x + 1 / y, np.power(n_ws, 1 / 3))\n",
      "/home/ucl/modl/rgouvea/anaconda3/envs/env_tfmodnet/lib/python3.8/site-packages/matminer/featurizers/composition/alloy.py:202: RuntimeWarning: invalid value encountered in power\n",
      "  alp_a = np.multiply(1.5, np.power(v_a, 2 / 3)) / reduce(lambda x, y: 1 / x + 1 / y, np.power(n_ws, 1 / 3))\n",
      "/home/ucl/modl/rgouvea/anaconda3/envs/env_tfmodnet/lib/python3.8/site-packages/matminer/featurizers/composition/alloy.py:202: RuntimeWarning: invalid value encountered in power\n",
      "  alp_a = np.multiply(1.5, np.power(v_a, 2 / 3)) / reduce(lambda x, y: 1 / x + 1 / y, np.power(n_ws, 1 / 3))\n",
      "/home/ucl/modl/rgouvea/anaconda3/envs/env_tfmodnet/lib/python3.8/site-packages/matminer/featurizers/composition/alloy.py:219: RuntimeWarning: invalid value encountered in double_scalars\n",
      "  hab_elast = (2 * compr[0] * shear_mod[1] * np.power((vab_a[0] - vba_a[0]), 2)) / (\n",
      "/home/ucl/modl/rgouvea/anaconda3/envs/env_tfmodnet/lib/python3.8/site-packages/matminer/featurizers/composition/alloy.py:223: RuntimeWarning: invalid value encountered in double_scalars\n",
      "  hba_elast = (2 * compr[1] * shear_mod[0] * np.power((vba_a[1] - vab_a[1]), 2)) / (\n",
      "/home/ucl/modl/rgouvea/anaconda3/envs/env_tfmodnet/lib/python3.8/site-packages/matminer/featurizers/composition/alloy.py:202: RuntimeWarning: invalid value encountered in power\n",
      "  alp_a = np.multiply(1.5, np.power(v_a, 2 / 3)) / reduce(lambda x, y: 1 / x + 1 / y, np.power(n_ws, 1 / 3))\n",
      "/home/ucl/modl/rgouvea/anaconda3/envs/env_tfmodnet/lib/python3.8/site-packages/matminer/featurizers/composition/alloy.py:202: RuntimeWarning: invalid value encountered in power\n",
      "  alp_a = np.multiply(1.5, np.power(v_a, 2 / 3)) / reduce(lambda x, y: 1 / x + 1 / y, np.power(n_ws, 1 / 3))\n",
      "/home/ucl/modl/rgouvea/anaconda3/envs/env_tfmodnet/lib/python3.8/site-packages/matminer/featurizers/composition/alloy.py:202: RuntimeWarning: invalid value encountered in power\n",
      "  alp_a = np.multiply(1.5, np.power(v_a, 2 / 3)) / reduce(lambda x, y: 1 / x + 1 / y, np.power(n_ws, 1 / 3))\n",
      "/home/ucl/modl/rgouvea/anaconda3/envs/env_tfmodnet/lib/python3.8/site-packages/matminer/featurizers/composition/alloy.py:202: RuntimeWarning: invalid value encountered in power\n",
      "  alp_a = np.multiply(1.5, np.power(v_a, 2 / 3)) / reduce(lambda x, y: 1 / x + 1 / y, np.power(n_ws, 1 / 3))\n",
      "/home/ucl/modl/rgouvea/anaconda3/envs/env_tfmodnet/lib/python3.8/site-packages/matminer/featurizers/composition/alloy.py:202: RuntimeWarning: invalid value encountered in power\n",
      "  alp_a = np.multiply(1.5, np.power(v_a, 2 / 3)) / reduce(lambda x, y: 1 / x + 1 / y, np.power(n_ws, 1 / 3))\n",
      "/home/ucl/modl/rgouvea/anaconda3/envs/env_tfmodnet/lib/python3.8/site-packages/matminer/featurizers/composition/alloy.py:202: RuntimeWarning: invalid value encountered in power\n",
      "  alp_a = np.multiply(1.5, np.power(v_a, 2 / 3)) / reduce(lambda x, y: 1 / x + 1 / y, np.power(n_ws, 1 / 3))\n",
      "/home/ucl/modl/rgouvea/anaconda3/envs/env_tfmodnet/lib/python3.8/site-packages/matminer/featurizers/composition/alloy.py:202: RuntimeWarning: invalid value encountered in power\n",
      "  alp_a = np.multiply(1.5, np.power(v_a, 2 / 3)) / reduce(lambda x, y: 1 / x + 1 / y, np.power(n_ws, 1 / 3))\n",
      "/home/ucl/modl/rgouvea/anaconda3/envs/env_tfmodnet/lib/python3.8/site-packages/matminer/featurizers/composition/alloy.py:202: RuntimeWarning: invalid value encountered in power\n",
      "  alp_a = np.multiply(1.5, np.power(v_a, 2 / 3)) / reduce(lambda x, y: 1 / x + 1 / y, np.power(n_ws, 1 / 3))\n",
      "/home/ucl/modl/rgouvea/anaconda3/envs/env_tfmodnet/lib/python3.8/site-packages/matminer/featurizers/composition/alloy.py:202: RuntimeWarning: invalid value encountered in power\n",
      "  alp_a = np.multiply(1.5, np.power(v_a, 2 / 3)) / reduce(lambda x, y: 1 / x + 1 / y, np.power(n_ws, 1 / 3))\n",
      "/home/ucl/modl/rgouvea/anaconda3/envs/env_tfmodnet/lib/python3.8/site-packages/matminer/featurizers/composition/alloy.py:202: RuntimeWarning: invalid value encountered in power\n",
      "  alp_a = np.multiply(1.5, np.power(v_a, 2 / 3)) / reduce(lambda x, y: 1 / x + 1 / y, np.power(n_ws, 1 / 3))\n",
      "/home/ucl/modl/rgouvea/anaconda3/envs/env_tfmodnet/lib/python3.8/site-packages/matminer/featurizers/composition/alloy.py:202: RuntimeWarning: invalid value encountered in power\n",
      "  alp_a = np.multiply(1.5, np.power(v_a, 2 / 3)) / reduce(lambda x, y: 1 / x + 1 / y, np.power(n_ws, 1 / 3))\n",
      "/home/ucl/modl/rgouvea/anaconda3/envs/env_tfmodnet/lib/python3.8/site-packages/matminer/featurizers/composition/alloy.py:202: RuntimeWarning: invalid value encountered in power\n",
      "  alp_a = np.multiply(1.5, np.power(v_a, 2 / 3)) / reduce(lambda x, y: 1 / x + 1 / y, np.power(n_ws, 1 / 3))\n",
      "/home/ucl/modl/rgouvea/anaconda3/envs/env_tfmodnet/lib/python3.8/site-packages/matminer/featurizers/composition/alloy.py:202: RuntimeWarning: invalid value encountered in power\n",
      "  alp_a = np.multiply(1.5, np.power(v_a, 2 / 3)) / reduce(lambda x, y: 1 / x + 1 / y, np.power(n_ws, 1 / 3))\n",
      "/home/ucl/modl/rgouvea/anaconda3/envs/env_tfmodnet/lib/python3.8/site-packages/matminer/featurizers/composition/alloy.py:202: RuntimeWarning: invalid value encountered in power\n",
      "  alp_a = np.multiply(1.5, np.power(v_a, 2 / 3)) / reduce(lambda x, y: 1 / x + 1 / y, np.power(n_ws, 1 / 3))\n",
      "/home/ucl/modl/rgouvea/anaconda3/envs/env_tfmodnet/lib/python3.8/site-packages/matminer/featurizers/composition/alloy.py:202: RuntimeWarning: invalid value encountered in power\n",
      "  alp_a = np.multiply(1.5, np.power(v_a, 2 / 3)) / reduce(lambda x, y: 1 / x + 1 / y, np.power(n_ws, 1 / 3))\n",
      "/home/ucl/modl/rgouvea/anaconda3/envs/env_tfmodnet/lib/python3.8/site-packages/matminer/featurizers/composition/alloy.py:202: RuntimeWarning: invalid value encountered in power\n",
      "  alp_a = np.multiply(1.5, np.power(v_a, 2 / 3)) / reduce(lambda x, y: 1 / x + 1 / y, np.power(n_ws, 1 / 3))\n",
      "/home/ucl/modl/rgouvea/anaconda3/envs/env_tfmodnet/lib/python3.8/site-packages/matminer/featurizers/composition/alloy.py:202: RuntimeWarning: invalid value encountered in power\n",
      "  alp_a = np.multiply(1.5, np.power(v_a, 2 / 3)) / reduce(lambda x, y: 1 / x + 1 / y, np.power(n_ws, 1 / 3))\n",
      "/home/ucl/modl/rgouvea/anaconda3/envs/env_tfmodnet/lib/python3.8/site-packages/matminer/featurizers/composition/alloy.py:202: RuntimeWarning: invalid value encountered in power\n",
      "  alp_a = np.multiply(1.5, np.power(v_a, 2 / 3)) / reduce(lambda x, y: 1 / x + 1 / y, np.power(n_ws, 1 / 3))\n",
      "/home/ucl/modl/rgouvea/anaconda3/envs/env_tfmodnet/lib/python3.8/site-packages/matminer/featurizers/composition/alloy.py:202: RuntimeWarning: invalid value encountered in power\n",
      "  alp_a = np.multiply(1.5, np.power(v_a, 2 / 3)) / reduce(lambda x, y: 1 / x + 1 / y, np.power(n_ws, 1 / 3))\n",
      "/home/ucl/modl/rgouvea/anaconda3/envs/env_tfmodnet/lib/python3.8/site-packages/matminer/featurizers/composition/alloy.py:202: RuntimeWarning: invalid value encountered in power\n",
      "  alp_a = np.multiply(1.5, np.power(v_a, 2 / 3)) / reduce(lambda x, y: 1 / x + 1 / y, np.power(n_ws, 1 / 3))\n",
      "/home/ucl/modl/rgouvea/anaconda3/envs/env_tfmodnet/lib/python3.8/site-packages/matminer/featurizers/composition/alloy.py:202: RuntimeWarning: invalid value encountered in power\n",
      "  alp_a = np.multiply(1.5, np.power(v_a, 2 / 3)) / reduce(lambda x, y: 1 / x + 1 / y, np.power(n_ws, 1 / 3))\n",
      "/home/ucl/modl/rgouvea/anaconda3/envs/env_tfmodnet/lib/python3.8/site-packages/matminer/featurizers/composition/alloy.py:202: RuntimeWarning: invalid value encountered in power\n",
      "  alp_a = np.multiply(1.5, np.power(v_a, 2 / 3)) / reduce(lambda x, y: 1 / x + 1 / y, np.power(n_ws, 1 / 3))\n",
      "/home/ucl/modl/rgouvea/anaconda3/envs/env_tfmodnet/lib/python3.8/site-packages/matminer/featurizers/composition/alloy.py:202: RuntimeWarning: invalid value encountered in power\n",
      "  alp_a = np.multiply(1.5, np.power(v_a, 2 / 3)) / reduce(lambda x, y: 1 / x + 1 / y, np.power(n_ws, 1 / 3))\n",
      "/home/ucl/modl/rgouvea/anaconda3/envs/env_tfmodnet/lib/python3.8/site-packages/matminer/featurizers/composition/alloy.py:202: RuntimeWarning: invalid value encountered in power\n",
      "  alp_a = np.multiply(1.5, np.power(v_a, 2 / 3)) / reduce(lambda x, y: 1 / x + 1 / y, np.power(n_ws, 1 / 3))\n",
      "/home/ucl/modl/rgouvea/anaconda3/envs/env_tfmodnet/lib/python3.8/site-packages/matminer/featurizers/composition/alloy.py:202: RuntimeWarning: invalid value encountered in power\n",
      "  alp_a = np.multiply(1.5, np.power(v_a, 2 / 3)) / reduce(lambda x, y: 1 / x + 1 / y, np.power(n_ws, 1 / 3))\n",
      "/home/ucl/modl/rgouvea/anaconda3/envs/env_tfmodnet/lib/python3.8/site-packages/matminer/featurizers/composition/alloy.py:202: RuntimeWarning: invalid value encountered in power\n",
      "  alp_a = np.multiply(1.5, np.power(v_a, 2 / 3)) / reduce(lambda x, y: 1 / x + 1 / y, np.power(n_ws, 1 / 3))\n",
      "/home/ucl/modl/rgouvea/anaconda3/envs/env_tfmodnet/lib/python3.8/site-packages/matminer/featurizers/composition/alloy.py:202: RuntimeWarning: invalid value encountered in power\n",
      "  alp_a = np.multiply(1.5, np.power(v_a, 2 / 3)) / reduce(lambda x, y: 1 / x + 1 / y, np.power(n_ws, 1 / 3))\n",
      "/home/ucl/modl/rgouvea/anaconda3/envs/env_tfmodnet/lib/python3.8/site-packages/matminer/featurizers/composition/alloy.py:202: RuntimeWarning: invalid value encountered in power\n",
      "  alp_a = np.multiply(1.5, np.power(v_a, 2 / 3)) / reduce(lambda x, y: 1 / x + 1 / y, np.power(n_ws, 1 / 3))\n",
      "/home/ucl/modl/rgouvea/anaconda3/envs/env_tfmodnet/lib/python3.8/site-packages/matminer/featurizers/composition/alloy.py:202: RuntimeWarning: invalid value encountered in power\n",
      "  alp_a = np.multiply(1.5, np.power(v_a, 2 / 3)) / reduce(lambda x, y: 1 / x + 1 / y, np.power(n_ws, 1 / 3))\n",
      "/home/ucl/modl/rgouvea/anaconda3/envs/env_tfmodnet/lib/python3.8/site-packages/matminer/featurizers/composition/alloy.py:202: RuntimeWarning: invalid value encountered in power\n",
      "  alp_a = np.multiply(1.5, np.power(v_a, 2 / 3)) / reduce(lambda x, y: 1 / x + 1 / y, np.power(n_ws, 1 / 3))\n",
      "/home/ucl/modl/rgouvea/anaconda3/envs/env_tfmodnet/lib/python3.8/site-packages/matminer/featurizers/composition/alloy.py:202: RuntimeWarning: invalid value encountered in power\n",
      "  alp_a = np.multiply(1.5, np.power(v_a, 2 / 3)) / reduce(lambda x, y: 1 / x + 1 / y, np.power(n_ws, 1 / 3))\n",
      "/home/ucl/modl/rgouvea/anaconda3/envs/env_tfmodnet/lib/python3.8/site-packages/matminer/featurizers/composition/alloy.py:202: RuntimeWarning: invalid value encountered in power\n",
      "  alp_a = np.multiply(1.5, np.power(v_a, 2 / 3)) / reduce(lambda x, y: 1 / x + 1 / y, np.power(n_ws, 1 / 3))\n",
      "/home/ucl/modl/rgouvea/anaconda3/envs/env_tfmodnet/lib/python3.8/site-packages/matminer/featurizers/composition/alloy.py:202: RuntimeWarning: invalid value encountered in power\n",
      "  alp_a = np.multiply(1.5, np.power(v_a, 2 / 3)) / reduce(lambda x, y: 1 / x + 1 / y, np.power(n_ws, 1 / 3))\n",
      "/home/ucl/modl/rgouvea/anaconda3/envs/env_tfmodnet/lib/python3.8/site-packages/matminer/featurizers/composition/alloy.py:202: RuntimeWarning: invalid value encountered in power\n",
      "  alp_a = np.multiply(1.5, np.power(v_a, 2 / 3)) / reduce(lambda x, y: 1 / x + 1 / y, np.power(n_ws, 1 / 3))\n",
      "/home/ucl/modl/rgouvea/anaconda3/envs/env_tfmodnet/lib/python3.8/site-packages/matminer/featurizers/composition/alloy.py:202: RuntimeWarning: invalid value encountered in power\n",
      "  alp_a = np.multiply(1.5, np.power(v_a, 2 / 3)) / reduce(lambda x, y: 1 / x + 1 / y, np.power(n_ws, 1 / 3))\n",
      "/home/ucl/modl/rgouvea/anaconda3/envs/env_tfmodnet/lib/python3.8/site-packages/matminer/featurizers/composition/alloy.py:202: RuntimeWarning: invalid value encountered in power\n",
      "  alp_a = np.multiply(1.5, np.power(v_a, 2 / 3)) / reduce(lambda x, y: 1 / x + 1 / y, np.power(n_ws, 1 / 3))\n",
      "/home/ucl/modl/rgouvea/anaconda3/envs/env_tfmodnet/lib/python3.8/site-packages/matminer/featurizers/composition/alloy.py:202: RuntimeWarning: invalid value encountered in power\n",
      "  alp_a = np.multiply(1.5, np.power(v_a, 2 / 3)) / reduce(lambda x, y: 1 / x + 1 / y, np.power(n_ws, 1 / 3))\n",
      "/home/ucl/modl/rgouvea/anaconda3/envs/env_tfmodnet/lib/python3.8/site-packages/matminer/featurizers/composition/alloy.py:202: RuntimeWarning: invalid value encountered in power\n",
      "  alp_a = np.multiply(1.5, np.power(v_a, 2 / 3)) / reduce(lambda x, y: 1 / x + 1 / y, np.power(n_ws, 1 / 3))\n"
     ]
    },
    {
     "name": "stdout",
     "output_type": "stream",
     "text": [
      "2024-09-20 02:10:53,767 - modnet - INFO - Applying oxidation state featurizers...\n"
     ]
    },
    {
     "data": {
      "application/vnd.jupyter.widget-view+json": {
       "model_id": "5002fc6e5d7746a4bc0f406f5d720538",
       "version_major": 2,
       "version_minor": 0
      },
      "text/plain": [
       "CompositionToOxidComposition:   0%|          | 0/804 [00:00<?, ?it/s]"
      ]
     },
     "metadata": {},
     "output_type": "display_data"
    },
    {
     "name": "stdout",
     "output_type": "stream",
     "text": [
      "2024-09-20 02:12:35,584 - modnet - INFO - Applying featurizers (ElectronegativityDiff(stats=['minimum', 'maximum', 'range', 'mean', 'std_dev']), OxidationStates(stats=['minimum', 'maximum', 'range', 'std_dev'])) to column 'composition_oxid'.\n"
     ]
    },
    {
     "data": {
      "application/vnd.jupyter.widget-view+json": {
       "model_id": "46149f2b425243a18b6f59c2282c709d",
       "version_major": 2,
       "version_minor": 0
      },
      "text/plain": [
       "MultipleFeaturizer:   0%|          | 0/804 [00:00<?, ?it/s]"
      ]
     },
     "metadata": {},
     "output_type": "display_data"
    },
    {
     "name": "stdout",
     "output_type": "stream",
     "text": [
      "2024-09-20 02:12:36,406 - modnet - INFO - Applying site featurizers...\n"
     ]
    },
    {
     "data": {
      "application/vnd.jupyter.widget-view+json": {
       "model_id": "fdda33621ca546739aaf9cc8a13cadae",
       "version_major": 2,
       "version_minor": 0
      },
      "text/plain": [
       "SiteStatsFingerprint:   0%|          | 0/804 [00:00<?, ?it/s]"
      ]
     },
     "metadata": {},
     "output_type": "display_data"
    },
    {
     "data": {
      "application/vnd.jupyter.widget-view+json": {
       "model_id": "d3e7adc5c93b41f4857130bb72b56d3f",
       "version_major": 2,
       "version_minor": 0
      },
      "text/plain": [
       "SiteStatsFingerprint:   0%|          | 0/804 [00:00<?, ?it/s]"
      ]
     },
     "metadata": {},
     "output_type": "display_data"
    },
    {
     "data": {
      "application/vnd.jupyter.widget-view+json": {
       "model_id": "eebe7e1ed7774ef786ea6d1234399bd5",
       "version_major": 2,
       "version_minor": 0
      },
      "text/plain": [
       "SiteStatsFingerprint:   0%|          | 0/804 [00:00<?, ?it/s]"
      ]
     },
     "metadata": {},
     "output_type": "display_data"
    },
    {
     "data": {
      "application/vnd.jupyter.widget-view+json": {
       "model_id": "120bc3b8069c4c9da60970bc7e8dc18d",
       "version_major": 2,
       "version_minor": 0
      },
      "text/plain": [
       "SiteStatsFingerprint:   0%|          | 0/804 [00:00<?, ?it/s]"
      ]
     },
     "metadata": {},
     "output_type": "display_data"
    },
    {
     "data": {
      "application/vnd.jupyter.widget-view+json": {
       "model_id": "d8500e86c2254a7a9d1efa11df0ad5b8",
       "version_major": 2,
       "version_minor": 0
      },
      "text/plain": [
       "SiteStatsFingerprint:   0%|          | 0/804 [00:00<?, ?it/s]"
      ]
     },
     "metadata": {},
     "output_type": "display_data"
    },
    {
     "data": {
      "application/vnd.jupyter.widget-view+json": {
       "model_id": "edd40a2059e3466bb434da9e2a82c56b",
       "version_major": 2,
       "version_minor": 0
      },
      "text/plain": [
       "SiteStatsFingerprint:   0%|          | 0/804 [00:00<?, ?it/s]"
      ]
     },
     "metadata": {},
     "output_type": "display_data"
    },
    {
     "data": {
      "application/vnd.jupyter.widget-view+json": {
       "model_id": "fb7bb1ae883942c88f270f3fadc48b20",
       "version_major": 2,
       "version_minor": 0
      },
      "text/plain": [
       "SiteStatsFingerprint:   0%|          | 0/804 [00:00<?, ?it/s]"
      ]
     },
     "metadata": {},
     "output_type": "display_data"
    },
    {
     "data": {
      "application/vnd.jupyter.widget-view+json": {
       "model_id": "b83eec4892ba4b3a951bae7ca603760b",
       "version_major": 2,
       "version_minor": 0
      },
      "text/plain": [
       "SiteStatsFingerprint:   0%|          | 0/804 [00:00<?, ?it/s]"
      ]
     },
     "metadata": {},
     "output_type": "display_data"
    },
    {
     "data": {
      "application/vnd.jupyter.widget-view+json": {
       "model_id": "47d8c8c9e57847a789f7cbb1ed930ced",
       "version_major": 2,
       "version_minor": 0
      },
      "text/plain": [
       "SiteStatsFingerprint:   0%|          | 0/804 [00:00<?, ?it/s]"
      ]
     },
     "metadata": {},
     "output_type": "display_data"
    },
    {
     "data": {
      "application/vnd.jupyter.widget-view+json": {
       "model_id": "5c054c3ef873444e929a42cfe2202a04",
       "version_major": 2,
       "version_minor": 0
      },
      "text/plain": [
       "SiteStatsFingerprint:   0%|          | 0/804 [00:00<?, ?it/s]"
      ]
     },
     "metadata": {},
     "output_type": "display_data"
    },
    {
     "data": {
      "application/vnd.jupyter.widget-view+json": {
       "model_id": "86e61de38c094a80b1315d93652ccf08",
       "version_major": 2,
       "version_minor": 0
      },
      "text/plain": [
       "SiteStatsFingerprint:   0%|          | 0/804 [00:00<?, ?it/s]"
      ]
     },
     "metadata": {},
     "output_type": "display_data"
    },
    {
     "data": {
      "application/vnd.jupyter.widget-view+json": {
       "model_id": "e339611e557c452b95195973aea22e27",
       "version_major": 2,
       "version_minor": 0
      },
      "text/plain": [
       "SiteStatsFingerprint:   0%|          | 0/804 [00:00<?, ?it/s]"
      ]
     },
     "metadata": {},
     "output_type": "display_data"
    },
    {
     "name": "stdout",
     "output_type": "stream",
     "text": [
      "2024-09-20 02:13:01,923 - modnet - INFO - Applying structure featurizers...\n",
      "2024-09-20 02:13:01,934 - modnet - INFO - Applying featurizers [DensityFeatures(), GlobalSymmetryFeatures(), RadialDistributionFunction(), CoulombMatrix(), SineCoulombMatrix(), EwaldEnergy(), BondFractions(), StructuralHeterogeneity(), MaximumPackingEfficiency(), ChemicalOrdering(), XRDPowderPattern(pattern_length=128)] to column 'structure'.\n"
     ]
    },
    {
     "data": {
      "application/vnd.jupyter.widget-view+json": {
       "model_id": "04b95531b1634707ba6d654350e91415",
       "version_major": 2,
       "version_minor": 0
      },
      "text/plain": [
       "MultipleFeaturizer:   0%|          | 0/804 [00:00<?, ?it/s]"
      ]
     },
     "metadata": {},
     "output_type": "display_data"
    },
    {
     "name": "stderr",
     "output_type": "stream",
     "text": [
      "/home/ucl/modl/rgouvea/anaconda3/envs/env_tfmodnet/lib/python3.8/site-packages/matminer/featurizers/structure/matrix.py:207: ComplexWarning: Casting complex values to real discards the imaginary part\n",
      "  zeros[: len(eigs)] = eigs\n",
      "/home/ucl/modl/rgouvea/anaconda3/envs/env_tfmodnet/lib/python3.8/site-packages/matminer/featurizers/structure/matrix.py:207: ComplexWarning: Casting complex values to real discards the imaginary part\n",
      "  zeros[: len(eigs)] = eigs\n",
      "/home/ucl/modl/rgouvea/anaconda3/envs/env_tfmodnet/lib/python3.8/site-packages/matminer/featurizers/structure/matrix.py:207: ComplexWarning: Casting complex values to real discards the imaginary part\n",
      "  zeros[: len(eigs)] = eigs\n",
      "/home/ucl/modl/rgouvea/anaconda3/envs/env_tfmodnet/lib/python3.8/site-packages/matminer/featurizers/structure/matrix.py:207: ComplexWarning: Casting complex values to real discards the imaginary part\n",
      "  zeros[: len(eigs)] = eigs\n",
      "/home/ucl/modl/rgouvea/anaconda3/envs/env_tfmodnet/lib/python3.8/site-packages/matminer/featurizers/structure/matrix.py:207: ComplexWarning: Casting complex values to real discards the imaginary part\n",
      "  zeros[: len(eigs)] = eigs\n",
      "/home/ucl/modl/rgouvea/anaconda3/envs/env_tfmodnet/lib/python3.8/site-packages/matminer/featurizers/structure/matrix.py:207: ComplexWarning: Casting complex values to real discards the imaginary part\n",
      "  zeros[: len(eigs)] = eigs\n",
      "/home/ucl/modl/rgouvea/anaconda3/envs/env_tfmodnet/lib/python3.8/site-packages/matminer/featurizers/structure/matrix.py:207: ComplexWarning: Casting complex values to real discards the imaginary part\n",
      "  zeros[: len(eigs)] = eigs\n",
      "/home/ucl/modl/rgouvea/anaconda3/envs/env_tfmodnet/lib/python3.8/site-packages/matminer/featurizers/structure/matrix.py:207: ComplexWarning: Casting complex values to real discards the imaginary part\n",
      "  zeros[: len(eigs)] = eigs\n",
      "/home/ucl/modl/rgouvea/anaconda3/envs/env_tfmodnet/lib/python3.8/site-packages/matminer/featurizers/structure/matrix.py:207: ComplexWarning: Casting complex values to real discards the imaginary part\n",
      "  zeros[: len(eigs)] = eigs\n",
      "/home/ucl/modl/rgouvea/anaconda3/envs/env_tfmodnet/lib/python3.8/site-packages/matminer/featurizers/structure/matrix.py:207: ComplexWarning: Casting complex values to real discards the imaginary part\n",
      "  zeros[: len(eigs)] = eigs\n",
      "/home/ucl/modl/rgouvea/anaconda3/envs/env_tfmodnet/lib/python3.8/site-packages/matminer/featurizers/structure/matrix.py:207: ComplexWarning: Casting complex values to real discards the imaginary part\n",
      "  zeros[: len(eigs)] = eigs\n",
      "/home/ucl/modl/rgouvea/anaconda3/envs/env_tfmodnet/lib/python3.8/site-packages/matminer/featurizers/structure/matrix.py:207: ComplexWarning: Casting complex values to real discards the imaginary part\n",
      "  zeros[: len(eigs)] = eigs\n",
      "/home/ucl/modl/rgouvea/anaconda3/envs/env_tfmodnet/lib/python3.8/site-packages/matminer/featurizers/structure/matrix.py:207: ComplexWarning: Casting complex values to real discards the imaginary part\n",
      "  zeros[: len(eigs)] = eigs\n",
      "/home/ucl/modl/rgouvea/anaconda3/envs/env_tfmodnet/lib/python3.8/site-packages/keras/initializers/initializers_v2.py:120: UserWarning: The initializer GlorotUniform is unseeded and being called multiple times, which will return identical values  each time (even if the initializer is unseeded). Please update your code to provide a seed to the initializer, or avoid using the same initalizer instance more than once.\n",
      "  warnings.warn(\n"
     ]
    },
    {
     "name": "stdout",
     "output_type": "stream",
     "text": [
      "Total params: 644,652\n"
     ]
    },
    {
     "name": "stderr",
     "output_type": "stream",
     "text": [
      "/home/ucl/modl/rgouvea/anaconda3/envs/env_tfmodnet/lib/python3.8/site-packages/sklearn/base.py:324: UserWarning: Trying to unpickle estimator MinMaxScaler from version 1.1.3 when using version 1.0.1. This might lead to breaking code or invalid results. Use at your own risk. For more info please refer to:\n",
      "https://scikit-learn.org/stable/modules/model_persistence.html#security-maintainability-limitations\n",
      "  warnings.warn(\n"
     ]
    },
    {
     "name": "stdout",
     "output_type": "stream",
     "text": [
      "Following invalid structures: [].\n"
     ]
    },
    {
     "name": "stderr",
     "output_type": "stream",
     "text": [
      "/home/ucl/modl/rgouvea/anaconda3/envs/env_tfmodnet/lib/python3.8/site-packages/keras/initializers/initializers_v2.py:120: UserWarning: The initializer VarianceScaling is unseeded and being called multiple times, which will return identical values  each time (even if the initializer is unseeded). Please update your code to provide a seed to the initializer, or avoid using the same initalizer instance more than once.\n",
      "  warnings.warn(\n"
     ]
    },
    {
     "name": "stdout",
     "output_type": "stream",
     "text": [
      "WARNING:tensorflow:5 out of the last 109 calls to <function Model.make_predict_function.<locals>.predict_function at 0x7fe460544160> triggered tf.function retracing. Tracing is expensive and the excessive number of tracings could be due to (1) creating @tf.function repeatedly in a loop, (2) passing tensors with different shapes, (3) passing Python objects instead of tensors. For (1), please define your @tf.function outside of the loop. For (2), @tf.function has reduce_retracing=True option that can avoid unnecessary retracing. For (3), please refer to https://www.tensorflow.org/guide/function#controlling_retracing and https://www.tensorflow.org/api_docs/python/tf/function for  more details.\n",
      "WARNING:tensorflow:6 out of the last 110 calls to <function Model.make_predict_function.<locals>.predict_function at 0x7fe460544160> triggered tf.function retracing. Tracing is expensive and the excessive number of tracings could be due to (1) creating @tf.function repeatedly in a loop, (2) passing tensors with different shapes, (3) passing Python objects instead of tensors. For (1), please define your @tf.function outside of the loop. For (2), @tf.function has reduce_retracing=True option that can avoid unnecessary retracing. For (3), please refer to https://www.tensorflow.org/guide/function#controlling_retracing and https://www.tensorflow.org/api_docs/python/tf/function for  more details.\n",
      "Features calculated for model Efermi_MP_2019.\n"
     ]
    },
    {
     "name": "stderr",
     "output_type": "stream",
     "text": [
      "/home/ucl/modl/rgouvea/anaconda3/envs/env_tfmodnet/lib/python3.8/site-packages/keras/initializers/initializers_v2.py:120: UserWarning: The initializer VarianceScaling is unseeded and being called multiple times, which will return identical values  each time (even if the initializer is unseeded). Please update your code to provide a seed to the initializer, or avoid using the same initalizer instance more than once.\n",
      "  warnings.warn(\n"
     ]
    },
    {
     "name": "stdout",
     "output_type": "stream",
     "text": [
      "Features calculated for model Bandgap_MP_2018.\n"
     ]
    },
    {
     "name": "stderr",
     "output_type": "stream",
     "text": [
      "/home/ucl/modl/rgouvea/anaconda3/envs/env_tfmodnet/lib/python3.8/site-packages/keras/initializers/initializers_v2.py:120: UserWarning: The initializer VarianceScaling is unseeded and being called multiple times, which will return identical values  each time (even if the initializer is unseeded). Please update your code to provide a seed to the initializer, or avoid using the same initalizer instance more than once.\n",
      "  warnings.warn(\n"
     ]
    },
    {
     "name": "stdout",
     "output_type": "stream",
     "text": [
      "Features calculated for model logK_MP_2019.\n"
     ]
    },
    {
     "name": "stderr",
     "output_type": "stream",
     "text": [
      "/home/ucl/modl/rgouvea/anaconda3/envs/env_tfmodnet/lib/python3.8/site-packages/keras/initializers/initializers_v2.py:120: UserWarning: The initializer VarianceScaling is unseeded and being called multiple times, which will return identical values  each time (even if the initializer is unseeded). Please update your code to provide a seed to the initializer, or avoid using the same initalizer instance more than once.\n",
      "  warnings.warn(\n"
     ]
    },
    {
     "name": "stdout",
     "output_type": "stream",
     "text": [
      "Features calculated for model logG_MP_2019.\n",
      "MEGNetModel__adjacent.h5 found.\n"
     ]
    },
    {
     "name": "stderr",
     "output_type": "stream",
     "text": [
      "/home/ucl/modl/rgouvea/anaconda3/envs/env_tfmodnet/lib/python3.8/site-packages/keras/initializers/initializers_v2.py:120: UserWarning: The initializer GlorotUniform is unseeded and being called multiple times, which will return identical values  each time (even if the initializer is unseeded). Please update your code to provide a seed to the initializer, or avoid using the same initalizer instance more than once.\n",
      "  warnings.warn(\n"
     ]
    },
    {
     "name": "stdout",
     "output_type": "stream",
     "text": [
      "Total params: 167,761\n",
      "Features calculated for model Adjacent.\n",
      "2024-09-20 02:20:15,845 - modnet - INFO - Data has successfully been featurized!\n",
      "2024-09-20 02:20:16,246 - modnet - INFO - Data successfully saved as data/md_test_ref_index_omega.pkl!\n"
     ]
    }
   ],
   "source": [
    "df_test = df.sample(frac=0.2, random_state=42)\n",
    "df_train = df.drop(df_test.index)\n",
    "# Now we are going to evaluate the model in the test data, but first we need\n",
    "# to featurize it.\n",
    "md_test = MODData(materials = df_test['structure'],\n",
    "                targets = df_test['ref_index'].values,\n",
    "                structure_ids = df_test.index,\n",
    "                target_names = ['refractive_index']\n",
    "               ) \n",
    "from modnet.featurizers.presets.modnet_omega_2024 import MODNetOmega2024\n",
    "md_test.featurizer = MODNetOmega2024(structures=md.df_structure['structure'],\n",
    "                         targets=md.df_targets.values,\n",
    "                         adjacent_model_path='out',\n",
    "                         max_epochs=10)\n",
    "## it should not calculate anything because the adjacent model is already trained.\n",
    "md_test.featurize(n_jobs=24)\n",
    "md_test.save('data/md_test_ref_index_omega.pkl')"
   ]
  },
  {
   "cell_type": "code",
   "execution_count": 7,
   "metadata": {},
   "outputs": [
    {
     "name": "stdout",
     "output_type": "stream",
     "text": [
      "2024-09-20 02:25:53,531 - modnet - INFO - Loaded <modnet.models.ensemble.EnsembleMODNetModel object at 0x7fe33a2e7040> object, created with modnet version 0.2.1\n",
      "26/26 [==============================] - 0s 2ms/step\n",
      "26/26 [==============================] - 0s 2ms/step\n"
     ]
    },
    {
     "name": "stdout",
     "output_type": "stream",
     "text": [
      "26/26 [==============================] - 0s 2ms/step\n",
      "MAE_test: 0.056899177233136776\n",
      "MSE_test: 0.014947512265246963\n",
      "R2_test: 0.9188661360413439\n"
     ]
    }
   ],
   "source": [
    "from sklearn.metrics import mean_absolute_error, mean_squared_error, r2_score\n",
    "from modnet.models import MODNetModel\n",
    "# load model\n",
    "model_name = f'out/MODNet_ref_index_bestGA'\n",
    "best_model = MODNetModel.load(model_name)\n",
    "\n",
    "# Evaluate the model in training data.\n",
    "test_results = best_model.predict(md_test)\n",
    "# Get statistics of the evaluation comparing with target data.\n",
    "y_true = md_test.df_targets.values.flatten()\n",
    "y_pred = test_results.values.flatten()\n",
    "\n",
    "mae_test = mean_absolute_error(y_true, y_pred)\n",
    "mse_test = mean_squared_error(y_true, y_pred)\n",
    "r2_test = r2_score(y_true, y_pred)\n",
    "\n",
    "print(f'MAE_test: {mae_test}')\n",
    "print(f'MSE_test: {mse_test}')\n",
    "print(f'R2_test: {r2_test}')"
   ]
  },
  {
   "cell_type": "code",
   "execution_count": 14,
   "metadata": {},
   "outputs": [
    {
     "name": "stdout",
     "output_type": "stream",
     "text": [
      "Truncated dataframe, now has 610 columns\n",
      "['AtomicOrbitals|HOMO_character', 'AtomicOrbitals|HOMO_element', 'AtomicOrbitals|HOMO_energy', 'AtomicOrbitals|LUMO_character', 'AtomicOrbitals|LUMO_element']\n",
      "['AtomicOrbitals|LUMO_energy', 'AtomicOrbitals|gap_AO', 'AtomicPackingEfficiency|mean simul. packing efficiency', 'AtomicPackingEfficiency|mean abs simul. packing efficiency', 'AtomicPackingEfficiency|dist from 1 clusters |APE| < 0.010']\n",
      "['AtomicPackingEfficiency|dist from 3 clusters |APE| < 0.010', 'AtomicPackingEfficiency|dist from 5 clusters |APE| < 0.010', 'BandCenter|band center', 'ElementFraction|H', 'ElementFraction|He']\n",
      "['ElementFraction|Li', 'ElementFraction|Be', 'ElementFraction|B', 'ElementFraction|C', 'ElementFraction|N']\n",
      "['ElementFraction|O', 'ElementFraction|F', 'ElementFraction|Ne', 'ElementFraction|Na', 'ElementFraction|Mg']\n",
      "['ElementFraction|Al', 'ElementFraction|Si', 'ElementFraction|P', 'ElementFraction|S', 'ElementFraction|Cl']\n",
      "['ElementFraction|Ar', 'ElementFraction|K', 'ElementFraction|Ca', 'ElementFraction|Sc', 'ElementFraction|Ti']\n",
      "['ElementFraction|V', 'ElementFraction|Cr', 'ElementFraction|Mn', 'ElementFraction|Fe', 'ElementFraction|Co']\n",
      "['ElementFraction|Ni', 'ElementFraction|Cu', 'ElementFraction|Zn', 'ElementFraction|Ga', 'ElementFraction|Ge']\n",
      "['ElementFraction|As', 'ElementFraction|Se', 'ElementFraction|Br', 'ElementFraction|Kr', 'ElementFraction|Rb']\n",
      "['ElementFraction|Sr', 'ElementFraction|Y', 'ElementFraction|Zr', 'ElementFraction|Nb', 'ElementFraction|Mo']\n",
      "['ElementFraction|Tc', 'ElementFraction|Ru', 'ElementFraction|Rh', 'ElementFraction|Pd', 'ElementFraction|Ag']\n",
      "['ElementFraction|Cd', 'ElementFraction|In', 'ElementFraction|Sn', 'ElementFraction|Sb', 'ElementFraction|Te']\n",
      "['ElementFraction|I', 'ElementFraction|Xe', 'ElementFraction|Cs', 'ElementFraction|Ba', 'ElementFraction|La']\n",
      "['ElementFraction|Ce', 'ElementFraction|Pr', 'ElementFraction|Nd', 'ElementFraction|Pm', 'ElementFraction|Sm']\n",
      "['ElementFraction|Eu', 'ElementFraction|Gd', 'ElementFraction|Tb', 'ElementFraction|Dy', 'ElementFraction|Ho']\n",
      "['ElementFraction|Er', 'ElementFraction|Tm', 'ElementFraction|Yb', 'ElementFraction|Lu', 'ElementFraction|Hf']\n",
      "['ElementFraction|Ta', 'ElementFraction|W', 'ElementFraction|Re', 'ElementFraction|Os', 'ElementFraction|Ir']\n",
      "['ElementFraction|Pt', 'ElementFraction|Au', 'ElementFraction|Hg', 'ElementFraction|Tl', 'ElementFraction|Pb']\n",
      "['ElementFraction|Bi', 'ElementFraction|Po', 'ElementFraction|At', 'ElementFraction|Rn', 'ElementFraction|Fr']\n",
      "['ElementFraction|Ra', 'ElementFraction|Ac', 'ElementFraction|Th', 'ElementFraction|Pa', 'ElementFraction|U']\n",
      "['ElementFraction|Np', 'ElementFraction|Pu', 'ElementFraction|Am', 'ElementFraction|Cm', 'ElementFraction|Bk']\n",
      "['ElementFraction|Cf', 'ElementFraction|Es', 'ElementFraction|Fm', 'ElementFraction|Md', 'ElementFraction|No']\n",
      "['ElementFraction|Lr', 'ElementProperty|MagpieData minimum Number', 'ElementProperty|MagpieData maximum Number', 'ElementProperty|MagpieData range Number', 'ElementProperty|MagpieData mean Number']\n",
      "['ElementProperty|MagpieData avg_dev Number', 'ElementProperty|MagpieData mode Number', 'ElementProperty|MagpieData minimum MendeleevNumber', 'ElementProperty|MagpieData maximum MendeleevNumber', 'ElementProperty|MagpieData range MendeleevNumber']\n",
      "['ElementProperty|MagpieData mean MendeleevNumber', 'ElementProperty|MagpieData avg_dev MendeleevNumber', 'ElementProperty|MagpieData mode MendeleevNumber', 'ElementProperty|MagpieData minimum AtomicWeight', 'ElementProperty|MagpieData maximum AtomicWeight']\n",
      "['ElementProperty|MagpieData range AtomicWeight', 'ElementProperty|MagpieData mean AtomicWeight', 'ElementProperty|MagpieData avg_dev AtomicWeight', 'ElementProperty|MagpieData mode AtomicWeight', 'ElementProperty|MagpieData minimum MeltingT']\n",
      "['ElementProperty|MagpieData maximum MeltingT', 'ElementProperty|MagpieData range MeltingT', 'ElementProperty|MagpieData mean MeltingT', 'ElementProperty|MagpieData avg_dev MeltingT', 'ElementProperty|MagpieData mode MeltingT']\n",
      "['ElementProperty|MagpieData minimum Column', 'ElementProperty|MagpieData maximum Column', 'ElementProperty|MagpieData range Column', 'ElementProperty|MagpieData mean Column', 'ElementProperty|MagpieData avg_dev Column']\n",
      "['ElementProperty|MagpieData mode Column', 'ElementProperty|MagpieData minimum Row', 'ElementProperty|MagpieData maximum Row', 'ElementProperty|MagpieData range Row', 'ElementProperty|MagpieData mean Row']\n",
      "['ElementProperty|MagpieData avg_dev Row', 'ElementProperty|MagpieData mode Row', 'ElementProperty|MagpieData minimum CovalentRadius', 'ElementProperty|MagpieData maximum CovalentRadius', 'ElementProperty|MagpieData range CovalentRadius']\n",
      "['ElementProperty|MagpieData mean CovalentRadius', 'ElementProperty|MagpieData avg_dev CovalentRadius', 'ElementProperty|MagpieData mode CovalentRadius', 'ElementProperty|MagpieData minimum Electronegativity', 'ElementProperty|MagpieData maximum Electronegativity']\n",
      "['ElementProperty|MagpieData range Electronegativity', 'ElementProperty|MagpieData mean Electronegativity', 'ElementProperty|MagpieData avg_dev Electronegativity', 'ElementProperty|MagpieData mode Electronegativity', 'ElementProperty|MagpieData minimum NsValence']\n",
      "['ElementProperty|MagpieData maximum NsValence', 'ElementProperty|MagpieData range NsValence', 'ElementProperty|MagpieData mean NsValence', 'ElementProperty|MagpieData avg_dev NsValence', 'ElementProperty|MagpieData mode NsValence']\n",
      "['ElementProperty|MagpieData minimum NpValence', 'ElementProperty|MagpieData maximum NpValence', 'ElementProperty|MagpieData range NpValence', 'ElementProperty|MagpieData mean NpValence', 'ElementProperty|MagpieData avg_dev NpValence']\n",
      "['ElementProperty|MagpieData mode NpValence', 'ElementProperty|MagpieData minimum NdValence', 'ElementProperty|MagpieData maximum NdValence', 'ElementProperty|MagpieData range NdValence', 'ElementProperty|MagpieData mean NdValence']\n",
      "['ElementProperty|MagpieData avg_dev NdValence', 'ElementProperty|MagpieData mode NdValence', 'ElementProperty|MagpieData minimum NfValence', 'ElementProperty|MagpieData maximum NfValence', 'ElementProperty|MagpieData range NfValence']\n",
      "['ElementProperty|MagpieData mean NfValence', 'ElementProperty|MagpieData avg_dev NfValence', 'ElementProperty|MagpieData mode NfValence', 'ElementProperty|MagpieData minimum NValence', 'ElementProperty|MagpieData maximum NValence']\n",
      "['ElementProperty|MagpieData range NValence', 'ElementProperty|MagpieData mean NValence', 'ElementProperty|MagpieData avg_dev NValence', 'ElementProperty|MagpieData mode NValence', 'ElementProperty|MagpieData minimum NsUnfilled']\n",
      "['ElementProperty|MagpieData maximum NsUnfilled', 'ElementProperty|MagpieData range NsUnfilled', 'ElementProperty|MagpieData mean NsUnfilled', 'ElementProperty|MagpieData avg_dev NsUnfilled', 'ElementProperty|MagpieData mode NsUnfilled']\n",
      "['ElementProperty|MagpieData minimum NpUnfilled', 'ElementProperty|MagpieData maximum NpUnfilled', 'ElementProperty|MagpieData range NpUnfilled', 'ElementProperty|MagpieData mean NpUnfilled', 'ElementProperty|MagpieData avg_dev NpUnfilled']\n",
      "['ElementProperty|MagpieData mode NpUnfilled', 'ElementProperty|MagpieData minimum NdUnfilled', 'ElementProperty|MagpieData maximum NdUnfilled', 'ElementProperty|MagpieData range NdUnfilled', 'ElementProperty|MagpieData mean NdUnfilled']\n",
      "['ElementProperty|MagpieData avg_dev NdUnfilled', 'ElementProperty|MagpieData mode NdUnfilled', 'ElementProperty|MagpieData minimum NfUnfilled', 'ElementProperty|MagpieData maximum NfUnfilled', 'ElementProperty|MagpieData range NfUnfilled']\n",
      "['ElementProperty|MagpieData mean NfUnfilled', 'ElementProperty|MagpieData avg_dev NfUnfilled', 'ElementProperty|MagpieData mode NfUnfilled', 'ElementProperty|MagpieData minimum NUnfilled', 'ElementProperty|MagpieData maximum NUnfilled']\n",
      "['ElementProperty|MagpieData range NUnfilled', 'ElementProperty|MagpieData mean NUnfilled', 'ElementProperty|MagpieData avg_dev NUnfilled', 'ElementProperty|MagpieData mode NUnfilled', 'ElementProperty|MagpieData minimum GSvolume_pa']\n",
      "['ElementProperty|MagpieData maximum GSvolume_pa', 'ElementProperty|MagpieData range GSvolume_pa', 'ElementProperty|MagpieData mean GSvolume_pa', 'ElementProperty|MagpieData avg_dev GSvolume_pa', 'ElementProperty|MagpieData mode GSvolume_pa']\n",
      "['ElementProperty|MagpieData minimum GSbandgap', 'ElementProperty|MagpieData maximum GSbandgap', 'ElementProperty|MagpieData range GSbandgap', 'ElementProperty|MagpieData mean GSbandgap', 'ElementProperty|MagpieData avg_dev GSbandgap']\n",
      "['ElementProperty|MagpieData mode GSbandgap', 'ElementProperty|MagpieData minimum GSmagmom', 'ElementProperty|MagpieData maximum GSmagmom', 'ElementProperty|MagpieData range GSmagmom', 'ElementProperty|MagpieData mean GSmagmom']\n",
      "['ElementProperty|MagpieData avg_dev GSmagmom', 'ElementProperty|MagpieData mode GSmagmom', 'ElementProperty|MagpieData minimum SpaceGroupNumber', 'ElementProperty|MagpieData maximum SpaceGroupNumber', 'ElementProperty|MagpieData range SpaceGroupNumber']\n",
      "['ElementProperty|MagpieData mean SpaceGroupNumber', 'ElementProperty|MagpieData avg_dev SpaceGroupNumber', 'ElementProperty|MagpieData mode SpaceGroupNumber', 'IonProperty|max ionic char', 'IonProperty|avg ionic char']\n",
      "['Miedema|Miedema_deltaH_inter', 'Miedema|Miedema_deltaH_amor', 'Miedema|Miedema_deltaH_ss_min', 'Stoichiometry|0-norm', 'Stoichiometry|2-norm']\n",
      "['Stoichiometry|3-norm', 'Stoichiometry|5-norm', 'Stoichiometry|7-norm', 'Stoichiometry|10-norm', 'TMetalFraction|transition metal fraction']\n",
      "['ValenceOrbital|avg s valence electrons', 'ValenceOrbital|avg p valence electrons', 'ValenceOrbital|avg d valence electrons', 'ValenceOrbital|avg f valence electrons', 'ValenceOrbital|frac s valence electrons']\n",
      "['ValenceOrbital|frac p valence electrons', 'ValenceOrbital|frac d valence electrons', 'ValenceOrbital|frac f valence electrons', 'YangSolidSolution|Yang omega', 'YangSolidSolution|Yang delta']\n",
      "['ElectronegativityDiff|minimum EN difference', 'ElectronegativityDiff|maximum EN difference', 'ElectronegativityDiff|range EN difference', 'ElectronegativityDiff|mean EN difference', 'ElectronegativityDiff|std_dev EN difference']\n",
      "['OxidationStates|minimum oxidation state', 'OxidationStates|maximum oxidation state', 'OxidationStates|range oxidation state', 'OxidationStates|std_dev oxidation state', 'DensityFeatures|density']\n",
      "['DensityFeatures|vpa', 'DensityFeatures|packing fraction', 'GlobalSymmetryFeatures|spacegroup_num', 'GlobalSymmetryFeatures|crystal_system', 'GlobalSymmetryFeatures|crystal_system_int']\n",
      "['GlobalSymmetryFeatures|is_centrosymmetric', 'GlobalSymmetryFeatures|n_symmetry_ops', 'SineCoulombMatrix|sine coulomb matrix eig 0', 'SineCoulombMatrix|sine coulomb matrix eig 1', 'SineCoulombMatrix|sine coulomb matrix eig 2']\n",
      "['SineCoulombMatrix|sine coulomb matrix eig 3', 'SineCoulombMatrix|sine coulomb matrix eig 4', 'SineCoulombMatrix|sine coulomb matrix eig 5', 'SineCoulombMatrix|sine coulomb matrix eig 6', 'SineCoulombMatrix|sine coulomb matrix eig 7']\n",
      "['SineCoulombMatrix|sine coulomb matrix eig 8', 'SineCoulombMatrix|sine coulomb matrix eig 9', 'SineCoulombMatrix|sine coulomb matrix eig 10', 'SineCoulombMatrix|sine coulomb matrix eig 11', 'SineCoulombMatrix|sine coulomb matrix eig 12']\n",
      "['SineCoulombMatrix|sine coulomb matrix eig 13', 'SineCoulombMatrix|sine coulomb matrix eig 14', 'SineCoulombMatrix|sine coulomb matrix eig 15', 'SineCoulombMatrix|sine coulomb matrix eig 16', 'SineCoulombMatrix|sine coulomb matrix eig 17']\n",
      "['SineCoulombMatrix|sine coulomb matrix eig 18', 'SineCoulombMatrix|sine coulomb matrix eig 19', 'SineCoulombMatrix|sine coulomb matrix eig 20', 'SineCoulombMatrix|sine coulomb matrix eig 21', 'SineCoulombMatrix|sine coulomb matrix eig 22']\n",
      "['SineCoulombMatrix|sine coulomb matrix eig 23', 'SineCoulombMatrix|sine coulomb matrix eig 24', 'SineCoulombMatrix|sine coulomb matrix eig 25', 'SineCoulombMatrix|sine coulomb matrix eig 26', 'SineCoulombMatrix|sine coulomb matrix eig 27']\n",
      "['SineCoulombMatrix|sine coulomb matrix eig 28', 'SineCoulombMatrix|sine coulomb matrix eig 29', 'SineCoulombMatrix|sine coulomb matrix eig 30', 'SineCoulombMatrix|sine coulomb matrix eig 31', 'SineCoulombMatrix|sine coulomb matrix eig 32']\n",
      "['SineCoulombMatrix|sine coulomb matrix eig 33', 'SineCoulombMatrix|sine coulomb matrix eig 34', 'SineCoulombMatrix|sine coulomb matrix eig 35', 'SineCoulombMatrix|sine coulomb matrix eig 36', 'SineCoulombMatrix|sine coulomb matrix eig 37']\n",
      "['SineCoulombMatrix|sine coulomb matrix eig 38', 'SineCoulombMatrix|sine coulomb matrix eig 39', 'SineCoulombMatrix|sine coulomb matrix eig 40', 'SineCoulombMatrix|sine coulomb matrix eig 41', 'SineCoulombMatrix|sine coulomb matrix eig 42']\n",
      "['SineCoulombMatrix|sine coulomb matrix eig 43', 'SineCoulombMatrix|sine coulomb matrix eig 44', 'SineCoulombMatrix|sine coulomb matrix eig 45', 'SineCoulombMatrix|sine coulomb matrix eig 46', 'SineCoulombMatrix|sine coulomb matrix eig 47']\n",
      "['SineCoulombMatrix|sine coulomb matrix eig 48', 'SineCoulombMatrix|sine coulomb matrix eig 49', 'SineCoulombMatrix|sine coulomb matrix eig 50', 'SineCoulombMatrix|sine coulomb matrix eig 51', 'SineCoulombMatrix|sine coulomb matrix eig 52']\n",
      "['SineCoulombMatrix|sine coulomb matrix eig 53', 'SineCoulombMatrix|sine coulomb matrix eig 54', 'SineCoulombMatrix|sine coulomb matrix eig 55', 'SineCoulombMatrix|sine coulomb matrix eig 56', 'SineCoulombMatrix|sine coulomb matrix eig 57']\n",
      "['SineCoulombMatrix|sine coulomb matrix eig 58', 'SineCoulombMatrix|sine coulomb matrix eig 59', 'SineCoulombMatrix|sine coulomb matrix eig 60', 'SineCoulombMatrix|sine coulomb matrix eig 61', 'SineCoulombMatrix|sine coulomb matrix eig 62']\n",
      "['SineCoulombMatrix|sine coulomb matrix eig 63', 'SineCoulombMatrix|sine coulomb matrix eig 64', 'SineCoulombMatrix|sine coulomb matrix eig 65', 'SineCoulombMatrix|sine coulomb matrix eig 66', 'SineCoulombMatrix|sine coulomb matrix eig 67']\n",
      "['SineCoulombMatrix|sine coulomb matrix eig 68', 'SineCoulombMatrix|sine coulomb matrix eig 69', 'SineCoulombMatrix|sine coulomb matrix eig 70', 'SineCoulombMatrix|sine coulomb matrix eig 71', 'SineCoulombMatrix|sine coulomb matrix eig 72']\n",
      "['SineCoulombMatrix|sine coulomb matrix eig 73', 'SineCoulombMatrix|sine coulomb matrix eig 74', 'SineCoulombMatrix|sine coulomb matrix eig 75', 'SineCoulombMatrix|sine coulomb matrix eig 76', 'SineCoulombMatrix|sine coulomb matrix eig 77']\n",
      "['SineCoulombMatrix|sine coulomb matrix eig 78', 'SineCoulombMatrix|sine coulomb matrix eig 79', 'SineCoulombMatrix|sine coulomb matrix eig 80', 'SineCoulombMatrix|sine coulomb matrix eig 81', 'SineCoulombMatrix|sine coulomb matrix eig 82']\n",
      "['SineCoulombMatrix|sine coulomb matrix eig 83', 'SineCoulombMatrix|sine coulomb matrix eig 84', 'SineCoulombMatrix|sine coulomb matrix eig 85', 'SineCoulombMatrix|sine coulomb matrix eig 86', 'SineCoulombMatrix|sine coulomb matrix eig 87']\n",
      "['SineCoulombMatrix|sine coulomb matrix eig 88', 'SineCoulombMatrix|sine coulomb matrix eig 89', 'SineCoulombMatrix|sine coulomb matrix eig 90', 'SineCoulombMatrix|sine coulomb matrix eig 91', 'SineCoulombMatrix|sine coulomb matrix eig 92']\n",
      "['SineCoulombMatrix|sine coulomb matrix eig 93', 'SineCoulombMatrix|sine coulomb matrix eig 94', 'SineCoulombMatrix|sine coulomb matrix eig 95', 'SineCoulombMatrix|sine coulomb matrix eig 96', 'SineCoulombMatrix|sine coulomb matrix eig 97']\n",
      "['SineCoulombMatrix|sine coulomb matrix eig 98', 'SineCoulombMatrix|sine coulomb matrix eig 99', 'SineCoulombMatrix|sine coulomb matrix eig 100', 'SineCoulombMatrix|sine coulomb matrix eig 101', 'SineCoulombMatrix|sine coulomb matrix eig 102']\n",
      "['SineCoulombMatrix|sine coulomb matrix eig 103', 'SineCoulombMatrix|sine coulomb matrix eig 104', 'SineCoulombMatrix|sine coulomb matrix eig 105', 'SineCoulombMatrix|sine coulomb matrix eig 106', 'SineCoulombMatrix|sine coulomb matrix eig 107']\n",
      "['SineCoulombMatrix|sine coulomb matrix eig 108', 'SineCoulombMatrix|sine coulomb matrix eig 109', 'SineCoulombMatrix|sine coulomb matrix eig 110', 'SineCoulombMatrix|sine coulomb matrix eig 111', 'SineCoulombMatrix|sine coulomb matrix eig 112']\n",
      "['SineCoulombMatrix|sine coulomb matrix eig 113', 'SineCoulombMatrix|sine coulomb matrix eig 114', 'SineCoulombMatrix|sine coulomb matrix eig 115', 'SineCoulombMatrix|sine coulomb matrix eig 116', 'SineCoulombMatrix|sine coulomb matrix eig 117']\n",
      "['SineCoulombMatrix|sine coulomb matrix eig 118', 'SineCoulombMatrix|sine coulomb matrix eig 119', 'SineCoulombMatrix|sine coulomb matrix eig 120', 'SineCoulombMatrix|sine coulomb matrix eig 121', 'SineCoulombMatrix|sine coulomb matrix eig 122']\n",
      "['SineCoulombMatrix|sine coulomb matrix eig 123', 'SineCoulombMatrix|sine coulomb matrix eig 124', 'SineCoulombMatrix|sine coulomb matrix eig 125', 'SineCoulombMatrix|sine coulomb matrix eig 126', 'SineCoulombMatrix|sine coulomb matrix eig 127']\n",
      "['SineCoulombMatrix|sine coulomb matrix eig 128', 'SineCoulombMatrix|sine coulomb matrix eig 129', 'SineCoulombMatrix|sine coulomb matrix eig 130', 'SineCoulombMatrix|sine coulomb matrix eig 131', 'SineCoulombMatrix|sine coulomb matrix eig 132']\n",
      "['SineCoulombMatrix|sine coulomb matrix eig 133', 'SineCoulombMatrix|sine coulomb matrix eig 134', 'SineCoulombMatrix|sine coulomb matrix eig 135', 'SineCoulombMatrix|sine coulomb matrix eig 136', 'SineCoulombMatrix|sine coulomb matrix eig 137']\n",
      "['SineCoulombMatrix|sine coulomb matrix eig 138', 'SineCoulombMatrix|sine coulomb matrix eig 139', 'SineCoulombMatrix|sine coulomb matrix eig 140', 'SineCoulombMatrix|sine coulomb matrix eig 141', 'SineCoulombMatrix|sine coulomb matrix eig 142']\n",
      "['SineCoulombMatrix|sine coulomb matrix eig 143', 'SineCoulombMatrix|sine coulomb matrix eig 144', 'SineCoulombMatrix|sine coulomb matrix eig 145', 'SineCoulombMatrix|sine coulomb matrix eig 146', 'SineCoulombMatrix|sine coulomb matrix eig 147']\n",
      "['SineCoulombMatrix|sine coulomb matrix eig 148', 'SineCoulombMatrix|sine coulomb matrix eig 149', 'SineCoulombMatrix|sine coulomb matrix eig 150', 'SineCoulombMatrix|sine coulomb matrix eig 151', 'SineCoulombMatrix|sine coulomb matrix eig 152']\n",
      "['SineCoulombMatrix|sine coulomb matrix eig 153', 'SineCoulombMatrix|sine coulomb matrix eig 154', 'SineCoulombMatrix|sine coulomb matrix eig 155', 'SineCoulombMatrix|sine coulomb matrix eig 156', 'SineCoulombMatrix|sine coulomb matrix eig 157']\n",
      "['SineCoulombMatrix|sine coulomb matrix eig 158', 'SineCoulombMatrix|sine coulomb matrix eig 159', 'SineCoulombMatrix|sine coulomb matrix eig 160', 'SineCoulombMatrix|sine coulomb matrix eig 161', 'SineCoulombMatrix|sine coulomb matrix eig 162']\n",
      "['SineCoulombMatrix|sine coulomb matrix eig 163', 'SineCoulombMatrix|sine coulomb matrix eig 164', 'SineCoulombMatrix|sine coulomb matrix eig 165', 'SineCoulombMatrix|sine coulomb matrix eig 166', 'SineCoulombMatrix|sine coulomb matrix eig 167']\n",
      "['SineCoulombMatrix|sine coulomb matrix eig 168', 'SineCoulombMatrix|sine coulomb matrix eig 169', 'SineCoulombMatrix|sine coulomb matrix eig 170', 'SineCoulombMatrix|sine coulomb matrix eig 171', 'SineCoulombMatrix|sine coulomb matrix eig 172']\n",
      "['SineCoulombMatrix|sine coulomb matrix eig 173', 'SineCoulombMatrix|sine coulomb matrix eig 174', 'SineCoulombMatrix|sine coulomb matrix eig 175', 'SineCoulombMatrix|sine coulomb matrix eig 176', 'SineCoulombMatrix|sine coulomb matrix eig 177']\n",
      "['SineCoulombMatrix|sine coulomb matrix eig 178', 'SineCoulombMatrix|sine coulomb matrix eig 179', 'SineCoulombMatrix|sine coulomb matrix eig 180', 'SineCoulombMatrix|sine coulomb matrix eig 181', 'SineCoulombMatrix|sine coulomb matrix eig 182']\n",
      "['SineCoulombMatrix|sine coulomb matrix eig 183', 'SineCoulombMatrix|sine coulomb matrix eig 184', 'SineCoulombMatrix|sine coulomb matrix eig 185', 'SineCoulombMatrix|sine coulomb matrix eig 186', 'SineCoulombMatrix|sine coulomb matrix eig 187']\n",
      "['SineCoulombMatrix|sine coulomb matrix eig 188', 'SineCoulombMatrix|sine coulomb matrix eig 189', 'SineCoulombMatrix|sine coulomb matrix eig 190', 'SineCoulombMatrix|sine coulomb matrix eig 191', 'ChemicalOrdering|mean ordering parameter shell 1']\n",
      "['ChemicalOrdering|mean ordering parameter shell 2', 'ChemicalOrdering|mean ordering parameter shell 3', 'XRDPowderPattern|xrd_0', 'XRDPowderPattern|xrd_1', 'XRDPowderPattern|xrd_2']\n",
      "['XRDPowderPattern|xrd_3', 'XRDPowderPattern|xrd_4', 'XRDPowderPattern|xrd_5', 'XRDPowderPattern|xrd_6', 'XRDPowderPattern|xrd_7']\n",
      "['XRDPowderPattern|xrd_8', 'XRDPowderPattern|xrd_9', 'XRDPowderPattern|xrd_10', 'XRDPowderPattern|xrd_11', 'XRDPowderPattern|xrd_12']\n",
      "['XRDPowderPattern|xrd_13', 'XRDPowderPattern|xrd_14', 'XRDPowderPattern|xrd_15', 'XRDPowderPattern|xrd_16', 'XRDPowderPattern|xrd_17']\n",
      "['XRDPowderPattern|xrd_18', 'XRDPowderPattern|xrd_19', 'XRDPowderPattern|xrd_20', 'XRDPowderPattern|xrd_21', 'XRDPowderPattern|xrd_22']\n",
      "['XRDPowderPattern|xrd_23', 'XRDPowderPattern|xrd_24', 'XRDPowderPattern|xrd_25', 'XRDPowderPattern|xrd_26', 'XRDPowderPattern|xrd_27']\n",
      "['XRDPowderPattern|xrd_28', 'XRDPowderPattern|xrd_29', 'XRDPowderPattern|xrd_30', 'XRDPowderPattern|xrd_31', 'XRDPowderPattern|xrd_32']\n",
      "['XRDPowderPattern|xrd_33', 'XRDPowderPattern|xrd_34', 'XRDPowderPattern|xrd_35', 'XRDPowderPattern|xrd_36', 'XRDPowderPattern|xrd_37']\n",
      "['XRDPowderPattern|xrd_38', 'XRDPowderPattern|xrd_39', 'XRDPowderPattern|xrd_40', 'XRDPowderPattern|xrd_41', 'XRDPowderPattern|xrd_42']\n",
      "['XRDPowderPattern|xrd_43', 'XRDPowderPattern|xrd_44', 'XRDPowderPattern|xrd_45', 'XRDPowderPattern|xrd_46', 'XRDPowderPattern|xrd_47']\n",
      "['XRDPowderPattern|xrd_48', 'XRDPowderPattern|xrd_49', 'XRDPowderPattern|xrd_50', 'XRDPowderPattern|xrd_51', 'XRDPowderPattern|xrd_52']\n",
      "['XRDPowderPattern|xrd_53', 'XRDPowderPattern|xrd_54', 'XRDPowderPattern|xrd_55', 'XRDPowderPattern|xrd_56', 'XRDPowderPattern|xrd_57']\n",
      "['XRDPowderPattern|xrd_58', 'XRDPowderPattern|xrd_59', 'XRDPowderPattern|xrd_60', 'XRDPowderPattern|xrd_61', 'XRDPowderPattern|xrd_62']\n",
      "['XRDPowderPattern|xrd_63', 'XRDPowderPattern|xrd_64', 'XRDPowderPattern|xrd_65', 'XRDPowderPattern|xrd_66', 'XRDPowderPattern|xrd_67']\n",
      "['XRDPowderPattern|xrd_68', 'XRDPowderPattern|xrd_69', 'XRDPowderPattern|xrd_70', 'XRDPowderPattern|xrd_71', 'XRDPowderPattern|xrd_72']\n",
      "['XRDPowderPattern|xrd_73', 'XRDPowderPattern|xrd_74', 'XRDPowderPattern|xrd_75', 'XRDPowderPattern|xrd_76', 'XRDPowderPattern|xrd_77']\n",
      "['XRDPowderPattern|xrd_78', 'XRDPowderPattern|xrd_79', 'XRDPowderPattern|xrd_80', 'XRDPowderPattern|xrd_81', 'XRDPowderPattern|xrd_82']\n",
      "['XRDPowderPattern|xrd_83', 'XRDPowderPattern|xrd_84', 'XRDPowderPattern|xrd_85', 'XRDPowderPattern|xrd_86', 'XRDPowderPattern|xrd_87']\n",
      "['XRDPowderPattern|xrd_88', 'XRDPowderPattern|xrd_89', 'XRDPowderPattern|xrd_90', 'XRDPowderPattern|xrd_91', 'XRDPowderPattern|xrd_92']\n",
      "['XRDPowderPattern|xrd_93', 'XRDPowderPattern|xrd_94', 'XRDPowderPattern|xrd_95', 'XRDPowderPattern|xrd_96', 'XRDPowderPattern|xrd_97']\n",
      "['XRDPowderPattern|xrd_98', 'XRDPowderPattern|xrd_99', 'XRDPowderPattern|xrd_100', 'XRDPowderPattern|xrd_101', 'XRDPowderPattern|xrd_102']\n",
      "['XRDPowderPattern|xrd_103', 'XRDPowderPattern|xrd_104', 'XRDPowderPattern|xrd_105', 'XRDPowderPattern|xrd_106', 'XRDPowderPattern|xrd_107']\n",
      "['XRDPowderPattern|xrd_108', 'XRDPowderPattern|xrd_109', 'XRDPowderPattern|xrd_110', 'XRDPowderPattern|xrd_111', 'XRDPowderPattern|xrd_112']\n",
      "['XRDPowderPattern|xrd_113', 'XRDPowderPattern|xrd_114', 'XRDPowderPattern|xrd_115', 'XRDPowderPattern|xrd_116', 'XRDPowderPattern|xrd_117']\n",
      "['XRDPowderPattern|xrd_118', 'XRDPowderPattern|xrd_119', 'XRDPowderPattern|xrd_120', 'XRDPowderPattern|xrd_121', 'XRDPowderPattern|xrd_122']\n",
      "['XRDPowderPattern|xrd_123', 'XRDPowderPattern|xrd_124', 'XRDPowderPattern|xrd_125', 'XRDPowderPattern|xrd_126', 'XRDPowderPattern|xrd_127']\n"
     ]
    }
   ],
   "source": [
    "# Now to compare the results without Omega featurizer, we remove the columns\n",
    "# corresponding to these features in md_train, effectively, this will become\n",
    "# the featurized dataset for DeBreuck2020 featurizer\n",
    "# Find the position of the column 'MEGNet_OFMEncoded_v1_1'\n",
    "allcolumns = md.df_featurized.columns.tolist()\n",
    "col_position = allcolumns.index('MEGNet_OFMEncoded_v1_1')\n",
    "\n",
    "# lets make a backup copy of the original dataframe\n",
    "md.df_featurized_backup = md.df_featurized.copy(deep=True)\n",
    "\n",
    "# Truncate the dataframe to remove columns starting from 'MEGNet_OFMEncoded_v1_1'\n",
    "md.df_featurized = md.df_featurized.iloc[:, :col_position]\n",
    "print(f'Truncated dataframe, now has {md.df_featurized.shape[1]} columns')\n",
    "# pretty print columns\n",
    "allcolumns = md.df_featurized.columns.tolist()\n",
    "for i in range(0, len(allcolumns), 5):\n",
    "    print(allcolumns[i:i+5])"
   ]
  },
  {
   "cell_type": "code",
   "execution_count": 18,
   "metadata": {},
   "outputs": [
    {
     "name": "stdout",
     "output_type": "stream",
     "text": [
      "2024-09-19 21:31:02,828 - modnet - INFO - Starting target 1/1: refractive_index ...\n",
      "2024-09-19 21:31:02,829 - modnet - INFO - Computing mutual information between features and target...\n",
      "2024-09-19 21:31:22,527 - modnet - INFO - Computing optimal features...\n",
      "2024-09-19 21:31:30,568 - modnet - INFO - Selected 50/416 features...\n",
      "2024-09-19 21:31:38,468 - modnet - INFO - Selected 100/416 features...\n",
      "2024-09-19 21:31:46,020 - modnet - INFO - Selected 150/416 features...\n",
      "2024-09-19 21:31:52,916 - modnet - INFO - Selected 200/416 features...\n",
      "2024-09-19 21:31:58,673 - modnet - INFO - Selected 250/416 features...\n",
      "2024-09-19 21:32:03,279 - modnet - INFO - Selected 300/416 features...\n",
      "2024-09-19 21:32:06,430 - modnet - INFO - Selected 350/416 features...\n",
      "2024-09-19 21:32:08,011 - modnet - INFO - Selected 400/416 features...\n",
      "2024-09-19 21:32:08,146 - modnet - INFO - Done with target 1/1: refractive_index.\n",
      "2024-09-19 21:32:08,147 - modnet - INFO - Merging all features...\n",
      "2024-09-19 21:32:08,148 - modnet - INFO - Done.\n",
      "2024-09-19 21:32:13,622 - modnet - INFO - Data successfully saved as data/md_ref_index_debreuck.pkl!\n",
      "2024-09-19 21:32:14,534 - modnet - INFO - Targets:\n",
      "2024-09-19 21:32:14,535 - modnet - INFO - 1)refractive_index: regression\n",
      "2024-09-19 21:32:19,643 - modnet - INFO - Multiprocessing on 48 cores. Total of 48 cores available.\n",
      "2024-09-19 21:32:19,645 - modnet - INFO - Generation number 0\n"
     ]
    },
    {
     "name": "stderr",
     "output_type": "stream",
     "text": [
      "  0%|          | 0/10 [00:00<?, ?it/s]2024-09-19 21:32:23.154411: I tensorflow/core/platform/cpu_feature_guard.cc:193] This TensorFlow binary is optimized with oneAPI Deep Neural Network Library (oneDNN) to use the following CPU instructions in performance-critical operations:  AVX2 AVX512F FMA\n",
      "To enable them in other operations, rebuild TensorFlow with the appropriate compiler flags.\n",
      "2024-09-19 21:32:23.324465: E tensorflow/stream_executor/cuda/cuda_blas.cc:2981] Unable to register cuBLAS factory: Attempting to register factory for plugin cuBLAS when one has already been registered\n",
      "2024-09-19 21:32:25.328714: I tensorflow/core/platform/cpu_feature_guard.cc:193] This TensorFlow binary is optimized with oneAPI Deep Neural Network Library (oneDNN) to use the following CPU instructions in performance-critical operations:  AVX2 AVX512F FMA\n",
      "To enable them in other operations, rebuild TensorFlow with the appropriate compiler flags.\n",
      "2024-09-19 21:32:25.505258: E tensorflow/stream_executor/cuda/cuda_blas.cc:2981] Unable to register cuBLAS factory: Attempting to register factory for plugin cuBLAS when one has already been registered\n",
      "2024-09-19 21:32:27.550161: I tensorflow/core/platform/cpu_feature_guard.cc:193] This TensorFlow binary is optimized with oneAPI Deep Neural Network Library (oneDNN) to use the following CPU instructions in performance-critical operations:  AVX2 AVX512F FMA\n",
      "To enable them in other operations, rebuild TensorFlow with the appropriate compiler flags.\n",
      "2024-09-19 21:32:27.731301: E tensorflow/stream_executor/cuda/cuda_blas.cc:2981] Unable to register cuBLAS factory: Attempting to register factory for plugin cuBLAS when one has already been registered\n",
      "2024-09-19 21:32:29.802388: I tensorflow/core/platform/cpu_feature_guard.cc:193] This TensorFlow binary is optimized with oneAPI Deep Neural Network Library (oneDNN) to use the following CPU instructions in performance-critical operations:  AVX2 AVX512F FMA\n",
      "To enable them in other operations, rebuild TensorFlow with the appropriate compiler flags.\n",
      "2024-09-19 21:32:29.995785: E tensorflow/stream_executor/cuda/cuda_blas.cc:2981] Unable to register cuBLAS factory: Attempting to register factory for plugin cuBLAS when one has already been registered\n",
      "2024-09-19 21:32:32.034787: I tensorflow/core/platform/cpu_feature_guard.cc:193] This TensorFlow binary is optimized with oneAPI Deep Neural Network Library (oneDNN) to use the following CPU instructions in performance-critical operations:  AVX2 AVX512F FMA\n",
      "To enable them in other operations, rebuild TensorFlow with the appropriate compiler flags.\n",
      "2024-09-19 21:32:32.058698: W tensorflow/stream_executor/platform/default/dso_loader.cc:64] Could not load dynamic library 'libcuda.so.1'; dlerror: libcuda.so.1: cannot open shared object file: No such file or directory; LD_LIBRARY_PATH: /home/ucl/modl/rgouvea/anaconda3/pkgs/cudatoolkit-11.2.2-hbe64b41_10/lib/:/home/ucl/modl/rgouvea/anaconda3/envs/env_tfmodnet/lib/python3.8/site-packages/nvidia/cuda_nvcc/:/home/ucl/modl/rgouvea/anaconda3/envs/env_tfmodnet/lib/python3.8/site-packages/nvidia/cuda_cupti/lib/:/home/ucl/modl/rgouvea/anaconda3/envs/py3.8/lib/python3.8/site-packages/tensorrt/:/home/ucl/modl/rgouvea/anaconda3/envs/env_tfmodnet/lib:/home/ucl/modl/rgouvea/anaconda3/envs/env_tfmodnet/lib/python3.8/site-packages/nvidia/cusolver/lib/:/auto/home/users/r/g/rgouvea/anaconda3/envs/env_tfmodnet/lib:/auto/home/users/r/g/rgouvea/anaconda3/envs/env_tfmodnet/lib/python3.8/site-packages/nvidia/cuda_runtime/lib/:/auto/home/users/r/g/rgouvea/anaconda3/envs/env_tfmodnet/lib/python3.8/site-packages/nvidia/cublas/lib/:/opt/sw/arch/easybuild/2020b/software/FFTW/3.3.8-gompic-2020b/lib:/opt/sw/arch/easybuild/2020b/software/OpenMPI/4.0.5-gcccuda-2020b/lib:/opt/sw/arch/easybuild/2020b/software/PMIx/3.1.5-GCCcore-10.2.0/lib:/opt/sw/arch/easybuild/2020b/software/libfabric/1.11.0-GCCcore-10.2.0/lib:/opt/sw/arch/easybuild/2020b/software/UCX/1.9.0-GCCcore-10.2.0-CUDA-11.1.1/lib:/opt/sw/arch/easybuild/2020b/software/GDRCopy/2.1-GCCcore-10.2.0-CUDA-11.1.1/lib:/opt/sw/arch/easybuild/2020b/software/Check/0.15.2-GCCcore-10.2.0/lib:/opt/sw/arch/easybuild/2020b/software/libevent/2.1.12-GCCcore-10.2.0/lib:/opt/sw/arch/easybuild/2020b/software/hwloc/2.2.0-GCCcore-10.2.0/lib:/opt/sw/arch/easybuild/2020b/software/libpciaccess/0.16-GCCcore-10.2.0/lib:/opt/sw/arch/easybuild/2020b/software/libxml2/2.9.10-GCCcore-10.2.0/lib:/opt/sw/arch/easybuild/2020b/software/XZ/5.2.5-GCCcore-10.2.0/lib:/opt/sw/arch/easybuild/2020b/software/numactl/2.0.13-GCCcore-10.2.0/lib:/opt/sw/arch/easybuild/2020b/software/CUDAcore/11.1.1/nvvm/lib64:/opt/sw/arch/easybuild/2020b/software/CUDAcore/11.1.1/extras/CUPTI/lib64:/opt/sw/arch/easybuild/2020b/software/CUDAcore/11.1.1/lib:/opt/sw/arch/easybuild/2020b/software/binutils/2.35-GCCcore-10.2.0/lib:/opt/sw/arch/easybuild/2020b/software/zlib/1.2.11-GCCcore-10.2.0/lib:/opt/sw/arch/easybuild/2020b/software/GCCcore/10.2.0/lib64:/home/ucl/modl/rgouvea/anaconda3/pkgs/cudatoolkit-11.2.2-hbe64b41_10/lib:/home/ucl/modl/rgouvea/anaconda3/envs/env_tfmodnet/lib/python3.8/site-packages/nvidia/cuda_nvcc:/home/ucl/modl/rgouvea/anaconda3/envs/env_tfmodnet/lib/python3.8/site-packages/nvidia/cuda_cupti/lib:/home/ucl/modl/rgouvea/anaconda3/envs/py3.8/lib/python3.8/site-packages/tensorrt:/home/ucl/modl/rgouvea/anaconda3/envs/env_tfmodnet/lib:/home/ucl/modl/rgouvea/anaconda3/envs/env_tfmodnet/lib/python3.8/site-packages/nvidia/cusolver/lib:/auto/home/users/r/g/rgouvea/anaconda3/envs/env_tfmodnet/lib:/auto/home/users/r/g/rgouvea/anaconda3/envs/env_tfmodnet/lib/python3.8/site-packages/nvidia/cuda_runtime/lib:/auto/home/users/r/g/rgouvea/anaconda3/envs/env_tfmodnet/lib/python3.8/site-packages/nvidia/cublas/lib::\n",
      "2024-09-19 21:32:32.058729: W tensorflow/stream_executor/cuda/cuda_driver.cc:263] failed call to cuInit: UNKNOWN ERROR (303)\n",
      "2024-09-19 21:32:32.058752: I tensorflow/stream_executor/cuda/cuda_diagnostics.cc:156] kernel driver does not appear to be running on this host (mbackf2.cism.ucl.ac.be): /proc/driver/nvidia/version does not exist\n",
      "2024-09-19 21:32:32.059031: I tensorflow/core/platform/cpu_feature_guard.cc:193] This TensorFlow binary is optimized with oneAPI Deep Neural Network Library (oneDNN) to use the following CPU instructions in performance-critical operations:  AVX2 AVX512F FMA\n",
      "To enable them in other operations, rebuild TensorFlow with the appropriate compiler flags.\n",
      "2024-09-19 21:32:32.216201: E tensorflow/stream_executor/cuda/cuda_blas.cc:2981] Unable to register cuBLAS factory: Attempting to register factory for plugin cuBLAS when one has already been registered\n",
      "2024-09-19 21:32:34.153667: W tensorflow/stream_executor/platform/default/dso_loader.cc:64] Could not load dynamic library 'libcuda.so.1'; dlerror: libcuda.so.1: cannot open shared object file: No such file or directory; LD_LIBRARY_PATH: /home/ucl/modl/rgouvea/anaconda3/pkgs/cudatoolkit-11.2.2-hbe64b41_10/lib/:/home/ucl/modl/rgouvea/anaconda3/envs/env_tfmodnet/lib/python3.8/site-packages/nvidia/cuda_nvcc/:/home/ucl/modl/rgouvea/anaconda3/envs/env_tfmodnet/lib/python3.8/site-packages/nvidia/cuda_cupti/lib/:/home/ucl/modl/rgouvea/anaconda3/envs/py3.8/lib/python3.8/site-packages/tensorrt/:/home/ucl/modl/rgouvea/anaconda3/envs/env_tfmodnet/lib:/home/ucl/modl/rgouvea/anaconda3/envs/env_tfmodnet/lib/python3.8/site-packages/nvidia/cusolver/lib/:/auto/home/users/r/g/rgouvea/anaconda3/envs/env_tfmodnet/lib:/auto/home/users/r/g/rgouvea/anaconda3/envs/env_tfmodnet/lib/python3.8/site-packages/nvidia/cuda_runtime/lib/:/auto/home/users/r/g/rgouvea/anaconda3/envs/env_tfmodnet/lib/python3.8/site-packages/nvidia/cublas/lib/:/opt/sw/arch/easybuild/2020b/software/FFTW/3.3.8-gompic-2020b/lib:/opt/sw/arch/easybuild/2020b/software/OpenMPI/4.0.5-gcccuda-2020b/lib:/opt/sw/arch/easybuild/2020b/software/PMIx/3.1.5-GCCcore-10.2.0/lib:/opt/sw/arch/easybuild/2020b/software/libfabric/1.11.0-GCCcore-10.2.0/lib:/opt/sw/arch/easybuild/2020b/software/UCX/1.9.0-GCCcore-10.2.0-CUDA-11.1.1/lib:/opt/sw/arch/easybuild/2020b/software/GDRCopy/2.1-GCCcore-10.2.0-CUDA-11.1.1/lib:/opt/sw/arch/easybuild/2020b/software/Check/0.15.2-GCCcore-10.2.0/lib:/opt/sw/arch/easybuild/2020b/software/libevent/2.1.12-GCCcore-10.2.0/lib:/opt/sw/arch/easybuild/2020b/software/hwloc/2.2.0-GCCcore-10.2.0/lib:/opt/sw/arch/easybuild/2020b/software/libpciaccess/0.16-GCCcore-10.2.0/lib:/opt/sw/arch/easybuild/2020b/software/libxml2/2.9.10-GCCcore-10.2.0/lib:/opt/sw/arch/easybuild/2020b/software/XZ/5.2.5-GCCcore-10.2.0/lib:/opt/sw/arch/easybuild/2020b/software/numactl/2.0.13-GCCcore-10.2.0/lib:/opt/sw/arch/easybuild/2020b/software/CUDAcore/11.1.1/nvvm/lib64:/opt/sw/arch/easybuild/2020b/software/CUDAcore/11.1.1/extras/CUPTI/lib64:/opt/sw/arch/easybuild/2020b/software/CUDAcore/11.1.1/lib:/opt/sw/arch/easybuild/2020b/software/binutils/2.35-GCCcore-10.2.0/lib:/opt/sw/arch/easybuild/2020b/software/zlib/1.2.11-GCCcore-10.2.0/lib:/opt/sw/arch/easybuild/2020b/software/GCCcore/10.2.0/lib64:/home/ucl/modl/rgouvea/anaconda3/pkgs/cudatoolkit-11.2.2-hbe64b41_10/lib:/home/ucl/modl/rgouvea/anaconda3/envs/env_tfmodnet/lib/python3.8/site-packages/nvidia/cuda_nvcc:/home/ucl/modl/rgouvea/anaconda3/envs/env_tfmodnet/lib/python3.8/site-packages/nvidia/cuda_cupti/lib:/home/ucl/modl/rgouvea/anaconda3/envs/py3.8/lib/python3.8/site-packages/tensorrt:/home/ucl/modl/rgouvea/anaconda3/envs/env_tfmodnet/lib:/home/ucl/modl/rgouvea/anaconda3/envs/env_tfmodnet/lib/python3.8/site-packages/nvidia/cusolver/lib:/auto/home/users/r/g/rgouvea/anaconda3/envs/env_tfmodnet/lib:/auto/home/users/r/g/rgouvea/anaconda3/envs/env_tfmodnet/lib/python3.8/site-packages/nvidia/cuda_runtime/lib:/auto/home/users/r/g/rgouvea/anaconda3/envs/env_tfmodnet/lib/python3.8/site-packages/nvidia/cublas/lib::\n",
      "2024-09-19 21:32:34.153705: W tensorflow/stream_executor/cuda/cuda_driver.cc:263] failed call to cuInit: UNKNOWN ERROR (303)\n",
      "2024-09-19 21:32:34.153729: I tensorflow/stream_executor/cuda/cuda_diagnostics.cc:156] kernel driver does not appear to be running on this host (mbackf2.cism.ucl.ac.be): /proc/driver/nvidia/version does not exist\n",
      "2024-09-19 21:32:34.154066: I tensorflow/core/platform/cpu_feature_guard.cc:193] This TensorFlow binary is optimized with oneAPI Deep Neural Network Library (oneDNN) to use the following CPU instructions in performance-critical operations:  AVX2 AVX512F FMA\n",
      "To enable them in other operations, rebuild TensorFlow with the appropriate compiler flags.\n",
      "2024-09-19 21:32:34.474326: I tensorflow/core/platform/cpu_feature_guard.cc:193] This TensorFlow binary is optimized with oneAPI Deep Neural Network Library (oneDNN) to use the following CPU instructions in performance-critical operations:  AVX2 AVX512F FMA\n",
      "To enable them in other operations, rebuild TensorFlow with the appropriate compiler flags.\n",
      "2024-09-19 21:32:34.670940: E tensorflow/stream_executor/cuda/cuda_blas.cc:2981] Unable to register cuBLAS factory: Attempting to register factory for plugin cuBLAS when one has already been registered\n",
      "2024-09-19 21:32:36.402822: W tensorflow/stream_executor/platform/default/dso_loader.cc:64] Could not load dynamic library 'libcuda.so.1'; dlerror: libcuda.so.1: cannot open shared object file: No such file or directory; LD_LIBRARY_PATH: /home/ucl/modl/rgouvea/anaconda3/pkgs/cudatoolkit-11.2.2-hbe64b41_10/lib/:/home/ucl/modl/rgouvea/anaconda3/envs/env_tfmodnet/lib/python3.8/site-packages/nvidia/cuda_nvcc/:/home/ucl/modl/rgouvea/anaconda3/envs/env_tfmodnet/lib/python3.8/site-packages/nvidia/cuda_cupti/lib/:/home/ucl/modl/rgouvea/anaconda3/envs/py3.8/lib/python3.8/site-packages/tensorrt/:/home/ucl/modl/rgouvea/anaconda3/envs/env_tfmodnet/lib:/home/ucl/modl/rgouvea/anaconda3/envs/env_tfmodnet/lib/python3.8/site-packages/nvidia/cusolver/lib/:/auto/home/users/r/g/rgouvea/anaconda3/envs/env_tfmodnet/lib:/auto/home/users/r/g/rgouvea/anaconda3/envs/env_tfmodnet/lib/python3.8/site-packages/nvidia/cuda_runtime/lib/:/auto/home/users/r/g/rgouvea/anaconda3/envs/env_tfmodnet/lib/python3.8/site-packages/nvidia/cublas/lib/:/opt/sw/arch/easybuild/2020b/software/FFTW/3.3.8-gompic-2020b/lib:/opt/sw/arch/easybuild/2020b/software/OpenMPI/4.0.5-gcccuda-2020b/lib:/opt/sw/arch/easybuild/2020b/software/PMIx/3.1.5-GCCcore-10.2.0/lib:/opt/sw/arch/easybuild/2020b/software/libfabric/1.11.0-GCCcore-10.2.0/lib:/opt/sw/arch/easybuild/2020b/software/UCX/1.9.0-GCCcore-10.2.0-CUDA-11.1.1/lib:/opt/sw/arch/easybuild/2020b/software/GDRCopy/2.1-GCCcore-10.2.0-CUDA-11.1.1/lib:/opt/sw/arch/easybuild/2020b/software/Check/0.15.2-GCCcore-10.2.0/lib:/opt/sw/arch/easybuild/2020b/software/libevent/2.1.12-GCCcore-10.2.0/lib:/opt/sw/arch/easybuild/2020b/software/hwloc/2.2.0-GCCcore-10.2.0/lib:/opt/sw/arch/easybuild/2020b/software/libpciaccess/0.16-GCCcore-10.2.0/lib:/opt/sw/arch/easybuild/2020b/software/libxml2/2.9.10-GCCcore-10.2.0/lib:/opt/sw/arch/easybuild/2020b/software/XZ/5.2.5-GCCcore-10.2.0/lib:/opt/sw/arch/easybuild/2020b/software/numactl/2.0.13-GCCcore-10.2.0/lib:/opt/sw/arch/easybuild/2020b/software/CUDAcore/11.1.1/nvvm/lib64:/opt/sw/arch/easybuild/2020b/software/CUDAcore/11.1.1/extras/CUPTI/lib64:/opt/sw/arch/easybuild/2020b/software/CUDAcore/11.1.1/lib:/opt/sw/arch/easybuild/2020b/software/binutils/2.35-GCCcore-10.2.0/lib:/opt/sw/arch/easybuild/2020b/software/zlib/1.2.11-GCCcore-10.2.0/lib:/opt/sw/arch/easybuild/2020b/software/GCCcore/10.2.0/lib64:/home/ucl/modl/rgouvea/anaconda3/pkgs/cudatoolkit-11.2.2-hbe64b41_10/lib:/home/ucl/modl/rgouvea/anaconda3/envs/env_tfmodnet/lib/python3.8/site-packages/nvidia/cuda_nvcc:/home/ucl/modl/rgouvea/anaconda3/envs/env_tfmodnet/lib/python3.8/site-packages/nvidia/cuda_cupti/lib:/home/ucl/modl/rgouvea/anaconda3/envs/py3.8/lib/python3.8/site-packages/tensorrt:/home/ucl/modl/rgouvea/anaconda3/envs/env_tfmodnet/lib:/home/ucl/modl/rgouvea/anaconda3/envs/env_tfmodnet/lib/python3.8/site-packages/nvidia/cusolver/lib:/auto/home/users/r/g/rgouvea/anaconda3/envs/env_tfmodnet/lib:/auto/home/users/r/g/rgouvea/anaconda3/envs/env_tfmodnet/lib/python3.8/site-packages/nvidia/cuda_runtime/lib:/auto/home/users/r/g/rgouvea/anaconda3/envs/env_tfmodnet/lib/python3.8/site-packages/nvidia/cublas/lib::\n",
      "2024-09-19 21:32:36.402860: W tensorflow/stream_executor/cuda/cuda_driver.cc:263] failed call to cuInit: UNKNOWN ERROR (303)\n",
      "2024-09-19 21:32:36.402884: I tensorflow/stream_executor/cuda/cuda_diagnostics.cc:156] kernel driver does not appear to be running on this host (mbackf2.cism.ucl.ac.be): /proc/driver/nvidia/version does not exist\n",
      "2024-09-19 21:32:36.403127: I tensorflow/core/platform/cpu_feature_guard.cc:193] This TensorFlow binary is optimized with oneAPI Deep Neural Network Library (oneDNN) to use the following CPU instructions in performance-critical operations:  AVX2 AVX512F FMA\n",
      "To enable them in other operations, rebuild TensorFlow with the appropriate compiler flags.\n",
      "2024-09-19 21:32:37.217105: I tensorflow/core/platform/cpu_feature_guard.cc:193] This TensorFlow binary is optimized with oneAPI Deep Neural Network Library (oneDNN) to use the following CPU instructions in performance-critical operations:  AVX2 AVX512F FMA\n",
      "To enable them in other operations, rebuild TensorFlow with the appropriate compiler flags.\n",
      "2024-09-19 21:32:37.463959: E tensorflow/stream_executor/cuda/cuda_blas.cc:2981] Unable to register cuBLAS factory: Attempting to register factory for plugin cuBLAS when one has already been registered\n",
      "2024-09-19 21:32:39.688676: W tensorflow/stream_executor/platform/default/dso_loader.cc:64] Could not load dynamic library 'libcuda.so.1'; dlerror: libcuda.so.1: cannot open shared object file: No such file or directory; LD_LIBRARY_PATH: /home/ucl/modl/rgouvea/anaconda3/pkgs/cudatoolkit-11.2.2-hbe64b41_10/lib/:/home/ucl/modl/rgouvea/anaconda3/envs/env_tfmodnet/lib/python3.8/site-packages/nvidia/cuda_nvcc/:/home/ucl/modl/rgouvea/anaconda3/envs/env_tfmodnet/lib/python3.8/site-packages/nvidia/cuda_cupti/lib/:/home/ucl/modl/rgouvea/anaconda3/envs/py3.8/lib/python3.8/site-packages/tensorrt/:/home/ucl/modl/rgouvea/anaconda3/envs/env_tfmodnet/lib:/home/ucl/modl/rgouvea/anaconda3/envs/env_tfmodnet/lib/python3.8/site-packages/nvidia/cusolver/lib/:/auto/home/users/r/g/rgouvea/anaconda3/envs/env_tfmodnet/lib:/auto/home/users/r/g/rgouvea/anaconda3/envs/env_tfmodnet/lib/python3.8/site-packages/nvidia/cuda_runtime/lib/:/auto/home/users/r/g/rgouvea/anaconda3/envs/env_tfmodnet/lib/python3.8/site-packages/nvidia/cublas/lib/:/opt/sw/arch/easybuild/2020b/software/FFTW/3.3.8-gompic-2020b/lib:/opt/sw/arch/easybuild/2020b/software/OpenMPI/4.0.5-gcccuda-2020b/lib:/opt/sw/arch/easybuild/2020b/software/PMIx/3.1.5-GCCcore-10.2.0/lib:/opt/sw/arch/easybuild/2020b/software/libfabric/1.11.0-GCCcore-10.2.0/lib:/opt/sw/arch/easybuild/2020b/software/UCX/1.9.0-GCCcore-10.2.0-CUDA-11.1.1/lib:/opt/sw/arch/easybuild/2020b/software/GDRCopy/2.1-GCCcore-10.2.0-CUDA-11.1.1/lib:/opt/sw/arch/easybuild/2020b/software/Check/0.15.2-GCCcore-10.2.0/lib:/opt/sw/arch/easybuild/2020b/software/libevent/2.1.12-GCCcore-10.2.0/lib:/opt/sw/arch/easybuild/2020b/software/hwloc/2.2.0-GCCcore-10.2.0/lib:/opt/sw/arch/easybuild/2020b/software/libpciaccess/0.16-GCCcore-10.2.0/lib:/opt/sw/arch/easybuild/2020b/software/libxml2/2.9.10-GCCcore-10.2.0/lib:/opt/sw/arch/easybuild/2020b/software/XZ/5.2.5-GCCcore-10.2.0/lib:/opt/sw/arch/easybuild/2020b/software/numactl/2.0.13-GCCcore-10.2.0/lib:/opt/sw/arch/easybuild/2020b/software/CUDAcore/11.1.1/nvvm/lib64:/opt/sw/arch/easybuild/2020b/software/CUDAcore/11.1.1/extras/CUPTI/lib64:/opt/sw/arch/easybuild/2020b/software/CUDAcore/11.1.1/lib:/opt/sw/arch/easybuild/2020b/software/binutils/2.35-GCCcore-10.2.0/lib:/opt/sw/arch/easybuild/2020b/software/zlib/1.2.11-GCCcore-10.2.0/lib:/opt/sw/arch/easybuild/2020b/software/GCCcore/10.2.0/lib64:/home/ucl/modl/rgouvea/anaconda3/pkgs/cudatoolkit-11.2.2-hbe64b41_10/lib:/home/ucl/modl/rgouvea/anaconda3/envs/env_tfmodnet/lib/python3.8/site-packages/nvidia/cuda_nvcc:/home/ucl/modl/rgouvea/anaconda3/envs/env_tfmodnet/lib/python3.8/site-packages/nvidia/cuda_cupti/lib:/home/ucl/modl/rgouvea/anaconda3/envs/py3.8/lib/python3.8/site-packages/tensorrt:/home/ucl/modl/rgouvea/anaconda3/envs/env_tfmodnet/lib:/home/ucl/modl/rgouvea/anaconda3/envs/env_tfmodnet/lib/python3.8/site-packages/nvidia/cusolver/lib:/auto/home/users/r/g/rgouvea/anaconda3/envs/env_tfmodnet/lib:/auto/home/users/r/g/rgouvea/anaconda3/envs/env_tfmodnet/lib/python3.8/site-packages/nvidia/cuda_runtime/lib:/auto/home/users/r/g/rgouvea/anaconda3/envs/env_tfmodnet/lib/python3.8/site-packages/nvidia/cublas/lib::\n",
      "2024-09-19 21:32:39.688714: W tensorflow/stream_executor/cuda/cuda_driver.cc:263] failed call to cuInit: UNKNOWN ERROR (303)\n",
      "2024-09-19 21:32:39.688764: I tensorflow/stream_executor/cuda/cuda_diagnostics.cc:156] kernel driver does not appear to be running on this host (mbackf2.cism.ucl.ac.be): /proc/driver/nvidia/version does not exist\n",
      "2024-09-19 21:32:39.689008: I tensorflow/core/platform/cpu_feature_guard.cc:193] This TensorFlow binary is optimized with oneAPI Deep Neural Network Library (oneDNN) to use the following CPU instructions in performance-critical operations:  AVX2 AVX512F FMA\n",
      "To enable them in other operations, rebuild TensorFlow with the appropriate compiler flags.\n",
      "2024-09-19 21:32:40.237889: I tensorflow/core/platform/cpu_feature_guard.cc:193] This TensorFlow binary is optimized with oneAPI Deep Neural Network Library (oneDNN) to use the following CPU instructions in performance-critical operations:  AVX2 AVX512F FMA\n",
      "To enable them in other operations, rebuild TensorFlow with the appropriate compiler flags.\n",
      "2024-09-19 21:32:40.461210: E tensorflow/stream_executor/cuda/cuda_blas.cc:2981] Unable to register cuBLAS factory: Attempting to register factory for plugin cuBLAS when one has already been registered\n",
      "2024-09-19 21:32:42.844873: W tensorflow/stream_executor/platform/default/dso_loader.cc:64] Could not load dynamic library 'libcuda.so.1'; dlerror: libcuda.so.1: cannot open shared object file: No such file or directory; LD_LIBRARY_PATH: /home/ucl/modl/rgouvea/anaconda3/pkgs/cudatoolkit-11.2.2-hbe64b41_10/lib/:/home/ucl/modl/rgouvea/anaconda3/envs/env_tfmodnet/lib/python3.8/site-packages/nvidia/cuda_nvcc/:/home/ucl/modl/rgouvea/anaconda3/envs/env_tfmodnet/lib/python3.8/site-packages/nvidia/cuda_cupti/lib/:/home/ucl/modl/rgouvea/anaconda3/envs/py3.8/lib/python3.8/site-packages/tensorrt/:/home/ucl/modl/rgouvea/anaconda3/envs/env_tfmodnet/lib:/home/ucl/modl/rgouvea/anaconda3/envs/env_tfmodnet/lib/python3.8/site-packages/nvidia/cusolver/lib/:/auto/home/users/r/g/rgouvea/anaconda3/envs/env_tfmodnet/lib:/auto/home/users/r/g/rgouvea/anaconda3/envs/env_tfmodnet/lib/python3.8/site-packages/nvidia/cuda_runtime/lib/:/auto/home/users/r/g/rgouvea/anaconda3/envs/env_tfmodnet/lib/python3.8/site-packages/nvidia/cublas/lib/:/opt/sw/arch/easybuild/2020b/software/FFTW/3.3.8-gompic-2020b/lib:/opt/sw/arch/easybuild/2020b/software/OpenMPI/4.0.5-gcccuda-2020b/lib:/opt/sw/arch/easybuild/2020b/software/PMIx/3.1.5-GCCcore-10.2.0/lib:/opt/sw/arch/easybuild/2020b/software/libfabric/1.11.0-GCCcore-10.2.0/lib:/opt/sw/arch/easybuild/2020b/software/UCX/1.9.0-GCCcore-10.2.0-CUDA-11.1.1/lib:/opt/sw/arch/easybuild/2020b/software/GDRCopy/2.1-GCCcore-10.2.0-CUDA-11.1.1/lib:/opt/sw/arch/easybuild/2020b/software/Check/0.15.2-GCCcore-10.2.0/lib:/opt/sw/arch/easybuild/2020b/software/libevent/2.1.12-GCCcore-10.2.0/lib:/opt/sw/arch/easybuild/2020b/software/hwloc/2.2.0-GCCcore-10.2.0/lib:/opt/sw/arch/easybuild/2020b/software/libpciaccess/0.16-GCCcore-10.2.0/lib:/opt/sw/arch/easybuild/2020b/software/libxml2/2.9.10-GCCcore-10.2.0/lib:/opt/sw/arch/easybuild/2020b/software/XZ/5.2.5-GCCcore-10.2.0/lib:/opt/sw/arch/easybuild/2020b/software/numactl/2.0.13-GCCcore-10.2.0/lib:/opt/sw/arch/easybuild/2020b/software/CUDAcore/11.1.1/nvvm/lib64:/opt/sw/arch/easybuild/2020b/software/CUDAcore/11.1.1/extras/CUPTI/lib64:/opt/sw/arch/easybuild/2020b/software/CUDAcore/11.1.1/lib:/opt/sw/arch/easybuild/2020b/software/binutils/2.35-GCCcore-10.2.0/lib:/opt/sw/arch/easybuild/2020b/software/zlib/1.2.11-GCCcore-10.2.0/lib:/opt/sw/arch/easybuild/2020b/software/GCCcore/10.2.0/lib64:/home/ucl/modl/rgouvea/anaconda3/pkgs/cudatoolkit-11.2.2-hbe64b41_10/lib:/home/ucl/modl/rgouvea/anaconda3/envs/env_tfmodnet/lib/python3.8/site-packages/nvidia/cuda_nvcc:/home/ucl/modl/rgouvea/anaconda3/envs/env_tfmodnet/lib/python3.8/site-packages/nvidia/cuda_cupti/lib:/home/ucl/modl/rgouvea/anaconda3/envs/py3.8/lib/python3.8/site-packages/tensorrt:/home/ucl/modl/rgouvea/anaconda3/envs/env_tfmodnet/lib:/home/ucl/modl/rgouvea/anaconda3/envs/env_tfmodnet/lib/python3.8/site-packages/nvidia/cusolver/lib:/auto/home/users/r/g/rgouvea/anaconda3/envs/env_tfmodnet/lib:/auto/home/users/r/g/rgouvea/anaconda3/envs/env_tfmodnet/lib/python3.8/site-packages/nvidia/cuda_runtime/lib:/auto/home/users/r/g/rgouvea/anaconda3/envs/env_tfmodnet/lib/python3.8/site-packages/nvidia/cublas/lib::\n",
      "2024-09-19 21:32:42.844907: W tensorflow/stream_executor/cuda/cuda_driver.cc:263] failed call to cuInit: UNKNOWN ERROR (303)\n",
      "2024-09-19 21:32:42.844928: I tensorflow/stream_executor/cuda/cuda_diagnostics.cc:156] kernel driver does not appear to be running on this host (mbackf2.cism.ucl.ac.be): /proc/driver/nvidia/version does not exist\n",
      "2024-09-19 21:32:42.845179: I tensorflow/core/platform/cpu_feature_guard.cc:193] This TensorFlow binary is optimized with oneAPI Deep Neural Network Library (oneDNN) to use the following CPU instructions in performance-critical operations:  AVX2 AVX512F FMA\n",
      "To enable them in other operations, rebuild TensorFlow with the appropriate compiler flags.\n",
      "2024-09-19 21:32:43.377245: I tensorflow/core/platform/cpu_feature_guard.cc:193] This TensorFlow binary is optimized with oneAPI Deep Neural Network Library (oneDNN) to use the following CPU instructions in performance-critical operations:  AVX2 AVX512F FMA\n",
      "To enable them in other operations, rebuild TensorFlow with the appropriate compiler flags.\n",
      "2024-09-19 21:32:43.613181: E tensorflow/stream_executor/cuda/cuda_blas.cc:2981] Unable to register cuBLAS factory: Attempting to register factory for plugin cuBLAS when one has already been registered\n",
      "2024-09-19 21:32:46.256122: W tensorflow/stream_executor/platform/default/dso_loader.cc:64] Could not load dynamic library 'libcuda.so.1'; dlerror: libcuda.so.1: cannot open shared object file: No such file or directory; LD_LIBRARY_PATH: /home/ucl/modl/rgouvea/anaconda3/pkgs/cudatoolkit-11.2.2-hbe64b41_10/lib/:/home/ucl/modl/rgouvea/anaconda3/envs/env_tfmodnet/lib/python3.8/site-packages/nvidia/cuda_nvcc/:/home/ucl/modl/rgouvea/anaconda3/envs/env_tfmodnet/lib/python3.8/site-packages/nvidia/cuda_cupti/lib/:/home/ucl/modl/rgouvea/anaconda3/envs/py3.8/lib/python3.8/site-packages/tensorrt/:/home/ucl/modl/rgouvea/anaconda3/envs/env_tfmodnet/lib:/home/ucl/modl/rgouvea/anaconda3/envs/env_tfmodnet/lib/python3.8/site-packages/nvidia/cusolver/lib/:/auto/home/users/r/g/rgouvea/anaconda3/envs/env_tfmodnet/lib:/auto/home/users/r/g/rgouvea/anaconda3/envs/env_tfmodnet/lib/python3.8/site-packages/nvidia/cuda_runtime/lib/:/auto/home/users/r/g/rgouvea/anaconda3/envs/env_tfmodnet/lib/python3.8/site-packages/nvidia/cublas/lib/:/opt/sw/arch/easybuild/2020b/software/FFTW/3.3.8-gompic-2020b/lib:/opt/sw/arch/easybuild/2020b/software/OpenMPI/4.0.5-gcccuda-2020b/lib:/opt/sw/arch/easybuild/2020b/software/PMIx/3.1.5-GCCcore-10.2.0/lib:/opt/sw/arch/easybuild/2020b/software/libfabric/1.11.0-GCCcore-10.2.0/lib:/opt/sw/arch/easybuild/2020b/software/UCX/1.9.0-GCCcore-10.2.0-CUDA-11.1.1/lib:/opt/sw/arch/easybuild/2020b/software/GDRCopy/2.1-GCCcore-10.2.0-CUDA-11.1.1/lib:/opt/sw/arch/easybuild/2020b/software/Check/0.15.2-GCCcore-10.2.0/lib:/opt/sw/arch/easybuild/2020b/software/libevent/2.1.12-GCCcore-10.2.0/lib:/opt/sw/arch/easybuild/2020b/software/hwloc/2.2.0-GCCcore-10.2.0/lib:/opt/sw/arch/easybuild/2020b/software/libpciaccess/0.16-GCCcore-10.2.0/lib:/opt/sw/arch/easybuild/2020b/software/libxml2/2.9.10-GCCcore-10.2.0/lib:/opt/sw/arch/easybuild/2020b/software/XZ/5.2.5-GCCcore-10.2.0/lib:/opt/sw/arch/easybuild/2020b/software/numactl/2.0.13-GCCcore-10.2.0/lib:/opt/sw/arch/easybuild/2020b/software/CUDAcore/11.1.1/nvvm/lib64:/opt/sw/arch/easybuild/2020b/software/CUDAcore/11.1.1/extras/CUPTI/lib64:/opt/sw/arch/easybuild/2020b/software/CUDAcore/11.1.1/lib:/opt/sw/arch/easybuild/2020b/software/binutils/2.35-GCCcore-10.2.0/lib:/opt/sw/arch/easybuild/2020b/software/zlib/1.2.11-GCCcore-10.2.0/lib:/opt/sw/arch/easybuild/2020b/software/GCCcore/10.2.0/lib64:/home/ucl/modl/rgouvea/anaconda3/pkgs/cudatoolkit-11.2.2-hbe64b41_10/lib:/home/ucl/modl/rgouvea/anaconda3/envs/env_tfmodnet/lib/python3.8/site-packages/nvidia/cuda_nvcc:/home/ucl/modl/rgouvea/anaconda3/envs/env_tfmodnet/lib/python3.8/site-packages/nvidia/cuda_cupti/lib:/home/ucl/modl/rgouvea/anaconda3/envs/py3.8/lib/python3.8/site-packages/tensorrt:/home/ucl/modl/rgouvea/anaconda3/envs/env_tfmodnet/lib:/home/ucl/modl/rgouvea/anaconda3/envs/env_tfmodnet/lib/python3.8/site-packages/nvidia/cusolver/lib:/auto/home/users/r/g/rgouvea/anaconda3/envs/env_tfmodnet/lib:/auto/home/users/r/g/rgouvea/anaconda3/envs/env_tfmodnet/lib/python3.8/site-packages/nvidia/cuda_runtime/lib:/auto/home/users/r/g/rgouvea/anaconda3/envs/env_tfmodnet/lib/python3.8/site-packages/nvidia/cublas/lib::\n",
      "2024-09-19 21:32:46.256164: W tensorflow/stream_executor/cuda/cuda_driver.cc:263] failed call to cuInit: UNKNOWN ERROR (303)\n",
      "2024-09-19 21:32:46.256192: I tensorflow/stream_executor/cuda/cuda_diagnostics.cc:156] kernel driver does not appear to be running on this host (mbackf2.cism.ucl.ac.be): /proc/driver/nvidia/version does not exist\n",
      "2024-09-19 21:32:46.256624: I tensorflow/core/platform/cpu_feature_guard.cc:193] This TensorFlow binary is optimized with oneAPI Deep Neural Network Library (oneDNN) to use the following CPU instructions in performance-critical operations:  AVX2 AVX512F FMA\n",
      "To enable them in other operations, rebuild TensorFlow with the appropriate compiler flags.\n",
      "2024-09-19 21:32:46.646940: I tensorflow/core/platform/cpu_feature_guard.cc:193] This TensorFlow binary is optimized with oneAPI Deep Neural Network Library (oneDNN) to use the following CPU instructions in performance-critical operations:  AVX2 AVX512F FMA\n",
      "To enable them in other operations, rebuild TensorFlow with the appropriate compiler flags.\n",
      " 10%|█         | 1/10 [00:25<03:53, 25.94s/it]"
     ]
    },
    {
     "name": "stdout",
     "output_type": "stream",
     "text": [
      "11/11 [==============================] - 0s 1ms/step\n"
     ]
    },
    {
     "name": "stderr",
     "output_type": "stream",
     "text": [
      "2024-09-19 21:32:46.940190: E tensorflow/stream_executor/cuda/cuda_blas.cc:2981] Unable to register cuBLAS factory: Attempting to register factory for plugin cuBLAS when one has already been registered\n",
      "2024-09-19 21:32:49.523449: W tensorflow/stream_executor/platform/default/dso_loader.cc:64] Could not load dynamic library 'libcuda.so.1'; dlerror: libcuda.so.1: cannot open shared object file: No such file or directory; LD_LIBRARY_PATH: /home/ucl/modl/rgouvea/anaconda3/pkgs/cudatoolkit-11.2.2-hbe64b41_10/lib/:/home/ucl/modl/rgouvea/anaconda3/envs/env_tfmodnet/lib/python3.8/site-packages/nvidia/cuda_nvcc/:/home/ucl/modl/rgouvea/anaconda3/envs/env_tfmodnet/lib/python3.8/site-packages/nvidia/cuda_cupti/lib/:/home/ucl/modl/rgouvea/anaconda3/envs/py3.8/lib/python3.8/site-packages/tensorrt/:/home/ucl/modl/rgouvea/anaconda3/envs/env_tfmodnet/lib:/home/ucl/modl/rgouvea/anaconda3/envs/env_tfmodnet/lib/python3.8/site-packages/nvidia/cusolver/lib/:/auto/home/users/r/g/rgouvea/anaconda3/envs/env_tfmodnet/lib:/auto/home/users/r/g/rgouvea/anaconda3/envs/env_tfmodnet/lib/python3.8/site-packages/nvidia/cuda_runtime/lib/:/auto/home/users/r/g/rgouvea/anaconda3/envs/env_tfmodnet/lib/python3.8/site-packages/nvidia/cublas/lib/:/opt/sw/arch/easybuild/2020b/software/FFTW/3.3.8-gompic-2020b/lib:/opt/sw/arch/easybuild/2020b/software/OpenMPI/4.0.5-gcccuda-2020b/lib:/opt/sw/arch/easybuild/2020b/software/PMIx/3.1.5-GCCcore-10.2.0/lib:/opt/sw/arch/easybuild/2020b/software/libfabric/1.11.0-GCCcore-10.2.0/lib:/opt/sw/arch/easybuild/2020b/software/UCX/1.9.0-GCCcore-10.2.0-CUDA-11.1.1/lib:/opt/sw/arch/easybuild/2020b/software/GDRCopy/2.1-GCCcore-10.2.0-CUDA-11.1.1/lib:/opt/sw/arch/easybuild/2020b/software/Check/0.15.2-GCCcore-10.2.0/lib:/opt/sw/arch/easybuild/2020b/software/libevent/2.1.12-GCCcore-10.2.0/lib:/opt/sw/arch/easybuild/2020b/software/hwloc/2.2.0-GCCcore-10.2.0/lib:/opt/sw/arch/easybuild/2020b/software/libpciaccess/0.16-GCCcore-10.2.0/lib:/opt/sw/arch/easybuild/2020b/software/libxml2/2.9.10-GCCcore-10.2.0/lib:/opt/sw/arch/easybuild/2020b/software/XZ/5.2.5-GCCcore-10.2.0/lib:/opt/sw/arch/easybuild/2020b/software/numactl/2.0.13-GCCcore-10.2.0/lib:/opt/sw/arch/easybuild/2020b/software/CUDAcore/11.1.1/nvvm/lib64:/opt/sw/arch/easybuild/2020b/software/CUDAcore/11.1.1/extras/CUPTI/lib64:/opt/sw/arch/easybuild/2020b/software/CUDAcore/11.1.1/lib:/opt/sw/arch/easybuild/2020b/software/binutils/2.35-GCCcore-10.2.0/lib:/opt/sw/arch/easybuild/2020b/software/zlib/1.2.11-GCCcore-10.2.0/lib:/opt/sw/arch/easybuild/2020b/software/GCCcore/10.2.0/lib64:/home/ucl/modl/rgouvea/anaconda3/pkgs/cudatoolkit-11.2.2-hbe64b41_10/lib:/home/ucl/modl/rgouvea/anaconda3/envs/env_tfmodnet/lib/python3.8/site-packages/nvidia/cuda_nvcc:/home/ucl/modl/rgouvea/anaconda3/envs/env_tfmodnet/lib/python3.8/site-packages/nvidia/cuda_cupti/lib:/home/ucl/modl/rgouvea/anaconda3/envs/py3.8/lib/python3.8/site-packages/tensorrt:/home/ucl/modl/rgouvea/anaconda3/envs/env_tfmodnet/lib:/home/ucl/modl/rgouvea/anaconda3/envs/env_tfmodnet/lib/python3.8/site-packages/nvidia/cusolver/lib:/auto/home/users/r/g/rgouvea/anaconda3/envs/env_tfmodnet/lib:/auto/home/users/r/g/rgouvea/anaconda3/envs/env_tfmodnet/lib/python3.8/site-packages/nvidia/cuda_runtime/lib:/auto/home/users/r/g/rgouvea/anaconda3/envs/env_tfmodnet/lib/python3.8/site-packages/nvidia/cublas/lib::\n",
      "2024-09-19 21:32:49.523499: W tensorflow/stream_executor/cuda/cuda_driver.cc:263] failed call to cuInit: UNKNOWN ERROR (303)\n",
      "2024-09-19 21:32:49.523537: I tensorflow/stream_executor/cuda/cuda_diagnostics.cc:156] kernel driver does not appear to be running on this host (mbackf2.cism.ucl.ac.be): /proc/driver/nvidia/version does not exist\n",
      "2024-09-19 21:32:49.523877: I tensorflow/core/platform/cpu_feature_guard.cc:193] This TensorFlow binary is optimized with oneAPI Deep Neural Network Library (oneDNN) to use the following CPU instructions in performance-critical operations:  AVX2 AVX512F FMA\n",
      "To enable them in other operations, rebuild TensorFlow with the appropriate compiler flags.\n",
      "2024-09-19 21:32:52.775312: W tensorflow/stream_executor/platform/default/dso_loader.cc:64] Could not load dynamic library 'libcuda.so.1'; dlerror: libcuda.so.1: cannot open shared object file: No such file or directory; LD_LIBRARY_PATH: /home/ucl/modl/rgouvea/anaconda3/pkgs/cudatoolkit-11.2.2-hbe64b41_10/lib/:/home/ucl/modl/rgouvea/anaconda3/envs/env_tfmodnet/lib/python3.8/site-packages/nvidia/cuda_nvcc/:/home/ucl/modl/rgouvea/anaconda3/envs/env_tfmodnet/lib/python3.8/site-packages/nvidia/cuda_cupti/lib/:/home/ucl/modl/rgouvea/anaconda3/envs/py3.8/lib/python3.8/site-packages/tensorrt/:/home/ucl/modl/rgouvea/anaconda3/envs/env_tfmodnet/lib:/home/ucl/modl/rgouvea/anaconda3/envs/env_tfmodnet/lib/python3.8/site-packages/nvidia/cusolver/lib/:/auto/home/users/r/g/rgouvea/anaconda3/envs/env_tfmodnet/lib:/auto/home/users/r/g/rgouvea/anaconda3/envs/env_tfmodnet/lib/python3.8/site-packages/nvidia/cuda_runtime/lib/:/auto/home/users/r/g/rgouvea/anaconda3/envs/env_tfmodnet/lib/python3.8/site-packages/nvidia/cublas/lib/:/opt/sw/arch/easybuild/2020b/software/FFTW/3.3.8-gompic-2020b/lib:/opt/sw/arch/easybuild/2020b/software/OpenMPI/4.0.5-gcccuda-2020b/lib:/opt/sw/arch/easybuild/2020b/software/PMIx/3.1.5-GCCcore-10.2.0/lib:/opt/sw/arch/easybuild/2020b/software/libfabric/1.11.0-GCCcore-10.2.0/lib:/opt/sw/arch/easybuild/2020b/software/UCX/1.9.0-GCCcore-10.2.0-CUDA-11.1.1/lib:/opt/sw/arch/easybuild/2020b/software/GDRCopy/2.1-GCCcore-10.2.0-CUDA-11.1.1/lib:/opt/sw/arch/easybuild/2020b/software/Check/0.15.2-GCCcore-10.2.0/lib:/opt/sw/arch/easybuild/2020b/software/libevent/2.1.12-GCCcore-10.2.0/lib:/opt/sw/arch/easybuild/2020b/software/hwloc/2.2.0-GCCcore-10.2.0/lib:/opt/sw/arch/easybuild/2020b/software/libpciaccess/0.16-GCCcore-10.2.0/lib:/opt/sw/arch/easybuild/2020b/software/libxml2/2.9.10-GCCcore-10.2.0/lib:/opt/sw/arch/easybuild/2020b/software/XZ/5.2.5-GCCcore-10.2.0/lib:/opt/sw/arch/easybuild/2020b/software/numactl/2.0.13-GCCcore-10.2.0/lib:/opt/sw/arch/easybuild/2020b/software/CUDAcore/11.1.1/nvvm/lib64:/opt/sw/arch/easybuild/2020b/software/CUDAcore/11.1.1/extras/CUPTI/lib64:/opt/sw/arch/easybuild/2020b/software/CUDAcore/11.1.1/lib:/opt/sw/arch/easybuild/2020b/software/binutils/2.35-GCCcore-10.2.0/lib:/opt/sw/arch/easybuild/2020b/software/zlib/1.2.11-GCCcore-10.2.0/lib:/opt/sw/arch/easybuild/2020b/software/GCCcore/10.2.0/lib64:/home/ucl/modl/rgouvea/anaconda3/pkgs/cudatoolkit-11.2.2-hbe64b41_10/lib:/home/ucl/modl/rgouvea/anaconda3/envs/env_tfmodnet/lib/python3.8/site-packages/nvidia/cuda_nvcc:/home/ucl/modl/rgouvea/anaconda3/envs/env_tfmodnet/lib/python3.8/site-packages/nvidia/cuda_cupti/lib:/home/ucl/modl/rgouvea/anaconda3/envs/py3.8/lib/python3.8/site-packages/tensorrt:/home/ucl/modl/rgouvea/anaconda3/envs/env_tfmodnet/lib:/home/ucl/modl/rgouvea/anaconda3/envs/env_tfmodnet/lib/python3.8/site-packages/nvidia/cusolver/lib:/auto/home/users/r/g/rgouvea/anaconda3/envs/env_tfmodnet/lib:/auto/home/users/r/g/rgouvea/anaconda3/envs/env_tfmodnet/lib/python3.8/site-packages/nvidia/cuda_runtime/lib:/auto/home/users/r/g/rgouvea/anaconda3/envs/env_tfmodnet/lib/python3.8/site-packages/nvidia/cublas/lib::\n",
      "2024-09-19 21:32:52.775356: W tensorflow/stream_executor/cuda/cuda_driver.cc:263] failed call to cuInit: UNKNOWN ERROR (303)\n",
      "2024-09-19 21:32:52.775381: I tensorflow/stream_executor/cuda/cuda_diagnostics.cc:156] kernel driver does not appear to be running on this host (mbackf2.cism.ucl.ac.be): /proc/driver/nvidia/version does not exist\n",
      "2024-09-19 21:32:52.775658: I tensorflow/core/platform/cpu_feature_guard.cc:193] This TensorFlow binary is optimized with oneAPI Deep Neural Network Library (oneDNN) to use the following CPU instructions in performance-critical operations:  AVX2 AVX512F FMA\n",
      "To enable them in other operations, rebuild TensorFlow with the appropriate compiler flags.\n",
      " 20%|██        | 2/10 [00:33<01:59, 15.00s/it]"
     ]
    },
    {
     "name": "stdout",
     "output_type": "stream",
     "text": [
      "11/11 [==============================] - 0s 1ms/step\n"
     ]
    },
    {
     "name": "stderr",
     "output_type": "stream",
     "text": [
      "2024-09-19 21:32:56.706991: W tensorflow/stream_executor/platform/default/dso_loader.cc:64] Could not load dynamic library 'libcuda.so.1'; dlerror: libcuda.so.1: cannot open shared object file: No such file or directory; LD_LIBRARY_PATH: /home/ucl/modl/rgouvea/anaconda3/pkgs/cudatoolkit-11.2.2-hbe64b41_10/lib/:/home/ucl/modl/rgouvea/anaconda3/envs/env_tfmodnet/lib/python3.8/site-packages/nvidia/cuda_nvcc/:/home/ucl/modl/rgouvea/anaconda3/envs/env_tfmodnet/lib/python3.8/site-packages/nvidia/cuda_cupti/lib/:/home/ucl/modl/rgouvea/anaconda3/envs/py3.8/lib/python3.8/site-packages/tensorrt/:/home/ucl/modl/rgouvea/anaconda3/envs/env_tfmodnet/lib:/home/ucl/modl/rgouvea/anaconda3/envs/env_tfmodnet/lib/python3.8/site-packages/nvidia/cusolver/lib/:/auto/home/users/r/g/rgouvea/anaconda3/envs/env_tfmodnet/lib:/auto/home/users/r/g/rgouvea/anaconda3/envs/env_tfmodnet/lib/python3.8/site-packages/nvidia/cuda_runtime/lib/:/auto/home/users/r/g/rgouvea/anaconda3/envs/env_tfmodnet/lib/python3.8/site-packages/nvidia/cublas/lib/:/opt/sw/arch/easybuild/2020b/software/FFTW/3.3.8-gompic-2020b/lib:/opt/sw/arch/easybuild/2020b/software/OpenMPI/4.0.5-gcccuda-2020b/lib:/opt/sw/arch/easybuild/2020b/software/PMIx/3.1.5-GCCcore-10.2.0/lib:/opt/sw/arch/easybuild/2020b/software/libfabric/1.11.0-GCCcore-10.2.0/lib:/opt/sw/arch/easybuild/2020b/software/UCX/1.9.0-GCCcore-10.2.0-CUDA-11.1.1/lib:/opt/sw/arch/easybuild/2020b/software/GDRCopy/2.1-GCCcore-10.2.0-CUDA-11.1.1/lib:/opt/sw/arch/easybuild/2020b/software/Check/0.15.2-GCCcore-10.2.0/lib:/opt/sw/arch/easybuild/2020b/software/libevent/2.1.12-GCCcore-10.2.0/lib:/opt/sw/arch/easybuild/2020b/software/hwloc/2.2.0-GCCcore-10.2.0/lib:/opt/sw/arch/easybuild/2020b/software/libpciaccess/0.16-GCCcore-10.2.0/lib:/opt/sw/arch/easybuild/2020b/software/libxml2/2.9.10-GCCcore-10.2.0/lib:/opt/sw/arch/easybuild/2020b/software/XZ/5.2.5-GCCcore-10.2.0/lib:/opt/sw/arch/easybuild/2020b/software/numactl/2.0.13-GCCcore-10.2.0/lib:/opt/sw/arch/easybuild/2020b/software/CUDAcore/11.1.1/nvvm/lib64:/opt/sw/arch/easybuild/2020b/software/CUDAcore/11.1.1/extras/CUPTI/lib64:/opt/sw/arch/easybuild/2020b/software/CUDAcore/11.1.1/lib:/opt/sw/arch/easybuild/2020b/software/binutils/2.35-GCCcore-10.2.0/lib:/opt/sw/arch/easybuild/2020b/software/zlib/1.2.11-GCCcore-10.2.0/lib:/opt/sw/arch/easybuild/2020b/software/GCCcore/10.2.0/lib64:/home/ucl/modl/rgouvea/anaconda3/pkgs/cudatoolkit-11.2.2-hbe64b41_10/lib:/home/ucl/modl/rgouvea/anaconda3/envs/env_tfmodnet/lib/python3.8/site-packages/nvidia/cuda_nvcc:/home/ucl/modl/rgouvea/anaconda3/envs/env_tfmodnet/lib/python3.8/site-packages/nvidia/cuda_cupti/lib:/home/ucl/modl/rgouvea/anaconda3/envs/py3.8/lib/python3.8/site-packages/tensorrt:/home/ucl/modl/rgouvea/anaconda3/envs/env_tfmodnet/lib:/home/ucl/modl/rgouvea/anaconda3/envs/env_tfmodnet/lib/python3.8/site-packages/nvidia/cusolver/lib:/auto/home/users/r/g/rgouvea/anaconda3/envs/env_tfmodnet/lib:/auto/home/users/r/g/rgouvea/anaconda3/envs/env_tfmodnet/lib/python3.8/site-packages/nvidia/cuda_runtime/lib:/auto/home/users/r/g/rgouvea/anaconda3/envs/env_tfmodnet/lib/python3.8/site-packages/nvidia/cublas/lib::\n",
      "2024-09-19 21:32:56.707035: W tensorflow/stream_executor/cuda/cuda_driver.cc:263] failed call to cuInit: UNKNOWN ERROR (303)\n",
      "2024-09-19 21:32:56.707059: I tensorflow/stream_executor/cuda/cuda_diagnostics.cc:156] kernel driver does not appear to be running on this host (mbackf2.cism.ucl.ac.be): /proc/driver/nvidia/version does not exist\n",
      "2024-09-19 21:32:56.707375: I tensorflow/core/platform/cpu_feature_guard.cc:193] This TensorFlow binary is optimized with oneAPI Deep Neural Network Library (oneDNN) to use the following CPU instructions in performance-critical operations:  AVX2 AVX512F FMA\n",
      "To enable them in other operations, rebuild TensorFlow with the appropriate compiler flags.\n",
      "2024-09-19 21:33:00.520420: W tensorflow/stream_executor/platform/default/dso_loader.cc:64] Could not load dynamic library 'libcuda.so.1'; dlerror: libcuda.so.1: cannot open shared object file: No such file or directory; LD_LIBRARY_PATH: /home/ucl/modl/rgouvea/anaconda3/pkgs/cudatoolkit-11.2.2-hbe64b41_10/lib/:/home/ucl/modl/rgouvea/anaconda3/envs/env_tfmodnet/lib/python3.8/site-packages/nvidia/cuda_nvcc/:/home/ucl/modl/rgouvea/anaconda3/envs/env_tfmodnet/lib/python3.8/site-packages/nvidia/cuda_cupti/lib/:/home/ucl/modl/rgouvea/anaconda3/envs/py3.8/lib/python3.8/site-packages/tensorrt/:/home/ucl/modl/rgouvea/anaconda3/envs/env_tfmodnet/lib:/home/ucl/modl/rgouvea/anaconda3/envs/env_tfmodnet/lib/python3.8/site-packages/nvidia/cusolver/lib/:/auto/home/users/r/g/rgouvea/anaconda3/envs/env_tfmodnet/lib:/auto/home/users/r/g/rgouvea/anaconda3/envs/env_tfmodnet/lib/python3.8/site-packages/nvidia/cuda_runtime/lib/:/auto/home/users/r/g/rgouvea/anaconda3/envs/env_tfmodnet/lib/python3.8/site-packages/nvidia/cublas/lib/:/opt/sw/arch/easybuild/2020b/software/FFTW/3.3.8-gompic-2020b/lib:/opt/sw/arch/easybuild/2020b/software/OpenMPI/4.0.5-gcccuda-2020b/lib:/opt/sw/arch/easybuild/2020b/software/PMIx/3.1.5-GCCcore-10.2.0/lib:/opt/sw/arch/easybuild/2020b/software/libfabric/1.11.0-GCCcore-10.2.0/lib:/opt/sw/arch/easybuild/2020b/software/UCX/1.9.0-GCCcore-10.2.0-CUDA-11.1.1/lib:/opt/sw/arch/easybuild/2020b/software/GDRCopy/2.1-GCCcore-10.2.0-CUDA-11.1.1/lib:/opt/sw/arch/easybuild/2020b/software/Check/0.15.2-GCCcore-10.2.0/lib:/opt/sw/arch/easybuild/2020b/software/libevent/2.1.12-GCCcore-10.2.0/lib:/opt/sw/arch/easybuild/2020b/software/hwloc/2.2.0-GCCcore-10.2.0/lib:/opt/sw/arch/easybuild/2020b/software/libpciaccess/0.16-GCCcore-10.2.0/lib:/opt/sw/arch/easybuild/2020b/software/libxml2/2.9.10-GCCcore-10.2.0/lib:/opt/sw/arch/easybuild/2020b/software/XZ/5.2.5-GCCcore-10.2.0/lib:/opt/sw/arch/easybuild/2020b/software/numactl/2.0.13-GCCcore-10.2.0/lib:/opt/sw/arch/easybuild/2020b/software/CUDAcore/11.1.1/nvvm/lib64:/opt/sw/arch/easybuild/2020b/software/CUDAcore/11.1.1/extras/CUPTI/lib64:/opt/sw/arch/easybuild/2020b/software/CUDAcore/11.1.1/lib:/opt/sw/arch/easybuild/2020b/software/binutils/2.35-GCCcore-10.2.0/lib:/opt/sw/arch/easybuild/2020b/software/zlib/1.2.11-GCCcore-10.2.0/lib:/opt/sw/arch/easybuild/2020b/software/GCCcore/10.2.0/lib64:/home/ucl/modl/rgouvea/anaconda3/pkgs/cudatoolkit-11.2.2-hbe64b41_10/lib:/home/ucl/modl/rgouvea/anaconda3/envs/env_tfmodnet/lib/python3.8/site-packages/nvidia/cuda_nvcc:/home/ucl/modl/rgouvea/anaconda3/envs/env_tfmodnet/lib/python3.8/site-packages/nvidia/cuda_cupti/lib:/home/ucl/modl/rgouvea/anaconda3/envs/py3.8/lib/python3.8/site-packages/tensorrt:/home/ucl/modl/rgouvea/anaconda3/envs/env_tfmodnet/lib:/home/ucl/modl/rgouvea/anaconda3/envs/env_tfmodnet/lib/python3.8/site-packages/nvidia/cusolver/lib:/auto/home/users/r/g/rgouvea/anaconda3/envs/env_tfmodnet/lib:/auto/home/users/r/g/rgouvea/anaconda3/envs/env_tfmodnet/lib/python3.8/site-packages/nvidia/cuda_runtime/lib:/auto/home/users/r/g/rgouvea/anaconda3/envs/env_tfmodnet/lib/python3.8/site-packages/nvidia/cublas/lib::\n",
      "2024-09-19 21:33:00.520489: W tensorflow/stream_executor/cuda/cuda_driver.cc:263] failed call to cuInit: UNKNOWN ERROR (303)\n",
      "2024-09-19 21:33:00.520546: I tensorflow/stream_executor/cuda/cuda_diagnostics.cc:156] kernel driver does not appear to be running on this host (mbackf2.cism.ucl.ac.be): /proc/driver/nvidia/version does not exist\n",
      "2024-09-19 21:33:00.521128: I tensorflow/core/platform/cpu_feature_guard.cc:193] This TensorFlow binary is optimized with oneAPI Deep Neural Network Library (oneDNN) to use the following CPU instructions in performance-critical operations:  AVX2 AVX512F FMA\n",
      "To enable them in other operations, rebuild TensorFlow with the appropriate compiler flags.\n",
      " 30%|███       | 3/10 [00:44<01:33, 13.42s/it]"
     ]
    },
    {
     "name": "stdout",
     "output_type": "stream",
     "text": [
      "11/11 [==============================] - 0s 1ms/step\n"
     ]
    },
    {
     "name": "stderr",
     "output_type": "stream",
     "text": [
      " 40%|████      | 4/10 [00:45<00:50,  8.37s/it]"
     ]
    },
    {
     "name": "stdout",
     "output_type": "stream",
     "text": [
      "11/11 [==============================] - 0s 1ms/step\n"
     ]
    },
    {
     "name": "stderr",
     "output_type": "stream",
     "text": [
      " 50%|█████     | 5/10 [00:48<00:31,  6.30s/it]"
     ]
    },
    {
     "name": "stdout",
     "output_type": "stream",
     "text": [
      "11/11 [==============================] - 0s 1ms/step\n"
     ]
    },
    {
     "name": "stderr",
     "output_type": "stream",
     "text": [
      " 60%|██████    | 6/10 [00:50<00:20,  5.10s/it]"
     ]
    },
    {
     "name": "stdout",
     "output_type": "stream",
     "text": [
      "11/11 [==============================] - 0s 2ms/step\n"
     ]
    },
    {
     "name": "stderr",
     "output_type": "stream",
     "text": [
      " 70%|███████   | 7/10 [01:02<00:21,  7.17s/it]"
     ]
    },
    {
     "name": "stdout",
     "output_type": "stream",
     "text": [
      "11/11 [==============================] - 0s 1ms/step\n"
     ]
    },
    {
     "name": "stderr",
     "output_type": "stream",
     "text": [
      " 80%|████████  | 8/10 [01:16<00:18,  9.40s/it]"
     ]
    },
    {
     "name": "stdout",
     "output_type": "stream",
     "text": [
      "11/11 [==============================] - 0s 1ms/step\n"
     ]
    },
    {
     "name": "stderr",
     "output_type": "stream",
     "text": [
      " 90%|█████████ | 9/10 [01:25<00:09,  9.37s/it]"
     ]
    },
    {
     "name": "stdout",
     "output_type": "stream",
     "text": [
      "11/11 [==============================] - 0s 1ms/step\n"
     ]
    },
    {
     "name": "stderr",
     "output_type": "stream",
     "text": [
      "100%|██████████| 10/10 [01:40<00:00, 10.02s/it]"
     ]
    },
    {
     "name": "stdout",
     "output_type": "stream",
     "text": [
      "11/11 [==============================] - 0s 1ms/step\n",
      "2024-09-19 21:34:00,991 - modnet - INFO - Loss per individual: ind 0: 0.103 \tind 1: 0.069 \tind 2: 0.070 \tind 3: 0.308 \tind 4: 0.068 \tind 5: 0.087 \tind 6: 0.074 \tind 7: 0.081 \tind 8: 0.086 \tind 9: 0.069 \t\n",
      "2024-09-19 21:34:00,992 - modnet - INFO - Generation number 1\n"
     ]
    },
    {
     "name": "stderr",
     "output_type": "stream",
     "text": [
      "\n",
      "  0%|          | 0/10 [00:00<?, ?it/s]2024-09-19 21:34:04.351768: I tensorflow/core/platform/cpu_feature_guard.cc:193] This TensorFlow binary is optimized with oneAPI Deep Neural Network Library (oneDNN) to use the following CPU instructions in performance-critical operations:  AVX2 AVX512F FMA\n",
      "To enable them in other operations, rebuild TensorFlow with the appropriate compiler flags.\n",
      "2024-09-19 21:34:04.544870: E tensorflow/stream_executor/cuda/cuda_blas.cc:2981] Unable to register cuBLAS factory: Attempting to register factory for plugin cuBLAS when one has already been registered\n",
      "2024-09-19 21:34:06.500196: I tensorflow/core/platform/cpu_feature_guard.cc:193] This TensorFlow binary is optimized with oneAPI Deep Neural Network Library (oneDNN) to use the following CPU instructions in performance-critical operations:  AVX2 AVX512F FMA\n",
      "To enable them in other operations, rebuild TensorFlow with the appropriate compiler flags.\n",
      "2024-09-19 21:34:06.688090: E tensorflow/stream_executor/cuda/cuda_blas.cc:2981] Unable to register cuBLAS factory: Attempting to register factory for plugin cuBLAS when one has already been registered\n",
      "2024-09-19 21:34:08.678165: I tensorflow/core/platform/cpu_feature_guard.cc:193] This TensorFlow binary is optimized with oneAPI Deep Neural Network Library (oneDNN) to use the following CPU instructions in performance-critical operations:  AVX2 AVX512F FMA\n",
      "To enable them in other operations, rebuild TensorFlow with the appropriate compiler flags.\n",
      "2024-09-19 21:34:08.860105: E tensorflow/stream_executor/cuda/cuda_blas.cc:2981] Unable to register cuBLAS factory: Attempting to register factory for plugin cuBLAS when one has already been registered\n",
      "2024-09-19 21:34:10.885543: I tensorflow/core/platform/cpu_feature_guard.cc:193] This TensorFlow binary is optimized with oneAPI Deep Neural Network Library (oneDNN) to use the following CPU instructions in performance-critical operations:  AVX2 AVX512F FMA\n",
      "To enable them in other operations, rebuild TensorFlow with the appropriate compiler flags.\n",
      "2024-09-19 21:34:11.074624: E tensorflow/stream_executor/cuda/cuda_blas.cc:2981] Unable to register cuBLAS factory: Attempting to register factory for plugin cuBLAS when one has already been registered\n",
      "2024-09-19 21:34:13.111831: I tensorflow/core/platform/cpu_feature_guard.cc:193] This TensorFlow binary is optimized with oneAPI Deep Neural Network Library (oneDNN) to use the following CPU instructions in performance-critical operations:  AVX2 AVX512F FMA\n",
      "To enable them in other operations, rebuild TensorFlow with the appropriate compiler flags.\n",
      "2024-09-19 21:34:13.300711: E tensorflow/stream_executor/cuda/cuda_blas.cc:2981] Unable to register cuBLAS factory: Attempting to register factory for plugin cuBLAS when one has already been registered\n",
      "2024-09-19 21:34:13.700676: W tensorflow/stream_executor/platform/default/dso_loader.cc:64] Could not load dynamic library 'libcuda.so.1'; dlerror: libcuda.so.1: cannot open shared object file: No such file or directory; LD_LIBRARY_PATH: /home/ucl/modl/rgouvea/anaconda3/pkgs/cudatoolkit-11.2.2-hbe64b41_10/lib/:/home/ucl/modl/rgouvea/anaconda3/envs/env_tfmodnet/lib/python3.8/site-packages/nvidia/cuda_nvcc/:/home/ucl/modl/rgouvea/anaconda3/envs/env_tfmodnet/lib/python3.8/site-packages/nvidia/cuda_cupti/lib/:/home/ucl/modl/rgouvea/anaconda3/envs/py3.8/lib/python3.8/site-packages/tensorrt/:/home/ucl/modl/rgouvea/anaconda3/envs/env_tfmodnet/lib:/home/ucl/modl/rgouvea/anaconda3/envs/env_tfmodnet/lib/python3.8/site-packages/nvidia/cusolver/lib/:/auto/home/users/r/g/rgouvea/anaconda3/envs/env_tfmodnet/lib:/auto/home/users/r/g/rgouvea/anaconda3/envs/env_tfmodnet/lib/python3.8/site-packages/nvidia/cuda_runtime/lib/:/auto/home/users/r/g/rgouvea/anaconda3/envs/env_tfmodnet/lib/python3.8/site-packages/nvidia/cublas/lib/:/opt/sw/arch/easybuild/2020b/software/FFTW/3.3.8-gompic-2020b/lib:/opt/sw/arch/easybuild/2020b/software/OpenMPI/4.0.5-gcccuda-2020b/lib:/opt/sw/arch/easybuild/2020b/software/PMIx/3.1.5-GCCcore-10.2.0/lib:/opt/sw/arch/easybuild/2020b/software/libfabric/1.11.0-GCCcore-10.2.0/lib:/opt/sw/arch/easybuild/2020b/software/UCX/1.9.0-GCCcore-10.2.0-CUDA-11.1.1/lib:/opt/sw/arch/easybuild/2020b/software/GDRCopy/2.1-GCCcore-10.2.0-CUDA-11.1.1/lib:/opt/sw/arch/easybuild/2020b/software/Check/0.15.2-GCCcore-10.2.0/lib:/opt/sw/arch/easybuild/2020b/software/libevent/2.1.12-GCCcore-10.2.0/lib:/opt/sw/arch/easybuild/2020b/software/hwloc/2.2.0-GCCcore-10.2.0/lib:/opt/sw/arch/easybuild/2020b/software/libpciaccess/0.16-GCCcore-10.2.0/lib:/opt/sw/arch/easybuild/2020b/software/libxml2/2.9.10-GCCcore-10.2.0/lib:/opt/sw/arch/easybuild/2020b/software/XZ/5.2.5-GCCcore-10.2.0/lib:/opt/sw/arch/easybuild/2020b/software/numactl/2.0.13-GCCcore-10.2.0/lib:/opt/sw/arch/easybuild/2020b/software/CUDAcore/11.1.1/nvvm/lib64:/opt/sw/arch/easybuild/2020b/software/CUDAcore/11.1.1/extras/CUPTI/lib64:/opt/sw/arch/easybuild/2020b/software/CUDAcore/11.1.1/lib:/opt/sw/arch/easybuild/2020b/software/binutils/2.35-GCCcore-10.2.0/lib:/opt/sw/arch/easybuild/2020b/software/zlib/1.2.11-GCCcore-10.2.0/lib:/opt/sw/arch/easybuild/2020b/software/GCCcore/10.2.0/lib64:/home/ucl/modl/rgouvea/anaconda3/pkgs/cudatoolkit-11.2.2-hbe64b41_10/lib:/home/ucl/modl/rgouvea/anaconda3/envs/env_tfmodnet/lib/python3.8/site-packages/nvidia/cuda_nvcc:/home/ucl/modl/rgouvea/anaconda3/envs/env_tfmodnet/lib/python3.8/site-packages/nvidia/cuda_cupti/lib:/home/ucl/modl/rgouvea/anaconda3/envs/py3.8/lib/python3.8/site-packages/tensorrt:/home/ucl/modl/rgouvea/anaconda3/envs/env_tfmodnet/lib:/home/ucl/modl/rgouvea/anaconda3/envs/env_tfmodnet/lib/python3.8/site-packages/nvidia/cusolver/lib:/auto/home/users/r/g/rgouvea/anaconda3/envs/env_tfmodnet/lib:/auto/home/users/r/g/rgouvea/anaconda3/envs/env_tfmodnet/lib/python3.8/site-packages/nvidia/cuda_runtime/lib:/auto/home/users/r/g/rgouvea/anaconda3/envs/env_tfmodnet/lib/python3.8/site-packages/nvidia/cublas/lib::\n",
      "2024-09-19 21:34:13.700722: W tensorflow/stream_executor/cuda/cuda_driver.cc:263] failed call to cuInit: UNKNOWN ERROR (303)\n",
      "2024-09-19 21:34:13.700744: I tensorflow/stream_executor/cuda/cuda_diagnostics.cc:156] kernel driver does not appear to be running on this host (mbackf2.cism.ucl.ac.be): /proc/driver/nvidia/version does not exist\n",
      "2024-09-19 21:34:13.701070: I tensorflow/core/platform/cpu_feature_guard.cc:193] This TensorFlow binary is optimized with oneAPI Deep Neural Network Library (oneDNN) to use the following CPU instructions in performance-critical operations:  AVX2 AVX512F FMA\n",
      "To enable them in other operations, rebuild TensorFlow with the appropriate compiler flags.\n",
      "2024-09-19 21:34:15.207311: W tensorflow/stream_executor/platform/default/dso_loader.cc:64] Could not load dynamic library 'libcuda.so.1'; dlerror: libcuda.so.1: cannot open shared object file: No such file or directory; LD_LIBRARY_PATH: /home/ucl/modl/rgouvea/anaconda3/pkgs/cudatoolkit-11.2.2-hbe64b41_10/lib/:/home/ucl/modl/rgouvea/anaconda3/envs/env_tfmodnet/lib/python3.8/site-packages/nvidia/cuda_nvcc/:/home/ucl/modl/rgouvea/anaconda3/envs/env_tfmodnet/lib/python3.8/site-packages/nvidia/cuda_cupti/lib/:/home/ucl/modl/rgouvea/anaconda3/envs/py3.8/lib/python3.8/site-packages/tensorrt/:/home/ucl/modl/rgouvea/anaconda3/envs/env_tfmodnet/lib:/home/ucl/modl/rgouvea/anaconda3/envs/env_tfmodnet/lib/python3.8/site-packages/nvidia/cusolver/lib/:/auto/home/users/r/g/rgouvea/anaconda3/envs/env_tfmodnet/lib:/auto/home/users/r/g/rgouvea/anaconda3/envs/env_tfmodnet/lib/python3.8/site-packages/nvidia/cuda_runtime/lib/:/auto/home/users/r/g/rgouvea/anaconda3/envs/env_tfmodnet/lib/python3.8/site-packages/nvidia/cublas/lib/:/opt/sw/arch/easybuild/2020b/software/FFTW/3.3.8-gompic-2020b/lib:/opt/sw/arch/easybuild/2020b/software/OpenMPI/4.0.5-gcccuda-2020b/lib:/opt/sw/arch/easybuild/2020b/software/PMIx/3.1.5-GCCcore-10.2.0/lib:/opt/sw/arch/easybuild/2020b/software/libfabric/1.11.0-GCCcore-10.2.0/lib:/opt/sw/arch/easybuild/2020b/software/UCX/1.9.0-GCCcore-10.2.0-CUDA-11.1.1/lib:/opt/sw/arch/easybuild/2020b/software/GDRCopy/2.1-GCCcore-10.2.0-CUDA-11.1.1/lib:/opt/sw/arch/easybuild/2020b/software/Check/0.15.2-GCCcore-10.2.0/lib:/opt/sw/arch/easybuild/2020b/software/libevent/2.1.12-GCCcore-10.2.0/lib:/opt/sw/arch/easybuild/2020b/software/hwloc/2.2.0-GCCcore-10.2.0/lib:/opt/sw/arch/easybuild/2020b/software/libpciaccess/0.16-GCCcore-10.2.0/lib:/opt/sw/arch/easybuild/2020b/software/libxml2/2.9.10-GCCcore-10.2.0/lib:/opt/sw/arch/easybuild/2020b/software/XZ/5.2.5-GCCcore-10.2.0/lib:/opt/sw/arch/easybuild/2020b/software/numactl/2.0.13-GCCcore-10.2.0/lib:/opt/sw/arch/easybuild/2020b/software/CUDAcore/11.1.1/nvvm/lib64:/opt/sw/arch/easybuild/2020b/software/CUDAcore/11.1.1/extras/CUPTI/lib64:/opt/sw/arch/easybuild/2020b/software/CUDAcore/11.1.1/lib:/opt/sw/arch/easybuild/2020b/software/binutils/2.35-GCCcore-10.2.0/lib:/opt/sw/arch/easybuild/2020b/software/zlib/1.2.11-GCCcore-10.2.0/lib:/opt/sw/arch/easybuild/2020b/software/GCCcore/10.2.0/lib64:/home/ucl/modl/rgouvea/anaconda3/pkgs/cudatoolkit-11.2.2-hbe64b41_10/lib:/home/ucl/modl/rgouvea/anaconda3/envs/env_tfmodnet/lib/python3.8/site-packages/nvidia/cuda_nvcc:/home/ucl/modl/rgouvea/anaconda3/envs/env_tfmodnet/lib/python3.8/site-packages/nvidia/cuda_cupti/lib:/home/ucl/modl/rgouvea/anaconda3/envs/py3.8/lib/python3.8/site-packages/tensorrt:/home/ucl/modl/rgouvea/anaconda3/envs/env_tfmodnet/lib:/home/ucl/modl/rgouvea/anaconda3/envs/env_tfmodnet/lib/python3.8/site-packages/nvidia/cusolver/lib:/auto/home/users/r/g/rgouvea/anaconda3/envs/env_tfmodnet/lib:/auto/home/users/r/g/rgouvea/anaconda3/envs/env_tfmodnet/lib/python3.8/site-packages/nvidia/cuda_runtime/lib:/auto/home/users/r/g/rgouvea/anaconda3/envs/env_tfmodnet/lib/python3.8/site-packages/nvidia/cublas/lib::\n",
      "2024-09-19 21:34:15.207351: W tensorflow/stream_executor/cuda/cuda_driver.cc:263] failed call to cuInit: UNKNOWN ERROR (303)\n",
      "2024-09-19 21:34:15.207373: I tensorflow/stream_executor/cuda/cuda_diagnostics.cc:156] kernel driver does not appear to be running on this host (mbackf2.cism.ucl.ac.be): /proc/driver/nvidia/version does not exist\n",
      "2024-09-19 21:34:15.207581: I tensorflow/core/platform/cpu_feature_guard.cc:193] This TensorFlow binary is optimized with oneAPI Deep Neural Network Library (oneDNN) to use the following CPU instructions in performance-critical operations:  AVX2 AVX512F FMA\n",
      "To enable them in other operations, rebuild TensorFlow with the appropriate compiler flags.\n",
      "2024-09-19 21:34:15.434487: I tensorflow/core/platform/cpu_feature_guard.cc:193] This TensorFlow binary is optimized with oneAPI Deep Neural Network Library (oneDNN) to use the following CPU instructions in performance-critical operations:  AVX2 AVX512F FMA\n",
      "To enable them in other operations, rebuild TensorFlow with the appropriate compiler flags.\n",
      "2024-09-19 21:34:15.667546: E tensorflow/stream_executor/cuda/cuda_blas.cc:2981] Unable to register cuBLAS factory: Attempting to register factory for plugin cuBLAS when one has already been registered\n",
      "2024-09-19 21:34:18.145842: I tensorflow/core/platform/cpu_feature_guard.cc:193] This TensorFlow binary is optimized with oneAPI Deep Neural Network Library (oneDNN) to use the following CPU instructions in performance-critical operations:  AVX2 AVX512F FMA\n",
      "To enable them in other operations, rebuild TensorFlow with the appropriate compiler flags.\n",
      "2024-09-19 21:34:18.369266: E tensorflow/stream_executor/cuda/cuda_blas.cc:2981] Unable to register cuBLAS factory: Attempting to register factory for plugin cuBLAS when one has already been registered\n",
      "2024-09-19 21:34:18.556377: W tensorflow/stream_executor/platform/default/dso_loader.cc:64] Could not load dynamic library 'libcuda.so.1'; dlerror: libcuda.so.1: cannot open shared object file: No such file or directory; LD_LIBRARY_PATH: /home/ucl/modl/rgouvea/anaconda3/pkgs/cudatoolkit-11.2.2-hbe64b41_10/lib/:/home/ucl/modl/rgouvea/anaconda3/envs/env_tfmodnet/lib/python3.8/site-packages/nvidia/cuda_nvcc/:/home/ucl/modl/rgouvea/anaconda3/envs/env_tfmodnet/lib/python3.8/site-packages/nvidia/cuda_cupti/lib/:/home/ucl/modl/rgouvea/anaconda3/envs/py3.8/lib/python3.8/site-packages/tensorrt/:/home/ucl/modl/rgouvea/anaconda3/envs/env_tfmodnet/lib:/home/ucl/modl/rgouvea/anaconda3/envs/env_tfmodnet/lib/python3.8/site-packages/nvidia/cusolver/lib/:/auto/home/users/r/g/rgouvea/anaconda3/envs/env_tfmodnet/lib:/auto/home/users/r/g/rgouvea/anaconda3/envs/env_tfmodnet/lib/python3.8/site-packages/nvidia/cuda_runtime/lib/:/auto/home/users/r/g/rgouvea/anaconda3/envs/env_tfmodnet/lib/python3.8/site-packages/nvidia/cublas/lib/:/opt/sw/arch/easybuild/2020b/software/FFTW/3.3.8-gompic-2020b/lib:/opt/sw/arch/easybuild/2020b/software/OpenMPI/4.0.5-gcccuda-2020b/lib:/opt/sw/arch/easybuild/2020b/software/PMIx/3.1.5-GCCcore-10.2.0/lib:/opt/sw/arch/easybuild/2020b/software/libfabric/1.11.0-GCCcore-10.2.0/lib:/opt/sw/arch/easybuild/2020b/software/UCX/1.9.0-GCCcore-10.2.0-CUDA-11.1.1/lib:/opt/sw/arch/easybuild/2020b/software/GDRCopy/2.1-GCCcore-10.2.0-CUDA-11.1.1/lib:/opt/sw/arch/easybuild/2020b/software/Check/0.15.2-GCCcore-10.2.0/lib:/opt/sw/arch/easybuild/2020b/software/libevent/2.1.12-GCCcore-10.2.0/lib:/opt/sw/arch/easybuild/2020b/software/hwloc/2.2.0-GCCcore-10.2.0/lib:/opt/sw/arch/easybuild/2020b/software/libpciaccess/0.16-GCCcore-10.2.0/lib:/opt/sw/arch/easybuild/2020b/software/libxml2/2.9.10-GCCcore-10.2.0/lib:/opt/sw/arch/easybuild/2020b/software/XZ/5.2.5-GCCcore-10.2.0/lib:/opt/sw/arch/easybuild/2020b/software/numactl/2.0.13-GCCcore-10.2.0/lib:/opt/sw/arch/easybuild/2020b/software/CUDAcore/11.1.1/nvvm/lib64:/opt/sw/arch/easybuild/2020b/software/CUDAcore/11.1.1/extras/CUPTI/lib64:/opt/sw/arch/easybuild/2020b/software/CUDAcore/11.1.1/lib:/opt/sw/arch/easybuild/2020b/software/binutils/2.35-GCCcore-10.2.0/lib:/opt/sw/arch/easybuild/2020b/software/zlib/1.2.11-GCCcore-10.2.0/lib:/opt/sw/arch/easybuild/2020b/software/GCCcore/10.2.0/lib64:/home/ucl/modl/rgouvea/anaconda3/pkgs/cudatoolkit-11.2.2-hbe64b41_10/lib:/home/ucl/modl/rgouvea/anaconda3/envs/env_tfmodnet/lib/python3.8/site-packages/nvidia/cuda_nvcc:/home/ucl/modl/rgouvea/anaconda3/envs/env_tfmodnet/lib/python3.8/site-packages/nvidia/cuda_cupti/lib:/home/ucl/modl/rgouvea/anaconda3/envs/py3.8/lib/python3.8/site-packages/tensorrt:/home/ucl/modl/rgouvea/anaconda3/envs/env_tfmodnet/lib:/home/ucl/modl/rgouvea/anaconda3/envs/env_tfmodnet/lib/python3.8/site-packages/nvidia/cusolver/lib:/auto/home/users/r/g/rgouvea/anaconda3/envs/env_tfmodnet/lib:/auto/home/users/r/g/rgouvea/anaconda3/envs/env_tfmodnet/lib/python3.8/site-packages/nvidia/cuda_runtime/lib:/auto/home/users/r/g/rgouvea/anaconda3/envs/env_tfmodnet/lib/python3.8/site-packages/nvidia/cublas/lib::\n",
      "2024-09-19 21:34:18.556410: W tensorflow/stream_executor/cuda/cuda_driver.cc:263] failed call to cuInit: UNKNOWN ERROR (303)\n",
      "2024-09-19 21:34:18.556432: I tensorflow/stream_executor/cuda/cuda_diagnostics.cc:156] kernel driver does not appear to be running on this host (mbackf2.cism.ucl.ac.be): /proc/driver/nvidia/version does not exist\n",
      "2024-09-19 21:34:18.556822: I tensorflow/core/platform/cpu_feature_guard.cc:193] This TensorFlow binary is optimized with oneAPI Deep Neural Network Library (oneDNN) to use the following CPU instructions in performance-critical operations:  AVX2 AVX512F FMA\n",
      "To enable them in other operations, rebuild TensorFlow with the appropriate compiler flags.\n",
      "2024-09-19 21:34:20.465125: W tensorflow/stream_executor/platform/default/dso_loader.cc:64] Could not load dynamic library 'libcuda.so.1'; dlerror: libcuda.so.1: cannot open shared object file: No such file or directory; LD_LIBRARY_PATH: /home/ucl/modl/rgouvea/anaconda3/pkgs/cudatoolkit-11.2.2-hbe64b41_10/lib/:/home/ucl/modl/rgouvea/anaconda3/envs/env_tfmodnet/lib/python3.8/site-packages/nvidia/cuda_nvcc/:/home/ucl/modl/rgouvea/anaconda3/envs/env_tfmodnet/lib/python3.8/site-packages/nvidia/cuda_cupti/lib/:/home/ucl/modl/rgouvea/anaconda3/envs/py3.8/lib/python3.8/site-packages/tensorrt/:/home/ucl/modl/rgouvea/anaconda3/envs/env_tfmodnet/lib:/home/ucl/modl/rgouvea/anaconda3/envs/env_tfmodnet/lib/python3.8/site-packages/nvidia/cusolver/lib/:/auto/home/users/r/g/rgouvea/anaconda3/envs/env_tfmodnet/lib:/auto/home/users/r/g/rgouvea/anaconda3/envs/env_tfmodnet/lib/python3.8/site-packages/nvidia/cuda_runtime/lib/:/auto/home/users/r/g/rgouvea/anaconda3/envs/env_tfmodnet/lib/python3.8/site-packages/nvidia/cublas/lib/:/opt/sw/arch/easybuild/2020b/software/FFTW/3.3.8-gompic-2020b/lib:/opt/sw/arch/easybuild/2020b/software/OpenMPI/4.0.5-gcccuda-2020b/lib:/opt/sw/arch/easybuild/2020b/software/PMIx/3.1.5-GCCcore-10.2.0/lib:/opt/sw/arch/easybuild/2020b/software/libfabric/1.11.0-GCCcore-10.2.0/lib:/opt/sw/arch/easybuild/2020b/software/UCX/1.9.0-GCCcore-10.2.0-CUDA-11.1.1/lib:/opt/sw/arch/easybuild/2020b/software/GDRCopy/2.1-GCCcore-10.2.0-CUDA-11.1.1/lib:/opt/sw/arch/easybuild/2020b/software/Check/0.15.2-GCCcore-10.2.0/lib:/opt/sw/arch/easybuild/2020b/software/libevent/2.1.12-GCCcore-10.2.0/lib:/opt/sw/arch/easybuild/2020b/software/hwloc/2.2.0-GCCcore-10.2.0/lib:/opt/sw/arch/easybuild/2020b/software/libpciaccess/0.16-GCCcore-10.2.0/lib:/opt/sw/arch/easybuild/2020b/software/libxml2/2.9.10-GCCcore-10.2.0/lib:/opt/sw/arch/easybuild/2020b/software/XZ/5.2.5-GCCcore-10.2.0/lib:/opt/sw/arch/easybuild/2020b/software/numactl/2.0.13-GCCcore-10.2.0/lib:/opt/sw/arch/easybuild/2020b/software/CUDAcore/11.1.1/nvvm/lib64:/opt/sw/arch/easybuild/2020b/software/CUDAcore/11.1.1/extras/CUPTI/lib64:/opt/sw/arch/easybuild/2020b/software/CUDAcore/11.1.1/lib:/opt/sw/arch/easybuild/2020b/software/binutils/2.35-GCCcore-10.2.0/lib:/opt/sw/arch/easybuild/2020b/software/zlib/1.2.11-GCCcore-10.2.0/lib:/opt/sw/arch/easybuild/2020b/software/GCCcore/10.2.0/lib64:/home/ucl/modl/rgouvea/anaconda3/pkgs/cudatoolkit-11.2.2-hbe64b41_10/lib:/home/ucl/modl/rgouvea/anaconda3/envs/env_tfmodnet/lib/python3.8/site-packages/nvidia/cuda_nvcc:/home/ucl/modl/rgouvea/anaconda3/envs/env_tfmodnet/lib/python3.8/site-packages/nvidia/cuda_cupti/lib:/home/ucl/modl/rgouvea/anaconda3/envs/py3.8/lib/python3.8/site-packages/tensorrt:/home/ucl/modl/rgouvea/anaconda3/envs/env_tfmodnet/lib:/home/ucl/modl/rgouvea/anaconda3/envs/env_tfmodnet/lib/python3.8/site-packages/nvidia/cusolver/lib:/auto/home/users/r/g/rgouvea/anaconda3/envs/env_tfmodnet/lib:/auto/home/users/r/g/rgouvea/anaconda3/envs/env_tfmodnet/lib/python3.8/site-packages/nvidia/cuda_runtime/lib:/auto/home/users/r/g/rgouvea/anaconda3/envs/env_tfmodnet/lib/python3.8/site-packages/nvidia/cublas/lib::\n",
      "2024-09-19 21:34:20.465161: W tensorflow/stream_executor/cuda/cuda_driver.cc:263] failed call to cuInit: UNKNOWN ERROR (303)\n",
      "2024-09-19 21:34:20.465182: I tensorflow/stream_executor/cuda/cuda_diagnostics.cc:156] kernel driver does not appear to be running on this host (mbackf2.cism.ucl.ac.be): /proc/driver/nvidia/version does not exist\n",
      "2024-09-19 21:34:20.465403: I tensorflow/core/platform/cpu_feature_guard.cc:193] This TensorFlow binary is optimized with oneAPI Deep Neural Network Library (oneDNN) to use the following CPU instructions in performance-critical operations:  AVX2 AVX512F FMA\n",
      "To enable them in other operations, rebuild TensorFlow with the appropriate compiler flags.\n",
      "2024-09-19 21:34:21.157943: I tensorflow/core/platform/cpu_feature_guard.cc:193] This TensorFlow binary is optimized with oneAPI Deep Neural Network Library (oneDNN) to use the following CPU instructions in performance-critical operations:  AVX2 AVX512F FMA\n",
      "To enable them in other operations, rebuild TensorFlow with the appropriate compiler flags.\n",
      "2024-09-19 21:34:21.397078: E tensorflow/stream_executor/cuda/cuda_blas.cc:2981] Unable to register cuBLAS factory: Attempting to register factory for plugin cuBLAS when one has already been registered\n",
      "2024-09-19 21:34:23.882157: W tensorflow/stream_executor/platform/default/dso_loader.cc:64] Could not load dynamic library 'libcuda.so.1'; dlerror: libcuda.so.1: cannot open shared object file: No such file or directory; LD_LIBRARY_PATH: /home/ucl/modl/rgouvea/anaconda3/pkgs/cudatoolkit-11.2.2-hbe64b41_10/lib/:/home/ucl/modl/rgouvea/anaconda3/envs/env_tfmodnet/lib/python3.8/site-packages/nvidia/cuda_nvcc/:/home/ucl/modl/rgouvea/anaconda3/envs/env_tfmodnet/lib/python3.8/site-packages/nvidia/cuda_cupti/lib/:/home/ucl/modl/rgouvea/anaconda3/envs/py3.8/lib/python3.8/site-packages/tensorrt/:/home/ucl/modl/rgouvea/anaconda3/envs/env_tfmodnet/lib:/home/ucl/modl/rgouvea/anaconda3/envs/env_tfmodnet/lib/python3.8/site-packages/nvidia/cusolver/lib/:/auto/home/users/r/g/rgouvea/anaconda3/envs/env_tfmodnet/lib:/auto/home/users/r/g/rgouvea/anaconda3/envs/env_tfmodnet/lib/python3.8/site-packages/nvidia/cuda_runtime/lib/:/auto/home/users/r/g/rgouvea/anaconda3/envs/env_tfmodnet/lib/python3.8/site-packages/nvidia/cublas/lib/:/opt/sw/arch/easybuild/2020b/software/FFTW/3.3.8-gompic-2020b/lib:/opt/sw/arch/easybuild/2020b/software/OpenMPI/4.0.5-gcccuda-2020b/lib:/opt/sw/arch/easybuild/2020b/software/PMIx/3.1.5-GCCcore-10.2.0/lib:/opt/sw/arch/easybuild/2020b/software/libfabric/1.11.0-GCCcore-10.2.0/lib:/opt/sw/arch/easybuild/2020b/software/UCX/1.9.0-GCCcore-10.2.0-CUDA-11.1.1/lib:/opt/sw/arch/easybuild/2020b/software/GDRCopy/2.1-GCCcore-10.2.0-CUDA-11.1.1/lib:/opt/sw/arch/easybuild/2020b/software/Check/0.15.2-GCCcore-10.2.0/lib:/opt/sw/arch/easybuild/2020b/software/libevent/2.1.12-GCCcore-10.2.0/lib:/opt/sw/arch/easybuild/2020b/software/hwloc/2.2.0-GCCcore-10.2.0/lib:/opt/sw/arch/easybuild/2020b/software/libpciaccess/0.16-GCCcore-10.2.0/lib:/opt/sw/arch/easybuild/2020b/software/libxml2/2.9.10-GCCcore-10.2.0/lib:/opt/sw/arch/easybuild/2020b/software/XZ/5.2.5-GCCcore-10.2.0/lib:/opt/sw/arch/easybuild/2020b/software/numactl/2.0.13-GCCcore-10.2.0/lib:/opt/sw/arch/easybuild/2020b/software/CUDAcore/11.1.1/nvvm/lib64:/opt/sw/arch/easybuild/2020b/software/CUDAcore/11.1.1/extras/CUPTI/lib64:/opt/sw/arch/easybuild/2020b/software/CUDAcore/11.1.1/lib:/opt/sw/arch/easybuild/2020b/software/binutils/2.35-GCCcore-10.2.0/lib:/opt/sw/arch/easybuild/2020b/software/zlib/1.2.11-GCCcore-10.2.0/lib:/opt/sw/arch/easybuild/2020b/software/GCCcore/10.2.0/lib64:/home/ucl/modl/rgouvea/anaconda3/pkgs/cudatoolkit-11.2.2-hbe64b41_10/lib:/home/ucl/modl/rgouvea/anaconda3/envs/env_tfmodnet/lib/python3.8/site-packages/nvidia/cuda_nvcc:/home/ucl/modl/rgouvea/anaconda3/envs/env_tfmodnet/lib/python3.8/site-packages/nvidia/cuda_cupti/lib:/home/ucl/modl/rgouvea/anaconda3/envs/py3.8/lib/python3.8/site-packages/tensorrt:/home/ucl/modl/rgouvea/anaconda3/envs/env_tfmodnet/lib:/home/ucl/modl/rgouvea/anaconda3/envs/env_tfmodnet/lib/python3.8/site-packages/nvidia/cusolver/lib:/auto/home/users/r/g/rgouvea/anaconda3/envs/env_tfmodnet/lib:/auto/home/users/r/g/rgouvea/anaconda3/envs/env_tfmodnet/lib/python3.8/site-packages/nvidia/cuda_runtime/lib:/auto/home/users/r/g/rgouvea/anaconda3/envs/env_tfmodnet/lib/python3.8/site-packages/nvidia/cublas/lib::\n",
      "2024-09-19 21:34:23.882198: W tensorflow/stream_executor/cuda/cuda_driver.cc:263] failed call to cuInit: UNKNOWN ERROR (303)\n",
      "2024-09-19 21:34:23.882221: I tensorflow/stream_executor/cuda/cuda_diagnostics.cc:156] kernel driver does not appear to be running on this host (mbackf2.cism.ucl.ac.be): /proc/driver/nvidia/version does not exist\n",
      "2024-09-19 21:34:23.882502: I tensorflow/core/platform/cpu_feature_guard.cc:193] This TensorFlow binary is optimized with oneAPI Deep Neural Network Library (oneDNN) to use the following CPU instructions in performance-critical operations:  AVX2 AVX512F FMA\n",
      "To enable them in other operations, rebuild TensorFlow with the appropriate compiler flags.\n",
      "2024-09-19 21:34:25.776185: I tensorflow/core/platform/cpu_feature_guard.cc:193] This TensorFlow binary is optimized with oneAPI Deep Neural Network Library (oneDNN) to use the following CPU instructions in performance-critical operations:  AVX2 AVX512F FMA\n",
      "To enable them in other operations, rebuild TensorFlow with the appropriate compiler flags.\n",
      "2024-09-19 21:34:26.067630: E tensorflow/stream_executor/cuda/cuda_blas.cc:2981] Unable to register cuBLAS factory: Attempting to register factory for plugin cuBLAS when one has already been registered\n",
      "2024-09-19 21:34:27.130265: W tensorflow/stream_executor/platform/default/dso_loader.cc:64] Could not load dynamic library 'libcuda.so.1'; dlerror: libcuda.so.1: cannot open shared object file: No such file or directory; LD_LIBRARY_PATH: /home/ucl/modl/rgouvea/anaconda3/pkgs/cudatoolkit-11.2.2-hbe64b41_10/lib/:/home/ucl/modl/rgouvea/anaconda3/envs/env_tfmodnet/lib/python3.8/site-packages/nvidia/cuda_nvcc/:/home/ucl/modl/rgouvea/anaconda3/envs/env_tfmodnet/lib/python3.8/site-packages/nvidia/cuda_cupti/lib/:/home/ucl/modl/rgouvea/anaconda3/envs/py3.8/lib/python3.8/site-packages/tensorrt/:/home/ucl/modl/rgouvea/anaconda3/envs/env_tfmodnet/lib:/home/ucl/modl/rgouvea/anaconda3/envs/env_tfmodnet/lib/python3.8/site-packages/nvidia/cusolver/lib/:/auto/home/users/r/g/rgouvea/anaconda3/envs/env_tfmodnet/lib:/auto/home/users/r/g/rgouvea/anaconda3/envs/env_tfmodnet/lib/python3.8/site-packages/nvidia/cuda_runtime/lib/:/auto/home/users/r/g/rgouvea/anaconda3/envs/env_tfmodnet/lib/python3.8/site-packages/nvidia/cublas/lib/:/opt/sw/arch/easybuild/2020b/software/FFTW/3.3.8-gompic-2020b/lib:/opt/sw/arch/easybuild/2020b/software/OpenMPI/4.0.5-gcccuda-2020b/lib:/opt/sw/arch/easybuild/2020b/software/PMIx/3.1.5-GCCcore-10.2.0/lib:/opt/sw/arch/easybuild/2020b/software/libfabric/1.11.0-GCCcore-10.2.0/lib:/opt/sw/arch/easybuild/2020b/software/UCX/1.9.0-GCCcore-10.2.0-CUDA-11.1.1/lib:/opt/sw/arch/easybuild/2020b/software/GDRCopy/2.1-GCCcore-10.2.0-CUDA-11.1.1/lib:/opt/sw/arch/easybuild/2020b/software/Check/0.15.2-GCCcore-10.2.0/lib:/opt/sw/arch/easybuild/2020b/software/libevent/2.1.12-GCCcore-10.2.0/lib:/opt/sw/arch/easybuild/2020b/software/hwloc/2.2.0-GCCcore-10.2.0/lib:/opt/sw/arch/easybuild/2020b/software/libpciaccess/0.16-GCCcore-10.2.0/lib:/opt/sw/arch/easybuild/2020b/software/libxml2/2.9.10-GCCcore-10.2.0/lib:/opt/sw/arch/easybuild/2020b/software/XZ/5.2.5-GCCcore-10.2.0/lib:/opt/sw/arch/easybuild/2020b/software/numactl/2.0.13-GCCcore-10.2.0/lib:/opt/sw/arch/easybuild/2020b/software/CUDAcore/11.1.1/nvvm/lib64:/opt/sw/arch/easybuild/2020b/software/CUDAcore/11.1.1/extras/CUPTI/lib64:/opt/sw/arch/easybuild/2020b/software/CUDAcore/11.1.1/lib:/opt/sw/arch/easybuild/2020b/software/binutils/2.35-GCCcore-10.2.0/lib:/opt/sw/arch/easybuild/2020b/software/zlib/1.2.11-GCCcore-10.2.0/lib:/opt/sw/arch/easybuild/2020b/software/GCCcore/10.2.0/lib64:/home/ucl/modl/rgouvea/anaconda3/pkgs/cudatoolkit-11.2.2-hbe64b41_10/lib:/home/ucl/modl/rgouvea/anaconda3/envs/env_tfmodnet/lib/python3.8/site-packages/nvidia/cuda_nvcc:/home/ucl/modl/rgouvea/anaconda3/envs/env_tfmodnet/lib/python3.8/site-packages/nvidia/cuda_cupti/lib:/home/ucl/modl/rgouvea/anaconda3/envs/py3.8/lib/python3.8/site-packages/tensorrt:/home/ucl/modl/rgouvea/anaconda3/envs/env_tfmodnet/lib:/home/ucl/modl/rgouvea/anaconda3/envs/env_tfmodnet/lib/python3.8/site-packages/nvidia/cusolver/lib:/auto/home/users/r/g/rgouvea/anaconda3/envs/env_tfmodnet/lib:/auto/home/users/r/g/rgouvea/anaconda3/envs/env_tfmodnet/lib/python3.8/site-packages/nvidia/cuda_runtime/lib:/auto/home/users/r/g/rgouvea/anaconda3/envs/env_tfmodnet/lib/python3.8/site-packages/nvidia/cublas/lib::\n",
      "2024-09-19 21:34:27.130311: W tensorflow/stream_executor/cuda/cuda_driver.cc:263] failed call to cuInit: UNKNOWN ERROR (303)\n",
      "2024-09-19 21:34:27.130337: I tensorflow/stream_executor/cuda/cuda_diagnostics.cc:156] kernel driver does not appear to be running on this host (mbackf2.cism.ucl.ac.be): /proc/driver/nvidia/version does not exist\n",
      "2024-09-19 21:34:27.130682: I tensorflow/core/platform/cpu_feature_guard.cc:193] This TensorFlow binary is optimized with oneAPI Deep Neural Network Library (oneDNN) to use the following CPU instructions in performance-critical operations:  AVX2 AVX512F FMA\n",
      "To enable them in other operations, rebuild TensorFlow with the appropriate compiler flags.\n",
      "2024-09-19 21:34:28.986519: I tensorflow/core/platform/cpu_feature_guard.cc:193] This TensorFlow binary is optimized with oneAPI Deep Neural Network Library (oneDNN) to use the following CPU instructions in performance-critical operations:  AVX2 AVX512F FMA\n",
      "To enable them in other operations, rebuild TensorFlow with the appropriate compiler flags.\n",
      "2024-09-19 21:34:29.265636: E tensorflow/stream_executor/cuda/cuda_blas.cc:2981] Unable to register cuBLAS factory: Attempting to register factory for plugin cuBLAS when one has already been registered\n",
      "2024-09-19 21:34:30.527610: W tensorflow/stream_executor/platform/default/dso_loader.cc:64] Could not load dynamic library 'libcuda.so.1'; dlerror: libcuda.so.1: cannot open shared object file: No such file or directory; LD_LIBRARY_PATH: /home/ucl/modl/rgouvea/anaconda3/pkgs/cudatoolkit-11.2.2-hbe64b41_10/lib/:/home/ucl/modl/rgouvea/anaconda3/envs/env_tfmodnet/lib/python3.8/site-packages/nvidia/cuda_nvcc/:/home/ucl/modl/rgouvea/anaconda3/envs/env_tfmodnet/lib/python3.8/site-packages/nvidia/cuda_cupti/lib/:/home/ucl/modl/rgouvea/anaconda3/envs/py3.8/lib/python3.8/site-packages/tensorrt/:/home/ucl/modl/rgouvea/anaconda3/envs/env_tfmodnet/lib:/home/ucl/modl/rgouvea/anaconda3/envs/env_tfmodnet/lib/python3.8/site-packages/nvidia/cusolver/lib/:/auto/home/users/r/g/rgouvea/anaconda3/envs/env_tfmodnet/lib:/auto/home/users/r/g/rgouvea/anaconda3/envs/env_tfmodnet/lib/python3.8/site-packages/nvidia/cuda_runtime/lib/:/auto/home/users/r/g/rgouvea/anaconda3/envs/env_tfmodnet/lib/python3.8/site-packages/nvidia/cublas/lib/:/opt/sw/arch/easybuild/2020b/software/FFTW/3.3.8-gompic-2020b/lib:/opt/sw/arch/easybuild/2020b/software/OpenMPI/4.0.5-gcccuda-2020b/lib:/opt/sw/arch/easybuild/2020b/software/PMIx/3.1.5-GCCcore-10.2.0/lib:/opt/sw/arch/easybuild/2020b/software/libfabric/1.11.0-GCCcore-10.2.0/lib:/opt/sw/arch/easybuild/2020b/software/UCX/1.9.0-GCCcore-10.2.0-CUDA-11.1.1/lib:/opt/sw/arch/easybuild/2020b/software/GDRCopy/2.1-GCCcore-10.2.0-CUDA-11.1.1/lib:/opt/sw/arch/easybuild/2020b/software/Check/0.15.2-GCCcore-10.2.0/lib:/opt/sw/arch/easybuild/2020b/software/libevent/2.1.12-GCCcore-10.2.0/lib:/opt/sw/arch/easybuild/2020b/software/hwloc/2.2.0-GCCcore-10.2.0/lib:/opt/sw/arch/easybuild/2020b/software/libpciaccess/0.16-GCCcore-10.2.0/lib:/opt/sw/arch/easybuild/2020b/software/libxml2/2.9.10-GCCcore-10.2.0/lib:/opt/sw/arch/easybuild/2020b/software/XZ/5.2.5-GCCcore-10.2.0/lib:/opt/sw/arch/easybuild/2020b/software/numactl/2.0.13-GCCcore-10.2.0/lib:/opt/sw/arch/easybuild/2020b/software/CUDAcore/11.1.1/nvvm/lib64:/opt/sw/arch/easybuild/2020b/software/CUDAcore/11.1.1/extras/CUPTI/lib64:/opt/sw/arch/easybuild/2020b/software/CUDAcore/11.1.1/lib:/opt/sw/arch/easybuild/2020b/software/binutils/2.35-GCCcore-10.2.0/lib:/opt/sw/arch/easybuild/2020b/software/zlib/1.2.11-GCCcore-10.2.0/lib:/opt/sw/arch/easybuild/2020b/software/GCCcore/10.2.0/lib64:/home/ucl/modl/rgouvea/anaconda3/pkgs/cudatoolkit-11.2.2-hbe64b41_10/lib:/home/ucl/modl/rgouvea/anaconda3/envs/env_tfmodnet/lib/python3.8/site-packages/nvidia/cuda_nvcc:/home/ucl/modl/rgouvea/anaconda3/envs/env_tfmodnet/lib/python3.8/site-packages/nvidia/cuda_cupti/lib:/home/ucl/modl/rgouvea/anaconda3/envs/py3.8/lib/python3.8/site-packages/tensorrt:/home/ucl/modl/rgouvea/anaconda3/envs/env_tfmodnet/lib:/home/ucl/modl/rgouvea/anaconda3/envs/env_tfmodnet/lib/python3.8/site-packages/nvidia/cusolver/lib:/auto/home/users/r/g/rgouvea/anaconda3/envs/env_tfmodnet/lib:/auto/home/users/r/g/rgouvea/anaconda3/envs/env_tfmodnet/lib/python3.8/site-packages/nvidia/cuda_runtime/lib:/auto/home/users/r/g/rgouvea/anaconda3/envs/env_tfmodnet/lib/python3.8/site-packages/nvidia/cublas/lib::\n",
      "2024-09-19 21:34:30.527682: W tensorflow/stream_executor/cuda/cuda_driver.cc:263] failed call to cuInit: UNKNOWN ERROR (303)\n",
      "2024-09-19 21:34:30.527725: I tensorflow/stream_executor/cuda/cuda_diagnostics.cc:156] kernel driver does not appear to be running on this host (mbackf2.cism.ucl.ac.be): /proc/driver/nvidia/version does not exist\n",
      "2024-09-19 21:34:30.528219: I tensorflow/core/platform/cpu_feature_guard.cc:193] This TensorFlow binary is optimized with oneAPI Deep Neural Network Library (oneDNN) to use the following CPU instructions in performance-critical operations:  AVX2 AVX512F FMA\n",
      "To enable them in other operations, rebuild TensorFlow with the appropriate compiler flags.\n",
      "2024-09-19 21:34:34.284546: W tensorflow/stream_executor/platform/default/dso_loader.cc:64] Could not load dynamic library 'libcuda.so.1'; dlerror: libcuda.so.1: cannot open shared object file: No such file or directory; LD_LIBRARY_PATH: /home/ucl/modl/rgouvea/anaconda3/pkgs/cudatoolkit-11.2.2-hbe64b41_10/lib/:/home/ucl/modl/rgouvea/anaconda3/envs/env_tfmodnet/lib/python3.8/site-packages/nvidia/cuda_nvcc/:/home/ucl/modl/rgouvea/anaconda3/envs/env_tfmodnet/lib/python3.8/site-packages/nvidia/cuda_cupti/lib/:/home/ucl/modl/rgouvea/anaconda3/envs/py3.8/lib/python3.8/site-packages/tensorrt/:/home/ucl/modl/rgouvea/anaconda3/envs/env_tfmodnet/lib:/home/ucl/modl/rgouvea/anaconda3/envs/env_tfmodnet/lib/python3.8/site-packages/nvidia/cusolver/lib/:/auto/home/users/r/g/rgouvea/anaconda3/envs/env_tfmodnet/lib:/auto/home/users/r/g/rgouvea/anaconda3/envs/env_tfmodnet/lib/python3.8/site-packages/nvidia/cuda_runtime/lib/:/auto/home/users/r/g/rgouvea/anaconda3/envs/env_tfmodnet/lib/python3.8/site-packages/nvidia/cublas/lib/:/opt/sw/arch/easybuild/2020b/software/FFTW/3.3.8-gompic-2020b/lib:/opt/sw/arch/easybuild/2020b/software/OpenMPI/4.0.5-gcccuda-2020b/lib:/opt/sw/arch/easybuild/2020b/software/PMIx/3.1.5-GCCcore-10.2.0/lib:/opt/sw/arch/easybuild/2020b/software/libfabric/1.11.0-GCCcore-10.2.0/lib:/opt/sw/arch/easybuild/2020b/software/UCX/1.9.0-GCCcore-10.2.0-CUDA-11.1.1/lib:/opt/sw/arch/easybuild/2020b/software/GDRCopy/2.1-GCCcore-10.2.0-CUDA-11.1.1/lib:/opt/sw/arch/easybuild/2020b/software/Check/0.15.2-GCCcore-10.2.0/lib:/opt/sw/arch/easybuild/2020b/software/libevent/2.1.12-GCCcore-10.2.0/lib:/opt/sw/arch/easybuild/2020b/software/hwloc/2.2.0-GCCcore-10.2.0/lib:/opt/sw/arch/easybuild/2020b/software/libpciaccess/0.16-GCCcore-10.2.0/lib:/opt/sw/arch/easybuild/2020b/software/libxml2/2.9.10-GCCcore-10.2.0/lib:/opt/sw/arch/easybuild/2020b/software/XZ/5.2.5-GCCcore-10.2.0/lib:/opt/sw/arch/easybuild/2020b/software/numactl/2.0.13-GCCcore-10.2.0/lib:/opt/sw/arch/easybuild/2020b/software/CUDAcore/11.1.1/nvvm/lib64:/opt/sw/arch/easybuild/2020b/software/CUDAcore/11.1.1/extras/CUPTI/lib64:/opt/sw/arch/easybuild/2020b/software/CUDAcore/11.1.1/lib:/opt/sw/arch/easybuild/2020b/software/binutils/2.35-GCCcore-10.2.0/lib:/opt/sw/arch/easybuild/2020b/software/zlib/1.2.11-GCCcore-10.2.0/lib:/opt/sw/arch/easybuild/2020b/software/GCCcore/10.2.0/lib64:/home/ucl/modl/rgouvea/anaconda3/pkgs/cudatoolkit-11.2.2-hbe64b41_10/lib:/home/ucl/modl/rgouvea/anaconda3/envs/env_tfmodnet/lib/python3.8/site-packages/nvidia/cuda_nvcc:/home/ucl/modl/rgouvea/anaconda3/envs/env_tfmodnet/lib/python3.8/site-packages/nvidia/cuda_cupti/lib:/home/ucl/modl/rgouvea/anaconda3/envs/py3.8/lib/python3.8/site-packages/tensorrt:/home/ucl/modl/rgouvea/anaconda3/envs/env_tfmodnet/lib:/home/ucl/modl/rgouvea/anaconda3/envs/env_tfmodnet/lib/python3.8/site-packages/nvidia/cusolver/lib:/auto/home/users/r/g/rgouvea/anaconda3/envs/env_tfmodnet/lib:/auto/home/users/r/g/rgouvea/anaconda3/envs/env_tfmodnet/lib/python3.8/site-packages/nvidia/cuda_runtime/lib:/auto/home/users/r/g/rgouvea/anaconda3/envs/env_tfmodnet/lib/python3.8/site-packages/nvidia/cublas/lib::\n",
      "2024-09-19 21:34:34.284604: W tensorflow/stream_executor/cuda/cuda_driver.cc:263] failed call to cuInit: UNKNOWN ERROR (303)\n",
      "2024-09-19 21:34:34.284638: I tensorflow/stream_executor/cuda/cuda_diagnostics.cc:156] kernel driver does not appear to be running on this host (mbackf2.cism.ucl.ac.be): /proc/driver/nvidia/version does not exist\n",
      "2024-09-19 21:34:34.284963: I tensorflow/core/platform/cpu_feature_guard.cc:193] This TensorFlow binary is optimized with oneAPI Deep Neural Network Library (oneDNN) to use the following CPU instructions in performance-critical operations:  AVX2 AVX512F FMA\n",
      "To enable them in other operations, rebuild TensorFlow with the appropriate compiler flags.\n",
      "2024-09-19 21:34:40.688539: W tensorflow/stream_executor/platform/default/dso_loader.cc:64] Could not load dynamic library 'libcuda.so.1'; dlerror: libcuda.so.1: cannot open shared object file: No such file or directory; LD_LIBRARY_PATH: /home/ucl/modl/rgouvea/anaconda3/pkgs/cudatoolkit-11.2.2-hbe64b41_10/lib/:/home/ucl/modl/rgouvea/anaconda3/envs/env_tfmodnet/lib/python3.8/site-packages/nvidia/cuda_nvcc/:/home/ucl/modl/rgouvea/anaconda3/envs/env_tfmodnet/lib/python3.8/site-packages/nvidia/cuda_cupti/lib/:/home/ucl/modl/rgouvea/anaconda3/envs/py3.8/lib/python3.8/site-packages/tensorrt/:/home/ucl/modl/rgouvea/anaconda3/envs/env_tfmodnet/lib:/home/ucl/modl/rgouvea/anaconda3/envs/env_tfmodnet/lib/python3.8/site-packages/nvidia/cusolver/lib/:/auto/home/users/r/g/rgouvea/anaconda3/envs/env_tfmodnet/lib:/auto/home/users/r/g/rgouvea/anaconda3/envs/env_tfmodnet/lib/python3.8/site-packages/nvidia/cuda_runtime/lib/:/auto/home/users/r/g/rgouvea/anaconda3/envs/env_tfmodnet/lib/python3.8/site-packages/nvidia/cublas/lib/:/opt/sw/arch/easybuild/2020b/software/FFTW/3.3.8-gompic-2020b/lib:/opt/sw/arch/easybuild/2020b/software/OpenMPI/4.0.5-gcccuda-2020b/lib:/opt/sw/arch/easybuild/2020b/software/PMIx/3.1.5-GCCcore-10.2.0/lib:/opt/sw/arch/easybuild/2020b/software/libfabric/1.11.0-GCCcore-10.2.0/lib:/opt/sw/arch/easybuild/2020b/software/UCX/1.9.0-GCCcore-10.2.0-CUDA-11.1.1/lib:/opt/sw/arch/easybuild/2020b/software/GDRCopy/2.1-GCCcore-10.2.0-CUDA-11.1.1/lib:/opt/sw/arch/easybuild/2020b/software/Check/0.15.2-GCCcore-10.2.0/lib:/opt/sw/arch/easybuild/2020b/software/libevent/2.1.12-GCCcore-10.2.0/lib:/opt/sw/arch/easybuild/2020b/software/hwloc/2.2.0-GCCcore-10.2.0/lib:/opt/sw/arch/easybuild/2020b/software/libpciaccess/0.16-GCCcore-10.2.0/lib:/opt/sw/arch/easybuild/2020b/software/libxml2/2.9.10-GCCcore-10.2.0/lib:/opt/sw/arch/easybuild/2020b/software/XZ/5.2.5-GCCcore-10.2.0/lib:/opt/sw/arch/easybuild/2020b/software/numactl/2.0.13-GCCcore-10.2.0/lib:/opt/sw/arch/easybuild/2020b/software/CUDAcore/11.1.1/nvvm/lib64:/opt/sw/arch/easybuild/2020b/software/CUDAcore/11.1.1/extras/CUPTI/lib64:/opt/sw/arch/easybuild/2020b/software/CUDAcore/11.1.1/lib:/opt/sw/arch/easybuild/2020b/software/binutils/2.35-GCCcore-10.2.0/lib:/opt/sw/arch/easybuild/2020b/software/zlib/1.2.11-GCCcore-10.2.0/lib:/opt/sw/arch/easybuild/2020b/software/GCCcore/10.2.0/lib64:/home/ucl/modl/rgouvea/anaconda3/pkgs/cudatoolkit-11.2.2-hbe64b41_10/lib:/home/ucl/modl/rgouvea/anaconda3/envs/env_tfmodnet/lib/python3.8/site-packages/nvidia/cuda_nvcc:/home/ucl/modl/rgouvea/anaconda3/envs/env_tfmodnet/lib/python3.8/site-packages/nvidia/cuda_cupti/lib:/home/ucl/modl/rgouvea/anaconda3/envs/py3.8/lib/python3.8/site-packages/tensorrt:/home/ucl/modl/rgouvea/anaconda3/envs/env_tfmodnet/lib:/home/ucl/modl/rgouvea/anaconda3/envs/env_tfmodnet/lib/python3.8/site-packages/nvidia/cusolver/lib:/auto/home/users/r/g/rgouvea/anaconda3/envs/env_tfmodnet/lib:/auto/home/users/r/g/rgouvea/anaconda3/envs/env_tfmodnet/lib/python3.8/site-packages/nvidia/cuda_runtime/lib:/auto/home/users/r/g/rgouvea/anaconda3/envs/env_tfmodnet/lib/python3.8/site-packages/nvidia/cublas/lib::\n",
      "2024-09-19 21:34:40.688592: W tensorflow/stream_executor/cuda/cuda_driver.cc:263] failed call to cuInit: UNKNOWN ERROR (303)\n",
      "2024-09-19 21:34:40.688622: I tensorflow/stream_executor/cuda/cuda_diagnostics.cc:156] kernel driver does not appear to be running on this host (mbackf2.cism.ucl.ac.be): /proc/driver/nvidia/version does not exist\n",
      "2024-09-19 21:34:40.689036: I tensorflow/core/platform/cpu_feature_guard.cc:193] This TensorFlow binary is optimized with oneAPI Deep Neural Network Library (oneDNN) to use the following CPU instructions in performance-critical operations:  AVX2 AVX512F FMA\n",
      "To enable them in other operations, rebuild TensorFlow with the appropriate compiler flags.\n",
      " 10%|█         | 1/10 [00:38<05:50, 38.92s/it]"
     ]
    },
    {
     "name": "stdout",
     "output_type": "stream",
     "text": [
      "11/11 [==============================] - 0s 1ms/step\n"
     ]
    },
    {
     "name": "stderr",
     "output_type": "stream",
     "text": [
      "2024-09-19 21:34:43.178739: W tensorflow/stream_executor/platform/default/dso_loader.cc:64] Could not load dynamic library 'libcuda.so.1'; dlerror: libcuda.so.1: cannot open shared object file: No such file or directory; LD_LIBRARY_PATH: /home/ucl/modl/rgouvea/anaconda3/pkgs/cudatoolkit-11.2.2-hbe64b41_10/lib/:/home/ucl/modl/rgouvea/anaconda3/envs/env_tfmodnet/lib/python3.8/site-packages/nvidia/cuda_nvcc/:/home/ucl/modl/rgouvea/anaconda3/envs/env_tfmodnet/lib/python3.8/site-packages/nvidia/cuda_cupti/lib/:/home/ucl/modl/rgouvea/anaconda3/envs/py3.8/lib/python3.8/site-packages/tensorrt/:/home/ucl/modl/rgouvea/anaconda3/envs/env_tfmodnet/lib:/home/ucl/modl/rgouvea/anaconda3/envs/env_tfmodnet/lib/python3.8/site-packages/nvidia/cusolver/lib/:/auto/home/users/r/g/rgouvea/anaconda3/envs/env_tfmodnet/lib:/auto/home/users/r/g/rgouvea/anaconda3/envs/env_tfmodnet/lib/python3.8/site-packages/nvidia/cuda_runtime/lib/:/auto/home/users/r/g/rgouvea/anaconda3/envs/env_tfmodnet/lib/python3.8/site-packages/nvidia/cublas/lib/:/opt/sw/arch/easybuild/2020b/software/FFTW/3.3.8-gompic-2020b/lib:/opt/sw/arch/easybuild/2020b/software/OpenMPI/4.0.5-gcccuda-2020b/lib:/opt/sw/arch/easybuild/2020b/software/PMIx/3.1.5-GCCcore-10.2.0/lib:/opt/sw/arch/easybuild/2020b/software/libfabric/1.11.0-GCCcore-10.2.0/lib:/opt/sw/arch/easybuild/2020b/software/UCX/1.9.0-GCCcore-10.2.0-CUDA-11.1.1/lib:/opt/sw/arch/easybuild/2020b/software/GDRCopy/2.1-GCCcore-10.2.0-CUDA-11.1.1/lib:/opt/sw/arch/easybuild/2020b/software/Check/0.15.2-GCCcore-10.2.0/lib:/opt/sw/arch/easybuild/2020b/software/libevent/2.1.12-GCCcore-10.2.0/lib:/opt/sw/arch/easybuild/2020b/software/hwloc/2.2.0-GCCcore-10.2.0/lib:/opt/sw/arch/easybuild/2020b/software/libpciaccess/0.16-GCCcore-10.2.0/lib:/opt/sw/arch/easybuild/2020b/software/libxml2/2.9.10-GCCcore-10.2.0/lib:/opt/sw/arch/easybuild/2020b/software/XZ/5.2.5-GCCcore-10.2.0/lib:/opt/sw/arch/easybuild/2020b/software/numactl/2.0.13-GCCcore-10.2.0/lib:/opt/sw/arch/easybuild/2020b/software/CUDAcore/11.1.1/nvvm/lib64:/opt/sw/arch/easybuild/2020b/software/CUDAcore/11.1.1/extras/CUPTI/lib64:/opt/sw/arch/easybuild/2020b/software/CUDAcore/11.1.1/lib:/opt/sw/arch/easybuild/2020b/software/binutils/2.35-GCCcore-10.2.0/lib:/opt/sw/arch/easybuild/2020b/software/zlib/1.2.11-GCCcore-10.2.0/lib:/opt/sw/arch/easybuild/2020b/software/GCCcore/10.2.0/lib64:/home/ucl/modl/rgouvea/anaconda3/pkgs/cudatoolkit-11.2.2-hbe64b41_10/lib:/home/ucl/modl/rgouvea/anaconda3/envs/env_tfmodnet/lib/python3.8/site-packages/nvidia/cuda_nvcc:/home/ucl/modl/rgouvea/anaconda3/envs/env_tfmodnet/lib/python3.8/site-packages/nvidia/cuda_cupti/lib:/home/ucl/modl/rgouvea/anaconda3/envs/py3.8/lib/python3.8/site-packages/tensorrt:/home/ucl/modl/rgouvea/anaconda3/envs/env_tfmodnet/lib:/home/ucl/modl/rgouvea/anaconda3/envs/env_tfmodnet/lib/python3.8/site-packages/nvidia/cusolver/lib:/auto/home/users/r/g/rgouvea/anaconda3/envs/env_tfmodnet/lib:/auto/home/users/r/g/rgouvea/anaconda3/envs/env_tfmodnet/lib/python3.8/site-packages/nvidia/cuda_runtime/lib:/auto/home/users/r/g/rgouvea/anaconda3/envs/env_tfmodnet/lib/python3.8/site-packages/nvidia/cublas/lib::\n",
      "2024-09-19 21:34:43.178785: W tensorflow/stream_executor/cuda/cuda_driver.cc:263] failed call to cuInit: UNKNOWN ERROR (303)\n",
      "2024-09-19 21:34:43.178818: I tensorflow/stream_executor/cuda/cuda_diagnostics.cc:156] kernel driver does not appear to be running on this host (mbackf2.cism.ucl.ac.be): /proc/driver/nvidia/version does not exist\n",
      "2024-09-19 21:34:43.179200: I tensorflow/core/platform/cpu_feature_guard.cc:193] This TensorFlow binary is optimized with oneAPI Deep Neural Network Library (oneDNN) to use the following CPU instructions in performance-critical operations:  AVX2 AVX512F FMA\n",
      "To enable them in other operations, rebuild TensorFlow with the appropriate compiler flags.\n",
      " 20%|██        | 2/10 [00:43<02:29, 18.67s/it]"
     ]
    },
    {
     "name": "stdout",
     "output_type": "stream",
     "text": [
      "11/11 [==============================] - 0s 2ms/step\n"
     ]
    },
    {
     "name": "stderr",
     "output_type": "stream",
     "text": [
      " 30%|███       | 3/10 [00:47<01:25, 12.21s/it]"
     ]
    },
    {
     "name": "stdout",
     "output_type": "stream",
     "text": [
      "11/11 [==============================] - 0s 2ms/step\n"
     ]
    },
    {
     "name": "stderr",
     "output_type": "stream",
     "text": [
      " 40%|████      | 4/10 [00:49<00:47,  7.97s/it]"
     ]
    },
    {
     "name": "stdout",
     "output_type": "stream",
     "text": [
      "11/11 [==============================] - 0s 2ms/step\n"
     ]
    },
    {
     "name": "stderr",
     "output_type": "stream",
     "text": [
      " 50%|█████     | 5/10 [00:55<00:35,  7.18s/it]"
     ]
    },
    {
     "name": "stdout",
     "output_type": "stream",
     "text": [
      "11/11 [==============================] - 0s 1ms/step\n"
     ]
    },
    {
     "name": "stderr",
     "output_type": "stream",
     "text": [
      " 60%|██████    | 6/10 [00:55<00:19,  4.85s/it]"
     ]
    },
    {
     "name": "stdout",
     "output_type": "stream",
     "text": [
      "11/11 [==============================] - 0s 1ms/step\n"
     ]
    },
    {
     "name": "stderr",
     "output_type": "stream",
     "text": [
      " 70%|███████   | 7/10 [01:02<00:16,  5.45s/it]"
     ]
    },
    {
     "name": "stdout",
     "output_type": "stream",
     "text": [
      "11/11 [==============================] - 0s 1ms/step\n"
     ]
    },
    {
     "name": "stderr",
     "output_type": "stream",
     "text": [
      " 80%|████████  | 8/10 [01:20<00:19,  9.60s/it]"
     ]
    },
    {
     "name": "stdout",
     "output_type": "stream",
     "text": [
      "11/11 [==============================] - 0s 1ms/step\n"
     ]
    },
    {
     "name": "stderr",
     "output_type": "stream",
     "text": [
      " 90%|█████████ | 9/10 [01:26<00:08,  8.48s/it]"
     ]
    },
    {
     "name": "stdout",
     "output_type": "stream",
     "text": [
      "11/11 [==============================] - 0s 1ms/step\n"
     ]
    },
    {
     "name": "stderr",
     "output_type": "stream",
     "text": [
      "100%|██████████| 10/10 [01:36<00:00,  9.63s/it]"
     ]
    },
    {
     "name": "stdout",
     "output_type": "stream",
     "text": [
      "11/11 [==============================] - 0s 999us/step\n",
      "2024-09-19 21:35:38,345 - modnet - INFO - Loss per individual: ind 0: 0.065 \tind 1: 0.060 \tind 2: 0.072 \tind 3: 0.063 \tind 4: 0.078 \tind 5: 0.076 \tind 6: 0.060 \tind 7: 0.065 \tind 8: 0.063 \tind 9: 0.068 \t\n",
      "2024-09-19 21:35:38,346 - modnet - INFO - Generation number 2\n"
     ]
    },
    {
     "name": "stderr",
     "output_type": "stream",
     "text": [
      "\n",
      "  0%|          | 0/10 [00:00<?, ?it/s]2024-09-19 21:35:41.832257: I tensorflow/core/platform/cpu_feature_guard.cc:193] This TensorFlow binary is optimized with oneAPI Deep Neural Network Library (oneDNN) to use the following CPU instructions in performance-critical operations:  AVX2 AVX512F FMA\n",
      "To enable them in other operations, rebuild TensorFlow with the appropriate compiler flags.\n",
      "2024-09-19 21:35:42.008583: E tensorflow/stream_executor/cuda/cuda_blas.cc:2981] Unable to register cuBLAS factory: Attempting to register factory for plugin cuBLAS when one has already been registered\n",
      "2024-09-19 21:35:43.937625: I tensorflow/core/platform/cpu_feature_guard.cc:193] This TensorFlow binary is optimized with oneAPI Deep Neural Network Library (oneDNN) to use the following CPU instructions in performance-critical operations:  AVX2 AVX512F FMA\n",
      "To enable them in other operations, rebuild TensorFlow with the appropriate compiler flags.\n",
      "2024-09-19 21:35:44.115371: E tensorflow/stream_executor/cuda/cuda_blas.cc:2981] Unable to register cuBLAS factory: Attempting to register factory for plugin cuBLAS when one has already been registered\n",
      "2024-09-19 21:35:46.129635: I tensorflow/core/platform/cpu_feature_guard.cc:193] This TensorFlow binary is optimized with oneAPI Deep Neural Network Library (oneDNN) to use the following CPU instructions in performance-critical operations:  AVX2 AVX512F FMA\n",
      "To enable them in other operations, rebuild TensorFlow with the appropriate compiler flags.\n",
      "2024-09-19 21:35:46.307713: E tensorflow/stream_executor/cuda/cuda_blas.cc:2981] Unable to register cuBLAS factory: Attempting to register factory for plugin cuBLAS when one has already been registered\n",
      "2024-09-19 21:35:48.378680: I tensorflow/core/platform/cpu_feature_guard.cc:193] This TensorFlow binary is optimized with oneAPI Deep Neural Network Library (oneDNN) to use the following CPU instructions in performance-critical operations:  AVX2 AVX512F FMA\n",
      "To enable them in other operations, rebuild TensorFlow with the appropriate compiler flags.\n",
      "2024-09-19 21:35:48.562866: E tensorflow/stream_executor/cuda/cuda_blas.cc:2981] Unable to register cuBLAS factory: Attempting to register factory for plugin cuBLAS when one has already been registered\n",
      "2024-09-19 21:35:50.641960: I tensorflow/core/platform/cpu_feature_guard.cc:193] This TensorFlow binary is optimized with oneAPI Deep Neural Network Library (oneDNN) to use the following CPU instructions in performance-critical operations:  AVX2 AVX512F FMA\n",
      "To enable them in other operations, rebuild TensorFlow with the appropriate compiler flags.\n",
      "2024-09-19 21:35:50.801984: W tensorflow/stream_executor/platform/default/dso_loader.cc:64] Could not load dynamic library 'libcuda.so.1'; dlerror: libcuda.so.1: cannot open shared object file: No such file or directory; LD_LIBRARY_PATH: /home/ucl/modl/rgouvea/anaconda3/pkgs/cudatoolkit-11.2.2-hbe64b41_10/lib/:/home/ucl/modl/rgouvea/anaconda3/envs/env_tfmodnet/lib/python3.8/site-packages/nvidia/cuda_nvcc/:/home/ucl/modl/rgouvea/anaconda3/envs/env_tfmodnet/lib/python3.8/site-packages/nvidia/cuda_cupti/lib/:/home/ucl/modl/rgouvea/anaconda3/envs/py3.8/lib/python3.8/site-packages/tensorrt/:/home/ucl/modl/rgouvea/anaconda3/envs/env_tfmodnet/lib:/home/ucl/modl/rgouvea/anaconda3/envs/env_tfmodnet/lib/python3.8/site-packages/nvidia/cusolver/lib/:/auto/home/users/r/g/rgouvea/anaconda3/envs/env_tfmodnet/lib:/auto/home/users/r/g/rgouvea/anaconda3/envs/env_tfmodnet/lib/python3.8/site-packages/nvidia/cuda_runtime/lib/:/auto/home/users/r/g/rgouvea/anaconda3/envs/env_tfmodnet/lib/python3.8/site-packages/nvidia/cublas/lib/:/opt/sw/arch/easybuild/2020b/software/FFTW/3.3.8-gompic-2020b/lib:/opt/sw/arch/easybuild/2020b/software/OpenMPI/4.0.5-gcccuda-2020b/lib:/opt/sw/arch/easybuild/2020b/software/PMIx/3.1.5-GCCcore-10.2.0/lib:/opt/sw/arch/easybuild/2020b/software/libfabric/1.11.0-GCCcore-10.2.0/lib:/opt/sw/arch/easybuild/2020b/software/UCX/1.9.0-GCCcore-10.2.0-CUDA-11.1.1/lib:/opt/sw/arch/easybuild/2020b/software/GDRCopy/2.1-GCCcore-10.2.0-CUDA-11.1.1/lib:/opt/sw/arch/easybuild/2020b/software/Check/0.15.2-GCCcore-10.2.0/lib:/opt/sw/arch/easybuild/2020b/software/libevent/2.1.12-GCCcore-10.2.0/lib:/opt/sw/arch/easybuild/2020b/software/hwloc/2.2.0-GCCcore-10.2.0/lib:/opt/sw/arch/easybuild/2020b/software/libpciaccess/0.16-GCCcore-10.2.0/lib:/opt/sw/arch/easybuild/2020b/software/libxml2/2.9.10-GCCcore-10.2.0/lib:/opt/sw/arch/easybuild/2020b/software/XZ/5.2.5-GCCcore-10.2.0/lib:/opt/sw/arch/easybuild/2020b/software/numactl/2.0.13-GCCcore-10.2.0/lib:/opt/sw/arch/easybuild/2020b/software/CUDAcore/11.1.1/nvvm/lib64:/opt/sw/arch/easybuild/2020b/software/CUDAcore/11.1.1/extras/CUPTI/lib64:/opt/sw/arch/easybuild/2020b/software/CUDAcore/11.1.1/lib:/opt/sw/arch/easybuild/2020b/software/binutils/2.35-GCCcore-10.2.0/lib:/opt/sw/arch/easybuild/2020b/software/zlib/1.2.11-GCCcore-10.2.0/lib:/opt/sw/arch/easybuild/2020b/software/GCCcore/10.2.0/lib64:/home/ucl/modl/rgouvea/anaconda3/pkgs/cudatoolkit-11.2.2-hbe64b41_10/lib:/home/ucl/modl/rgouvea/anaconda3/envs/env_tfmodnet/lib/python3.8/site-packages/nvidia/cuda_nvcc:/home/ucl/modl/rgouvea/anaconda3/envs/env_tfmodnet/lib/python3.8/site-packages/nvidia/cuda_cupti/lib:/home/ucl/modl/rgouvea/anaconda3/envs/py3.8/lib/python3.8/site-packages/tensorrt:/home/ucl/modl/rgouvea/anaconda3/envs/env_tfmodnet/lib:/home/ucl/modl/rgouvea/anaconda3/envs/env_tfmodnet/lib/python3.8/site-packages/nvidia/cusolver/lib:/auto/home/users/r/g/rgouvea/anaconda3/envs/env_tfmodnet/lib:/auto/home/users/r/g/rgouvea/anaconda3/envs/env_tfmodnet/lib/python3.8/site-packages/nvidia/cuda_runtime/lib:/auto/home/users/r/g/rgouvea/anaconda3/envs/env_tfmodnet/lib/python3.8/site-packages/nvidia/cublas/lib::\n",
      "2024-09-19 21:35:50.802028: W tensorflow/stream_executor/cuda/cuda_driver.cc:263] failed call to cuInit: UNKNOWN ERROR (303)\n",
      "2024-09-19 21:35:50.802050: I tensorflow/stream_executor/cuda/cuda_diagnostics.cc:156] kernel driver does not appear to be running on this host (mbackf2.cism.ucl.ac.be): /proc/driver/nvidia/version does not exist\n",
      "2024-09-19 21:35:50.802348: I tensorflow/core/platform/cpu_feature_guard.cc:193] This TensorFlow binary is optimized with oneAPI Deep Neural Network Library (oneDNN) to use the following CPU instructions in performance-critical operations:  AVX2 AVX512F FMA\n",
      "To enable them in other operations, rebuild TensorFlow with the appropriate compiler flags.\n",
      "2024-09-19 21:35:50.826595: E tensorflow/stream_executor/cuda/cuda_blas.cc:2981] Unable to register cuBLAS factory: Attempting to register factory for plugin cuBLAS when one has already been registered\n",
      "2024-09-19 21:35:52.536144: W tensorflow/stream_executor/platform/default/dso_loader.cc:64] Could not load dynamic library 'libcuda.so.1'; dlerror: libcuda.so.1: cannot open shared object file: No such file or directory; LD_LIBRARY_PATH: /home/ucl/modl/rgouvea/anaconda3/pkgs/cudatoolkit-11.2.2-hbe64b41_10/lib/:/home/ucl/modl/rgouvea/anaconda3/envs/env_tfmodnet/lib/python3.8/site-packages/nvidia/cuda_nvcc/:/home/ucl/modl/rgouvea/anaconda3/envs/env_tfmodnet/lib/python3.8/site-packages/nvidia/cuda_cupti/lib/:/home/ucl/modl/rgouvea/anaconda3/envs/py3.8/lib/python3.8/site-packages/tensorrt/:/home/ucl/modl/rgouvea/anaconda3/envs/env_tfmodnet/lib:/home/ucl/modl/rgouvea/anaconda3/envs/env_tfmodnet/lib/python3.8/site-packages/nvidia/cusolver/lib/:/auto/home/users/r/g/rgouvea/anaconda3/envs/env_tfmodnet/lib:/auto/home/users/r/g/rgouvea/anaconda3/envs/env_tfmodnet/lib/python3.8/site-packages/nvidia/cuda_runtime/lib/:/auto/home/users/r/g/rgouvea/anaconda3/envs/env_tfmodnet/lib/python3.8/site-packages/nvidia/cublas/lib/:/opt/sw/arch/easybuild/2020b/software/FFTW/3.3.8-gompic-2020b/lib:/opt/sw/arch/easybuild/2020b/software/OpenMPI/4.0.5-gcccuda-2020b/lib:/opt/sw/arch/easybuild/2020b/software/PMIx/3.1.5-GCCcore-10.2.0/lib:/opt/sw/arch/easybuild/2020b/software/libfabric/1.11.0-GCCcore-10.2.0/lib:/opt/sw/arch/easybuild/2020b/software/UCX/1.9.0-GCCcore-10.2.0-CUDA-11.1.1/lib:/opt/sw/arch/easybuild/2020b/software/GDRCopy/2.1-GCCcore-10.2.0-CUDA-11.1.1/lib:/opt/sw/arch/easybuild/2020b/software/Check/0.15.2-GCCcore-10.2.0/lib:/opt/sw/arch/easybuild/2020b/software/libevent/2.1.12-GCCcore-10.2.0/lib:/opt/sw/arch/easybuild/2020b/software/hwloc/2.2.0-GCCcore-10.2.0/lib:/opt/sw/arch/easybuild/2020b/software/libpciaccess/0.16-GCCcore-10.2.0/lib:/opt/sw/arch/easybuild/2020b/software/libxml2/2.9.10-GCCcore-10.2.0/lib:/opt/sw/arch/easybuild/2020b/software/XZ/5.2.5-GCCcore-10.2.0/lib:/opt/sw/arch/easybuild/2020b/software/numactl/2.0.13-GCCcore-10.2.0/lib:/opt/sw/arch/easybuild/2020b/software/CUDAcore/11.1.1/nvvm/lib64:/opt/sw/arch/easybuild/2020b/software/CUDAcore/11.1.1/extras/CUPTI/lib64:/opt/sw/arch/easybuild/2020b/software/CUDAcore/11.1.1/lib:/opt/sw/arch/easybuild/2020b/software/binutils/2.35-GCCcore-10.2.0/lib:/opt/sw/arch/easybuild/2020b/software/zlib/1.2.11-GCCcore-10.2.0/lib:/opt/sw/arch/easybuild/2020b/software/GCCcore/10.2.0/lib64:/home/ucl/modl/rgouvea/anaconda3/pkgs/cudatoolkit-11.2.2-hbe64b41_10/lib:/home/ucl/modl/rgouvea/anaconda3/envs/env_tfmodnet/lib/python3.8/site-packages/nvidia/cuda_nvcc:/home/ucl/modl/rgouvea/anaconda3/envs/env_tfmodnet/lib/python3.8/site-packages/nvidia/cuda_cupti/lib:/home/ucl/modl/rgouvea/anaconda3/envs/py3.8/lib/python3.8/site-packages/tensorrt:/home/ucl/modl/rgouvea/anaconda3/envs/env_tfmodnet/lib:/home/ucl/modl/rgouvea/anaconda3/envs/env_tfmodnet/lib/python3.8/site-packages/nvidia/cusolver/lib:/auto/home/users/r/g/rgouvea/anaconda3/envs/env_tfmodnet/lib:/auto/home/users/r/g/rgouvea/anaconda3/envs/env_tfmodnet/lib/python3.8/site-packages/nvidia/cuda_runtime/lib:/auto/home/users/r/g/rgouvea/anaconda3/envs/env_tfmodnet/lib/python3.8/site-packages/nvidia/cublas/lib::\n",
      "2024-09-19 21:35:52.536187: W tensorflow/stream_executor/cuda/cuda_driver.cc:263] failed call to cuInit: UNKNOWN ERROR (303)\n",
      "2024-09-19 21:35:52.536214: I tensorflow/stream_executor/cuda/cuda_diagnostics.cc:156] kernel driver does not appear to be running on this host (mbackf2.cism.ucl.ac.be): /proc/driver/nvidia/version does not exist\n",
      "2024-09-19 21:35:52.536656: I tensorflow/core/platform/cpu_feature_guard.cc:193] This TensorFlow binary is optimized with oneAPI Deep Neural Network Library (oneDNN) to use the following CPU instructions in performance-critical operations:  AVX2 AVX512F FMA\n",
      "To enable them in other operations, rebuild TensorFlow with the appropriate compiler flags.\n",
      "2024-09-19 21:35:53.160570: I tensorflow/core/platform/cpu_feature_guard.cc:193] This TensorFlow binary is optimized with oneAPI Deep Neural Network Library (oneDNN) to use the following CPU instructions in performance-critical operations:  AVX2 AVX512F FMA\n",
      "To enable them in other operations, rebuild TensorFlow with the appropriate compiler flags.\n",
      "2024-09-19 21:35:53.407554: E tensorflow/stream_executor/cuda/cuda_blas.cc:2981] Unable to register cuBLAS factory: Attempting to register factory for plugin cuBLAS when one has already been registered\n",
      "2024-09-19 21:35:55.590741: W tensorflow/stream_executor/platform/default/dso_loader.cc:64] Could not load dynamic library 'libcuda.so.1'; dlerror: libcuda.so.1: cannot open shared object file: No such file or directory; LD_LIBRARY_PATH: /home/ucl/modl/rgouvea/anaconda3/pkgs/cudatoolkit-11.2.2-hbe64b41_10/lib/:/home/ucl/modl/rgouvea/anaconda3/envs/env_tfmodnet/lib/python3.8/site-packages/nvidia/cuda_nvcc/:/home/ucl/modl/rgouvea/anaconda3/envs/env_tfmodnet/lib/python3.8/site-packages/nvidia/cuda_cupti/lib/:/home/ucl/modl/rgouvea/anaconda3/envs/py3.8/lib/python3.8/site-packages/tensorrt/:/home/ucl/modl/rgouvea/anaconda3/envs/env_tfmodnet/lib:/home/ucl/modl/rgouvea/anaconda3/envs/env_tfmodnet/lib/python3.8/site-packages/nvidia/cusolver/lib/:/auto/home/users/r/g/rgouvea/anaconda3/envs/env_tfmodnet/lib:/auto/home/users/r/g/rgouvea/anaconda3/envs/env_tfmodnet/lib/python3.8/site-packages/nvidia/cuda_runtime/lib/:/auto/home/users/r/g/rgouvea/anaconda3/envs/env_tfmodnet/lib/python3.8/site-packages/nvidia/cublas/lib/:/opt/sw/arch/easybuild/2020b/software/FFTW/3.3.8-gompic-2020b/lib:/opt/sw/arch/easybuild/2020b/software/OpenMPI/4.0.5-gcccuda-2020b/lib:/opt/sw/arch/easybuild/2020b/software/PMIx/3.1.5-GCCcore-10.2.0/lib:/opt/sw/arch/easybuild/2020b/software/libfabric/1.11.0-GCCcore-10.2.0/lib:/opt/sw/arch/easybuild/2020b/software/UCX/1.9.0-GCCcore-10.2.0-CUDA-11.1.1/lib:/opt/sw/arch/easybuild/2020b/software/GDRCopy/2.1-GCCcore-10.2.0-CUDA-11.1.1/lib:/opt/sw/arch/easybuild/2020b/software/Check/0.15.2-GCCcore-10.2.0/lib:/opt/sw/arch/easybuild/2020b/software/libevent/2.1.12-GCCcore-10.2.0/lib:/opt/sw/arch/easybuild/2020b/software/hwloc/2.2.0-GCCcore-10.2.0/lib:/opt/sw/arch/easybuild/2020b/software/libpciaccess/0.16-GCCcore-10.2.0/lib:/opt/sw/arch/easybuild/2020b/software/libxml2/2.9.10-GCCcore-10.2.0/lib:/opt/sw/arch/easybuild/2020b/software/XZ/5.2.5-GCCcore-10.2.0/lib:/opt/sw/arch/easybuild/2020b/software/numactl/2.0.13-GCCcore-10.2.0/lib:/opt/sw/arch/easybuild/2020b/software/CUDAcore/11.1.1/nvvm/lib64:/opt/sw/arch/easybuild/2020b/software/CUDAcore/11.1.1/extras/CUPTI/lib64:/opt/sw/arch/easybuild/2020b/software/CUDAcore/11.1.1/lib:/opt/sw/arch/easybuild/2020b/software/binutils/2.35-GCCcore-10.2.0/lib:/opt/sw/arch/easybuild/2020b/software/zlib/1.2.11-GCCcore-10.2.0/lib:/opt/sw/arch/easybuild/2020b/software/GCCcore/10.2.0/lib64:/home/ucl/modl/rgouvea/anaconda3/pkgs/cudatoolkit-11.2.2-hbe64b41_10/lib:/home/ucl/modl/rgouvea/anaconda3/envs/env_tfmodnet/lib/python3.8/site-packages/nvidia/cuda_nvcc:/home/ucl/modl/rgouvea/anaconda3/envs/env_tfmodnet/lib/python3.8/site-packages/nvidia/cuda_cupti/lib:/home/ucl/modl/rgouvea/anaconda3/envs/py3.8/lib/python3.8/site-packages/tensorrt:/home/ucl/modl/rgouvea/anaconda3/envs/env_tfmodnet/lib:/home/ucl/modl/rgouvea/anaconda3/envs/env_tfmodnet/lib/python3.8/site-packages/nvidia/cusolver/lib:/auto/home/users/r/g/rgouvea/anaconda3/envs/env_tfmodnet/lib:/auto/home/users/r/g/rgouvea/anaconda3/envs/env_tfmodnet/lib/python3.8/site-packages/nvidia/cuda_runtime/lib:/auto/home/users/r/g/rgouvea/anaconda3/envs/env_tfmodnet/lib/python3.8/site-packages/nvidia/cublas/lib::\n",
      "2024-09-19 21:35:55.590783: W tensorflow/stream_executor/cuda/cuda_driver.cc:263] failed call to cuInit: UNKNOWN ERROR (303)\n",
      "2024-09-19 21:35:55.590807: I tensorflow/stream_executor/cuda/cuda_diagnostics.cc:156] kernel driver does not appear to be running on this host (mbackf2.cism.ucl.ac.be): /proc/driver/nvidia/version does not exist\n",
      "2024-09-19 21:35:55.591204: I tensorflow/core/platform/cpu_feature_guard.cc:193] This TensorFlow binary is optimized with oneAPI Deep Neural Network Library (oneDNN) to use the following CPU instructions in performance-critical operations:  AVX2 AVX512F FMA\n",
      "To enable them in other operations, rebuild TensorFlow with the appropriate compiler flags.\n",
      "2024-09-19 21:35:56.096713: I tensorflow/core/platform/cpu_feature_guard.cc:193] This TensorFlow binary is optimized with oneAPI Deep Neural Network Library (oneDNN) to use the following CPU instructions in performance-critical operations:  AVX2 AVX512F FMA\n",
      "To enable them in other operations, rebuild TensorFlow with the appropriate compiler flags.\n",
      "2024-09-19 21:35:56.343780: E tensorflow/stream_executor/cuda/cuda_blas.cc:2981] Unable to register cuBLAS factory: Attempting to register factory for plugin cuBLAS when one has already been registered\n",
      "2024-09-19 21:35:58.241603: W tensorflow/stream_executor/platform/default/dso_loader.cc:64] Could not load dynamic library 'libcuda.so.1'; dlerror: libcuda.so.1: cannot open shared object file: No such file or directory; LD_LIBRARY_PATH: /home/ucl/modl/rgouvea/anaconda3/pkgs/cudatoolkit-11.2.2-hbe64b41_10/lib/:/home/ucl/modl/rgouvea/anaconda3/envs/env_tfmodnet/lib/python3.8/site-packages/nvidia/cuda_nvcc/:/home/ucl/modl/rgouvea/anaconda3/envs/env_tfmodnet/lib/python3.8/site-packages/nvidia/cuda_cupti/lib/:/home/ucl/modl/rgouvea/anaconda3/envs/py3.8/lib/python3.8/site-packages/tensorrt/:/home/ucl/modl/rgouvea/anaconda3/envs/env_tfmodnet/lib:/home/ucl/modl/rgouvea/anaconda3/envs/env_tfmodnet/lib/python3.8/site-packages/nvidia/cusolver/lib/:/auto/home/users/r/g/rgouvea/anaconda3/envs/env_tfmodnet/lib:/auto/home/users/r/g/rgouvea/anaconda3/envs/env_tfmodnet/lib/python3.8/site-packages/nvidia/cuda_runtime/lib/:/auto/home/users/r/g/rgouvea/anaconda3/envs/env_tfmodnet/lib/python3.8/site-packages/nvidia/cublas/lib/:/opt/sw/arch/easybuild/2020b/software/FFTW/3.3.8-gompic-2020b/lib:/opt/sw/arch/easybuild/2020b/software/OpenMPI/4.0.5-gcccuda-2020b/lib:/opt/sw/arch/easybuild/2020b/software/PMIx/3.1.5-GCCcore-10.2.0/lib:/opt/sw/arch/easybuild/2020b/software/libfabric/1.11.0-GCCcore-10.2.0/lib:/opt/sw/arch/easybuild/2020b/software/UCX/1.9.0-GCCcore-10.2.0-CUDA-11.1.1/lib:/opt/sw/arch/easybuild/2020b/software/GDRCopy/2.1-GCCcore-10.2.0-CUDA-11.1.1/lib:/opt/sw/arch/easybuild/2020b/software/Check/0.15.2-GCCcore-10.2.0/lib:/opt/sw/arch/easybuild/2020b/software/libevent/2.1.12-GCCcore-10.2.0/lib:/opt/sw/arch/easybuild/2020b/software/hwloc/2.2.0-GCCcore-10.2.0/lib:/opt/sw/arch/easybuild/2020b/software/libpciaccess/0.16-GCCcore-10.2.0/lib:/opt/sw/arch/easybuild/2020b/software/libxml2/2.9.10-GCCcore-10.2.0/lib:/opt/sw/arch/easybuild/2020b/software/XZ/5.2.5-GCCcore-10.2.0/lib:/opt/sw/arch/easybuild/2020b/software/numactl/2.0.13-GCCcore-10.2.0/lib:/opt/sw/arch/easybuild/2020b/software/CUDAcore/11.1.1/nvvm/lib64:/opt/sw/arch/easybuild/2020b/software/CUDAcore/11.1.1/extras/CUPTI/lib64:/opt/sw/arch/easybuild/2020b/software/CUDAcore/11.1.1/lib:/opt/sw/arch/easybuild/2020b/software/binutils/2.35-GCCcore-10.2.0/lib:/opt/sw/arch/easybuild/2020b/software/zlib/1.2.11-GCCcore-10.2.0/lib:/opt/sw/arch/easybuild/2020b/software/GCCcore/10.2.0/lib64:/home/ucl/modl/rgouvea/anaconda3/pkgs/cudatoolkit-11.2.2-hbe64b41_10/lib:/home/ucl/modl/rgouvea/anaconda3/envs/env_tfmodnet/lib/python3.8/site-packages/nvidia/cuda_nvcc:/home/ucl/modl/rgouvea/anaconda3/envs/env_tfmodnet/lib/python3.8/site-packages/nvidia/cuda_cupti/lib:/home/ucl/modl/rgouvea/anaconda3/envs/py3.8/lib/python3.8/site-packages/tensorrt:/home/ucl/modl/rgouvea/anaconda3/envs/env_tfmodnet/lib:/home/ucl/modl/rgouvea/anaconda3/envs/env_tfmodnet/lib/python3.8/site-packages/nvidia/cusolver/lib:/auto/home/users/r/g/rgouvea/anaconda3/envs/env_tfmodnet/lib:/auto/home/users/r/g/rgouvea/anaconda3/envs/env_tfmodnet/lib/python3.8/site-packages/nvidia/cuda_runtime/lib:/auto/home/users/r/g/rgouvea/anaconda3/envs/env_tfmodnet/lib/python3.8/site-packages/nvidia/cublas/lib::\n",
      "2024-09-19 21:35:58.241659: W tensorflow/stream_executor/cuda/cuda_driver.cc:263] failed call to cuInit: UNKNOWN ERROR (303)\n",
      "2024-09-19 21:35:58.241702: I tensorflow/stream_executor/cuda/cuda_diagnostics.cc:156] kernel driver does not appear to be running on this host (mbackf2.cism.ucl.ac.be): /proc/driver/nvidia/version does not exist\n",
      "2024-09-19 21:35:58.242143: I tensorflow/core/platform/cpu_feature_guard.cc:193] This TensorFlow binary is optimized with oneAPI Deep Neural Network Library (oneDNN) to use the following CPU instructions in performance-critical operations:  AVX2 AVX512F FMA\n",
      "To enable them in other operations, rebuild TensorFlow with the appropriate compiler flags.\n",
      "2024-09-19 21:35:59.440321: I tensorflow/core/platform/cpu_feature_guard.cc:193] This TensorFlow binary is optimized with oneAPI Deep Neural Network Library (oneDNN) to use the following CPU instructions in performance-critical operations:  AVX2 AVX512F FMA\n",
      "To enable them in other operations, rebuild TensorFlow with the appropriate compiler flags.\n",
      "2024-09-19 21:35:59.729342: E tensorflow/stream_executor/cuda/cuda_blas.cc:2981] Unable to register cuBLAS factory: Attempting to register factory for plugin cuBLAS when one has already been registered\n",
      "2024-09-19 21:36:01.875230: W tensorflow/stream_executor/platform/default/dso_loader.cc:64] Could not load dynamic library 'libcuda.so.1'; dlerror: libcuda.so.1: cannot open shared object file: No such file or directory; LD_LIBRARY_PATH: /home/ucl/modl/rgouvea/anaconda3/pkgs/cudatoolkit-11.2.2-hbe64b41_10/lib/:/home/ucl/modl/rgouvea/anaconda3/envs/env_tfmodnet/lib/python3.8/site-packages/nvidia/cuda_nvcc/:/home/ucl/modl/rgouvea/anaconda3/envs/env_tfmodnet/lib/python3.8/site-packages/nvidia/cuda_cupti/lib/:/home/ucl/modl/rgouvea/anaconda3/envs/py3.8/lib/python3.8/site-packages/tensorrt/:/home/ucl/modl/rgouvea/anaconda3/envs/env_tfmodnet/lib:/home/ucl/modl/rgouvea/anaconda3/envs/env_tfmodnet/lib/python3.8/site-packages/nvidia/cusolver/lib/:/auto/home/users/r/g/rgouvea/anaconda3/envs/env_tfmodnet/lib:/auto/home/users/r/g/rgouvea/anaconda3/envs/env_tfmodnet/lib/python3.8/site-packages/nvidia/cuda_runtime/lib/:/auto/home/users/r/g/rgouvea/anaconda3/envs/env_tfmodnet/lib/python3.8/site-packages/nvidia/cublas/lib/:/opt/sw/arch/easybuild/2020b/software/FFTW/3.3.8-gompic-2020b/lib:/opt/sw/arch/easybuild/2020b/software/OpenMPI/4.0.5-gcccuda-2020b/lib:/opt/sw/arch/easybuild/2020b/software/PMIx/3.1.5-GCCcore-10.2.0/lib:/opt/sw/arch/easybuild/2020b/software/libfabric/1.11.0-GCCcore-10.2.0/lib:/opt/sw/arch/easybuild/2020b/software/UCX/1.9.0-GCCcore-10.2.0-CUDA-11.1.1/lib:/opt/sw/arch/easybuild/2020b/software/GDRCopy/2.1-GCCcore-10.2.0-CUDA-11.1.1/lib:/opt/sw/arch/easybuild/2020b/software/Check/0.15.2-GCCcore-10.2.0/lib:/opt/sw/arch/easybuild/2020b/software/libevent/2.1.12-GCCcore-10.2.0/lib:/opt/sw/arch/easybuild/2020b/software/hwloc/2.2.0-GCCcore-10.2.0/lib:/opt/sw/arch/easybuild/2020b/software/libpciaccess/0.16-GCCcore-10.2.0/lib:/opt/sw/arch/easybuild/2020b/software/libxml2/2.9.10-GCCcore-10.2.0/lib:/opt/sw/arch/easybuild/2020b/software/XZ/5.2.5-GCCcore-10.2.0/lib:/opt/sw/arch/easybuild/2020b/software/numactl/2.0.13-GCCcore-10.2.0/lib:/opt/sw/arch/easybuild/2020b/software/CUDAcore/11.1.1/nvvm/lib64:/opt/sw/arch/easybuild/2020b/software/CUDAcore/11.1.1/extras/CUPTI/lib64:/opt/sw/arch/easybuild/2020b/software/CUDAcore/11.1.1/lib:/opt/sw/arch/easybuild/2020b/software/binutils/2.35-GCCcore-10.2.0/lib:/opt/sw/arch/easybuild/2020b/software/zlib/1.2.11-GCCcore-10.2.0/lib:/opt/sw/arch/easybuild/2020b/software/GCCcore/10.2.0/lib64:/home/ucl/modl/rgouvea/anaconda3/pkgs/cudatoolkit-11.2.2-hbe64b41_10/lib:/home/ucl/modl/rgouvea/anaconda3/envs/env_tfmodnet/lib/python3.8/site-packages/nvidia/cuda_nvcc:/home/ucl/modl/rgouvea/anaconda3/envs/env_tfmodnet/lib/python3.8/site-packages/nvidia/cuda_cupti/lib:/home/ucl/modl/rgouvea/anaconda3/envs/py3.8/lib/python3.8/site-packages/tensorrt:/home/ucl/modl/rgouvea/anaconda3/envs/env_tfmodnet/lib:/home/ucl/modl/rgouvea/anaconda3/envs/env_tfmodnet/lib/python3.8/site-packages/nvidia/cusolver/lib:/auto/home/users/r/g/rgouvea/anaconda3/envs/env_tfmodnet/lib:/auto/home/users/r/g/rgouvea/anaconda3/envs/env_tfmodnet/lib/python3.8/site-packages/nvidia/cuda_runtime/lib:/auto/home/users/r/g/rgouvea/anaconda3/envs/env_tfmodnet/lib/python3.8/site-packages/nvidia/cublas/lib::\n",
      "2024-09-19 21:36:01.875290: W tensorflow/stream_executor/cuda/cuda_driver.cc:263] failed call to cuInit: UNKNOWN ERROR (303)\n",
      "2024-09-19 21:36:01.875343: I tensorflow/stream_executor/cuda/cuda_diagnostics.cc:156] kernel driver does not appear to be running on this host (mbackf2.cism.ucl.ac.be): /proc/driver/nvidia/version does not exist\n",
      "2024-09-19 21:36:01.875725: I tensorflow/core/platform/cpu_feature_guard.cc:193] This TensorFlow binary is optimized with oneAPI Deep Neural Network Library (oneDNN) to use the following CPU instructions in performance-critical operations:  AVX2 AVX512F FMA\n",
      "To enable them in other operations, rebuild TensorFlow with the appropriate compiler flags.\n",
      "2024-09-19 21:36:02.881491: I tensorflow/core/platform/cpu_feature_guard.cc:193] This TensorFlow binary is optimized with oneAPI Deep Neural Network Library (oneDNN) to use the following CPU instructions in performance-critical operations:  AVX2 AVX512F FMA\n",
      "To enable them in other operations, rebuild TensorFlow with the appropriate compiler flags.\n",
      "2024-09-19 21:36:03.157475: E tensorflow/stream_executor/cuda/cuda_blas.cc:2981] Unable to register cuBLAS factory: Attempting to register factory for plugin cuBLAS when one has already been registered\n",
      "2024-09-19 21:36:05.974384: W tensorflow/stream_executor/platform/default/dso_loader.cc:64] Could not load dynamic library 'libcuda.so.1'; dlerror: libcuda.so.1: cannot open shared object file: No such file or directory; LD_LIBRARY_PATH: /home/ucl/modl/rgouvea/anaconda3/pkgs/cudatoolkit-11.2.2-hbe64b41_10/lib/:/home/ucl/modl/rgouvea/anaconda3/envs/env_tfmodnet/lib/python3.8/site-packages/nvidia/cuda_nvcc/:/home/ucl/modl/rgouvea/anaconda3/envs/env_tfmodnet/lib/python3.8/site-packages/nvidia/cuda_cupti/lib/:/home/ucl/modl/rgouvea/anaconda3/envs/py3.8/lib/python3.8/site-packages/tensorrt/:/home/ucl/modl/rgouvea/anaconda3/envs/env_tfmodnet/lib:/home/ucl/modl/rgouvea/anaconda3/envs/env_tfmodnet/lib/python3.8/site-packages/nvidia/cusolver/lib/:/auto/home/users/r/g/rgouvea/anaconda3/envs/env_tfmodnet/lib:/auto/home/users/r/g/rgouvea/anaconda3/envs/env_tfmodnet/lib/python3.8/site-packages/nvidia/cuda_runtime/lib/:/auto/home/users/r/g/rgouvea/anaconda3/envs/env_tfmodnet/lib/python3.8/site-packages/nvidia/cublas/lib/:/opt/sw/arch/easybuild/2020b/software/FFTW/3.3.8-gompic-2020b/lib:/opt/sw/arch/easybuild/2020b/software/OpenMPI/4.0.5-gcccuda-2020b/lib:/opt/sw/arch/easybuild/2020b/software/PMIx/3.1.5-GCCcore-10.2.0/lib:/opt/sw/arch/easybuild/2020b/software/libfabric/1.11.0-GCCcore-10.2.0/lib:/opt/sw/arch/easybuild/2020b/software/UCX/1.9.0-GCCcore-10.2.0-CUDA-11.1.1/lib:/opt/sw/arch/easybuild/2020b/software/GDRCopy/2.1-GCCcore-10.2.0-CUDA-11.1.1/lib:/opt/sw/arch/easybuild/2020b/software/Check/0.15.2-GCCcore-10.2.0/lib:/opt/sw/arch/easybuild/2020b/software/libevent/2.1.12-GCCcore-10.2.0/lib:/opt/sw/arch/easybuild/2020b/software/hwloc/2.2.0-GCCcore-10.2.0/lib:/opt/sw/arch/easybuild/2020b/software/libpciaccess/0.16-GCCcore-10.2.0/lib:/opt/sw/arch/easybuild/2020b/software/libxml2/2.9.10-GCCcore-10.2.0/lib:/opt/sw/arch/easybuild/2020b/software/XZ/5.2.5-GCCcore-10.2.0/lib:/opt/sw/arch/easybuild/2020b/software/numactl/2.0.13-GCCcore-10.2.0/lib:/opt/sw/arch/easybuild/2020b/software/CUDAcore/11.1.1/nvvm/lib64:/opt/sw/arch/easybuild/2020b/software/CUDAcore/11.1.1/extras/CUPTI/lib64:/opt/sw/arch/easybuild/2020b/software/CUDAcore/11.1.1/lib:/opt/sw/arch/easybuild/2020b/software/binutils/2.35-GCCcore-10.2.0/lib:/opt/sw/arch/easybuild/2020b/software/zlib/1.2.11-GCCcore-10.2.0/lib:/opt/sw/arch/easybuild/2020b/software/GCCcore/10.2.0/lib64:/home/ucl/modl/rgouvea/anaconda3/pkgs/cudatoolkit-11.2.2-hbe64b41_10/lib:/home/ucl/modl/rgouvea/anaconda3/envs/env_tfmodnet/lib/python3.8/site-packages/nvidia/cuda_nvcc:/home/ucl/modl/rgouvea/anaconda3/envs/env_tfmodnet/lib/python3.8/site-packages/nvidia/cuda_cupti/lib:/home/ucl/modl/rgouvea/anaconda3/envs/py3.8/lib/python3.8/site-packages/tensorrt:/home/ucl/modl/rgouvea/anaconda3/envs/env_tfmodnet/lib:/home/ucl/modl/rgouvea/anaconda3/envs/env_tfmodnet/lib/python3.8/site-packages/nvidia/cusolver/lib:/auto/home/users/r/g/rgouvea/anaconda3/envs/env_tfmodnet/lib:/auto/home/users/r/g/rgouvea/anaconda3/envs/env_tfmodnet/lib/python3.8/site-packages/nvidia/cuda_runtime/lib:/auto/home/users/r/g/rgouvea/anaconda3/envs/env_tfmodnet/lib/python3.8/site-packages/nvidia/cublas/lib::\n",
      "2024-09-19 21:36:05.974442: W tensorflow/stream_executor/cuda/cuda_driver.cc:263] failed call to cuInit: UNKNOWN ERROR (303)\n",
      "2024-09-19 21:36:05.974472: I tensorflow/stream_executor/cuda/cuda_diagnostics.cc:156] kernel driver does not appear to be running on this host (mbackf2.cism.ucl.ac.be): /proc/driver/nvidia/version does not exist\n",
      "2024-09-19 21:36:05.974784: I tensorflow/core/platform/cpu_feature_guard.cc:193] This TensorFlow binary is optimized with oneAPI Deep Neural Network Library (oneDNN) to use the following CPU instructions in performance-critical operations:  AVX2 AVX512F FMA\n",
      "To enable them in other operations, rebuild TensorFlow with the appropriate compiler flags.\n",
      "2024-09-19 21:36:06.816521: I tensorflow/core/platform/cpu_feature_guard.cc:193] This TensorFlow binary is optimized with oneAPI Deep Neural Network Library (oneDNN) to use the following CPU instructions in performance-critical operations:  AVX2 AVX512F FMA\n",
      "To enable them in other operations, rebuild TensorFlow with the appropriate compiler flags.\n",
      "2024-09-19 21:36:07.112139: E tensorflow/stream_executor/cuda/cuda_blas.cc:2981] Unable to register cuBLAS factory: Attempting to register factory for plugin cuBLAS when one has already been registered\n",
      "2024-09-19 21:36:09.468407: W tensorflow/stream_executor/platform/default/dso_loader.cc:64] Could not load dynamic library 'libcuda.so.1'; dlerror: libcuda.so.1: cannot open shared object file: No such file or directory; LD_LIBRARY_PATH: /home/ucl/modl/rgouvea/anaconda3/pkgs/cudatoolkit-11.2.2-hbe64b41_10/lib/:/home/ucl/modl/rgouvea/anaconda3/envs/env_tfmodnet/lib/python3.8/site-packages/nvidia/cuda_nvcc/:/home/ucl/modl/rgouvea/anaconda3/envs/env_tfmodnet/lib/python3.8/site-packages/nvidia/cuda_cupti/lib/:/home/ucl/modl/rgouvea/anaconda3/envs/py3.8/lib/python3.8/site-packages/tensorrt/:/home/ucl/modl/rgouvea/anaconda3/envs/env_tfmodnet/lib:/home/ucl/modl/rgouvea/anaconda3/envs/env_tfmodnet/lib/python3.8/site-packages/nvidia/cusolver/lib/:/auto/home/users/r/g/rgouvea/anaconda3/envs/env_tfmodnet/lib:/auto/home/users/r/g/rgouvea/anaconda3/envs/env_tfmodnet/lib/python3.8/site-packages/nvidia/cuda_runtime/lib/:/auto/home/users/r/g/rgouvea/anaconda3/envs/env_tfmodnet/lib/python3.8/site-packages/nvidia/cublas/lib/:/opt/sw/arch/easybuild/2020b/software/FFTW/3.3.8-gompic-2020b/lib:/opt/sw/arch/easybuild/2020b/software/OpenMPI/4.0.5-gcccuda-2020b/lib:/opt/sw/arch/easybuild/2020b/software/PMIx/3.1.5-GCCcore-10.2.0/lib:/opt/sw/arch/easybuild/2020b/software/libfabric/1.11.0-GCCcore-10.2.0/lib:/opt/sw/arch/easybuild/2020b/software/UCX/1.9.0-GCCcore-10.2.0-CUDA-11.1.1/lib:/opt/sw/arch/easybuild/2020b/software/GDRCopy/2.1-GCCcore-10.2.0-CUDA-11.1.1/lib:/opt/sw/arch/easybuild/2020b/software/Check/0.15.2-GCCcore-10.2.0/lib:/opt/sw/arch/easybuild/2020b/software/libevent/2.1.12-GCCcore-10.2.0/lib:/opt/sw/arch/easybuild/2020b/software/hwloc/2.2.0-GCCcore-10.2.0/lib:/opt/sw/arch/easybuild/2020b/software/libpciaccess/0.16-GCCcore-10.2.0/lib:/opt/sw/arch/easybuild/2020b/software/libxml2/2.9.10-GCCcore-10.2.0/lib:/opt/sw/arch/easybuild/2020b/software/XZ/5.2.5-GCCcore-10.2.0/lib:/opt/sw/arch/easybuild/2020b/software/numactl/2.0.13-GCCcore-10.2.0/lib:/opt/sw/arch/easybuild/2020b/software/CUDAcore/11.1.1/nvvm/lib64:/opt/sw/arch/easybuild/2020b/software/CUDAcore/11.1.1/extras/CUPTI/lib64:/opt/sw/arch/easybuild/2020b/software/CUDAcore/11.1.1/lib:/opt/sw/arch/easybuild/2020b/software/binutils/2.35-GCCcore-10.2.0/lib:/opt/sw/arch/easybuild/2020b/software/zlib/1.2.11-GCCcore-10.2.0/lib:/opt/sw/arch/easybuild/2020b/software/GCCcore/10.2.0/lib64:/home/ucl/modl/rgouvea/anaconda3/pkgs/cudatoolkit-11.2.2-hbe64b41_10/lib:/home/ucl/modl/rgouvea/anaconda3/envs/env_tfmodnet/lib/python3.8/site-packages/nvidia/cuda_nvcc:/home/ucl/modl/rgouvea/anaconda3/envs/env_tfmodnet/lib/python3.8/site-packages/nvidia/cuda_cupti/lib:/home/ucl/modl/rgouvea/anaconda3/envs/py3.8/lib/python3.8/site-packages/tensorrt:/home/ucl/modl/rgouvea/anaconda3/envs/env_tfmodnet/lib:/home/ucl/modl/rgouvea/anaconda3/envs/env_tfmodnet/lib/python3.8/site-packages/nvidia/cusolver/lib:/auto/home/users/r/g/rgouvea/anaconda3/envs/env_tfmodnet/lib:/auto/home/users/r/g/rgouvea/anaconda3/envs/env_tfmodnet/lib/python3.8/site-packages/nvidia/cuda_runtime/lib:/auto/home/users/r/g/rgouvea/anaconda3/envs/env_tfmodnet/lib/python3.8/site-packages/nvidia/cublas/lib::\n",
      "2024-09-19 21:36:09.468467: W tensorflow/stream_executor/cuda/cuda_driver.cc:263] failed call to cuInit: UNKNOWN ERROR (303)\n",
      "2024-09-19 21:36:09.468517: I tensorflow/stream_executor/cuda/cuda_diagnostics.cc:156] kernel driver does not appear to be running on this host (mbackf2.cism.ucl.ac.be): /proc/driver/nvidia/version does not exist\n",
      "2024-09-19 21:36:09.469003: I tensorflow/core/platform/cpu_feature_guard.cc:193] This TensorFlow binary is optimized with oneAPI Deep Neural Network Library (oneDNN) to use the following CPU instructions in performance-critical operations:  AVX2 AVX512F FMA\n",
      "To enable them in other operations, rebuild TensorFlow with the appropriate compiler flags.\n",
      "2024-09-19 21:36:14.221326: W tensorflow/stream_executor/platform/default/dso_loader.cc:64] Could not load dynamic library 'libcuda.so.1'; dlerror: libcuda.so.1: cannot open shared object file: No such file or directory; LD_LIBRARY_PATH: /home/ucl/modl/rgouvea/anaconda3/pkgs/cudatoolkit-11.2.2-hbe64b41_10/lib/:/home/ucl/modl/rgouvea/anaconda3/envs/env_tfmodnet/lib/python3.8/site-packages/nvidia/cuda_nvcc/:/home/ucl/modl/rgouvea/anaconda3/envs/env_tfmodnet/lib/python3.8/site-packages/nvidia/cuda_cupti/lib/:/home/ucl/modl/rgouvea/anaconda3/envs/py3.8/lib/python3.8/site-packages/tensorrt/:/home/ucl/modl/rgouvea/anaconda3/envs/env_tfmodnet/lib:/home/ucl/modl/rgouvea/anaconda3/envs/env_tfmodnet/lib/python3.8/site-packages/nvidia/cusolver/lib/:/auto/home/users/r/g/rgouvea/anaconda3/envs/env_tfmodnet/lib:/auto/home/users/r/g/rgouvea/anaconda3/envs/env_tfmodnet/lib/python3.8/site-packages/nvidia/cuda_runtime/lib/:/auto/home/users/r/g/rgouvea/anaconda3/envs/env_tfmodnet/lib/python3.8/site-packages/nvidia/cublas/lib/:/opt/sw/arch/easybuild/2020b/software/FFTW/3.3.8-gompic-2020b/lib:/opt/sw/arch/easybuild/2020b/software/OpenMPI/4.0.5-gcccuda-2020b/lib:/opt/sw/arch/easybuild/2020b/software/PMIx/3.1.5-GCCcore-10.2.0/lib:/opt/sw/arch/easybuild/2020b/software/libfabric/1.11.0-GCCcore-10.2.0/lib:/opt/sw/arch/easybuild/2020b/software/UCX/1.9.0-GCCcore-10.2.0-CUDA-11.1.1/lib:/opt/sw/arch/easybuild/2020b/software/GDRCopy/2.1-GCCcore-10.2.0-CUDA-11.1.1/lib:/opt/sw/arch/easybuild/2020b/software/Check/0.15.2-GCCcore-10.2.0/lib:/opt/sw/arch/easybuild/2020b/software/libevent/2.1.12-GCCcore-10.2.0/lib:/opt/sw/arch/easybuild/2020b/software/hwloc/2.2.0-GCCcore-10.2.0/lib:/opt/sw/arch/easybuild/2020b/software/libpciaccess/0.16-GCCcore-10.2.0/lib:/opt/sw/arch/easybuild/2020b/software/libxml2/2.9.10-GCCcore-10.2.0/lib:/opt/sw/arch/easybuild/2020b/software/XZ/5.2.5-GCCcore-10.2.0/lib:/opt/sw/arch/easybuild/2020b/software/numactl/2.0.13-GCCcore-10.2.0/lib:/opt/sw/arch/easybuild/2020b/software/CUDAcore/11.1.1/nvvm/lib64:/opt/sw/arch/easybuild/2020b/software/CUDAcore/11.1.1/extras/CUPTI/lib64:/opt/sw/arch/easybuild/2020b/software/CUDAcore/11.1.1/lib:/opt/sw/arch/easybuild/2020b/software/binutils/2.35-GCCcore-10.2.0/lib:/opt/sw/arch/easybuild/2020b/software/zlib/1.2.11-GCCcore-10.2.0/lib:/opt/sw/arch/easybuild/2020b/software/GCCcore/10.2.0/lib64:/home/ucl/modl/rgouvea/anaconda3/pkgs/cudatoolkit-11.2.2-hbe64b41_10/lib:/home/ucl/modl/rgouvea/anaconda3/envs/env_tfmodnet/lib/python3.8/site-packages/nvidia/cuda_nvcc:/home/ucl/modl/rgouvea/anaconda3/envs/env_tfmodnet/lib/python3.8/site-packages/nvidia/cuda_cupti/lib:/home/ucl/modl/rgouvea/anaconda3/envs/py3.8/lib/python3.8/site-packages/tensorrt:/home/ucl/modl/rgouvea/anaconda3/envs/env_tfmodnet/lib:/home/ucl/modl/rgouvea/anaconda3/envs/env_tfmodnet/lib/python3.8/site-packages/nvidia/cusolver/lib:/auto/home/users/r/g/rgouvea/anaconda3/envs/env_tfmodnet/lib:/auto/home/users/r/g/rgouvea/anaconda3/envs/env_tfmodnet/lib/python3.8/site-packages/nvidia/cuda_runtime/lib:/auto/home/users/r/g/rgouvea/anaconda3/envs/env_tfmodnet/lib/python3.8/site-packages/nvidia/cublas/lib::\n",
      "2024-09-19 21:36:14.221382: W tensorflow/stream_executor/cuda/cuda_driver.cc:263] failed call to cuInit: UNKNOWN ERROR (303)\n",
      "2024-09-19 21:36:14.221413: I tensorflow/stream_executor/cuda/cuda_diagnostics.cc:156] kernel driver does not appear to be running on this host (mbackf2.cism.ucl.ac.be): /proc/driver/nvidia/version does not exist\n",
      "2024-09-19 21:36:14.221774: I tensorflow/core/platform/cpu_feature_guard.cc:193] This TensorFlow binary is optimized with oneAPI Deep Neural Network Library (oneDNN) to use the following CPU instructions in performance-critical operations:  AVX2 AVX512F FMA\n",
      "To enable them in other operations, rebuild TensorFlow with the appropriate compiler flags.\n",
      "2024-09-19 21:36:17.941948: W tensorflow/stream_executor/platform/default/dso_loader.cc:64] Could not load dynamic library 'libcuda.so.1'; dlerror: libcuda.so.1: cannot open shared object file: No such file or directory; LD_LIBRARY_PATH: /home/ucl/modl/rgouvea/anaconda3/pkgs/cudatoolkit-11.2.2-hbe64b41_10/lib/:/home/ucl/modl/rgouvea/anaconda3/envs/env_tfmodnet/lib/python3.8/site-packages/nvidia/cuda_nvcc/:/home/ucl/modl/rgouvea/anaconda3/envs/env_tfmodnet/lib/python3.8/site-packages/nvidia/cuda_cupti/lib/:/home/ucl/modl/rgouvea/anaconda3/envs/py3.8/lib/python3.8/site-packages/tensorrt/:/home/ucl/modl/rgouvea/anaconda3/envs/env_tfmodnet/lib:/home/ucl/modl/rgouvea/anaconda3/envs/env_tfmodnet/lib/python3.8/site-packages/nvidia/cusolver/lib/:/auto/home/users/r/g/rgouvea/anaconda3/envs/env_tfmodnet/lib:/auto/home/users/r/g/rgouvea/anaconda3/envs/env_tfmodnet/lib/python3.8/site-packages/nvidia/cuda_runtime/lib/:/auto/home/users/r/g/rgouvea/anaconda3/envs/env_tfmodnet/lib/python3.8/site-packages/nvidia/cublas/lib/:/opt/sw/arch/easybuild/2020b/software/FFTW/3.3.8-gompic-2020b/lib:/opt/sw/arch/easybuild/2020b/software/OpenMPI/4.0.5-gcccuda-2020b/lib:/opt/sw/arch/easybuild/2020b/software/PMIx/3.1.5-GCCcore-10.2.0/lib:/opt/sw/arch/easybuild/2020b/software/libfabric/1.11.0-GCCcore-10.2.0/lib:/opt/sw/arch/easybuild/2020b/software/UCX/1.9.0-GCCcore-10.2.0-CUDA-11.1.1/lib:/opt/sw/arch/easybuild/2020b/software/GDRCopy/2.1-GCCcore-10.2.0-CUDA-11.1.1/lib:/opt/sw/arch/easybuild/2020b/software/Check/0.15.2-GCCcore-10.2.0/lib:/opt/sw/arch/easybuild/2020b/software/libevent/2.1.12-GCCcore-10.2.0/lib:/opt/sw/arch/easybuild/2020b/software/hwloc/2.2.0-GCCcore-10.2.0/lib:/opt/sw/arch/easybuild/2020b/software/libpciaccess/0.16-GCCcore-10.2.0/lib:/opt/sw/arch/easybuild/2020b/software/libxml2/2.9.10-GCCcore-10.2.0/lib:/opt/sw/arch/easybuild/2020b/software/XZ/5.2.5-GCCcore-10.2.0/lib:/opt/sw/arch/easybuild/2020b/software/numactl/2.0.13-GCCcore-10.2.0/lib:/opt/sw/arch/easybuild/2020b/software/CUDAcore/11.1.1/nvvm/lib64:/opt/sw/arch/easybuild/2020b/software/CUDAcore/11.1.1/extras/CUPTI/lib64:/opt/sw/arch/easybuild/2020b/software/CUDAcore/11.1.1/lib:/opt/sw/arch/easybuild/2020b/software/binutils/2.35-GCCcore-10.2.0/lib:/opt/sw/arch/easybuild/2020b/software/zlib/1.2.11-GCCcore-10.2.0/lib:/opt/sw/arch/easybuild/2020b/software/GCCcore/10.2.0/lib64:/home/ucl/modl/rgouvea/anaconda3/pkgs/cudatoolkit-11.2.2-hbe64b41_10/lib:/home/ucl/modl/rgouvea/anaconda3/envs/env_tfmodnet/lib/python3.8/site-packages/nvidia/cuda_nvcc:/home/ucl/modl/rgouvea/anaconda3/envs/env_tfmodnet/lib/python3.8/site-packages/nvidia/cuda_cupti/lib:/home/ucl/modl/rgouvea/anaconda3/envs/py3.8/lib/python3.8/site-packages/tensorrt:/home/ucl/modl/rgouvea/anaconda3/envs/env_tfmodnet/lib:/home/ucl/modl/rgouvea/anaconda3/envs/env_tfmodnet/lib/python3.8/site-packages/nvidia/cusolver/lib:/auto/home/users/r/g/rgouvea/anaconda3/envs/env_tfmodnet/lib:/auto/home/users/r/g/rgouvea/anaconda3/envs/env_tfmodnet/lib/python3.8/site-packages/nvidia/cuda_runtime/lib:/auto/home/users/r/g/rgouvea/anaconda3/envs/env_tfmodnet/lib/python3.8/site-packages/nvidia/cublas/lib::\n",
      "2024-09-19 21:36:17.942011: W tensorflow/stream_executor/cuda/cuda_driver.cc:263] failed call to cuInit: UNKNOWN ERROR (303)\n",
      "2024-09-19 21:36:17.942049: I tensorflow/stream_executor/cuda/cuda_diagnostics.cc:156] kernel driver does not appear to be running on this host (mbackf2.cism.ucl.ac.be): /proc/driver/nvidia/version does not exist\n",
      "2024-09-19 21:36:17.942534: I tensorflow/core/platform/cpu_feature_guard.cc:193] This TensorFlow binary is optimized with oneAPI Deep Neural Network Library (oneDNN) to use the following CPU instructions in performance-critical operations:  AVX2 AVX512F FMA\n",
      "To enable them in other operations, rebuild TensorFlow with the appropriate compiler flags.\n"
     ]
    },
    {
     "name": "stdout",
     "output_type": "stream",
     "text": [
      "11/11 [==============================] - 0s 2ms/step\n"
     ]
    },
    {
     "name": "stderr",
     "output_type": "stream",
     "text": [
      " 10%|█         | 1/10 [00:42<06:22, 42.54s/it]2024-09-19 21:36:22.937425: W tensorflow/stream_executor/platform/default/dso_loader.cc:64] Could not load dynamic library 'libcuda.so.1'; dlerror: libcuda.so.1: cannot open shared object file: No such file or directory; LD_LIBRARY_PATH: /home/ucl/modl/rgouvea/anaconda3/pkgs/cudatoolkit-11.2.2-hbe64b41_10/lib/:/home/ucl/modl/rgouvea/anaconda3/envs/env_tfmodnet/lib/python3.8/site-packages/nvidia/cuda_nvcc/:/home/ucl/modl/rgouvea/anaconda3/envs/env_tfmodnet/lib/python3.8/site-packages/nvidia/cuda_cupti/lib/:/home/ucl/modl/rgouvea/anaconda3/envs/py3.8/lib/python3.8/site-packages/tensorrt/:/home/ucl/modl/rgouvea/anaconda3/envs/env_tfmodnet/lib:/home/ucl/modl/rgouvea/anaconda3/envs/env_tfmodnet/lib/python3.8/site-packages/nvidia/cusolver/lib/:/auto/home/users/r/g/rgouvea/anaconda3/envs/env_tfmodnet/lib:/auto/home/users/r/g/rgouvea/anaconda3/envs/env_tfmodnet/lib/python3.8/site-packages/nvidia/cuda_runtime/lib/:/auto/home/users/r/g/rgouvea/anaconda3/envs/env_tfmodnet/lib/python3.8/site-packages/nvidia/cublas/lib/:/opt/sw/arch/easybuild/2020b/software/FFTW/3.3.8-gompic-2020b/lib:/opt/sw/arch/easybuild/2020b/software/OpenMPI/4.0.5-gcccuda-2020b/lib:/opt/sw/arch/easybuild/2020b/software/PMIx/3.1.5-GCCcore-10.2.0/lib:/opt/sw/arch/easybuild/2020b/software/libfabric/1.11.0-GCCcore-10.2.0/lib:/opt/sw/arch/easybuild/2020b/software/UCX/1.9.0-GCCcore-10.2.0-CUDA-11.1.1/lib:/opt/sw/arch/easybuild/2020b/software/GDRCopy/2.1-GCCcore-10.2.0-CUDA-11.1.1/lib:/opt/sw/arch/easybuild/2020b/software/Check/0.15.2-GCCcore-10.2.0/lib:/opt/sw/arch/easybuild/2020b/software/libevent/2.1.12-GCCcore-10.2.0/lib:/opt/sw/arch/easybuild/2020b/software/hwloc/2.2.0-GCCcore-10.2.0/lib:/opt/sw/arch/easybuild/2020b/software/libpciaccess/0.16-GCCcore-10.2.0/lib:/opt/sw/arch/easybuild/2020b/software/libxml2/2.9.10-GCCcore-10.2.0/lib:/opt/sw/arch/easybuild/2020b/software/XZ/5.2.5-GCCcore-10.2.0/lib:/opt/sw/arch/easybuild/2020b/software/numactl/2.0.13-GCCcore-10.2.0/lib:/opt/sw/arch/easybuild/2020b/software/CUDAcore/11.1.1/nvvm/lib64:/opt/sw/arch/easybuild/2020b/software/CUDAcore/11.1.1/extras/CUPTI/lib64:/opt/sw/arch/easybuild/2020b/software/CUDAcore/11.1.1/lib:/opt/sw/arch/easybuild/2020b/software/binutils/2.35-GCCcore-10.2.0/lib:/opt/sw/arch/easybuild/2020b/software/zlib/1.2.11-GCCcore-10.2.0/lib:/opt/sw/arch/easybuild/2020b/software/GCCcore/10.2.0/lib64:/home/ucl/modl/rgouvea/anaconda3/pkgs/cudatoolkit-11.2.2-hbe64b41_10/lib:/home/ucl/modl/rgouvea/anaconda3/envs/env_tfmodnet/lib/python3.8/site-packages/nvidia/cuda_nvcc:/home/ucl/modl/rgouvea/anaconda3/envs/env_tfmodnet/lib/python3.8/site-packages/nvidia/cuda_cupti/lib:/home/ucl/modl/rgouvea/anaconda3/envs/py3.8/lib/python3.8/site-packages/tensorrt:/home/ucl/modl/rgouvea/anaconda3/envs/env_tfmodnet/lib:/home/ucl/modl/rgouvea/anaconda3/envs/env_tfmodnet/lib/python3.8/site-packages/nvidia/cusolver/lib:/auto/home/users/r/g/rgouvea/anaconda3/envs/env_tfmodnet/lib:/auto/home/users/r/g/rgouvea/anaconda3/envs/env_tfmodnet/lib/python3.8/site-packages/nvidia/cuda_runtime/lib:/auto/home/users/r/g/rgouvea/anaconda3/envs/env_tfmodnet/lib/python3.8/site-packages/nvidia/cublas/lib::\n",
      "2024-09-19 21:36:22.937480: W tensorflow/stream_executor/cuda/cuda_driver.cc:263] failed call to cuInit: UNKNOWN ERROR (303)\n",
      "2024-09-19 21:36:22.937517: I tensorflow/stream_executor/cuda/cuda_diagnostics.cc:156] kernel driver does not appear to be running on this host (mbackf2.cism.ucl.ac.be): /proc/driver/nvidia/version does not exist\n",
      "2024-09-19 21:36:22.938051: I tensorflow/core/platform/cpu_feature_guard.cc:193] This TensorFlow binary is optimized with oneAPI Deep Neural Network Library (oneDNN) to use the following CPU instructions in performance-critical operations:  AVX2 AVX512F FMA\n",
      "To enable them in other operations, rebuild TensorFlow with the appropriate compiler flags.\n",
      " 20%|██        | 2/10 [01:04<04:02, 30.37s/it]"
     ]
    },
    {
     "name": "stdout",
     "output_type": "stream",
     "text": [
      "11/11 [==============================] - 0s 1ms/step\n",
      "11/11 [==============================] - 0s 2ms/step\n"
     ]
    },
    {
     "name": "stderr",
     "output_type": "stream",
     "text": [
      " 40%|████      | 4/10 [01:14<01:26, 14.47s/it]"
     ]
    },
    {
     "name": "stdout",
     "output_type": "stream",
     "text": [
      "11/11 [==============================] - 0s 2ms/step\n"
     ]
    },
    {
     "name": "stderr",
     "output_type": "stream",
     "text": [
      " 50%|█████     | 5/10 [01:15<00:52, 10.45s/it]"
     ]
    },
    {
     "name": "stdout",
     "output_type": "stream",
     "text": [
      "11/11 [==============================] - 0s 2ms/step\n"
     ]
    },
    {
     "name": "stderr",
     "output_type": "stream",
     "text": [
      " 60%|██████    | 6/10 [01:27<00:42, 10.66s/it]"
     ]
    },
    {
     "name": "stdout",
     "output_type": "stream",
     "text": [
      "11/11 [==============================] - 0s 1ms/step\n"
     ]
    },
    {
     "name": "stderr",
     "output_type": "stream",
     "text": [
      " 70%|███████   | 7/10 [01:28<00:23,  7.91s/it]"
     ]
    },
    {
     "name": "stdout",
     "output_type": "stream",
     "text": [
      "11/11 [==============================] - 0s 1ms/step\n"
     ]
    },
    {
     "name": "stderr",
     "output_type": "stream",
     "text": [
      " 80%|████████  | 8/10 [01:32<00:13,  6.60s/it]"
     ]
    },
    {
     "name": "stdout",
     "output_type": "stream",
     "text": [
      "11/11 [==============================] - 0s 1ms/step\n"
     ]
    },
    {
     "name": "stderr",
     "output_type": "stream",
     "text": [
      " 90%|█████████ | 9/10 [01:35<00:05,  5.60s/it]"
     ]
    },
    {
     "name": "stdout",
     "output_type": "stream",
     "text": [
      "11/11 [==============================] - 0s 1ms/step\n"
     ]
    },
    {
     "name": "stderr",
     "output_type": "stream",
     "text": [
      "100%|██████████| 10/10 [02:04<00:00, 12.43s/it]"
     ]
    },
    {
     "name": "stdout",
     "output_type": "stream",
     "text": [
      "11/11 [==============================] - 0s 1ms/step\n",
      "2024-09-19 21:37:43,794 - modnet - INFO - Loss per individual: ind 0: 0.063 \tind 1: 0.071 \tind 2: 0.067 \tind 3: 0.067 \tind 4: 0.074 \tind 5: 0.074 \tind 6: 0.062 \tind 7: 0.064 \tind 8: 0.082 \tind 9: 0.075 \t\n",
      "2024-09-19 21:37:43,799 - modnet - INFO - Generation number 3\n"
     ]
    },
    {
     "name": "stderr",
     "output_type": "stream",
     "text": [
      "\n",
      "  0%|          | 0/10 [00:00<?, ?it/s]2024-09-19 21:37:47.656544: I tensorflow/core/platform/cpu_feature_guard.cc:193] This TensorFlow binary is optimized with oneAPI Deep Neural Network Library (oneDNN) to use the following CPU instructions in performance-critical operations:  AVX2 AVX512F FMA\n",
      "To enable them in other operations, rebuild TensorFlow with the appropriate compiler flags.\n",
      "2024-09-19 21:37:47.860158: E tensorflow/stream_executor/cuda/cuda_blas.cc:2981] Unable to register cuBLAS factory: Attempting to register factory for plugin cuBLAS when one has already been registered\n",
      "2024-09-19 21:37:50.030030: I tensorflow/core/platform/cpu_feature_guard.cc:193] This TensorFlow binary is optimized with oneAPI Deep Neural Network Library (oneDNN) to use the following CPU instructions in performance-critical operations:  AVX2 AVX512F FMA\n",
      "To enable them in other operations, rebuild TensorFlow with the appropriate compiler flags.\n",
      "2024-09-19 21:37:50.235485: E tensorflow/stream_executor/cuda/cuda_blas.cc:2981] Unable to register cuBLAS factory: Attempting to register factory for plugin cuBLAS when one has already been registered\n",
      "2024-09-19 21:37:52.553796: I tensorflow/core/platform/cpu_feature_guard.cc:193] This TensorFlow binary is optimized with oneAPI Deep Neural Network Library (oneDNN) to use the following CPU instructions in performance-critical operations:  AVX2 AVX512F FMA\n",
      "To enable them in other operations, rebuild TensorFlow with the appropriate compiler flags.\n",
      "2024-09-19 21:37:52.746378: E tensorflow/stream_executor/cuda/cuda_blas.cc:2981] Unable to register cuBLAS factory: Attempting to register factory for plugin cuBLAS when one has already been registered\n",
      "2024-09-19 21:37:55.001617: I tensorflow/core/platform/cpu_feature_guard.cc:193] This TensorFlow binary is optimized with oneAPI Deep Neural Network Library (oneDNN) to use the following CPU instructions in performance-critical operations:  AVX2 AVX512F FMA\n",
      "To enable them in other operations, rebuild TensorFlow with the appropriate compiler flags.\n",
      "2024-09-19 21:37:55.190281: E tensorflow/stream_executor/cuda/cuda_blas.cc:2981] Unable to register cuBLAS factory: Attempting to register factory for plugin cuBLAS when one has already been registered\n",
      "2024-09-19 21:37:56.805792: W tensorflow/stream_executor/platform/default/dso_loader.cc:64] Could not load dynamic library 'libcuda.so.1'; dlerror: libcuda.so.1: cannot open shared object file: No such file or directory; LD_LIBRARY_PATH: /home/ucl/modl/rgouvea/anaconda3/pkgs/cudatoolkit-11.2.2-hbe64b41_10/lib/:/home/ucl/modl/rgouvea/anaconda3/envs/env_tfmodnet/lib/python3.8/site-packages/nvidia/cuda_nvcc/:/home/ucl/modl/rgouvea/anaconda3/envs/env_tfmodnet/lib/python3.8/site-packages/nvidia/cuda_cupti/lib/:/home/ucl/modl/rgouvea/anaconda3/envs/py3.8/lib/python3.8/site-packages/tensorrt/:/home/ucl/modl/rgouvea/anaconda3/envs/env_tfmodnet/lib:/home/ucl/modl/rgouvea/anaconda3/envs/env_tfmodnet/lib/python3.8/site-packages/nvidia/cusolver/lib/:/auto/home/users/r/g/rgouvea/anaconda3/envs/env_tfmodnet/lib:/auto/home/users/r/g/rgouvea/anaconda3/envs/env_tfmodnet/lib/python3.8/site-packages/nvidia/cuda_runtime/lib/:/auto/home/users/r/g/rgouvea/anaconda3/envs/env_tfmodnet/lib/python3.8/site-packages/nvidia/cublas/lib/:/opt/sw/arch/easybuild/2020b/software/FFTW/3.3.8-gompic-2020b/lib:/opt/sw/arch/easybuild/2020b/software/OpenMPI/4.0.5-gcccuda-2020b/lib:/opt/sw/arch/easybuild/2020b/software/PMIx/3.1.5-GCCcore-10.2.0/lib:/opt/sw/arch/easybuild/2020b/software/libfabric/1.11.0-GCCcore-10.2.0/lib:/opt/sw/arch/easybuild/2020b/software/UCX/1.9.0-GCCcore-10.2.0-CUDA-11.1.1/lib:/opt/sw/arch/easybuild/2020b/software/GDRCopy/2.1-GCCcore-10.2.0-CUDA-11.1.1/lib:/opt/sw/arch/easybuild/2020b/software/Check/0.15.2-GCCcore-10.2.0/lib:/opt/sw/arch/easybuild/2020b/software/libevent/2.1.12-GCCcore-10.2.0/lib:/opt/sw/arch/easybuild/2020b/software/hwloc/2.2.0-GCCcore-10.2.0/lib:/opt/sw/arch/easybuild/2020b/software/libpciaccess/0.16-GCCcore-10.2.0/lib:/opt/sw/arch/easybuild/2020b/software/libxml2/2.9.10-GCCcore-10.2.0/lib:/opt/sw/arch/easybuild/2020b/software/XZ/5.2.5-GCCcore-10.2.0/lib:/opt/sw/arch/easybuild/2020b/software/numactl/2.0.13-GCCcore-10.2.0/lib:/opt/sw/arch/easybuild/2020b/software/CUDAcore/11.1.1/nvvm/lib64:/opt/sw/arch/easybuild/2020b/software/CUDAcore/11.1.1/extras/CUPTI/lib64:/opt/sw/arch/easybuild/2020b/software/CUDAcore/11.1.1/lib:/opt/sw/arch/easybuild/2020b/software/binutils/2.35-GCCcore-10.2.0/lib:/opt/sw/arch/easybuild/2020b/software/zlib/1.2.11-GCCcore-10.2.0/lib:/opt/sw/arch/easybuild/2020b/software/GCCcore/10.2.0/lib64:/home/ucl/modl/rgouvea/anaconda3/pkgs/cudatoolkit-11.2.2-hbe64b41_10/lib:/home/ucl/modl/rgouvea/anaconda3/envs/env_tfmodnet/lib/python3.8/site-packages/nvidia/cuda_nvcc:/home/ucl/modl/rgouvea/anaconda3/envs/env_tfmodnet/lib/python3.8/site-packages/nvidia/cuda_cupti/lib:/home/ucl/modl/rgouvea/anaconda3/envs/py3.8/lib/python3.8/site-packages/tensorrt:/home/ucl/modl/rgouvea/anaconda3/envs/env_tfmodnet/lib:/home/ucl/modl/rgouvea/anaconda3/envs/env_tfmodnet/lib/python3.8/site-packages/nvidia/cusolver/lib:/auto/home/users/r/g/rgouvea/anaconda3/envs/env_tfmodnet/lib:/auto/home/users/r/g/rgouvea/anaconda3/envs/env_tfmodnet/lib/python3.8/site-packages/nvidia/cuda_runtime/lib:/auto/home/users/r/g/rgouvea/anaconda3/envs/env_tfmodnet/lib/python3.8/site-packages/nvidia/cublas/lib::\n",
      "2024-09-19 21:37:56.805835: W tensorflow/stream_executor/cuda/cuda_driver.cc:263] failed call to cuInit: UNKNOWN ERROR (303)\n",
      "2024-09-19 21:37:56.805858: I tensorflow/stream_executor/cuda/cuda_diagnostics.cc:156] kernel driver does not appear to be running on this host (mbackf2.cism.ucl.ac.be): /proc/driver/nvidia/version does not exist\n",
      "2024-09-19 21:37:56.806092: I tensorflow/core/platform/cpu_feature_guard.cc:193] This TensorFlow binary is optimized with oneAPI Deep Neural Network Library (oneDNN) to use the following CPU instructions in performance-critical operations:  AVX2 AVX512F FMA\n",
      "To enable them in other operations, rebuild TensorFlow with the appropriate compiler flags.\n",
      "2024-09-19 21:37:57.373827: I tensorflow/core/platform/cpu_feature_guard.cc:193] This TensorFlow binary is optimized with oneAPI Deep Neural Network Library (oneDNN) to use the following CPU instructions in performance-critical operations:  AVX2 AVX512F FMA\n",
      "To enable them in other operations, rebuild TensorFlow with the appropriate compiler flags.\n",
      "2024-09-19 21:37:57.561800: E tensorflow/stream_executor/cuda/cuda_blas.cc:2981] Unable to register cuBLAS factory: Attempting to register factory for plugin cuBLAS when one has already been registered\n",
      "2024-09-19 21:37:59.132170: W tensorflow/stream_executor/platform/default/dso_loader.cc:64] Could not load dynamic library 'libcuda.so.1'; dlerror: libcuda.so.1: cannot open shared object file: No such file or directory; LD_LIBRARY_PATH: /home/ucl/modl/rgouvea/anaconda3/pkgs/cudatoolkit-11.2.2-hbe64b41_10/lib/:/home/ucl/modl/rgouvea/anaconda3/envs/env_tfmodnet/lib/python3.8/site-packages/nvidia/cuda_nvcc/:/home/ucl/modl/rgouvea/anaconda3/envs/env_tfmodnet/lib/python3.8/site-packages/nvidia/cuda_cupti/lib/:/home/ucl/modl/rgouvea/anaconda3/envs/py3.8/lib/python3.8/site-packages/tensorrt/:/home/ucl/modl/rgouvea/anaconda3/envs/env_tfmodnet/lib:/home/ucl/modl/rgouvea/anaconda3/envs/env_tfmodnet/lib/python3.8/site-packages/nvidia/cusolver/lib/:/auto/home/users/r/g/rgouvea/anaconda3/envs/env_tfmodnet/lib:/auto/home/users/r/g/rgouvea/anaconda3/envs/env_tfmodnet/lib/python3.8/site-packages/nvidia/cuda_runtime/lib/:/auto/home/users/r/g/rgouvea/anaconda3/envs/env_tfmodnet/lib/python3.8/site-packages/nvidia/cublas/lib/:/opt/sw/arch/easybuild/2020b/software/FFTW/3.3.8-gompic-2020b/lib:/opt/sw/arch/easybuild/2020b/software/OpenMPI/4.0.5-gcccuda-2020b/lib:/opt/sw/arch/easybuild/2020b/software/PMIx/3.1.5-GCCcore-10.2.0/lib:/opt/sw/arch/easybuild/2020b/software/libfabric/1.11.0-GCCcore-10.2.0/lib:/opt/sw/arch/easybuild/2020b/software/UCX/1.9.0-GCCcore-10.2.0-CUDA-11.1.1/lib:/opt/sw/arch/easybuild/2020b/software/GDRCopy/2.1-GCCcore-10.2.0-CUDA-11.1.1/lib:/opt/sw/arch/easybuild/2020b/software/Check/0.15.2-GCCcore-10.2.0/lib:/opt/sw/arch/easybuild/2020b/software/libevent/2.1.12-GCCcore-10.2.0/lib:/opt/sw/arch/easybuild/2020b/software/hwloc/2.2.0-GCCcore-10.2.0/lib:/opt/sw/arch/easybuild/2020b/software/libpciaccess/0.16-GCCcore-10.2.0/lib:/opt/sw/arch/easybuild/2020b/software/libxml2/2.9.10-GCCcore-10.2.0/lib:/opt/sw/arch/easybuild/2020b/software/XZ/5.2.5-GCCcore-10.2.0/lib:/opt/sw/arch/easybuild/2020b/software/numactl/2.0.13-GCCcore-10.2.0/lib:/opt/sw/arch/easybuild/2020b/software/CUDAcore/11.1.1/nvvm/lib64:/opt/sw/arch/easybuild/2020b/software/CUDAcore/11.1.1/extras/CUPTI/lib64:/opt/sw/arch/easybuild/2020b/software/CUDAcore/11.1.1/lib:/opt/sw/arch/easybuild/2020b/software/binutils/2.35-GCCcore-10.2.0/lib:/opt/sw/arch/easybuild/2020b/software/zlib/1.2.11-GCCcore-10.2.0/lib:/opt/sw/arch/easybuild/2020b/software/GCCcore/10.2.0/lib64:/home/ucl/modl/rgouvea/anaconda3/pkgs/cudatoolkit-11.2.2-hbe64b41_10/lib:/home/ucl/modl/rgouvea/anaconda3/envs/env_tfmodnet/lib/python3.8/site-packages/nvidia/cuda_nvcc:/home/ucl/modl/rgouvea/anaconda3/envs/env_tfmodnet/lib/python3.8/site-packages/nvidia/cuda_cupti/lib:/home/ucl/modl/rgouvea/anaconda3/envs/py3.8/lib/python3.8/site-packages/tensorrt:/home/ucl/modl/rgouvea/anaconda3/envs/env_tfmodnet/lib:/home/ucl/modl/rgouvea/anaconda3/envs/env_tfmodnet/lib/python3.8/site-packages/nvidia/cusolver/lib:/auto/home/users/r/g/rgouvea/anaconda3/envs/env_tfmodnet/lib:/auto/home/users/r/g/rgouvea/anaconda3/envs/env_tfmodnet/lib/python3.8/site-packages/nvidia/cuda_runtime/lib:/auto/home/users/r/g/rgouvea/anaconda3/envs/env_tfmodnet/lib/python3.8/site-packages/nvidia/cublas/lib::\n",
      "2024-09-19 21:37:59.132250: W tensorflow/stream_executor/cuda/cuda_driver.cc:263] failed call to cuInit: UNKNOWN ERROR (303)\n",
      "2024-09-19 21:37:59.132277: I tensorflow/stream_executor/cuda/cuda_diagnostics.cc:156] kernel driver does not appear to be running on this host (mbackf2.cism.ucl.ac.be): /proc/driver/nvidia/version does not exist\n",
      "2024-09-19 21:37:59.132616: I tensorflow/core/platform/cpu_feature_guard.cc:193] This TensorFlow binary is optimized with oneAPI Deep Neural Network Library (oneDNN) to use the following CPU instructions in performance-critical operations:  AVX2 AVX512F FMA\n",
      "To enable them in other operations, rebuild TensorFlow with the appropriate compiler flags.\n",
      "2024-09-19 21:38:00.199765: I tensorflow/core/platform/cpu_feature_guard.cc:193] This TensorFlow binary is optimized with oneAPI Deep Neural Network Library (oneDNN) to use the following CPU instructions in performance-critical operations:  AVX2 AVX512F FMA\n",
      "To enable them in other operations, rebuild TensorFlow with the appropriate compiler flags.\n",
      "2024-09-19 21:38:00.453819: E tensorflow/stream_executor/cuda/cuda_blas.cc:2981] Unable to register cuBLAS factory: Attempting to register factory for plugin cuBLAS when one has already been registered\n",
      "2024-09-19 21:38:02.062944: W tensorflow/stream_executor/platform/default/dso_loader.cc:64] Could not load dynamic library 'libcuda.so.1'; dlerror: libcuda.so.1: cannot open shared object file: No such file or directory; LD_LIBRARY_PATH: /home/ucl/modl/rgouvea/anaconda3/pkgs/cudatoolkit-11.2.2-hbe64b41_10/lib/:/home/ucl/modl/rgouvea/anaconda3/envs/env_tfmodnet/lib/python3.8/site-packages/nvidia/cuda_nvcc/:/home/ucl/modl/rgouvea/anaconda3/envs/env_tfmodnet/lib/python3.8/site-packages/nvidia/cuda_cupti/lib/:/home/ucl/modl/rgouvea/anaconda3/envs/py3.8/lib/python3.8/site-packages/tensorrt/:/home/ucl/modl/rgouvea/anaconda3/envs/env_tfmodnet/lib:/home/ucl/modl/rgouvea/anaconda3/envs/env_tfmodnet/lib/python3.8/site-packages/nvidia/cusolver/lib/:/auto/home/users/r/g/rgouvea/anaconda3/envs/env_tfmodnet/lib:/auto/home/users/r/g/rgouvea/anaconda3/envs/env_tfmodnet/lib/python3.8/site-packages/nvidia/cuda_runtime/lib/:/auto/home/users/r/g/rgouvea/anaconda3/envs/env_tfmodnet/lib/python3.8/site-packages/nvidia/cublas/lib/:/opt/sw/arch/easybuild/2020b/software/FFTW/3.3.8-gompic-2020b/lib:/opt/sw/arch/easybuild/2020b/software/OpenMPI/4.0.5-gcccuda-2020b/lib:/opt/sw/arch/easybuild/2020b/software/PMIx/3.1.5-GCCcore-10.2.0/lib:/opt/sw/arch/easybuild/2020b/software/libfabric/1.11.0-GCCcore-10.2.0/lib:/opt/sw/arch/easybuild/2020b/software/UCX/1.9.0-GCCcore-10.2.0-CUDA-11.1.1/lib:/opt/sw/arch/easybuild/2020b/software/GDRCopy/2.1-GCCcore-10.2.0-CUDA-11.1.1/lib:/opt/sw/arch/easybuild/2020b/software/Check/0.15.2-GCCcore-10.2.0/lib:/opt/sw/arch/easybuild/2020b/software/libevent/2.1.12-GCCcore-10.2.0/lib:/opt/sw/arch/easybuild/2020b/software/hwloc/2.2.0-GCCcore-10.2.0/lib:/opt/sw/arch/easybuild/2020b/software/libpciaccess/0.16-GCCcore-10.2.0/lib:/opt/sw/arch/easybuild/2020b/software/libxml2/2.9.10-GCCcore-10.2.0/lib:/opt/sw/arch/easybuild/2020b/software/XZ/5.2.5-GCCcore-10.2.0/lib:/opt/sw/arch/easybuild/2020b/software/numactl/2.0.13-GCCcore-10.2.0/lib:/opt/sw/arch/easybuild/2020b/software/CUDAcore/11.1.1/nvvm/lib64:/opt/sw/arch/easybuild/2020b/software/CUDAcore/11.1.1/extras/CUPTI/lib64:/opt/sw/arch/easybuild/2020b/software/CUDAcore/11.1.1/lib:/opt/sw/arch/easybuild/2020b/software/binutils/2.35-GCCcore-10.2.0/lib:/opt/sw/arch/easybuild/2020b/software/zlib/1.2.11-GCCcore-10.2.0/lib:/opt/sw/arch/easybuild/2020b/software/GCCcore/10.2.0/lib64:/home/ucl/modl/rgouvea/anaconda3/pkgs/cudatoolkit-11.2.2-hbe64b41_10/lib:/home/ucl/modl/rgouvea/anaconda3/envs/env_tfmodnet/lib/python3.8/site-packages/nvidia/cuda_nvcc:/home/ucl/modl/rgouvea/anaconda3/envs/env_tfmodnet/lib/python3.8/site-packages/nvidia/cuda_cupti/lib:/home/ucl/modl/rgouvea/anaconda3/envs/py3.8/lib/python3.8/site-packages/tensorrt:/home/ucl/modl/rgouvea/anaconda3/envs/env_tfmodnet/lib:/home/ucl/modl/rgouvea/anaconda3/envs/env_tfmodnet/lib/python3.8/site-packages/nvidia/cusolver/lib:/auto/home/users/r/g/rgouvea/anaconda3/envs/env_tfmodnet/lib:/auto/home/users/r/g/rgouvea/anaconda3/envs/env_tfmodnet/lib/python3.8/site-packages/nvidia/cuda_runtime/lib:/auto/home/users/r/g/rgouvea/anaconda3/envs/env_tfmodnet/lib/python3.8/site-packages/nvidia/cublas/lib::\n",
      "2024-09-19 21:38:02.063035: W tensorflow/stream_executor/cuda/cuda_driver.cc:263] failed call to cuInit: UNKNOWN ERROR (303)\n",
      "2024-09-19 21:38:02.063067: I tensorflow/stream_executor/cuda/cuda_diagnostics.cc:156] kernel driver does not appear to be running on this host (mbackf2.cism.ucl.ac.be): /proc/driver/nvidia/version does not exist\n",
      "2024-09-19 21:38:02.063453: I tensorflow/core/platform/cpu_feature_guard.cc:193] This TensorFlow binary is optimized with oneAPI Deep Neural Network Library (oneDNN) to use the following CPU instructions in performance-critical operations:  AVX2 AVX512F FMA\n",
      "To enable them in other operations, rebuild TensorFlow with the appropriate compiler flags.\n",
      "2024-09-19 21:38:03.065350: I tensorflow/core/platform/cpu_feature_guard.cc:193] This TensorFlow binary is optimized with oneAPI Deep Neural Network Library (oneDNN) to use the following CPU instructions in performance-critical operations:  AVX2 AVX512F FMA\n",
      "To enable them in other operations, rebuild TensorFlow with the appropriate compiler flags.\n",
      "2024-09-19 21:38:03.328366: E tensorflow/stream_executor/cuda/cuda_blas.cc:2981] Unable to register cuBLAS factory: Attempting to register factory for plugin cuBLAS when one has already been registered\n",
      "2024-09-19 21:38:05.174800: W tensorflow/stream_executor/platform/default/dso_loader.cc:64] Could not load dynamic library 'libcuda.so.1'; dlerror: libcuda.so.1: cannot open shared object file: No such file or directory; LD_LIBRARY_PATH: /home/ucl/modl/rgouvea/anaconda3/pkgs/cudatoolkit-11.2.2-hbe64b41_10/lib/:/home/ucl/modl/rgouvea/anaconda3/envs/env_tfmodnet/lib/python3.8/site-packages/nvidia/cuda_nvcc/:/home/ucl/modl/rgouvea/anaconda3/envs/env_tfmodnet/lib/python3.8/site-packages/nvidia/cuda_cupti/lib/:/home/ucl/modl/rgouvea/anaconda3/envs/py3.8/lib/python3.8/site-packages/tensorrt/:/home/ucl/modl/rgouvea/anaconda3/envs/env_tfmodnet/lib:/home/ucl/modl/rgouvea/anaconda3/envs/env_tfmodnet/lib/python3.8/site-packages/nvidia/cusolver/lib/:/auto/home/users/r/g/rgouvea/anaconda3/envs/env_tfmodnet/lib:/auto/home/users/r/g/rgouvea/anaconda3/envs/env_tfmodnet/lib/python3.8/site-packages/nvidia/cuda_runtime/lib/:/auto/home/users/r/g/rgouvea/anaconda3/envs/env_tfmodnet/lib/python3.8/site-packages/nvidia/cublas/lib/:/opt/sw/arch/easybuild/2020b/software/FFTW/3.3.8-gompic-2020b/lib:/opt/sw/arch/easybuild/2020b/software/OpenMPI/4.0.5-gcccuda-2020b/lib:/opt/sw/arch/easybuild/2020b/software/PMIx/3.1.5-GCCcore-10.2.0/lib:/opt/sw/arch/easybuild/2020b/software/libfabric/1.11.0-GCCcore-10.2.0/lib:/opt/sw/arch/easybuild/2020b/software/UCX/1.9.0-GCCcore-10.2.0-CUDA-11.1.1/lib:/opt/sw/arch/easybuild/2020b/software/GDRCopy/2.1-GCCcore-10.2.0-CUDA-11.1.1/lib:/opt/sw/arch/easybuild/2020b/software/Check/0.15.2-GCCcore-10.2.0/lib:/opt/sw/arch/easybuild/2020b/software/libevent/2.1.12-GCCcore-10.2.0/lib:/opt/sw/arch/easybuild/2020b/software/hwloc/2.2.0-GCCcore-10.2.0/lib:/opt/sw/arch/easybuild/2020b/software/libpciaccess/0.16-GCCcore-10.2.0/lib:/opt/sw/arch/easybuild/2020b/software/libxml2/2.9.10-GCCcore-10.2.0/lib:/opt/sw/arch/easybuild/2020b/software/XZ/5.2.5-GCCcore-10.2.0/lib:/opt/sw/arch/easybuild/2020b/software/numactl/2.0.13-GCCcore-10.2.0/lib:/opt/sw/arch/easybuild/2020b/software/CUDAcore/11.1.1/nvvm/lib64:/opt/sw/arch/easybuild/2020b/software/CUDAcore/11.1.1/extras/CUPTI/lib64:/opt/sw/arch/easybuild/2020b/software/CUDAcore/11.1.1/lib:/opt/sw/arch/easybuild/2020b/software/binutils/2.35-GCCcore-10.2.0/lib:/opt/sw/arch/easybuild/2020b/software/zlib/1.2.11-GCCcore-10.2.0/lib:/opt/sw/arch/easybuild/2020b/software/GCCcore/10.2.0/lib64:/home/ucl/modl/rgouvea/anaconda3/pkgs/cudatoolkit-11.2.2-hbe64b41_10/lib:/home/ucl/modl/rgouvea/anaconda3/envs/env_tfmodnet/lib/python3.8/site-packages/nvidia/cuda_nvcc:/home/ucl/modl/rgouvea/anaconda3/envs/env_tfmodnet/lib/python3.8/site-packages/nvidia/cuda_cupti/lib:/home/ucl/modl/rgouvea/anaconda3/envs/py3.8/lib/python3.8/site-packages/tensorrt:/home/ucl/modl/rgouvea/anaconda3/envs/env_tfmodnet/lib:/home/ucl/modl/rgouvea/anaconda3/envs/env_tfmodnet/lib/python3.8/site-packages/nvidia/cusolver/lib:/auto/home/users/r/g/rgouvea/anaconda3/envs/env_tfmodnet/lib:/auto/home/users/r/g/rgouvea/anaconda3/envs/env_tfmodnet/lib/python3.8/site-packages/nvidia/cuda_runtime/lib:/auto/home/users/r/g/rgouvea/anaconda3/envs/env_tfmodnet/lib/python3.8/site-packages/nvidia/cublas/lib::\n",
      "2024-09-19 21:38:05.174856: W tensorflow/stream_executor/cuda/cuda_driver.cc:263] failed call to cuInit: UNKNOWN ERROR (303)\n",
      "2024-09-19 21:38:05.174914: I tensorflow/stream_executor/cuda/cuda_diagnostics.cc:156] kernel driver does not appear to be running on this host (mbackf2.cism.ucl.ac.be): /proc/driver/nvidia/version does not exist\n",
      "2024-09-19 21:38:05.175278: I tensorflow/core/platform/cpu_feature_guard.cc:193] This TensorFlow binary is optimized with oneAPI Deep Neural Network Library (oneDNN) to use the following CPU instructions in performance-critical operations:  AVX2 AVX512F FMA\n",
      "To enable them in other operations, rebuild TensorFlow with the appropriate compiler flags.\n",
      "2024-09-19 21:38:06.444361: I tensorflow/core/platform/cpu_feature_guard.cc:193] This TensorFlow binary is optimized with oneAPI Deep Neural Network Library (oneDNN) to use the following CPU instructions in performance-critical operations:  AVX2 AVX512F FMA\n",
      "To enable them in other operations, rebuild TensorFlow with the appropriate compiler flags.\n",
      "2024-09-19 21:38:06.699351: E tensorflow/stream_executor/cuda/cuda_blas.cc:2981] Unable to register cuBLAS factory: Attempting to register factory for plugin cuBLAS when one has already been registered\n",
      "2024-09-19 21:38:08.824146: W tensorflow/stream_executor/platform/default/dso_loader.cc:64] Could not load dynamic library 'libcuda.so.1'; dlerror: libcuda.so.1: cannot open shared object file: No such file or directory; LD_LIBRARY_PATH: /home/ucl/modl/rgouvea/anaconda3/pkgs/cudatoolkit-11.2.2-hbe64b41_10/lib/:/home/ucl/modl/rgouvea/anaconda3/envs/env_tfmodnet/lib/python3.8/site-packages/nvidia/cuda_nvcc/:/home/ucl/modl/rgouvea/anaconda3/envs/env_tfmodnet/lib/python3.8/site-packages/nvidia/cuda_cupti/lib/:/home/ucl/modl/rgouvea/anaconda3/envs/py3.8/lib/python3.8/site-packages/tensorrt/:/home/ucl/modl/rgouvea/anaconda3/envs/env_tfmodnet/lib:/home/ucl/modl/rgouvea/anaconda3/envs/env_tfmodnet/lib/python3.8/site-packages/nvidia/cusolver/lib/:/auto/home/users/r/g/rgouvea/anaconda3/envs/env_tfmodnet/lib:/auto/home/users/r/g/rgouvea/anaconda3/envs/env_tfmodnet/lib/python3.8/site-packages/nvidia/cuda_runtime/lib/:/auto/home/users/r/g/rgouvea/anaconda3/envs/env_tfmodnet/lib/python3.8/site-packages/nvidia/cublas/lib/:/opt/sw/arch/easybuild/2020b/software/FFTW/3.3.8-gompic-2020b/lib:/opt/sw/arch/easybuild/2020b/software/OpenMPI/4.0.5-gcccuda-2020b/lib:/opt/sw/arch/easybuild/2020b/software/PMIx/3.1.5-GCCcore-10.2.0/lib:/opt/sw/arch/easybuild/2020b/software/libfabric/1.11.0-GCCcore-10.2.0/lib:/opt/sw/arch/easybuild/2020b/software/UCX/1.9.0-GCCcore-10.2.0-CUDA-11.1.1/lib:/opt/sw/arch/easybuild/2020b/software/GDRCopy/2.1-GCCcore-10.2.0-CUDA-11.1.1/lib:/opt/sw/arch/easybuild/2020b/software/Check/0.15.2-GCCcore-10.2.0/lib:/opt/sw/arch/easybuild/2020b/software/libevent/2.1.12-GCCcore-10.2.0/lib:/opt/sw/arch/easybuild/2020b/software/hwloc/2.2.0-GCCcore-10.2.0/lib:/opt/sw/arch/easybuild/2020b/software/libpciaccess/0.16-GCCcore-10.2.0/lib:/opt/sw/arch/easybuild/2020b/software/libxml2/2.9.10-GCCcore-10.2.0/lib:/opt/sw/arch/easybuild/2020b/software/XZ/5.2.5-GCCcore-10.2.0/lib:/opt/sw/arch/easybuild/2020b/software/numactl/2.0.13-GCCcore-10.2.0/lib:/opt/sw/arch/easybuild/2020b/software/CUDAcore/11.1.1/nvvm/lib64:/opt/sw/arch/easybuild/2020b/software/CUDAcore/11.1.1/extras/CUPTI/lib64:/opt/sw/arch/easybuild/2020b/software/CUDAcore/11.1.1/lib:/opt/sw/arch/easybuild/2020b/software/binutils/2.35-GCCcore-10.2.0/lib:/opt/sw/arch/easybuild/2020b/software/zlib/1.2.11-GCCcore-10.2.0/lib:/opt/sw/arch/easybuild/2020b/software/GCCcore/10.2.0/lib64:/home/ucl/modl/rgouvea/anaconda3/pkgs/cudatoolkit-11.2.2-hbe64b41_10/lib:/home/ucl/modl/rgouvea/anaconda3/envs/env_tfmodnet/lib/python3.8/site-packages/nvidia/cuda_nvcc:/home/ucl/modl/rgouvea/anaconda3/envs/env_tfmodnet/lib/python3.8/site-packages/nvidia/cuda_cupti/lib:/home/ucl/modl/rgouvea/anaconda3/envs/py3.8/lib/python3.8/site-packages/tensorrt:/home/ucl/modl/rgouvea/anaconda3/envs/env_tfmodnet/lib:/home/ucl/modl/rgouvea/anaconda3/envs/env_tfmodnet/lib/python3.8/site-packages/nvidia/cusolver/lib:/auto/home/users/r/g/rgouvea/anaconda3/envs/env_tfmodnet/lib:/auto/home/users/r/g/rgouvea/anaconda3/envs/env_tfmodnet/lib/python3.8/site-packages/nvidia/cuda_runtime/lib:/auto/home/users/r/g/rgouvea/anaconda3/envs/env_tfmodnet/lib/python3.8/site-packages/nvidia/cublas/lib::\n",
      "2024-09-19 21:38:08.824180: W tensorflow/stream_executor/cuda/cuda_driver.cc:263] failed call to cuInit: UNKNOWN ERROR (303)\n",
      "2024-09-19 21:38:08.824203: I tensorflow/stream_executor/cuda/cuda_diagnostics.cc:156] kernel driver does not appear to be running on this host (mbackf2.cism.ucl.ac.be): /proc/driver/nvidia/version does not exist\n",
      "2024-09-19 21:38:08.824499: I tensorflow/core/platform/cpu_feature_guard.cc:193] This TensorFlow binary is optimized with oneAPI Deep Neural Network Library (oneDNN) to use the following CPU instructions in performance-critical operations:  AVX2 AVX512F FMA\n",
      "To enable them in other operations, rebuild TensorFlow with the appropriate compiler flags.\n",
      "2024-09-19 21:38:09.910366: I tensorflow/core/platform/cpu_feature_guard.cc:193] This TensorFlow binary is optimized with oneAPI Deep Neural Network Library (oneDNN) to use the following CPU instructions in performance-critical operations:  AVX2 AVX512F FMA\n",
      "To enable them in other operations, rebuild TensorFlow with the appropriate compiler flags.\n",
      "2024-09-19 21:38:10.162760: E tensorflow/stream_executor/cuda/cuda_blas.cc:2981] Unable to register cuBLAS factory: Attempting to register factory for plugin cuBLAS when one has already been registered\n",
      "2024-09-19 21:38:12.338307: W tensorflow/stream_executor/platform/default/dso_loader.cc:64] Could not load dynamic library 'libcuda.so.1'; dlerror: libcuda.so.1: cannot open shared object file: No such file or directory; LD_LIBRARY_PATH: /home/ucl/modl/rgouvea/anaconda3/pkgs/cudatoolkit-11.2.2-hbe64b41_10/lib/:/home/ucl/modl/rgouvea/anaconda3/envs/env_tfmodnet/lib/python3.8/site-packages/nvidia/cuda_nvcc/:/home/ucl/modl/rgouvea/anaconda3/envs/env_tfmodnet/lib/python3.8/site-packages/nvidia/cuda_cupti/lib/:/home/ucl/modl/rgouvea/anaconda3/envs/py3.8/lib/python3.8/site-packages/tensorrt/:/home/ucl/modl/rgouvea/anaconda3/envs/env_tfmodnet/lib:/home/ucl/modl/rgouvea/anaconda3/envs/env_tfmodnet/lib/python3.8/site-packages/nvidia/cusolver/lib/:/auto/home/users/r/g/rgouvea/anaconda3/envs/env_tfmodnet/lib:/auto/home/users/r/g/rgouvea/anaconda3/envs/env_tfmodnet/lib/python3.8/site-packages/nvidia/cuda_runtime/lib/:/auto/home/users/r/g/rgouvea/anaconda3/envs/env_tfmodnet/lib/python3.8/site-packages/nvidia/cublas/lib/:/opt/sw/arch/easybuild/2020b/software/FFTW/3.3.8-gompic-2020b/lib:/opt/sw/arch/easybuild/2020b/software/OpenMPI/4.0.5-gcccuda-2020b/lib:/opt/sw/arch/easybuild/2020b/software/PMIx/3.1.5-GCCcore-10.2.0/lib:/opt/sw/arch/easybuild/2020b/software/libfabric/1.11.0-GCCcore-10.2.0/lib:/opt/sw/arch/easybuild/2020b/software/UCX/1.9.0-GCCcore-10.2.0-CUDA-11.1.1/lib:/opt/sw/arch/easybuild/2020b/software/GDRCopy/2.1-GCCcore-10.2.0-CUDA-11.1.1/lib:/opt/sw/arch/easybuild/2020b/software/Check/0.15.2-GCCcore-10.2.0/lib:/opt/sw/arch/easybuild/2020b/software/libevent/2.1.12-GCCcore-10.2.0/lib:/opt/sw/arch/easybuild/2020b/software/hwloc/2.2.0-GCCcore-10.2.0/lib:/opt/sw/arch/easybuild/2020b/software/libpciaccess/0.16-GCCcore-10.2.0/lib:/opt/sw/arch/easybuild/2020b/software/libxml2/2.9.10-GCCcore-10.2.0/lib:/opt/sw/arch/easybuild/2020b/software/XZ/5.2.5-GCCcore-10.2.0/lib:/opt/sw/arch/easybuild/2020b/software/numactl/2.0.13-GCCcore-10.2.0/lib:/opt/sw/arch/easybuild/2020b/software/CUDAcore/11.1.1/nvvm/lib64:/opt/sw/arch/easybuild/2020b/software/CUDAcore/11.1.1/extras/CUPTI/lib64:/opt/sw/arch/easybuild/2020b/software/CUDAcore/11.1.1/lib:/opt/sw/arch/easybuild/2020b/software/binutils/2.35-GCCcore-10.2.0/lib:/opt/sw/arch/easybuild/2020b/software/zlib/1.2.11-GCCcore-10.2.0/lib:/opt/sw/arch/easybuild/2020b/software/GCCcore/10.2.0/lib64:/home/ucl/modl/rgouvea/anaconda3/pkgs/cudatoolkit-11.2.2-hbe64b41_10/lib:/home/ucl/modl/rgouvea/anaconda3/envs/env_tfmodnet/lib/python3.8/site-packages/nvidia/cuda_nvcc:/home/ucl/modl/rgouvea/anaconda3/envs/env_tfmodnet/lib/python3.8/site-packages/nvidia/cuda_cupti/lib:/home/ucl/modl/rgouvea/anaconda3/envs/py3.8/lib/python3.8/site-packages/tensorrt:/home/ucl/modl/rgouvea/anaconda3/envs/env_tfmodnet/lib:/home/ucl/modl/rgouvea/anaconda3/envs/env_tfmodnet/lib/python3.8/site-packages/nvidia/cusolver/lib:/auto/home/users/r/g/rgouvea/anaconda3/envs/env_tfmodnet/lib:/auto/home/users/r/g/rgouvea/anaconda3/envs/env_tfmodnet/lib/python3.8/site-packages/nvidia/cuda_runtime/lib:/auto/home/users/r/g/rgouvea/anaconda3/envs/env_tfmodnet/lib/python3.8/site-packages/nvidia/cublas/lib::\n",
      "2024-09-19 21:38:12.338347: W tensorflow/stream_executor/cuda/cuda_driver.cc:263] failed call to cuInit: UNKNOWN ERROR (303)\n",
      "2024-09-19 21:38:12.338373: I tensorflow/stream_executor/cuda/cuda_diagnostics.cc:156] kernel driver does not appear to be running on this host (mbackf2.cism.ucl.ac.be): /proc/driver/nvidia/version does not exist\n",
      "2024-09-19 21:38:12.338729: I tensorflow/core/platform/cpu_feature_guard.cc:193] This TensorFlow binary is optimized with oneAPI Deep Neural Network Library (oneDNN) to use the following CPU instructions in performance-critical operations:  AVX2 AVX512F FMA\n",
      "To enable them in other operations, rebuild TensorFlow with the appropriate compiler flags.\n",
      "2024-09-19 21:38:13.573017: I tensorflow/core/platform/cpu_feature_guard.cc:193] This TensorFlow binary is optimized with oneAPI Deep Neural Network Library (oneDNN) to use the following CPU instructions in performance-critical operations:  AVX2 AVX512F FMA\n",
      "To enable them in other operations, rebuild TensorFlow with the appropriate compiler flags.\n",
      "2024-09-19 21:38:13.842498: E tensorflow/stream_executor/cuda/cuda_blas.cc:2981] Unable to register cuBLAS factory: Attempting to register factory for plugin cuBLAS when one has already been registered\n",
      "2024-09-19 21:38:16.099627: W tensorflow/stream_executor/platform/default/dso_loader.cc:64] Could not load dynamic library 'libcuda.so.1'; dlerror: libcuda.so.1: cannot open shared object file: No such file or directory; LD_LIBRARY_PATH: /home/ucl/modl/rgouvea/anaconda3/pkgs/cudatoolkit-11.2.2-hbe64b41_10/lib/:/home/ucl/modl/rgouvea/anaconda3/envs/env_tfmodnet/lib/python3.8/site-packages/nvidia/cuda_nvcc/:/home/ucl/modl/rgouvea/anaconda3/envs/env_tfmodnet/lib/python3.8/site-packages/nvidia/cuda_cupti/lib/:/home/ucl/modl/rgouvea/anaconda3/envs/py3.8/lib/python3.8/site-packages/tensorrt/:/home/ucl/modl/rgouvea/anaconda3/envs/env_tfmodnet/lib:/home/ucl/modl/rgouvea/anaconda3/envs/env_tfmodnet/lib/python3.8/site-packages/nvidia/cusolver/lib/:/auto/home/users/r/g/rgouvea/anaconda3/envs/env_tfmodnet/lib:/auto/home/users/r/g/rgouvea/anaconda3/envs/env_tfmodnet/lib/python3.8/site-packages/nvidia/cuda_runtime/lib/:/auto/home/users/r/g/rgouvea/anaconda3/envs/env_tfmodnet/lib/python3.8/site-packages/nvidia/cublas/lib/:/opt/sw/arch/easybuild/2020b/software/FFTW/3.3.8-gompic-2020b/lib:/opt/sw/arch/easybuild/2020b/software/OpenMPI/4.0.5-gcccuda-2020b/lib:/opt/sw/arch/easybuild/2020b/software/PMIx/3.1.5-GCCcore-10.2.0/lib:/opt/sw/arch/easybuild/2020b/software/libfabric/1.11.0-GCCcore-10.2.0/lib:/opt/sw/arch/easybuild/2020b/software/UCX/1.9.0-GCCcore-10.2.0-CUDA-11.1.1/lib:/opt/sw/arch/easybuild/2020b/software/GDRCopy/2.1-GCCcore-10.2.0-CUDA-11.1.1/lib:/opt/sw/arch/easybuild/2020b/software/Check/0.15.2-GCCcore-10.2.0/lib:/opt/sw/arch/easybuild/2020b/software/libevent/2.1.12-GCCcore-10.2.0/lib:/opt/sw/arch/easybuild/2020b/software/hwloc/2.2.0-GCCcore-10.2.0/lib:/opt/sw/arch/easybuild/2020b/software/libpciaccess/0.16-GCCcore-10.2.0/lib:/opt/sw/arch/easybuild/2020b/software/libxml2/2.9.10-GCCcore-10.2.0/lib:/opt/sw/arch/easybuild/2020b/software/XZ/5.2.5-GCCcore-10.2.0/lib:/opt/sw/arch/easybuild/2020b/software/numactl/2.0.13-GCCcore-10.2.0/lib:/opt/sw/arch/easybuild/2020b/software/CUDAcore/11.1.1/nvvm/lib64:/opt/sw/arch/easybuild/2020b/software/CUDAcore/11.1.1/extras/CUPTI/lib64:/opt/sw/arch/easybuild/2020b/software/CUDAcore/11.1.1/lib:/opt/sw/arch/easybuild/2020b/software/binutils/2.35-GCCcore-10.2.0/lib:/opt/sw/arch/easybuild/2020b/software/zlib/1.2.11-GCCcore-10.2.0/lib:/opt/sw/arch/easybuild/2020b/software/GCCcore/10.2.0/lib64:/home/ucl/modl/rgouvea/anaconda3/pkgs/cudatoolkit-11.2.2-hbe64b41_10/lib:/home/ucl/modl/rgouvea/anaconda3/envs/env_tfmodnet/lib/python3.8/site-packages/nvidia/cuda_nvcc:/home/ucl/modl/rgouvea/anaconda3/envs/env_tfmodnet/lib/python3.8/site-packages/nvidia/cuda_cupti/lib:/home/ucl/modl/rgouvea/anaconda3/envs/py3.8/lib/python3.8/site-packages/tensorrt:/home/ucl/modl/rgouvea/anaconda3/envs/env_tfmodnet/lib:/home/ucl/modl/rgouvea/anaconda3/envs/env_tfmodnet/lib/python3.8/site-packages/nvidia/cusolver/lib:/auto/home/users/r/g/rgouvea/anaconda3/envs/env_tfmodnet/lib:/auto/home/users/r/g/rgouvea/anaconda3/envs/env_tfmodnet/lib/python3.8/site-packages/nvidia/cuda_runtime/lib:/auto/home/users/r/g/rgouvea/anaconda3/envs/env_tfmodnet/lib/python3.8/site-packages/nvidia/cublas/lib::\n",
      "2024-09-19 21:38:16.099676: W tensorflow/stream_executor/cuda/cuda_driver.cc:263] failed call to cuInit: UNKNOWN ERROR (303)\n",
      "2024-09-19 21:38:16.099700: I tensorflow/stream_executor/cuda/cuda_diagnostics.cc:156] kernel driver does not appear to be running on this host (mbackf2.cism.ucl.ac.be): /proc/driver/nvidia/version does not exist\n",
      "2024-09-19 21:38:16.100034: I tensorflow/core/platform/cpu_feature_guard.cc:193] This TensorFlow binary is optimized with oneAPI Deep Neural Network Library (oneDNN) to use the following CPU instructions in performance-critical operations:  AVX2 AVX512F FMA\n",
      "To enable them in other operations, rebuild TensorFlow with the appropriate compiler flags.\n",
      " 10%|█         | 1/10 [00:33<04:59, 33.30s/it]"
     ]
    },
    {
     "name": "stdout",
     "output_type": "stream",
     "text": [
      "11/11 [==============================] - 0s 2ms/step\n"
     ]
    },
    {
     "name": "stderr",
     "output_type": "stream",
     "text": [
      "2024-09-19 21:38:19.922712: W tensorflow/stream_executor/platform/default/dso_loader.cc:64] Could not load dynamic library 'libcuda.so.1'; dlerror: libcuda.so.1: cannot open shared object file: No such file or directory; LD_LIBRARY_PATH: /home/ucl/modl/rgouvea/anaconda3/pkgs/cudatoolkit-11.2.2-hbe64b41_10/lib/:/home/ucl/modl/rgouvea/anaconda3/envs/env_tfmodnet/lib/python3.8/site-packages/nvidia/cuda_nvcc/:/home/ucl/modl/rgouvea/anaconda3/envs/env_tfmodnet/lib/python3.8/site-packages/nvidia/cuda_cupti/lib/:/home/ucl/modl/rgouvea/anaconda3/envs/py3.8/lib/python3.8/site-packages/tensorrt/:/home/ucl/modl/rgouvea/anaconda3/envs/env_tfmodnet/lib:/home/ucl/modl/rgouvea/anaconda3/envs/env_tfmodnet/lib/python3.8/site-packages/nvidia/cusolver/lib/:/auto/home/users/r/g/rgouvea/anaconda3/envs/env_tfmodnet/lib:/auto/home/users/r/g/rgouvea/anaconda3/envs/env_tfmodnet/lib/python3.8/site-packages/nvidia/cuda_runtime/lib/:/auto/home/users/r/g/rgouvea/anaconda3/envs/env_tfmodnet/lib/python3.8/site-packages/nvidia/cublas/lib/:/opt/sw/arch/easybuild/2020b/software/FFTW/3.3.8-gompic-2020b/lib:/opt/sw/arch/easybuild/2020b/software/OpenMPI/4.0.5-gcccuda-2020b/lib:/opt/sw/arch/easybuild/2020b/software/PMIx/3.1.5-GCCcore-10.2.0/lib:/opt/sw/arch/easybuild/2020b/software/libfabric/1.11.0-GCCcore-10.2.0/lib:/opt/sw/arch/easybuild/2020b/software/UCX/1.9.0-GCCcore-10.2.0-CUDA-11.1.1/lib:/opt/sw/arch/easybuild/2020b/software/GDRCopy/2.1-GCCcore-10.2.0-CUDA-11.1.1/lib:/opt/sw/arch/easybuild/2020b/software/Check/0.15.2-GCCcore-10.2.0/lib:/opt/sw/arch/easybuild/2020b/software/libevent/2.1.12-GCCcore-10.2.0/lib:/opt/sw/arch/easybuild/2020b/software/hwloc/2.2.0-GCCcore-10.2.0/lib:/opt/sw/arch/easybuild/2020b/software/libpciaccess/0.16-GCCcore-10.2.0/lib:/opt/sw/arch/easybuild/2020b/software/libxml2/2.9.10-GCCcore-10.2.0/lib:/opt/sw/arch/easybuild/2020b/software/XZ/5.2.5-GCCcore-10.2.0/lib:/opt/sw/arch/easybuild/2020b/software/numactl/2.0.13-GCCcore-10.2.0/lib:/opt/sw/arch/easybuild/2020b/software/CUDAcore/11.1.1/nvvm/lib64:/opt/sw/arch/easybuild/2020b/software/CUDAcore/11.1.1/extras/CUPTI/lib64:/opt/sw/arch/easybuild/2020b/software/CUDAcore/11.1.1/lib:/opt/sw/arch/easybuild/2020b/software/binutils/2.35-GCCcore-10.2.0/lib:/opt/sw/arch/easybuild/2020b/software/zlib/1.2.11-GCCcore-10.2.0/lib:/opt/sw/arch/easybuild/2020b/software/GCCcore/10.2.0/lib64:/home/ucl/modl/rgouvea/anaconda3/pkgs/cudatoolkit-11.2.2-hbe64b41_10/lib:/home/ucl/modl/rgouvea/anaconda3/envs/env_tfmodnet/lib/python3.8/site-packages/nvidia/cuda_nvcc:/home/ucl/modl/rgouvea/anaconda3/envs/env_tfmodnet/lib/python3.8/site-packages/nvidia/cuda_cupti/lib:/home/ucl/modl/rgouvea/anaconda3/envs/py3.8/lib/python3.8/site-packages/tensorrt:/home/ucl/modl/rgouvea/anaconda3/envs/env_tfmodnet/lib:/home/ucl/modl/rgouvea/anaconda3/envs/env_tfmodnet/lib/python3.8/site-packages/nvidia/cusolver/lib:/auto/home/users/r/g/rgouvea/anaconda3/envs/env_tfmodnet/lib:/auto/home/users/r/g/rgouvea/anaconda3/envs/env_tfmodnet/lib/python3.8/site-packages/nvidia/cuda_runtime/lib:/auto/home/users/r/g/rgouvea/anaconda3/envs/env_tfmodnet/lib/python3.8/site-packages/nvidia/cublas/lib::\n",
      "2024-09-19 21:38:19.922756: W tensorflow/stream_executor/cuda/cuda_driver.cc:263] failed call to cuInit: UNKNOWN ERROR (303)\n",
      "2024-09-19 21:38:19.922779: I tensorflow/stream_executor/cuda/cuda_diagnostics.cc:156] kernel driver does not appear to be running on this host (mbackf2.cism.ucl.ac.be): /proc/driver/nvidia/version does not exist\n",
      "2024-09-19 21:38:19.923131: I tensorflow/core/platform/cpu_feature_guard.cc:193] This TensorFlow binary is optimized with oneAPI Deep Neural Network Library (oneDNN) to use the following CPU instructions in performance-critical operations:  AVX2 AVX512F FMA\n",
      "To enable them in other operations, rebuild TensorFlow with the appropriate compiler flags.\n",
      "2024-09-19 21:38:23.751981: W tensorflow/stream_executor/platform/default/dso_loader.cc:64] Could not load dynamic library 'libcuda.so.1'; dlerror: libcuda.so.1: cannot open shared object file: No such file or directory; LD_LIBRARY_PATH: /home/ucl/modl/rgouvea/anaconda3/pkgs/cudatoolkit-11.2.2-hbe64b41_10/lib/:/home/ucl/modl/rgouvea/anaconda3/envs/env_tfmodnet/lib/python3.8/site-packages/nvidia/cuda_nvcc/:/home/ucl/modl/rgouvea/anaconda3/envs/env_tfmodnet/lib/python3.8/site-packages/nvidia/cuda_cupti/lib/:/home/ucl/modl/rgouvea/anaconda3/envs/py3.8/lib/python3.8/site-packages/tensorrt/:/home/ucl/modl/rgouvea/anaconda3/envs/env_tfmodnet/lib:/home/ucl/modl/rgouvea/anaconda3/envs/env_tfmodnet/lib/python3.8/site-packages/nvidia/cusolver/lib/:/auto/home/users/r/g/rgouvea/anaconda3/envs/env_tfmodnet/lib:/auto/home/users/r/g/rgouvea/anaconda3/envs/env_tfmodnet/lib/python3.8/site-packages/nvidia/cuda_runtime/lib/:/auto/home/users/r/g/rgouvea/anaconda3/envs/env_tfmodnet/lib/python3.8/site-packages/nvidia/cublas/lib/:/opt/sw/arch/easybuild/2020b/software/FFTW/3.3.8-gompic-2020b/lib:/opt/sw/arch/easybuild/2020b/software/OpenMPI/4.0.5-gcccuda-2020b/lib:/opt/sw/arch/easybuild/2020b/software/PMIx/3.1.5-GCCcore-10.2.0/lib:/opt/sw/arch/easybuild/2020b/software/libfabric/1.11.0-GCCcore-10.2.0/lib:/opt/sw/arch/easybuild/2020b/software/UCX/1.9.0-GCCcore-10.2.0-CUDA-11.1.1/lib:/opt/sw/arch/easybuild/2020b/software/GDRCopy/2.1-GCCcore-10.2.0-CUDA-11.1.1/lib:/opt/sw/arch/easybuild/2020b/software/Check/0.15.2-GCCcore-10.2.0/lib:/opt/sw/arch/easybuild/2020b/software/libevent/2.1.12-GCCcore-10.2.0/lib:/opt/sw/arch/easybuild/2020b/software/hwloc/2.2.0-GCCcore-10.2.0/lib:/opt/sw/arch/easybuild/2020b/software/libpciaccess/0.16-GCCcore-10.2.0/lib:/opt/sw/arch/easybuild/2020b/software/libxml2/2.9.10-GCCcore-10.2.0/lib:/opt/sw/arch/easybuild/2020b/software/XZ/5.2.5-GCCcore-10.2.0/lib:/opt/sw/arch/easybuild/2020b/software/numactl/2.0.13-GCCcore-10.2.0/lib:/opt/sw/arch/easybuild/2020b/software/CUDAcore/11.1.1/nvvm/lib64:/opt/sw/arch/easybuild/2020b/software/CUDAcore/11.1.1/extras/CUPTI/lib64:/opt/sw/arch/easybuild/2020b/software/CUDAcore/11.1.1/lib:/opt/sw/arch/easybuild/2020b/software/binutils/2.35-GCCcore-10.2.0/lib:/opt/sw/arch/easybuild/2020b/software/zlib/1.2.11-GCCcore-10.2.0/lib:/opt/sw/arch/easybuild/2020b/software/GCCcore/10.2.0/lib64:/home/ucl/modl/rgouvea/anaconda3/pkgs/cudatoolkit-11.2.2-hbe64b41_10/lib:/home/ucl/modl/rgouvea/anaconda3/envs/env_tfmodnet/lib/python3.8/site-packages/nvidia/cuda_nvcc:/home/ucl/modl/rgouvea/anaconda3/envs/env_tfmodnet/lib/python3.8/site-packages/nvidia/cuda_cupti/lib:/home/ucl/modl/rgouvea/anaconda3/envs/py3.8/lib/python3.8/site-packages/tensorrt:/home/ucl/modl/rgouvea/anaconda3/envs/env_tfmodnet/lib:/home/ucl/modl/rgouvea/anaconda3/envs/env_tfmodnet/lib/python3.8/site-packages/nvidia/cusolver/lib:/auto/home/users/r/g/rgouvea/anaconda3/envs/env_tfmodnet/lib:/auto/home/users/r/g/rgouvea/anaconda3/envs/env_tfmodnet/lib/python3.8/site-packages/nvidia/cuda_runtime/lib:/auto/home/users/r/g/rgouvea/anaconda3/envs/env_tfmodnet/lib/python3.8/site-packages/nvidia/cublas/lib::\n",
      "2024-09-19 21:38:23.752029: W tensorflow/stream_executor/cuda/cuda_driver.cc:263] failed call to cuInit: UNKNOWN ERROR (303)\n",
      "2024-09-19 21:38:23.752063: I tensorflow/stream_executor/cuda/cuda_diagnostics.cc:156] kernel driver does not appear to be running on this host (mbackf2.cism.ucl.ac.be): /proc/driver/nvidia/version does not exist\n",
      "2024-09-19 21:38:23.752507: I tensorflow/core/platform/cpu_feature_guard.cc:193] This TensorFlow binary is optimized with oneAPI Deep Neural Network Library (oneDNN) to use the following CPU instructions in performance-critical operations:  AVX2 AVX512F FMA\n",
      "To enable them in other operations, rebuild TensorFlow with the appropriate compiler flags.\n",
      "2024-09-19 21:38:28.230715: W tensorflow/stream_executor/platform/default/dso_loader.cc:64] Could not load dynamic library 'libcuda.so.1'; dlerror: libcuda.so.1: cannot open shared object file: No such file or directory; LD_LIBRARY_PATH: /home/ucl/modl/rgouvea/anaconda3/pkgs/cudatoolkit-11.2.2-hbe64b41_10/lib/:/home/ucl/modl/rgouvea/anaconda3/envs/env_tfmodnet/lib/python3.8/site-packages/nvidia/cuda_nvcc/:/home/ucl/modl/rgouvea/anaconda3/envs/env_tfmodnet/lib/python3.8/site-packages/nvidia/cuda_cupti/lib/:/home/ucl/modl/rgouvea/anaconda3/envs/py3.8/lib/python3.8/site-packages/tensorrt/:/home/ucl/modl/rgouvea/anaconda3/envs/env_tfmodnet/lib:/home/ucl/modl/rgouvea/anaconda3/envs/env_tfmodnet/lib/python3.8/site-packages/nvidia/cusolver/lib/:/auto/home/users/r/g/rgouvea/anaconda3/envs/env_tfmodnet/lib:/auto/home/users/r/g/rgouvea/anaconda3/envs/env_tfmodnet/lib/python3.8/site-packages/nvidia/cuda_runtime/lib/:/auto/home/users/r/g/rgouvea/anaconda3/envs/env_tfmodnet/lib/python3.8/site-packages/nvidia/cublas/lib/:/opt/sw/arch/easybuild/2020b/software/FFTW/3.3.8-gompic-2020b/lib:/opt/sw/arch/easybuild/2020b/software/OpenMPI/4.0.5-gcccuda-2020b/lib:/opt/sw/arch/easybuild/2020b/software/PMIx/3.1.5-GCCcore-10.2.0/lib:/opt/sw/arch/easybuild/2020b/software/libfabric/1.11.0-GCCcore-10.2.0/lib:/opt/sw/arch/easybuild/2020b/software/UCX/1.9.0-GCCcore-10.2.0-CUDA-11.1.1/lib:/opt/sw/arch/easybuild/2020b/software/GDRCopy/2.1-GCCcore-10.2.0-CUDA-11.1.1/lib:/opt/sw/arch/easybuild/2020b/software/Check/0.15.2-GCCcore-10.2.0/lib:/opt/sw/arch/easybuild/2020b/software/libevent/2.1.12-GCCcore-10.2.0/lib:/opt/sw/arch/easybuild/2020b/software/hwloc/2.2.0-GCCcore-10.2.0/lib:/opt/sw/arch/easybuild/2020b/software/libpciaccess/0.16-GCCcore-10.2.0/lib:/opt/sw/arch/easybuild/2020b/software/libxml2/2.9.10-GCCcore-10.2.0/lib:/opt/sw/arch/easybuild/2020b/software/XZ/5.2.5-GCCcore-10.2.0/lib:/opt/sw/arch/easybuild/2020b/software/numactl/2.0.13-GCCcore-10.2.0/lib:/opt/sw/arch/easybuild/2020b/software/CUDAcore/11.1.1/nvvm/lib64:/opt/sw/arch/easybuild/2020b/software/CUDAcore/11.1.1/extras/CUPTI/lib64:/opt/sw/arch/easybuild/2020b/software/CUDAcore/11.1.1/lib:/opt/sw/arch/easybuild/2020b/software/binutils/2.35-GCCcore-10.2.0/lib:/opt/sw/arch/easybuild/2020b/software/zlib/1.2.11-GCCcore-10.2.0/lib:/opt/sw/arch/easybuild/2020b/software/GCCcore/10.2.0/lib64:/home/ucl/modl/rgouvea/anaconda3/pkgs/cudatoolkit-11.2.2-hbe64b41_10/lib:/home/ucl/modl/rgouvea/anaconda3/envs/env_tfmodnet/lib/python3.8/site-packages/nvidia/cuda_nvcc:/home/ucl/modl/rgouvea/anaconda3/envs/env_tfmodnet/lib/python3.8/site-packages/nvidia/cuda_cupti/lib:/home/ucl/modl/rgouvea/anaconda3/envs/py3.8/lib/python3.8/site-packages/tensorrt:/home/ucl/modl/rgouvea/anaconda3/envs/env_tfmodnet/lib:/home/ucl/modl/rgouvea/anaconda3/envs/env_tfmodnet/lib/python3.8/site-packages/nvidia/cusolver/lib:/auto/home/users/r/g/rgouvea/anaconda3/envs/env_tfmodnet/lib:/auto/home/users/r/g/rgouvea/anaconda3/envs/env_tfmodnet/lib/python3.8/site-packages/nvidia/cuda_runtime/lib:/auto/home/users/r/g/rgouvea/anaconda3/envs/env_tfmodnet/lib/python3.8/site-packages/nvidia/cublas/lib::\n",
      "2024-09-19 21:38:28.230758: W tensorflow/stream_executor/cuda/cuda_driver.cc:263] failed call to cuInit: UNKNOWN ERROR (303)\n",
      "2024-09-19 21:38:28.230788: I tensorflow/stream_executor/cuda/cuda_diagnostics.cc:156] kernel driver does not appear to be running on this host (mbackf2.cism.ucl.ac.be): /proc/driver/nvidia/version does not exist\n",
      "2024-09-19 21:38:28.231126: I tensorflow/core/platform/cpu_feature_guard.cc:193] This TensorFlow binary is optimized with oneAPI Deep Neural Network Library (oneDNN) to use the following CPU instructions in performance-critical operations:  AVX2 AVX512F FMA\n",
      "To enable them in other operations, rebuild TensorFlow with the appropriate compiler flags.\n",
      " 20%|██        | 2/10 [00:43<02:37, 19.72s/it]"
     ]
    },
    {
     "name": "stdout",
     "output_type": "stream",
     "text": [
      "11/11 [==============================] - 0s 1ms/step\n"
     ]
    },
    {
     "name": "stderr",
     "output_type": "stream",
     "text": [
      " 30%|███       | 3/10 [00:45<01:22, 11.72s/it]"
     ]
    },
    {
     "name": "stdout",
     "output_type": "stream",
     "text": [
      "11/11 [==============================] - 0s 2ms/step\n"
     ]
    },
    {
     "name": "stderr",
     "output_type": "stream",
     "text": [
      " 40%|████      | 4/10 [01:02<01:22, 13.80s/it]"
     ]
    },
    {
     "name": "stdout",
     "output_type": "stream",
     "text": [
      "11/11 [==============================] - 0s 1ms/step\n"
     ]
    },
    {
     "name": "stderr",
     "output_type": "stream",
     "text": [
      " 50%|█████     | 5/10 [01:05<00:49,  9.81s/it]"
     ]
    },
    {
     "name": "stdout",
     "output_type": "stream",
     "text": [
      "11/11 [==============================] - 0s 1ms/step\n"
     ]
    },
    {
     "name": "stderr",
     "output_type": "stream",
     "text": [
      " 60%|██████    | 6/10 [01:14<00:38,  9.67s/it]"
     ]
    },
    {
     "name": "stdout",
     "output_type": "stream",
     "text": [
      "11/11 [==============================] - 0s 2ms/step\n"
     ]
    },
    {
     "name": "stderr",
     "output_type": "stream",
     "text": [
      " 70%|███████   | 7/10 [01:16<00:21,  7.07s/it]"
     ]
    },
    {
     "name": "stdout",
     "output_type": "stream",
     "text": [
      "11/11 [==============================] - 0s 2ms/step\n"
     ]
    },
    {
     "name": "stderr",
     "output_type": "stream",
     "text": [
      " 80%|████████  | 8/10 [01:24<00:14,  7.42s/it]"
     ]
    },
    {
     "name": "stdout",
     "output_type": "stream",
     "text": [
      "11/11 [==============================] - 0s 1ms/step\n"
     ]
    },
    {
     "name": "stderr",
     "output_type": "stream",
     "text": [
      " 90%|█████████ | 9/10 [01:28<00:06,  6.27s/it]"
     ]
    },
    {
     "name": "stdout",
     "output_type": "stream",
     "text": [
      "11/11 [==============================] - 0s 1ms/step\n"
     ]
    },
    {
     "name": "stderr",
     "output_type": "stream",
     "text": [
      "100%|██████████| 10/10 [01:28<00:00,  8.87s/it]"
     ]
    },
    {
     "name": "stdout",
     "output_type": "stream",
     "text": [
      "11/11 [==============================] - 0s 1ms/step\n",
      "2024-09-19 21:39:13,723 - modnet - INFO - Loss per individual: ind 0: 0.068 \tind 1: 0.101 \tind 2: 0.083 \tind 3: 0.075 \tind 4: 0.066 \tind 5: 0.076 \tind 6: 0.094 \tind 7: 0.078 \tind 8: 0.099 \tind 9: 0.084 \t\n",
      "2024-09-19 21:39:13,724 - modnet - INFO - Generation number 4\n"
     ]
    },
    {
     "name": "stderr",
     "output_type": "stream",
     "text": [
      "\n",
      "  0%|          | 0/10 [00:00<?, ?it/s]2024-09-19 21:39:17.087977: I tensorflow/core/platform/cpu_feature_guard.cc:193] This TensorFlow binary is optimized with oneAPI Deep Neural Network Library (oneDNN) to use the following CPU instructions in performance-critical operations:  AVX2 AVX512F FMA\n",
      "To enable them in other operations, rebuild TensorFlow with the appropriate compiler flags.\n",
      "2024-09-19 21:39:17.288967: E tensorflow/stream_executor/cuda/cuda_blas.cc:2981] Unable to register cuBLAS factory: Attempting to register factory for plugin cuBLAS when one has already been registered\n",
      "2024-09-19 21:39:19.239249: I tensorflow/core/platform/cpu_feature_guard.cc:193] This TensorFlow binary is optimized with oneAPI Deep Neural Network Library (oneDNN) to use the following CPU instructions in performance-critical operations:  AVX2 AVX512F FMA\n",
      "To enable them in other operations, rebuild TensorFlow with the appropriate compiler flags.\n",
      "2024-09-19 21:39:19.440131: E tensorflow/stream_executor/cuda/cuda_blas.cc:2981] Unable to register cuBLAS factory: Attempting to register factory for plugin cuBLAS when one has already been registered\n",
      "2024-09-19 21:39:21.459252: I tensorflow/core/platform/cpu_feature_guard.cc:193] This TensorFlow binary is optimized with oneAPI Deep Neural Network Library (oneDNN) to use the following CPU instructions in performance-critical operations:  AVX2 AVX512F FMA\n",
      "To enable them in other operations, rebuild TensorFlow with the appropriate compiler flags.\n",
      "2024-09-19 21:39:21.652177: E tensorflow/stream_executor/cuda/cuda_blas.cc:2981] Unable to register cuBLAS factory: Attempting to register factory for plugin cuBLAS when one has already been registered\n",
      "2024-09-19 21:39:23.673902: I tensorflow/core/platform/cpu_feature_guard.cc:193] This TensorFlow binary is optimized with oneAPI Deep Neural Network Library (oneDNN) to use the following CPU instructions in performance-critical operations:  AVX2 AVX512F FMA\n",
      "To enable them in other operations, rebuild TensorFlow with the appropriate compiler flags.\n",
      "2024-09-19 21:39:23.860227: E tensorflow/stream_executor/cuda/cuda_blas.cc:2981] Unable to register cuBLAS factory: Attempting to register factory for plugin cuBLAS when one has already been registered\n",
      "2024-09-19 21:39:25.857869: I tensorflow/core/platform/cpu_feature_guard.cc:193] This TensorFlow binary is optimized with oneAPI Deep Neural Network Library (oneDNN) to use the following CPU instructions in performance-critical operations:  AVX2 AVX512F FMA\n",
      "To enable them in other operations, rebuild TensorFlow with the appropriate compiler flags.\n",
      "2024-09-19 21:39:25.920228: W tensorflow/stream_executor/platform/default/dso_loader.cc:64] Could not load dynamic library 'libcuda.so.1'; dlerror: libcuda.so.1: cannot open shared object file: No such file or directory; LD_LIBRARY_PATH: /home/ucl/modl/rgouvea/anaconda3/pkgs/cudatoolkit-11.2.2-hbe64b41_10/lib/:/home/ucl/modl/rgouvea/anaconda3/envs/env_tfmodnet/lib/python3.8/site-packages/nvidia/cuda_nvcc/:/home/ucl/modl/rgouvea/anaconda3/envs/env_tfmodnet/lib/python3.8/site-packages/nvidia/cuda_cupti/lib/:/home/ucl/modl/rgouvea/anaconda3/envs/py3.8/lib/python3.8/site-packages/tensorrt/:/home/ucl/modl/rgouvea/anaconda3/envs/env_tfmodnet/lib:/home/ucl/modl/rgouvea/anaconda3/envs/env_tfmodnet/lib/python3.8/site-packages/nvidia/cusolver/lib/:/auto/home/users/r/g/rgouvea/anaconda3/envs/env_tfmodnet/lib:/auto/home/users/r/g/rgouvea/anaconda3/envs/env_tfmodnet/lib/python3.8/site-packages/nvidia/cuda_runtime/lib/:/auto/home/users/r/g/rgouvea/anaconda3/envs/env_tfmodnet/lib/python3.8/site-packages/nvidia/cublas/lib/:/opt/sw/arch/easybuild/2020b/software/FFTW/3.3.8-gompic-2020b/lib:/opt/sw/arch/easybuild/2020b/software/OpenMPI/4.0.5-gcccuda-2020b/lib:/opt/sw/arch/easybuild/2020b/software/PMIx/3.1.5-GCCcore-10.2.0/lib:/opt/sw/arch/easybuild/2020b/software/libfabric/1.11.0-GCCcore-10.2.0/lib:/opt/sw/arch/easybuild/2020b/software/UCX/1.9.0-GCCcore-10.2.0-CUDA-11.1.1/lib:/opt/sw/arch/easybuild/2020b/software/GDRCopy/2.1-GCCcore-10.2.0-CUDA-11.1.1/lib:/opt/sw/arch/easybuild/2020b/software/Check/0.15.2-GCCcore-10.2.0/lib:/opt/sw/arch/easybuild/2020b/software/libevent/2.1.12-GCCcore-10.2.0/lib:/opt/sw/arch/easybuild/2020b/software/hwloc/2.2.0-GCCcore-10.2.0/lib:/opt/sw/arch/easybuild/2020b/software/libpciaccess/0.16-GCCcore-10.2.0/lib:/opt/sw/arch/easybuild/2020b/software/libxml2/2.9.10-GCCcore-10.2.0/lib:/opt/sw/arch/easybuild/2020b/software/XZ/5.2.5-GCCcore-10.2.0/lib:/opt/sw/arch/easybuild/2020b/software/numactl/2.0.13-GCCcore-10.2.0/lib:/opt/sw/arch/easybuild/2020b/software/CUDAcore/11.1.1/nvvm/lib64:/opt/sw/arch/easybuild/2020b/software/CUDAcore/11.1.1/extras/CUPTI/lib64:/opt/sw/arch/easybuild/2020b/software/CUDAcore/11.1.1/lib:/opt/sw/arch/easybuild/2020b/software/binutils/2.35-GCCcore-10.2.0/lib:/opt/sw/arch/easybuild/2020b/software/zlib/1.2.11-GCCcore-10.2.0/lib:/opt/sw/arch/easybuild/2020b/software/GCCcore/10.2.0/lib64:/home/ucl/modl/rgouvea/anaconda3/pkgs/cudatoolkit-11.2.2-hbe64b41_10/lib:/home/ucl/modl/rgouvea/anaconda3/envs/env_tfmodnet/lib/python3.8/site-packages/nvidia/cuda_nvcc:/home/ucl/modl/rgouvea/anaconda3/envs/env_tfmodnet/lib/python3.8/site-packages/nvidia/cuda_cupti/lib:/home/ucl/modl/rgouvea/anaconda3/envs/py3.8/lib/python3.8/site-packages/tensorrt:/home/ucl/modl/rgouvea/anaconda3/envs/env_tfmodnet/lib:/home/ucl/modl/rgouvea/anaconda3/envs/env_tfmodnet/lib/python3.8/site-packages/nvidia/cusolver/lib:/auto/home/users/r/g/rgouvea/anaconda3/envs/env_tfmodnet/lib:/auto/home/users/r/g/rgouvea/anaconda3/envs/env_tfmodnet/lib/python3.8/site-packages/nvidia/cuda_runtime/lib:/auto/home/users/r/g/rgouvea/anaconda3/envs/env_tfmodnet/lib/python3.8/site-packages/nvidia/cublas/lib::\n",
      "2024-09-19 21:39:25.920265: W tensorflow/stream_executor/cuda/cuda_driver.cc:263] failed call to cuInit: UNKNOWN ERROR (303)\n",
      "2024-09-19 21:39:25.920288: I tensorflow/stream_executor/cuda/cuda_diagnostics.cc:156] kernel driver does not appear to be running on this host (mbackf2.cism.ucl.ac.be): /proc/driver/nvidia/version does not exist\n",
      "2024-09-19 21:39:25.920522: I tensorflow/core/platform/cpu_feature_guard.cc:193] This TensorFlow binary is optimized with oneAPI Deep Neural Network Library (oneDNN) to use the following CPU instructions in performance-critical operations:  AVX2 AVX512F FMA\n",
      "To enable them in other operations, rebuild TensorFlow with the appropriate compiler flags.\n",
      "2024-09-19 21:39:26.034975: E tensorflow/stream_executor/cuda/cuda_blas.cc:2981] Unable to register cuBLAS factory: Attempting to register factory for plugin cuBLAS when one has already been registered\n",
      "2024-09-19 21:39:28.165682: W tensorflow/stream_executor/platform/default/dso_loader.cc:64] Could not load dynamic library 'libcuda.so.1'; dlerror: libcuda.so.1: cannot open shared object file: No such file or directory; LD_LIBRARY_PATH: /home/ucl/modl/rgouvea/anaconda3/pkgs/cudatoolkit-11.2.2-hbe64b41_10/lib/:/home/ucl/modl/rgouvea/anaconda3/envs/env_tfmodnet/lib/python3.8/site-packages/nvidia/cuda_nvcc/:/home/ucl/modl/rgouvea/anaconda3/envs/env_tfmodnet/lib/python3.8/site-packages/nvidia/cuda_cupti/lib/:/home/ucl/modl/rgouvea/anaconda3/envs/py3.8/lib/python3.8/site-packages/tensorrt/:/home/ucl/modl/rgouvea/anaconda3/envs/env_tfmodnet/lib:/home/ucl/modl/rgouvea/anaconda3/envs/env_tfmodnet/lib/python3.8/site-packages/nvidia/cusolver/lib/:/auto/home/users/r/g/rgouvea/anaconda3/envs/env_tfmodnet/lib:/auto/home/users/r/g/rgouvea/anaconda3/envs/env_tfmodnet/lib/python3.8/site-packages/nvidia/cuda_runtime/lib/:/auto/home/users/r/g/rgouvea/anaconda3/envs/env_tfmodnet/lib/python3.8/site-packages/nvidia/cublas/lib/:/opt/sw/arch/easybuild/2020b/software/FFTW/3.3.8-gompic-2020b/lib:/opt/sw/arch/easybuild/2020b/software/OpenMPI/4.0.5-gcccuda-2020b/lib:/opt/sw/arch/easybuild/2020b/software/PMIx/3.1.5-GCCcore-10.2.0/lib:/opt/sw/arch/easybuild/2020b/software/libfabric/1.11.0-GCCcore-10.2.0/lib:/opt/sw/arch/easybuild/2020b/software/UCX/1.9.0-GCCcore-10.2.0-CUDA-11.1.1/lib:/opt/sw/arch/easybuild/2020b/software/GDRCopy/2.1-GCCcore-10.2.0-CUDA-11.1.1/lib:/opt/sw/arch/easybuild/2020b/software/Check/0.15.2-GCCcore-10.2.0/lib:/opt/sw/arch/easybuild/2020b/software/libevent/2.1.12-GCCcore-10.2.0/lib:/opt/sw/arch/easybuild/2020b/software/hwloc/2.2.0-GCCcore-10.2.0/lib:/opt/sw/arch/easybuild/2020b/software/libpciaccess/0.16-GCCcore-10.2.0/lib:/opt/sw/arch/easybuild/2020b/software/libxml2/2.9.10-GCCcore-10.2.0/lib:/opt/sw/arch/easybuild/2020b/software/XZ/5.2.5-GCCcore-10.2.0/lib:/opt/sw/arch/easybuild/2020b/software/numactl/2.0.13-GCCcore-10.2.0/lib:/opt/sw/arch/easybuild/2020b/software/CUDAcore/11.1.1/nvvm/lib64:/opt/sw/arch/easybuild/2020b/software/CUDAcore/11.1.1/extras/CUPTI/lib64:/opt/sw/arch/easybuild/2020b/software/CUDAcore/11.1.1/lib:/opt/sw/arch/easybuild/2020b/software/binutils/2.35-GCCcore-10.2.0/lib:/opt/sw/arch/easybuild/2020b/software/zlib/1.2.11-GCCcore-10.2.0/lib:/opt/sw/arch/easybuild/2020b/software/GCCcore/10.2.0/lib64:/home/ucl/modl/rgouvea/anaconda3/pkgs/cudatoolkit-11.2.2-hbe64b41_10/lib:/home/ucl/modl/rgouvea/anaconda3/envs/env_tfmodnet/lib/python3.8/site-packages/nvidia/cuda_nvcc:/home/ucl/modl/rgouvea/anaconda3/envs/env_tfmodnet/lib/python3.8/site-packages/nvidia/cuda_cupti/lib:/home/ucl/modl/rgouvea/anaconda3/envs/py3.8/lib/python3.8/site-packages/tensorrt:/home/ucl/modl/rgouvea/anaconda3/envs/env_tfmodnet/lib:/home/ucl/modl/rgouvea/anaconda3/envs/env_tfmodnet/lib/python3.8/site-packages/nvidia/cusolver/lib:/auto/home/users/r/g/rgouvea/anaconda3/envs/env_tfmodnet/lib:/auto/home/users/r/g/rgouvea/anaconda3/envs/env_tfmodnet/lib/python3.8/site-packages/nvidia/cuda_runtime/lib:/auto/home/users/r/g/rgouvea/anaconda3/envs/env_tfmodnet/lib/python3.8/site-packages/nvidia/cublas/lib::\n",
      "2024-09-19 21:39:28.165727: W tensorflow/stream_executor/cuda/cuda_driver.cc:263] failed call to cuInit: UNKNOWN ERROR (303)\n",
      "2024-09-19 21:39:28.165758: I tensorflow/stream_executor/cuda/cuda_diagnostics.cc:156] kernel driver does not appear to be running on this host (mbackf2.cism.ucl.ac.be): /proc/driver/nvidia/version does not exist\n",
      "2024-09-19 21:39:28.166070: I tensorflow/core/platform/cpu_feature_guard.cc:193] This TensorFlow binary is optimized with oneAPI Deep Neural Network Library (oneDNN) to use the following CPU instructions in performance-critical operations:  AVX2 AVX512F FMA\n",
      "To enable them in other operations, rebuild TensorFlow with the appropriate compiler flags.\n",
      "2024-09-19 21:39:28.359438: I tensorflow/core/platform/cpu_feature_guard.cc:193] This TensorFlow binary is optimized with oneAPI Deep Neural Network Library (oneDNN) to use the following CPU instructions in performance-critical operations:  AVX2 AVX512F FMA\n",
      "To enable them in other operations, rebuild TensorFlow with the appropriate compiler flags.\n",
      "2024-09-19 21:39:28.570283: E tensorflow/stream_executor/cuda/cuda_blas.cc:2981] Unable to register cuBLAS factory: Attempting to register factory for plugin cuBLAS when one has already been registered\n",
      "2024-09-19 21:39:30.922261: W tensorflow/stream_executor/platform/default/dso_loader.cc:64] Could not load dynamic library 'libcuda.so.1'; dlerror: libcuda.so.1: cannot open shared object file: No such file or directory; LD_LIBRARY_PATH: /home/ucl/modl/rgouvea/anaconda3/pkgs/cudatoolkit-11.2.2-hbe64b41_10/lib/:/home/ucl/modl/rgouvea/anaconda3/envs/env_tfmodnet/lib/python3.8/site-packages/nvidia/cuda_nvcc/:/home/ucl/modl/rgouvea/anaconda3/envs/env_tfmodnet/lib/python3.8/site-packages/nvidia/cuda_cupti/lib/:/home/ucl/modl/rgouvea/anaconda3/envs/py3.8/lib/python3.8/site-packages/tensorrt/:/home/ucl/modl/rgouvea/anaconda3/envs/env_tfmodnet/lib:/home/ucl/modl/rgouvea/anaconda3/envs/env_tfmodnet/lib/python3.8/site-packages/nvidia/cusolver/lib/:/auto/home/users/r/g/rgouvea/anaconda3/envs/env_tfmodnet/lib:/auto/home/users/r/g/rgouvea/anaconda3/envs/env_tfmodnet/lib/python3.8/site-packages/nvidia/cuda_runtime/lib/:/auto/home/users/r/g/rgouvea/anaconda3/envs/env_tfmodnet/lib/python3.8/site-packages/nvidia/cublas/lib/:/opt/sw/arch/easybuild/2020b/software/FFTW/3.3.8-gompic-2020b/lib:/opt/sw/arch/easybuild/2020b/software/OpenMPI/4.0.5-gcccuda-2020b/lib:/opt/sw/arch/easybuild/2020b/software/PMIx/3.1.5-GCCcore-10.2.0/lib:/opt/sw/arch/easybuild/2020b/software/libfabric/1.11.0-GCCcore-10.2.0/lib:/opt/sw/arch/easybuild/2020b/software/UCX/1.9.0-GCCcore-10.2.0-CUDA-11.1.1/lib:/opt/sw/arch/easybuild/2020b/software/GDRCopy/2.1-GCCcore-10.2.0-CUDA-11.1.1/lib:/opt/sw/arch/easybuild/2020b/software/Check/0.15.2-GCCcore-10.2.0/lib:/opt/sw/arch/easybuild/2020b/software/libevent/2.1.12-GCCcore-10.2.0/lib:/opt/sw/arch/easybuild/2020b/software/hwloc/2.2.0-GCCcore-10.2.0/lib:/opt/sw/arch/easybuild/2020b/software/libpciaccess/0.16-GCCcore-10.2.0/lib:/opt/sw/arch/easybuild/2020b/software/libxml2/2.9.10-GCCcore-10.2.0/lib:/opt/sw/arch/easybuild/2020b/software/XZ/5.2.5-GCCcore-10.2.0/lib:/opt/sw/arch/easybuild/2020b/software/numactl/2.0.13-GCCcore-10.2.0/lib:/opt/sw/arch/easybuild/2020b/software/CUDAcore/11.1.1/nvvm/lib64:/opt/sw/arch/easybuild/2020b/software/CUDAcore/11.1.1/extras/CUPTI/lib64:/opt/sw/arch/easybuild/2020b/software/CUDAcore/11.1.1/lib:/opt/sw/arch/easybuild/2020b/software/binutils/2.35-GCCcore-10.2.0/lib:/opt/sw/arch/easybuild/2020b/software/zlib/1.2.11-GCCcore-10.2.0/lib:/opt/sw/arch/easybuild/2020b/software/GCCcore/10.2.0/lib64:/home/ucl/modl/rgouvea/anaconda3/pkgs/cudatoolkit-11.2.2-hbe64b41_10/lib:/home/ucl/modl/rgouvea/anaconda3/envs/env_tfmodnet/lib/python3.8/site-packages/nvidia/cuda_nvcc:/home/ucl/modl/rgouvea/anaconda3/envs/env_tfmodnet/lib/python3.8/site-packages/nvidia/cuda_cupti/lib:/home/ucl/modl/rgouvea/anaconda3/envs/py3.8/lib/python3.8/site-packages/tensorrt:/home/ucl/modl/rgouvea/anaconda3/envs/env_tfmodnet/lib:/home/ucl/modl/rgouvea/anaconda3/envs/env_tfmodnet/lib/python3.8/site-packages/nvidia/cusolver/lib:/auto/home/users/r/g/rgouvea/anaconda3/envs/env_tfmodnet/lib:/auto/home/users/r/g/rgouvea/anaconda3/envs/env_tfmodnet/lib/python3.8/site-packages/nvidia/cuda_runtime/lib:/auto/home/users/r/g/rgouvea/anaconda3/envs/env_tfmodnet/lib/python3.8/site-packages/nvidia/cublas/lib::\n",
      "2024-09-19 21:39:30.922312: W tensorflow/stream_executor/cuda/cuda_driver.cc:263] failed call to cuInit: UNKNOWN ERROR (303)\n",
      "2024-09-19 21:39:30.922354: I tensorflow/stream_executor/cuda/cuda_diagnostics.cc:156] kernel driver does not appear to be running on this host (mbackf2.cism.ucl.ac.be): /proc/driver/nvidia/version does not exist\n",
      "2024-09-19 21:39:30.922856: I tensorflow/core/platform/cpu_feature_guard.cc:193] This TensorFlow binary is optimized with oneAPI Deep Neural Network Library (oneDNN) to use the following CPU instructions in performance-critical operations:  AVX2 AVX512F FMA\n",
      "To enable them in other operations, rebuild TensorFlow with the appropriate compiler flags.\n",
      "2024-09-19 21:39:31.282740: I tensorflow/core/platform/cpu_feature_guard.cc:193] This TensorFlow binary is optimized with oneAPI Deep Neural Network Library (oneDNN) to use the following CPU instructions in performance-critical operations:  AVX2 AVX512F FMA\n",
      "To enable them in other operations, rebuild TensorFlow with the appropriate compiler flags.\n",
      "2024-09-19 21:39:31.548762: E tensorflow/stream_executor/cuda/cuda_blas.cc:2981] Unable to register cuBLAS factory: Attempting to register factory for plugin cuBLAS when one has already been registered\n",
      "2024-09-19 21:39:33.661510: W tensorflow/stream_executor/platform/default/dso_loader.cc:64] Could not load dynamic library 'libcuda.so.1'; dlerror: libcuda.so.1: cannot open shared object file: No such file or directory; LD_LIBRARY_PATH: /home/ucl/modl/rgouvea/anaconda3/pkgs/cudatoolkit-11.2.2-hbe64b41_10/lib/:/home/ucl/modl/rgouvea/anaconda3/envs/env_tfmodnet/lib/python3.8/site-packages/nvidia/cuda_nvcc/:/home/ucl/modl/rgouvea/anaconda3/envs/env_tfmodnet/lib/python3.8/site-packages/nvidia/cuda_cupti/lib/:/home/ucl/modl/rgouvea/anaconda3/envs/py3.8/lib/python3.8/site-packages/tensorrt/:/home/ucl/modl/rgouvea/anaconda3/envs/env_tfmodnet/lib:/home/ucl/modl/rgouvea/anaconda3/envs/env_tfmodnet/lib/python3.8/site-packages/nvidia/cusolver/lib/:/auto/home/users/r/g/rgouvea/anaconda3/envs/env_tfmodnet/lib:/auto/home/users/r/g/rgouvea/anaconda3/envs/env_tfmodnet/lib/python3.8/site-packages/nvidia/cuda_runtime/lib/:/auto/home/users/r/g/rgouvea/anaconda3/envs/env_tfmodnet/lib/python3.8/site-packages/nvidia/cublas/lib/:/opt/sw/arch/easybuild/2020b/software/FFTW/3.3.8-gompic-2020b/lib:/opt/sw/arch/easybuild/2020b/software/OpenMPI/4.0.5-gcccuda-2020b/lib:/opt/sw/arch/easybuild/2020b/software/PMIx/3.1.5-GCCcore-10.2.0/lib:/opt/sw/arch/easybuild/2020b/software/libfabric/1.11.0-GCCcore-10.2.0/lib:/opt/sw/arch/easybuild/2020b/software/UCX/1.9.0-GCCcore-10.2.0-CUDA-11.1.1/lib:/opt/sw/arch/easybuild/2020b/software/GDRCopy/2.1-GCCcore-10.2.0-CUDA-11.1.1/lib:/opt/sw/arch/easybuild/2020b/software/Check/0.15.2-GCCcore-10.2.0/lib:/opt/sw/arch/easybuild/2020b/software/libevent/2.1.12-GCCcore-10.2.0/lib:/opt/sw/arch/easybuild/2020b/software/hwloc/2.2.0-GCCcore-10.2.0/lib:/opt/sw/arch/easybuild/2020b/software/libpciaccess/0.16-GCCcore-10.2.0/lib:/opt/sw/arch/easybuild/2020b/software/libxml2/2.9.10-GCCcore-10.2.0/lib:/opt/sw/arch/easybuild/2020b/software/XZ/5.2.5-GCCcore-10.2.0/lib:/opt/sw/arch/easybuild/2020b/software/numactl/2.0.13-GCCcore-10.2.0/lib:/opt/sw/arch/easybuild/2020b/software/CUDAcore/11.1.1/nvvm/lib64:/opt/sw/arch/easybuild/2020b/software/CUDAcore/11.1.1/extras/CUPTI/lib64:/opt/sw/arch/easybuild/2020b/software/CUDAcore/11.1.1/lib:/opt/sw/arch/easybuild/2020b/software/binutils/2.35-GCCcore-10.2.0/lib:/opt/sw/arch/easybuild/2020b/software/zlib/1.2.11-GCCcore-10.2.0/lib:/opt/sw/arch/easybuild/2020b/software/GCCcore/10.2.0/lib64:/home/ucl/modl/rgouvea/anaconda3/pkgs/cudatoolkit-11.2.2-hbe64b41_10/lib:/home/ucl/modl/rgouvea/anaconda3/envs/env_tfmodnet/lib/python3.8/site-packages/nvidia/cuda_nvcc:/home/ucl/modl/rgouvea/anaconda3/envs/env_tfmodnet/lib/python3.8/site-packages/nvidia/cuda_cupti/lib:/home/ucl/modl/rgouvea/anaconda3/envs/py3.8/lib/python3.8/site-packages/tensorrt:/home/ucl/modl/rgouvea/anaconda3/envs/env_tfmodnet/lib:/home/ucl/modl/rgouvea/anaconda3/envs/env_tfmodnet/lib/python3.8/site-packages/nvidia/cusolver/lib:/auto/home/users/r/g/rgouvea/anaconda3/envs/env_tfmodnet/lib:/auto/home/users/r/g/rgouvea/anaconda3/envs/env_tfmodnet/lib/python3.8/site-packages/nvidia/cuda_runtime/lib:/auto/home/users/r/g/rgouvea/anaconda3/envs/env_tfmodnet/lib/python3.8/site-packages/nvidia/cublas/lib::\n",
      "2024-09-19 21:39:33.661557: W tensorflow/stream_executor/cuda/cuda_driver.cc:263] failed call to cuInit: UNKNOWN ERROR (303)\n",
      "2024-09-19 21:39:33.661589: I tensorflow/stream_executor/cuda/cuda_diagnostics.cc:156] kernel driver does not appear to be running on this host (mbackf2.cism.ucl.ac.be): /proc/driver/nvidia/version does not exist\n",
      "2024-09-19 21:39:33.661911: I tensorflow/core/platform/cpu_feature_guard.cc:193] This TensorFlow binary is optimized with oneAPI Deep Neural Network Library (oneDNN) to use the following CPU instructions in performance-critical operations:  AVX2 AVX512F FMA\n",
      "To enable them in other operations, rebuild TensorFlow with the appropriate compiler flags.\n",
      "2024-09-19 21:39:34.351466: I tensorflow/core/platform/cpu_feature_guard.cc:193] This TensorFlow binary is optimized with oneAPI Deep Neural Network Library (oneDNN) to use the following CPU instructions in performance-critical operations:  AVX2 AVX512F FMA\n",
      "To enable them in other operations, rebuild TensorFlow with the appropriate compiler flags.\n",
      "2024-09-19 21:39:34.644400: E tensorflow/stream_executor/cuda/cuda_blas.cc:2981] Unable to register cuBLAS factory: Attempting to register factory for plugin cuBLAS when one has already been registered\n",
      "2024-09-19 21:39:37.164687: W tensorflow/stream_executor/platform/default/dso_loader.cc:64] Could not load dynamic library 'libcuda.so.1'; dlerror: libcuda.so.1: cannot open shared object file: No such file or directory; LD_LIBRARY_PATH: /home/ucl/modl/rgouvea/anaconda3/pkgs/cudatoolkit-11.2.2-hbe64b41_10/lib/:/home/ucl/modl/rgouvea/anaconda3/envs/env_tfmodnet/lib/python3.8/site-packages/nvidia/cuda_nvcc/:/home/ucl/modl/rgouvea/anaconda3/envs/env_tfmodnet/lib/python3.8/site-packages/nvidia/cuda_cupti/lib/:/home/ucl/modl/rgouvea/anaconda3/envs/py3.8/lib/python3.8/site-packages/tensorrt/:/home/ucl/modl/rgouvea/anaconda3/envs/env_tfmodnet/lib:/home/ucl/modl/rgouvea/anaconda3/envs/env_tfmodnet/lib/python3.8/site-packages/nvidia/cusolver/lib/:/auto/home/users/r/g/rgouvea/anaconda3/envs/env_tfmodnet/lib:/auto/home/users/r/g/rgouvea/anaconda3/envs/env_tfmodnet/lib/python3.8/site-packages/nvidia/cuda_runtime/lib/:/auto/home/users/r/g/rgouvea/anaconda3/envs/env_tfmodnet/lib/python3.8/site-packages/nvidia/cublas/lib/:/opt/sw/arch/easybuild/2020b/software/FFTW/3.3.8-gompic-2020b/lib:/opt/sw/arch/easybuild/2020b/software/OpenMPI/4.0.5-gcccuda-2020b/lib:/opt/sw/arch/easybuild/2020b/software/PMIx/3.1.5-GCCcore-10.2.0/lib:/opt/sw/arch/easybuild/2020b/software/libfabric/1.11.0-GCCcore-10.2.0/lib:/opt/sw/arch/easybuild/2020b/software/UCX/1.9.0-GCCcore-10.2.0-CUDA-11.1.1/lib:/opt/sw/arch/easybuild/2020b/software/GDRCopy/2.1-GCCcore-10.2.0-CUDA-11.1.1/lib:/opt/sw/arch/easybuild/2020b/software/Check/0.15.2-GCCcore-10.2.0/lib:/opt/sw/arch/easybuild/2020b/software/libevent/2.1.12-GCCcore-10.2.0/lib:/opt/sw/arch/easybuild/2020b/software/hwloc/2.2.0-GCCcore-10.2.0/lib:/opt/sw/arch/easybuild/2020b/software/libpciaccess/0.16-GCCcore-10.2.0/lib:/opt/sw/arch/easybuild/2020b/software/libxml2/2.9.10-GCCcore-10.2.0/lib:/opt/sw/arch/easybuild/2020b/software/XZ/5.2.5-GCCcore-10.2.0/lib:/opt/sw/arch/easybuild/2020b/software/numactl/2.0.13-GCCcore-10.2.0/lib:/opt/sw/arch/easybuild/2020b/software/CUDAcore/11.1.1/nvvm/lib64:/opt/sw/arch/easybuild/2020b/software/CUDAcore/11.1.1/extras/CUPTI/lib64:/opt/sw/arch/easybuild/2020b/software/CUDAcore/11.1.1/lib:/opt/sw/arch/easybuild/2020b/software/binutils/2.35-GCCcore-10.2.0/lib:/opt/sw/arch/easybuild/2020b/software/zlib/1.2.11-GCCcore-10.2.0/lib:/opt/sw/arch/easybuild/2020b/software/GCCcore/10.2.0/lib64:/home/ucl/modl/rgouvea/anaconda3/pkgs/cudatoolkit-11.2.2-hbe64b41_10/lib:/home/ucl/modl/rgouvea/anaconda3/envs/env_tfmodnet/lib/python3.8/site-packages/nvidia/cuda_nvcc:/home/ucl/modl/rgouvea/anaconda3/envs/env_tfmodnet/lib/python3.8/site-packages/nvidia/cuda_cupti/lib:/home/ucl/modl/rgouvea/anaconda3/envs/py3.8/lib/python3.8/site-packages/tensorrt:/home/ucl/modl/rgouvea/anaconda3/envs/env_tfmodnet/lib:/home/ucl/modl/rgouvea/anaconda3/envs/env_tfmodnet/lib/python3.8/site-packages/nvidia/cusolver/lib:/auto/home/users/r/g/rgouvea/anaconda3/envs/env_tfmodnet/lib:/auto/home/users/r/g/rgouvea/anaconda3/envs/env_tfmodnet/lib/python3.8/site-packages/nvidia/cuda_runtime/lib:/auto/home/users/r/g/rgouvea/anaconda3/envs/env_tfmodnet/lib/python3.8/site-packages/nvidia/cublas/lib::\n",
      "2024-09-19 21:39:37.164729: W tensorflow/stream_executor/cuda/cuda_driver.cc:263] failed call to cuInit: UNKNOWN ERROR (303)\n",
      "2024-09-19 21:39:37.164756: I tensorflow/stream_executor/cuda/cuda_diagnostics.cc:156] kernel driver does not appear to be running on this host (mbackf2.cism.ucl.ac.be): /proc/driver/nvidia/version does not exist\n",
      "2024-09-19 21:39:37.165131: I tensorflow/core/platform/cpu_feature_guard.cc:193] This TensorFlow binary is optimized with oneAPI Deep Neural Network Library (oneDNN) to use the following CPU instructions in performance-critical operations:  AVX2 AVX512F FMA\n",
      "To enable them in other operations, rebuild TensorFlow with the appropriate compiler flags.\n",
      "2024-09-19 21:39:40.627417: W tensorflow/stream_executor/platform/default/dso_loader.cc:64] Could not load dynamic library 'libcuda.so.1'; dlerror: libcuda.so.1: cannot open shared object file: No such file or directory; LD_LIBRARY_PATH: /home/ucl/modl/rgouvea/anaconda3/pkgs/cudatoolkit-11.2.2-hbe64b41_10/lib/:/home/ucl/modl/rgouvea/anaconda3/envs/env_tfmodnet/lib/python3.8/site-packages/nvidia/cuda_nvcc/:/home/ucl/modl/rgouvea/anaconda3/envs/env_tfmodnet/lib/python3.8/site-packages/nvidia/cuda_cupti/lib/:/home/ucl/modl/rgouvea/anaconda3/envs/py3.8/lib/python3.8/site-packages/tensorrt/:/home/ucl/modl/rgouvea/anaconda3/envs/env_tfmodnet/lib:/home/ucl/modl/rgouvea/anaconda3/envs/env_tfmodnet/lib/python3.8/site-packages/nvidia/cusolver/lib/:/auto/home/users/r/g/rgouvea/anaconda3/envs/env_tfmodnet/lib:/auto/home/users/r/g/rgouvea/anaconda3/envs/env_tfmodnet/lib/python3.8/site-packages/nvidia/cuda_runtime/lib/:/auto/home/users/r/g/rgouvea/anaconda3/envs/env_tfmodnet/lib/python3.8/site-packages/nvidia/cublas/lib/:/opt/sw/arch/easybuild/2020b/software/FFTW/3.3.8-gompic-2020b/lib:/opt/sw/arch/easybuild/2020b/software/OpenMPI/4.0.5-gcccuda-2020b/lib:/opt/sw/arch/easybuild/2020b/software/PMIx/3.1.5-GCCcore-10.2.0/lib:/opt/sw/arch/easybuild/2020b/software/libfabric/1.11.0-GCCcore-10.2.0/lib:/opt/sw/arch/easybuild/2020b/software/UCX/1.9.0-GCCcore-10.2.0-CUDA-11.1.1/lib:/opt/sw/arch/easybuild/2020b/software/GDRCopy/2.1-GCCcore-10.2.0-CUDA-11.1.1/lib:/opt/sw/arch/easybuild/2020b/software/Check/0.15.2-GCCcore-10.2.0/lib:/opt/sw/arch/easybuild/2020b/software/libevent/2.1.12-GCCcore-10.2.0/lib:/opt/sw/arch/easybuild/2020b/software/hwloc/2.2.0-GCCcore-10.2.0/lib:/opt/sw/arch/easybuild/2020b/software/libpciaccess/0.16-GCCcore-10.2.0/lib:/opt/sw/arch/easybuild/2020b/software/libxml2/2.9.10-GCCcore-10.2.0/lib:/opt/sw/arch/easybuild/2020b/software/XZ/5.2.5-GCCcore-10.2.0/lib:/opt/sw/arch/easybuild/2020b/software/numactl/2.0.13-GCCcore-10.2.0/lib:/opt/sw/arch/easybuild/2020b/software/CUDAcore/11.1.1/nvvm/lib64:/opt/sw/arch/easybuild/2020b/software/CUDAcore/11.1.1/extras/CUPTI/lib64:/opt/sw/arch/easybuild/2020b/software/CUDAcore/11.1.1/lib:/opt/sw/arch/easybuild/2020b/software/binutils/2.35-GCCcore-10.2.0/lib:/opt/sw/arch/easybuild/2020b/software/zlib/1.2.11-GCCcore-10.2.0/lib:/opt/sw/arch/easybuild/2020b/software/GCCcore/10.2.0/lib64:/home/ucl/modl/rgouvea/anaconda3/pkgs/cudatoolkit-11.2.2-hbe64b41_10/lib:/home/ucl/modl/rgouvea/anaconda3/envs/env_tfmodnet/lib/python3.8/site-packages/nvidia/cuda_nvcc:/home/ucl/modl/rgouvea/anaconda3/envs/env_tfmodnet/lib/python3.8/site-packages/nvidia/cuda_cupti/lib:/home/ucl/modl/rgouvea/anaconda3/envs/py3.8/lib/python3.8/site-packages/tensorrt:/home/ucl/modl/rgouvea/anaconda3/envs/env_tfmodnet/lib:/home/ucl/modl/rgouvea/anaconda3/envs/env_tfmodnet/lib/python3.8/site-packages/nvidia/cusolver/lib:/auto/home/users/r/g/rgouvea/anaconda3/envs/env_tfmodnet/lib:/auto/home/users/r/g/rgouvea/anaconda3/envs/env_tfmodnet/lib/python3.8/site-packages/nvidia/cuda_runtime/lib:/auto/home/users/r/g/rgouvea/anaconda3/envs/env_tfmodnet/lib/python3.8/site-packages/nvidia/cublas/lib::\n",
      "2024-09-19 21:39:40.627457: W tensorflow/stream_executor/cuda/cuda_driver.cc:263] failed call to cuInit: UNKNOWN ERROR (303)\n",
      "2024-09-19 21:39:40.627480: I tensorflow/stream_executor/cuda/cuda_diagnostics.cc:156] kernel driver does not appear to be running on this host (mbackf2.cism.ucl.ac.be): /proc/driver/nvidia/version does not exist\n",
      "2024-09-19 21:39:40.627821: I tensorflow/core/platform/cpu_feature_guard.cc:193] This TensorFlow binary is optimized with oneAPI Deep Neural Network Library (oneDNN) to use the following CPU instructions in performance-critical operations:  AVX2 AVX512F FMA\n",
      "To enable them in other operations, rebuild TensorFlow with the appropriate compiler flags.\n",
      "2024-09-19 21:39:45.048285: W tensorflow/stream_executor/platform/default/dso_loader.cc:64] Could not load dynamic library 'libcuda.so.1'; dlerror: libcuda.so.1: cannot open shared object file: No such file or directory; LD_LIBRARY_PATH: /home/ucl/modl/rgouvea/anaconda3/pkgs/cudatoolkit-11.2.2-hbe64b41_10/lib/:/home/ucl/modl/rgouvea/anaconda3/envs/env_tfmodnet/lib/python3.8/site-packages/nvidia/cuda_nvcc/:/home/ucl/modl/rgouvea/anaconda3/envs/env_tfmodnet/lib/python3.8/site-packages/nvidia/cuda_cupti/lib/:/home/ucl/modl/rgouvea/anaconda3/envs/py3.8/lib/python3.8/site-packages/tensorrt/:/home/ucl/modl/rgouvea/anaconda3/envs/env_tfmodnet/lib:/home/ucl/modl/rgouvea/anaconda3/envs/env_tfmodnet/lib/python3.8/site-packages/nvidia/cusolver/lib/:/auto/home/users/r/g/rgouvea/anaconda3/envs/env_tfmodnet/lib:/auto/home/users/r/g/rgouvea/anaconda3/envs/env_tfmodnet/lib/python3.8/site-packages/nvidia/cuda_runtime/lib/:/auto/home/users/r/g/rgouvea/anaconda3/envs/env_tfmodnet/lib/python3.8/site-packages/nvidia/cublas/lib/:/opt/sw/arch/easybuild/2020b/software/FFTW/3.3.8-gompic-2020b/lib:/opt/sw/arch/easybuild/2020b/software/OpenMPI/4.0.5-gcccuda-2020b/lib:/opt/sw/arch/easybuild/2020b/software/PMIx/3.1.5-GCCcore-10.2.0/lib:/opt/sw/arch/easybuild/2020b/software/libfabric/1.11.0-GCCcore-10.2.0/lib:/opt/sw/arch/easybuild/2020b/software/UCX/1.9.0-GCCcore-10.2.0-CUDA-11.1.1/lib:/opt/sw/arch/easybuild/2020b/software/GDRCopy/2.1-GCCcore-10.2.0-CUDA-11.1.1/lib:/opt/sw/arch/easybuild/2020b/software/Check/0.15.2-GCCcore-10.2.0/lib:/opt/sw/arch/easybuild/2020b/software/libevent/2.1.12-GCCcore-10.2.0/lib:/opt/sw/arch/easybuild/2020b/software/hwloc/2.2.0-GCCcore-10.2.0/lib:/opt/sw/arch/easybuild/2020b/software/libpciaccess/0.16-GCCcore-10.2.0/lib:/opt/sw/arch/easybuild/2020b/software/libxml2/2.9.10-GCCcore-10.2.0/lib:/opt/sw/arch/easybuild/2020b/software/XZ/5.2.5-GCCcore-10.2.0/lib:/opt/sw/arch/easybuild/2020b/software/numactl/2.0.13-GCCcore-10.2.0/lib:/opt/sw/arch/easybuild/2020b/software/CUDAcore/11.1.1/nvvm/lib64:/opt/sw/arch/easybuild/2020b/software/CUDAcore/11.1.1/extras/CUPTI/lib64:/opt/sw/arch/easybuild/2020b/software/CUDAcore/11.1.1/lib:/opt/sw/arch/easybuild/2020b/software/binutils/2.35-GCCcore-10.2.0/lib:/opt/sw/arch/easybuild/2020b/software/zlib/1.2.11-GCCcore-10.2.0/lib:/opt/sw/arch/easybuild/2020b/software/GCCcore/10.2.0/lib64:/home/ucl/modl/rgouvea/anaconda3/pkgs/cudatoolkit-11.2.2-hbe64b41_10/lib:/home/ucl/modl/rgouvea/anaconda3/envs/env_tfmodnet/lib/python3.8/site-packages/nvidia/cuda_nvcc:/home/ucl/modl/rgouvea/anaconda3/envs/env_tfmodnet/lib/python3.8/site-packages/nvidia/cuda_cupti/lib:/home/ucl/modl/rgouvea/anaconda3/envs/py3.8/lib/python3.8/site-packages/tensorrt:/home/ucl/modl/rgouvea/anaconda3/envs/env_tfmodnet/lib:/home/ucl/modl/rgouvea/anaconda3/envs/env_tfmodnet/lib/python3.8/site-packages/nvidia/cusolver/lib:/auto/home/users/r/g/rgouvea/anaconda3/envs/env_tfmodnet/lib:/auto/home/users/r/g/rgouvea/anaconda3/envs/env_tfmodnet/lib/python3.8/site-packages/nvidia/cuda_runtime/lib:/auto/home/users/r/g/rgouvea/anaconda3/envs/env_tfmodnet/lib/python3.8/site-packages/nvidia/cublas/lib::\n",
      "2024-09-19 21:39:45.048332: W tensorflow/stream_executor/cuda/cuda_driver.cc:263] failed call to cuInit: UNKNOWN ERROR (303)\n",
      "2024-09-19 21:39:45.048357: I tensorflow/stream_executor/cuda/cuda_diagnostics.cc:156] kernel driver does not appear to be running on this host (mbackf2.cism.ucl.ac.be): /proc/driver/nvidia/version does not exist\n",
      "2024-09-19 21:39:45.048697: I tensorflow/core/platform/cpu_feature_guard.cc:193] This TensorFlow binary is optimized with oneAPI Deep Neural Network Library (oneDNN) to use the following CPU instructions in performance-critical operations:  AVX2 AVX512F FMA\n",
      "To enable them in other operations, rebuild TensorFlow with the appropriate compiler flags.\n",
      "2024-09-19 21:39:49.412578: W tensorflow/stream_executor/platform/default/dso_loader.cc:64] Could not load dynamic library 'libcuda.so.1'; dlerror: libcuda.so.1: cannot open shared object file: No such file or directory; LD_LIBRARY_PATH: /home/ucl/modl/rgouvea/anaconda3/pkgs/cudatoolkit-11.2.2-hbe64b41_10/lib/:/home/ucl/modl/rgouvea/anaconda3/envs/env_tfmodnet/lib/python3.8/site-packages/nvidia/cuda_nvcc/:/home/ucl/modl/rgouvea/anaconda3/envs/env_tfmodnet/lib/python3.8/site-packages/nvidia/cuda_cupti/lib/:/home/ucl/modl/rgouvea/anaconda3/envs/py3.8/lib/python3.8/site-packages/tensorrt/:/home/ucl/modl/rgouvea/anaconda3/envs/env_tfmodnet/lib:/home/ucl/modl/rgouvea/anaconda3/envs/env_tfmodnet/lib/python3.8/site-packages/nvidia/cusolver/lib/:/auto/home/users/r/g/rgouvea/anaconda3/envs/env_tfmodnet/lib:/auto/home/users/r/g/rgouvea/anaconda3/envs/env_tfmodnet/lib/python3.8/site-packages/nvidia/cuda_runtime/lib/:/auto/home/users/r/g/rgouvea/anaconda3/envs/env_tfmodnet/lib/python3.8/site-packages/nvidia/cublas/lib/:/opt/sw/arch/easybuild/2020b/software/FFTW/3.3.8-gompic-2020b/lib:/opt/sw/arch/easybuild/2020b/software/OpenMPI/4.0.5-gcccuda-2020b/lib:/opt/sw/arch/easybuild/2020b/software/PMIx/3.1.5-GCCcore-10.2.0/lib:/opt/sw/arch/easybuild/2020b/software/libfabric/1.11.0-GCCcore-10.2.0/lib:/opt/sw/arch/easybuild/2020b/software/UCX/1.9.0-GCCcore-10.2.0-CUDA-11.1.1/lib:/opt/sw/arch/easybuild/2020b/software/GDRCopy/2.1-GCCcore-10.2.0-CUDA-11.1.1/lib:/opt/sw/arch/easybuild/2020b/software/Check/0.15.2-GCCcore-10.2.0/lib:/opt/sw/arch/easybuild/2020b/software/libevent/2.1.12-GCCcore-10.2.0/lib:/opt/sw/arch/easybuild/2020b/software/hwloc/2.2.0-GCCcore-10.2.0/lib:/opt/sw/arch/easybuild/2020b/software/libpciaccess/0.16-GCCcore-10.2.0/lib:/opt/sw/arch/easybuild/2020b/software/libxml2/2.9.10-GCCcore-10.2.0/lib:/opt/sw/arch/easybuild/2020b/software/XZ/5.2.5-GCCcore-10.2.0/lib:/opt/sw/arch/easybuild/2020b/software/numactl/2.0.13-GCCcore-10.2.0/lib:/opt/sw/arch/easybuild/2020b/software/CUDAcore/11.1.1/nvvm/lib64:/opt/sw/arch/easybuild/2020b/software/CUDAcore/11.1.1/extras/CUPTI/lib64:/opt/sw/arch/easybuild/2020b/software/CUDAcore/11.1.1/lib:/opt/sw/arch/easybuild/2020b/software/binutils/2.35-GCCcore-10.2.0/lib:/opt/sw/arch/easybuild/2020b/software/zlib/1.2.11-GCCcore-10.2.0/lib:/opt/sw/arch/easybuild/2020b/software/GCCcore/10.2.0/lib64:/home/ucl/modl/rgouvea/anaconda3/pkgs/cudatoolkit-11.2.2-hbe64b41_10/lib:/home/ucl/modl/rgouvea/anaconda3/envs/env_tfmodnet/lib/python3.8/site-packages/nvidia/cuda_nvcc:/home/ucl/modl/rgouvea/anaconda3/envs/env_tfmodnet/lib/python3.8/site-packages/nvidia/cuda_cupti/lib:/home/ucl/modl/rgouvea/anaconda3/envs/py3.8/lib/python3.8/site-packages/tensorrt:/home/ucl/modl/rgouvea/anaconda3/envs/env_tfmodnet/lib:/home/ucl/modl/rgouvea/anaconda3/envs/env_tfmodnet/lib/python3.8/site-packages/nvidia/cusolver/lib:/auto/home/users/r/g/rgouvea/anaconda3/envs/env_tfmodnet/lib:/auto/home/users/r/g/rgouvea/anaconda3/envs/env_tfmodnet/lib/python3.8/site-packages/nvidia/cuda_runtime/lib:/auto/home/users/r/g/rgouvea/anaconda3/envs/env_tfmodnet/lib/python3.8/site-packages/nvidia/cublas/lib::\n",
      "2024-09-19 21:39:49.412624: W tensorflow/stream_executor/cuda/cuda_driver.cc:263] failed call to cuInit: UNKNOWN ERROR (303)\n",
      "2024-09-19 21:39:49.412653: I tensorflow/stream_executor/cuda/cuda_diagnostics.cc:156] kernel driver does not appear to be running on this host (mbackf2.cism.ucl.ac.be): /proc/driver/nvidia/version does not exist\n",
      "2024-09-19 21:39:49.413102: I tensorflow/core/platform/cpu_feature_guard.cc:193] This TensorFlow binary is optimized with oneAPI Deep Neural Network Library (oneDNN) to use the following CPU instructions in performance-critical operations:  AVX2 AVX512F FMA\n",
      "To enable them in other operations, rebuild TensorFlow with the appropriate compiler flags.\n",
      " 10%|█         | 1/10 [00:53<08:02, 53.62s/it]"
     ]
    },
    {
     "name": "stdout",
     "output_type": "stream",
     "text": [
      "11/11 [==============================] - 0s 2ms/step\n"
     ]
    },
    {
     "name": "stderr",
     "output_type": "stream",
     "text": [
      " 20%|██        | 2/10 [00:55<03:06, 23.36s/it]"
     ]
    },
    {
     "name": "stdout",
     "output_type": "stream",
     "text": [
      "11/11 [==============================] - 0s 2ms/step\n",
      "11/11 [==============================] - 0s 2ms/step\n"
     ]
    },
    {
     "name": "stderr",
     "output_type": "stream",
     "text": [
      " 40%|████      | 4/10 [01:02<00:58,  9.70s/it]"
     ]
    },
    {
     "name": "stdout",
     "output_type": "stream",
     "text": [
      "11/11 [==============================] - 0s 1ms/step\n"
     ]
    },
    {
     "name": "stderr",
     "output_type": "stream",
     "text": [
      " 50%|█████     | 5/10 [01:08<00:41,  8.23s/it]"
     ]
    },
    {
     "name": "stdout",
     "output_type": "stream",
     "text": [
      "11/11 [==============================] - 0s 1ms/step\n"
     ]
    },
    {
     "name": "stderr",
     "output_type": "stream",
     "text": [
      " 60%|██████    | 6/10 [01:14<00:30,  7.61s/it]"
     ]
    },
    {
     "name": "stdout",
     "output_type": "stream",
     "text": [
      "11/11 [==============================] - 0s 1ms/step\n"
     ]
    },
    {
     "name": "stderr",
     "output_type": "stream",
     "text": [
      " 70%|███████   | 7/10 [01:19<00:20,  6.71s/it]"
     ]
    },
    {
     "name": "stdout",
     "output_type": "stream",
     "text": [
      "11/11 [==============================] - 0s 1ms/step\n"
     ]
    },
    {
     "name": "stderr",
     "output_type": "stream",
     "text": [
      " 80%|████████  | 8/10 [01:22<00:10,  5.45s/it]"
     ]
    },
    {
     "name": "stdout",
     "output_type": "stream",
     "text": [
      "11/11 [==============================] - 0s 1ms/step\n"
     ]
    },
    {
     "name": "stderr",
     "output_type": "stream",
     "text": [
      " 90%|█████████ | 9/10 [01:25<00:04,  4.64s/it]"
     ]
    },
    {
     "name": "stdout",
     "output_type": "stream",
     "text": [
      "11/11 [==============================] - 0s 1ms/step\n"
     ]
    },
    {
     "name": "stderr",
     "output_type": "stream",
     "text": [
      "100%|██████████| 10/10 [01:50<00:00, 11.07s/it]"
     ]
    },
    {
     "name": "stdout",
     "output_type": "stream",
     "text": [
      "11/11 [==============================] - 0s 2ms/step\n",
      "2024-09-19 21:41:05,432 - modnet - INFO - Loss per individual: ind 0: 0.074 \tind 1: 0.066 \tind 2: 0.071 \tind 3: 0.078 \tind 4: 0.075 \tind 5: 0.077 \tind 6: 0.071 \tind 7: 0.079 \tind 8: 0.078 \tind 9: 0.069 \t\n",
      "2024-09-19 21:41:05,433 - modnet - INFO - Early stopping: same best model for 4 consecutive generations\n",
      "2024-09-19 21:41:05,433 - modnet - INFO - Early stopping at generation number 4\n"
     ]
    },
    {
     "name": "stderr",
     "output_type": "stream",
     "text": [
      "\n"
     ]
    },
    {
     "name": "stdout",
     "output_type": "stream",
     "text": [
      "2024-09-19 21:41:07,915 - modnet - INFO - Refit...\n",
      "2024-09-19 21:41:08,043 - modnet - INFO - Generating bootstrap data...\n"
     ]
    },
    {
     "name": "stderr",
     "output_type": "stream",
     "text": [
      "  0%|          | 0/3 [00:00<?, ?it/s]2024-09-19 21:41:18.111351: I tensorflow/core/platform/cpu_feature_guard.cc:193] This TensorFlow binary is optimized with oneAPI Deep Neural Network Library (oneDNN) to use the following CPU instructions in performance-critical operations:  AVX2 AVX512F FMA\n",
      "To enable them in other operations, rebuild TensorFlow with the appropriate compiler flags.\n",
      "2024-09-19 21:41:18.314245: E tensorflow/stream_executor/cuda/cuda_blas.cc:2981] Unable to register cuBLAS factory: Attempting to register factory for plugin cuBLAS when one has already been registered\n",
      "2024-09-19 21:41:19.711986: I tensorflow/core/platform/cpu_feature_guard.cc:193] This TensorFlow binary is optimized with oneAPI Deep Neural Network Library (oneDNN) to use the following CPU instructions in performance-critical operations:  AVX2 AVX512F FMA\n",
      "To enable them in other operations, rebuild TensorFlow with the appropriate compiler flags.\n",
      "2024-09-19 21:41:19.903874: E tensorflow/stream_executor/cuda/cuda_blas.cc:2981] Unable to register cuBLAS factory: Attempting to register factory for plugin cuBLAS when one has already been registered\n",
      "2024-09-19 21:41:21.291161: I tensorflow/core/platform/cpu_feature_guard.cc:193] This TensorFlow binary is optimized with oneAPI Deep Neural Network Library (oneDNN) to use the following CPU instructions in performance-critical operations:  AVX2 AVX512F FMA\n",
      "To enable them in other operations, rebuild TensorFlow with the appropriate compiler flags.\n",
      "2024-09-19 21:41:21.487096: E tensorflow/stream_executor/cuda/cuda_blas.cc:2981] Unable to register cuBLAS factory: Attempting to register factory for plugin cuBLAS when one has already been registered\n",
      "2024-09-19 21:41:25.581003: W tensorflow/stream_executor/platform/default/dso_loader.cc:64] Could not load dynamic library 'libcuda.so.1'; dlerror: libcuda.so.1: cannot open shared object file: No such file or directory; LD_LIBRARY_PATH: /home/ucl/modl/rgouvea/anaconda3/pkgs/cudatoolkit-11.2.2-hbe64b41_10/lib/:/home/ucl/modl/rgouvea/anaconda3/envs/env_tfmodnet/lib/python3.8/site-packages/nvidia/cuda_nvcc/:/home/ucl/modl/rgouvea/anaconda3/envs/env_tfmodnet/lib/python3.8/site-packages/nvidia/cuda_cupti/lib/:/home/ucl/modl/rgouvea/anaconda3/envs/py3.8/lib/python3.8/site-packages/tensorrt/:/home/ucl/modl/rgouvea/anaconda3/envs/env_tfmodnet/lib:/home/ucl/modl/rgouvea/anaconda3/envs/env_tfmodnet/lib/python3.8/site-packages/nvidia/cusolver/lib/:/auto/home/users/r/g/rgouvea/anaconda3/envs/env_tfmodnet/lib:/auto/home/users/r/g/rgouvea/anaconda3/envs/env_tfmodnet/lib/python3.8/site-packages/nvidia/cuda_runtime/lib/:/auto/home/users/r/g/rgouvea/anaconda3/envs/env_tfmodnet/lib/python3.8/site-packages/nvidia/cublas/lib/:/opt/sw/arch/easybuild/2020b/software/FFTW/3.3.8-gompic-2020b/lib:/opt/sw/arch/easybuild/2020b/software/OpenMPI/4.0.5-gcccuda-2020b/lib:/opt/sw/arch/easybuild/2020b/software/PMIx/3.1.5-GCCcore-10.2.0/lib:/opt/sw/arch/easybuild/2020b/software/libfabric/1.11.0-GCCcore-10.2.0/lib:/opt/sw/arch/easybuild/2020b/software/UCX/1.9.0-GCCcore-10.2.0-CUDA-11.1.1/lib:/opt/sw/arch/easybuild/2020b/software/GDRCopy/2.1-GCCcore-10.2.0-CUDA-11.1.1/lib:/opt/sw/arch/easybuild/2020b/software/Check/0.15.2-GCCcore-10.2.0/lib:/opt/sw/arch/easybuild/2020b/software/libevent/2.1.12-GCCcore-10.2.0/lib:/opt/sw/arch/easybuild/2020b/software/hwloc/2.2.0-GCCcore-10.2.0/lib:/opt/sw/arch/easybuild/2020b/software/libpciaccess/0.16-GCCcore-10.2.0/lib:/opt/sw/arch/easybuild/2020b/software/libxml2/2.9.10-GCCcore-10.2.0/lib:/opt/sw/arch/easybuild/2020b/software/XZ/5.2.5-GCCcore-10.2.0/lib:/opt/sw/arch/easybuild/2020b/software/numactl/2.0.13-GCCcore-10.2.0/lib:/opt/sw/arch/easybuild/2020b/software/CUDAcore/11.1.1/nvvm/lib64:/opt/sw/arch/easybuild/2020b/software/CUDAcore/11.1.1/extras/CUPTI/lib64:/opt/sw/arch/easybuild/2020b/software/CUDAcore/11.1.1/lib:/opt/sw/arch/easybuild/2020b/software/binutils/2.35-GCCcore-10.2.0/lib:/opt/sw/arch/easybuild/2020b/software/zlib/1.2.11-GCCcore-10.2.0/lib:/opt/sw/arch/easybuild/2020b/software/GCCcore/10.2.0/lib64:/home/ucl/modl/rgouvea/anaconda3/pkgs/cudatoolkit-11.2.2-hbe64b41_10/lib:/home/ucl/modl/rgouvea/anaconda3/envs/env_tfmodnet/lib/python3.8/site-packages/nvidia/cuda_nvcc:/home/ucl/modl/rgouvea/anaconda3/envs/env_tfmodnet/lib/python3.8/site-packages/nvidia/cuda_cupti/lib:/home/ucl/modl/rgouvea/anaconda3/envs/py3.8/lib/python3.8/site-packages/tensorrt:/home/ucl/modl/rgouvea/anaconda3/envs/env_tfmodnet/lib:/home/ucl/modl/rgouvea/anaconda3/envs/env_tfmodnet/lib/python3.8/site-packages/nvidia/cusolver/lib:/auto/home/users/r/g/rgouvea/anaconda3/envs/env_tfmodnet/lib:/auto/home/users/r/g/rgouvea/anaconda3/envs/env_tfmodnet/lib/python3.8/site-packages/nvidia/cuda_runtime/lib:/auto/home/users/r/g/rgouvea/anaconda3/envs/env_tfmodnet/lib/python3.8/site-packages/nvidia/cublas/lib::\n",
      "2024-09-19 21:41:25.581052: W tensorflow/stream_executor/cuda/cuda_driver.cc:263] failed call to cuInit: UNKNOWN ERROR (303)\n",
      "2024-09-19 21:41:25.581083: I tensorflow/stream_executor/cuda/cuda_diagnostics.cc:156] kernel driver does not appear to be running on this host (mbackf2.cism.ucl.ac.be): /proc/driver/nvidia/version does not exist\n",
      "2024-09-19 21:41:25.581368: I tensorflow/core/platform/cpu_feature_guard.cc:193] This TensorFlow binary is optimized with oneAPI Deep Neural Network Library (oneDNN) to use the following CPU instructions in performance-critical operations:  AVX2 AVX512F FMA\n",
      "To enable them in other operations, rebuild TensorFlow with the appropriate compiler flags.\n",
      "2024-09-19 21:41:26.789752: W tensorflow/stream_executor/platform/default/dso_loader.cc:64] Could not load dynamic library 'libcuda.so.1'; dlerror: libcuda.so.1: cannot open shared object file: No such file or directory; LD_LIBRARY_PATH: /home/ucl/modl/rgouvea/anaconda3/pkgs/cudatoolkit-11.2.2-hbe64b41_10/lib/:/home/ucl/modl/rgouvea/anaconda3/envs/env_tfmodnet/lib/python3.8/site-packages/nvidia/cuda_nvcc/:/home/ucl/modl/rgouvea/anaconda3/envs/env_tfmodnet/lib/python3.8/site-packages/nvidia/cuda_cupti/lib/:/home/ucl/modl/rgouvea/anaconda3/envs/py3.8/lib/python3.8/site-packages/tensorrt/:/home/ucl/modl/rgouvea/anaconda3/envs/env_tfmodnet/lib:/home/ucl/modl/rgouvea/anaconda3/envs/env_tfmodnet/lib/python3.8/site-packages/nvidia/cusolver/lib/:/auto/home/users/r/g/rgouvea/anaconda3/envs/env_tfmodnet/lib:/auto/home/users/r/g/rgouvea/anaconda3/envs/env_tfmodnet/lib/python3.8/site-packages/nvidia/cuda_runtime/lib/:/auto/home/users/r/g/rgouvea/anaconda3/envs/env_tfmodnet/lib/python3.8/site-packages/nvidia/cublas/lib/:/opt/sw/arch/easybuild/2020b/software/FFTW/3.3.8-gompic-2020b/lib:/opt/sw/arch/easybuild/2020b/software/OpenMPI/4.0.5-gcccuda-2020b/lib:/opt/sw/arch/easybuild/2020b/software/PMIx/3.1.5-GCCcore-10.2.0/lib:/opt/sw/arch/easybuild/2020b/software/libfabric/1.11.0-GCCcore-10.2.0/lib:/opt/sw/arch/easybuild/2020b/software/UCX/1.9.0-GCCcore-10.2.0-CUDA-11.1.1/lib:/opt/sw/arch/easybuild/2020b/software/GDRCopy/2.1-GCCcore-10.2.0-CUDA-11.1.1/lib:/opt/sw/arch/easybuild/2020b/software/Check/0.15.2-GCCcore-10.2.0/lib:/opt/sw/arch/easybuild/2020b/software/libevent/2.1.12-GCCcore-10.2.0/lib:/opt/sw/arch/easybuild/2020b/software/hwloc/2.2.0-GCCcore-10.2.0/lib:/opt/sw/arch/easybuild/2020b/software/libpciaccess/0.16-GCCcore-10.2.0/lib:/opt/sw/arch/easybuild/2020b/software/libxml2/2.9.10-GCCcore-10.2.0/lib:/opt/sw/arch/easybuild/2020b/software/XZ/5.2.5-GCCcore-10.2.0/lib:/opt/sw/arch/easybuild/2020b/software/numactl/2.0.13-GCCcore-10.2.0/lib:/opt/sw/arch/easybuild/2020b/software/CUDAcore/11.1.1/nvvm/lib64:/opt/sw/arch/easybuild/2020b/software/CUDAcore/11.1.1/extras/CUPTI/lib64:/opt/sw/arch/easybuild/2020b/software/CUDAcore/11.1.1/lib:/opt/sw/arch/easybuild/2020b/software/binutils/2.35-GCCcore-10.2.0/lib:/opt/sw/arch/easybuild/2020b/software/zlib/1.2.11-GCCcore-10.2.0/lib:/opt/sw/arch/easybuild/2020b/software/GCCcore/10.2.0/lib64:/home/ucl/modl/rgouvea/anaconda3/pkgs/cudatoolkit-11.2.2-hbe64b41_10/lib:/home/ucl/modl/rgouvea/anaconda3/envs/env_tfmodnet/lib/python3.8/site-packages/nvidia/cuda_nvcc:/home/ucl/modl/rgouvea/anaconda3/envs/env_tfmodnet/lib/python3.8/site-packages/nvidia/cuda_cupti/lib:/home/ucl/modl/rgouvea/anaconda3/envs/py3.8/lib/python3.8/site-packages/tensorrt:/home/ucl/modl/rgouvea/anaconda3/envs/env_tfmodnet/lib:/home/ucl/modl/rgouvea/anaconda3/envs/env_tfmodnet/lib/python3.8/site-packages/nvidia/cusolver/lib:/auto/home/users/r/g/rgouvea/anaconda3/envs/env_tfmodnet/lib:/auto/home/users/r/g/rgouvea/anaconda3/envs/env_tfmodnet/lib/python3.8/site-packages/nvidia/cuda_runtime/lib:/auto/home/users/r/g/rgouvea/anaconda3/envs/env_tfmodnet/lib/python3.8/site-packages/nvidia/cublas/lib::\n",
      "2024-09-19 21:41:26.789791: W tensorflow/stream_executor/cuda/cuda_driver.cc:263] failed call to cuInit: UNKNOWN ERROR (303)\n",
      "2024-09-19 21:41:26.789818: I tensorflow/stream_executor/cuda/cuda_diagnostics.cc:156] kernel driver does not appear to be running on this host (mbackf2.cism.ucl.ac.be): /proc/driver/nvidia/version does not exist\n",
      "2024-09-19 21:41:26.790021: I tensorflow/core/platform/cpu_feature_guard.cc:193] This TensorFlow binary is optimized with oneAPI Deep Neural Network Library (oneDNN) to use the following CPU instructions in performance-critical operations:  AVX2 AVX512F FMA\n",
      "To enable them in other operations, rebuild TensorFlow with the appropriate compiler flags.\n",
      "2024-09-19 21:41:28.773086: W tensorflow/stream_executor/platform/default/dso_loader.cc:64] Could not load dynamic library 'libcuda.so.1'; dlerror: libcuda.so.1: cannot open shared object file: No such file or directory; LD_LIBRARY_PATH: /home/ucl/modl/rgouvea/anaconda3/pkgs/cudatoolkit-11.2.2-hbe64b41_10/lib/:/home/ucl/modl/rgouvea/anaconda3/envs/env_tfmodnet/lib/python3.8/site-packages/nvidia/cuda_nvcc/:/home/ucl/modl/rgouvea/anaconda3/envs/env_tfmodnet/lib/python3.8/site-packages/nvidia/cuda_cupti/lib/:/home/ucl/modl/rgouvea/anaconda3/envs/py3.8/lib/python3.8/site-packages/tensorrt/:/home/ucl/modl/rgouvea/anaconda3/envs/env_tfmodnet/lib:/home/ucl/modl/rgouvea/anaconda3/envs/env_tfmodnet/lib/python3.8/site-packages/nvidia/cusolver/lib/:/auto/home/users/r/g/rgouvea/anaconda3/envs/env_tfmodnet/lib:/auto/home/users/r/g/rgouvea/anaconda3/envs/env_tfmodnet/lib/python3.8/site-packages/nvidia/cuda_runtime/lib/:/auto/home/users/r/g/rgouvea/anaconda3/envs/env_tfmodnet/lib/python3.8/site-packages/nvidia/cublas/lib/:/opt/sw/arch/easybuild/2020b/software/FFTW/3.3.8-gompic-2020b/lib:/opt/sw/arch/easybuild/2020b/software/OpenMPI/4.0.5-gcccuda-2020b/lib:/opt/sw/arch/easybuild/2020b/software/PMIx/3.1.5-GCCcore-10.2.0/lib:/opt/sw/arch/easybuild/2020b/software/libfabric/1.11.0-GCCcore-10.2.0/lib:/opt/sw/arch/easybuild/2020b/software/UCX/1.9.0-GCCcore-10.2.0-CUDA-11.1.1/lib:/opt/sw/arch/easybuild/2020b/software/GDRCopy/2.1-GCCcore-10.2.0-CUDA-11.1.1/lib:/opt/sw/arch/easybuild/2020b/software/Check/0.15.2-GCCcore-10.2.0/lib:/opt/sw/arch/easybuild/2020b/software/libevent/2.1.12-GCCcore-10.2.0/lib:/opt/sw/arch/easybuild/2020b/software/hwloc/2.2.0-GCCcore-10.2.0/lib:/opt/sw/arch/easybuild/2020b/software/libpciaccess/0.16-GCCcore-10.2.0/lib:/opt/sw/arch/easybuild/2020b/software/libxml2/2.9.10-GCCcore-10.2.0/lib:/opt/sw/arch/easybuild/2020b/software/XZ/5.2.5-GCCcore-10.2.0/lib:/opt/sw/arch/easybuild/2020b/software/numactl/2.0.13-GCCcore-10.2.0/lib:/opt/sw/arch/easybuild/2020b/software/CUDAcore/11.1.1/nvvm/lib64:/opt/sw/arch/easybuild/2020b/software/CUDAcore/11.1.1/extras/CUPTI/lib64:/opt/sw/arch/easybuild/2020b/software/CUDAcore/11.1.1/lib:/opt/sw/arch/easybuild/2020b/software/binutils/2.35-GCCcore-10.2.0/lib:/opt/sw/arch/easybuild/2020b/software/zlib/1.2.11-GCCcore-10.2.0/lib:/opt/sw/arch/easybuild/2020b/software/GCCcore/10.2.0/lib64:/home/ucl/modl/rgouvea/anaconda3/pkgs/cudatoolkit-11.2.2-hbe64b41_10/lib:/home/ucl/modl/rgouvea/anaconda3/envs/env_tfmodnet/lib/python3.8/site-packages/nvidia/cuda_nvcc:/home/ucl/modl/rgouvea/anaconda3/envs/env_tfmodnet/lib/python3.8/site-packages/nvidia/cuda_cupti/lib:/home/ucl/modl/rgouvea/anaconda3/envs/py3.8/lib/python3.8/site-packages/tensorrt:/home/ucl/modl/rgouvea/anaconda3/envs/env_tfmodnet/lib:/home/ucl/modl/rgouvea/anaconda3/envs/env_tfmodnet/lib/python3.8/site-packages/nvidia/cusolver/lib:/auto/home/users/r/g/rgouvea/anaconda3/envs/env_tfmodnet/lib:/auto/home/users/r/g/rgouvea/anaconda3/envs/env_tfmodnet/lib/python3.8/site-packages/nvidia/cuda_runtime/lib:/auto/home/users/r/g/rgouvea/anaconda3/envs/env_tfmodnet/lib/python3.8/site-packages/nvidia/cublas/lib::\n",
      "2024-09-19 21:41:28.773138: W tensorflow/stream_executor/cuda/cuda_driver.cc:263] failed call to cuInit: UNKNOWN ERROR (303)\n",
      "2024-09-19 21:41:28.773184: I tensorflow/stream_executor/cuda/cuda_diagnostics.cc:156] kernel driver does not appear to be running on this host (mbackf2.cism.ucl.ac.be): /proc/driver/nvidia/version does not exist\n",
      "2024-09-19 21:41:28.773453: I tensorflow/core/platform/cpu_feature_guard.cc:193] This TensorFlow binary is optimized with oneAPI Deep Neural Network Library (oneDNN) to use the following CPU instructions in performance-critical operations:  AVX2 AVX512F FMA\n",
      "To enable them in other operations, rebuild TensorFlow with the appropriate compiler flags.\n"
     ]
    },
    {
     "name": "stdout",
     "output_type": "stream",
     "text": [
      "2024-09-19 21:42:27,164 - modnet - INFO - Model #0\tloss: 0.0252\tmae: 0.0252\t\n"
     ]
    },
    {
     "name": "stderr",
     "output_type": "stream",
     "text": [
      " 33%|███▎      | 1/3 [01:11<02:23, 71.68s/it]"
     ]
    },
    {
     "name": "stdout",
     "output_type": "stream",
     "text": [
      "2024-09-19 21:42:36,268 - modnet - INFO - Model #1\tloss: 0.0206\tmae: 0.0206\t\n"
     ]
    },
    {
     "name": "stderr",
     "output_type": "stream",
     "text": [
      " 67%|██████▋   | 2/3 [01:20<00:34, 34.87s/it]"
     ]
    },
    {
     "name": "stdout",
     "output_type": "stream",
     "text": [
      "2024-09-19 21:42:40,853 - modnet - INFO - Model #2\tloss: 0.0197\tmae: 0.0197\t\n"
     ]
    },
    {
     "name": "stderr",
     "output_type": "stream",
     "text": [
      "100%|██████████| 3/3 [01:25<00:00, 28.46s/it]\n"
     ]
    },
    {
     "name": "stdout",
     "output_type": "stream",
     "text": [
      "2024-09-19 21:42:42,255 - modnet - INFO - Model successfully saved as out/MODNet_ref_index_bestGA_debreuck!\n",
      "Model saved in out/MODNet_ref_index_bestGA_debreuck\n"
     ]
    }
   ],
   "source": [
    "# We proceed to train the model with the truncated features\n",
    "md.feature_selection(n=-1, n_jobs=48) # cross nmi might take some time...\n",
    "md.save('data/md_ref_index_debreuck.pkl')\n",
    "\n",
    "# now we train the model with the FitGenetic algorithm\n",
    "from modnet.hyper_opt.fit_genetic import FitGenetic\n",
    "ga_settings = {\"size_pop\": 10, \"num_generations\": 5, \"n_jobs\": 48, \n",
    "                    \"refit\": 3, \"nested\" : 0 }\n",
    "model_name = f'out/MODNet_ref_index_bestGA_debreuck'\n",
    "ga = FitGenetic(md)\n",
    "best_model_simple = ga.run(**ga_settings)\n",
    "best_model_simple.save(model_name)\n",
    "print(f'Model saved in {model_name}')"
   ]
  },
  {
   "cell_type": "code",
   "execution_count": 15,
   "metadata": {},
   "outputs": [
    {
     "name": "stdout",
     "output_type": "stream",
     "text": [
      "2024-09-20 02:34:22,646 - modnet - INFO - Loaded <modnet.models.ensemble.EnsembleMODNetModel object at 0x7fe334adb790> object, created with modnet version 0.2.1\n",
      "101/101 [==============================] - 0s 1ms/step\n"
     ]
    },
    {
     "name": "stdout",
     "output_type": "stream",
     "text": [
      "101/101 [==============================] - 0s 2ms/step\n",
      "101/101 [==============================] - 0s 1ms/step\n",
      "MAE_train - No GNN: 0.032476192163888\n",
      "MSE_train - No GNN: 0.005879206210804342\n",
      "R2_train - No GNN: 0.9675239482067189\n"
     ]
    }
   ],
   "source": [
    "# load the model\n",
    "model_name = f'out/MODNet_ref_index_bestGA_debreuck'\n",
    "best_model_simple = MODNetModel.load(model_name)\n",
    "\n",
    "# we proceed to evaluate the performance of the model in the train data\n",
    "train_results = best_model_simple.predict(md)\n",
    "# Get statistics of the evaluation comparing with target data.\n",
    "y_true = md.df_targets.values.flatten()\n",
    "y_pred = train_results.values.flatten()\n",
    "\n",
    "mae_train_simple = mean_absolute_error(y_true, y_pred)\n",
    "mse_train_simple = mean_squared_error(y_true, y_pred)\n",
    "r2_train_simple = r2_score(y_true, y_pred)\n",
    "\n",
    "print(f'MAE_train - No GNN: {mae_train_simple}')\n",
    "print(f'MSE_train - No GNN: {mse_train_simple}')\n",
    "print(f'R2_train - No GNN: {r2_train_simple}')\n"
   ]
  },
  {
   "cell_type": "code",
   "execution_count": 16,
   "metadata": {},
   "outputs": [
    {
     "name": "stdout",
     "output_type": "stream",
     "text": [
      "Truncated dataframe, now has 591 columns\n",
      "['AtomicOrbitals|HOMO_character', 'AtomicOrbitals|HOMO_element', 'AtomicOrbitals|HOMO_energy', 'AtomicOrbitals|LUMO_character', 'AtomicOrbitals|LUMO_element']\n",
      "['AtomicOrbitals|LUMO_energy', 'AtomicOrbitals|gap_AO', 'AtomicPackingEfficiency|mean simul. packing efficiency', 'AtomicPackingEfficiency|mean abs simul. packing efficiency', 'AtomicPackingEfficiency|dist from 1 clusters |APE| < 0.010']\n",
      "['AtomicPackingEfficiency|dist from 3 clusters |APE| < 0.010', 'AtomicPackingEfficiency|dist from 5 clusters |APE| < 0.010', 'BandCenter|band center', 'ElementFraction|H', 'ElementFraction|He']\n",
      "['ElementFraction|Li', 'ElementFraction|Be', 'ElementFraction|B', 'ElementFraction|C', 'ElementFraction|N']\n",
      "['ElementFraction|O', 'ElementFraction|F', 'ElementFraction|Ne', 'ElementFraction|Na', 'ElementFraction|Mg']\n",
      "['ElementFraction|Al', 'ElementFraction|Si', 'ElementFraction|P', 'ElementFraction|S', 'ElementFraction|Cl']\n",
      "['ElementFraction|Ar', 'ElementFraction|K', 'ElementFraction|Ca', 'ElementFraction|Sc', 'ElementFraction|Ti']\n",
      "['ElementFraction|V', 'ElementFraction|Cr', 'ElementFraction|Mn', 'ElementFraction|Fe', 'ElementFraction|Co']\n",
      "['ElementFraction|Ni', 'ElementFraction|Cu', 'ElementFraction|Zn', 'ElementFraction|Ga', 'ElementFraction|Ge']\n",
      "['ElementFraction|As', 'ElementFraction|Se', 'ElementFraction|Br', 'ElementFraction|Kr', 'ElementFraction|Rb']\n",
      "['ElementFraction|Sr', 'ElementFraction|Y', 'ElementFraction|Zr', 'ElementFraction|Nb', 'ElementFraction|Mo']\n",
      "['ElementFraction|Tc', 'ElementFraction|Ru', 'ElementFraction|Rh', 'ElementFraction|Pd', 'ElementFraction|Ag']\n",
      "['ElementFraction|Cd', 'ElementFraction|In', 'ElementFraction|Sn', 'ElementFraction|Sb', 'ElementFraction|Te']\n",
      "['ElementFraction|I', 'ElementFraction|Xe', 'ElementFraction|Cs', 'ElementFraction|Ba', 'ElementFraction|La']\n",
      "['ElementFraction|Ce', 'ElementFraction|Pr', 'ElementFraction|Nd', 'ElementFraction|Pm', 'ElementFraction|Sm']\n",
      "['ElementFraction|Eu', 'ElementFraction|Gd', 'ElementFraction|Tb', 'ElementFraction|Dy', 'ElementFraction|Ho']\n",
      "['ElementFraction|Er', 'ElementFraction|Tm', 'ElementFraction|Yb', 'ElementFraction|Lu', 'ElementFraction|Hf']\n",
      "['ElementFraction|Ta', 'ElementFraction|W', 'ElementFraction|Re', 'ElementFraction|Os', 'ElementFraction|Ir']\n",
      "['ElementFraction|Pt', 'ElementFraction|Au', 'ElementFraction|Hg', 'ElementFraction|Tl', 'ElementFraction|Pb']\n",
      "['ElementFraction|Bi', 'ElementFraction|Po', 'ElementFraction|At', 'ElementFraction|Rn', 'ElementFraction|Fr']\n",
      "['ElementFraction|Ra', 'ElementFraction|Ac', 'ElementFraction|Th', 'ElementFraction|Pa', 'ElementFraction|U']\n",
      "['ElementFraction|Np', 'ElementFraction|Pu', 'ElementFraction|Am', 'ElementFraction|Cm', 'ElementFraction|Bk']\n",
      "['ElementFraction|Cf', 'ElementFraction|Es', 'ElementFraction|Fm', 'ElementFraction|Md', 'ElementFraction|No']\n",
      "['ElementFraction|Lr', 'ElementProperty|MagpieData minimum Number', 'ElementProperty|MagpieData maximum Number', 'ElementProperty|MagpieData range Number', 'ElementProperty|MagpieData mean Number']\n",
      "['ElementProperty|MagpieData avg_dev Number', 'ElementProperty|MagpieData mode Number', 'ElementProperty|MagpieData minimum MendeleevNumber', 'ElementProperty|MagpieData maximum MendeleevNumber', 'ElementProperty|MagpieData range MendeleevNumber']\n",
      "['ElementProperty|MagpieData mean MendeleevNumber', 'ElementProperty|MagpieData avg_dev MendeleevNumber', 'ElementProperty|MagpieData mode MendeleevNumber', 'ElementProperty|MagpieData minimum AtomicWeight', 'ElementProperty|MagpieData maximum AtomicWeight']\n",
      "['ElementProperty|MagpieData range AtomicWeight', 'ElementProperty|MagpieData mean AtomicWeight', 'ElementProperty|MagpieData avg_dev AtomicWeight', 'ElementProperty|MagpieData mode AtomicWeight', 'ElementProperty|MagpieData minimum MeltingT']\n",
      "['ElementProperty|MagpieData maximum MeltingT', 'ElementProperty|MagpieData range MeltingT', 'ElementProperty|MagpieData mean MeltingT', 'ElementProperty|MagpieData avg_dev MeltingT', 'ElementProperty|MagpieData mode MeltingT']\n",
      "['ElementProperty|MagpieData minimum Column', 'ElementProperty|MagpieData maximum Column', 'ElementProperty|MagpieData range Column', 'ElementProperty|MagpieData mean Column', 'ElementProperty|MagpieData avg_dev Column']\n",
      "['ElementProperty|MagpieData mode Column', 'ElementProperty|MagpieData minimum Row', 'ElementProperty|MagpieData maximum Row', 'ElementProperty|MagpieData range Row', 'ElementProperty|MagpieData mean Row']\n",
      "['ElementProperty|MagpieData avg_dev Row', 'ElementProperty|MagpieData mode Row', 'ElementProperty|MagpieData minimum CovalentRadius', 'ElementProperty|MagpieData maximum CovalentRadius', 'ElementProperty|MagpieData range CovalentRadius']\n",
      "['ElementProperty|MagpieData mean CovalentRadius', 'ElementProperty|MagpieData avg_dev CovalentRadius', 'ElementProperty|MagpieData mode CovalentRadius', 'ElementProperty|MagpieData minimum Electronegativity', 'ElementProperty|MagpieData maximum Electronegativity']\n",
      "['ElementProperty|MagpieData range Electronegativity', 'ElementProperty|MagpieData mean Electronegativity', 'ElementProperty|MagpieData avg_dev Electronegativity', 'ElementProperty|MagpieData mode Electronegativity', 'ElementProperty|MagpieData minimum NsValence']\n",
      "['ElementProperty|MagpieData maximum NsValence', 'ElementProperty|MagpieData range NsValence', 'ElementProperty|MagpieData mean NsValence', 'ElementProperty|MagpieData avg_dev NsValence', 'ElementProperty|MagpieData mode NsValence']\n",
      "['ElementProperty|MagpieData minimum NpValence', 'ElementProperty|MagpieData maximum NpValence', 'ElementProperty|MagpieData range NpValence', 'ElementProperty|MagpieData mean NpValence', 'ElementProperty|MagpieData avg_dev NpValence']\n",
      "['ElementProperty|MagpieData mode NpValence', 'ElementProperty|MagpieData minimum NdValence', 'ElementProperty|MagpieData maximum NdValence', 'ElementProperty|MagpieData range NdValence', 'ElementProperty|MagpieData mean NdValence']\n",
      "['ElementProperty|MagpieData avg_dev NdValence', 'ElementProperty|MagpieData mode NdValence', 'ElementProperty|MagpieData minimum NfValence', 'ElementProperty|MagpieData maximum NfValence', 'ElementProperty|MagpieData range NfValence']\n",
      "['ElementProperty|MagpieData mean NfValence', 'ElementProperty|MagpieData avg_dev NfValence', 'ElementProperty|MagpieData mode NfValence', 'ElementProperty|MagpieData minimum NValence', 'ElementProperty|MagpieData maximum NValence']\n",
      "['ElementProperty|MagpieData range NValence', 'ElementProperty|MagpieData mean NValence', 'ElementProperty|MagpieData avg_dev NValence', 'ElementProperty|MagpieData mode NValence', 'ElementProperty|MagpieData minimum NsUnfilled']\n",
      "['ElementProperty|MagpieData maximum NsUnfilled', 'ElementProperty|MagpieData range NsUnfilled', 'ElementProperty|MagpieData mean NsUnfilled', 'ElementProperty|MagpieData avg_dev NsUnfilled', 'ElementProperty|MagpieData mode NsUnfilled']\n",
      "['ElementProperty|MagpieData minimum NpUnfilled', 'ElementProperty|MagpieData maximum NpUnfilled', 'ElementProperty|MagpieData range NpUnfilled', 'ElementProperty|MagpieData mean NpUnfilled', 'ElementProperty|MagpieData avg_dev NpUnfilled']\n",
      "['ElementProperty|MagpieData mode NpUnfilled', 'ElementProperty|MagpieData minimum NdUnfilled', 'ElementProperty|MagpieData maximum NdUnfilled', 'ElementProperty|MagpieData range NdUnfilled', 'ElementProperty|MagpieData mean NdUnfilled']\n",
      "['ElementProperty|MagpieData avg_dev NdUnfilled', 'ElementProperty|MagpieData mode NdUnfilled', 'ElementProperty|MagpieData minimum NfUnfilled', 'ElementProperty|MagpieData maximum NfUnfilled', 'ElementProperty|MagpieData range NfUnfilled']\n",
      "['ElementProperty|MagpieData mean NfUnfilled', 'ElementProperty|MagpieData avg_dev NfUnfilled', 'ElementProperty|MagpieData mode NfUnfilled', 'ElementProperty|MagpieData minimum NUnfilled', 'ElementProperty|MagpieData maximum NUnfilled']\n",
      "['ElementProperty|MagpieData range NUnfilled', 'ElementProperty|MagpieData mean NUnfilled', 'ElementProperty|MagpieData avg_dev NUnfilled', 'ElementProperty|MagpieData mode NUnfilled', 'ElementProperty|MagpieData minimum GSvolume_pa']\n",
      "['ElementProperty|MagpieData maximum GSvolume_pa', 'ElementProperty|MagpieData range GSvolume_pa', 'ElementProperty|MagpieData mean GSvolume_pa', 'ElementProperty|MagpieData avg_dev GSvolume_pa', 'ElementProperty|MagpieData mode GSvolume_pa']\n",
      "['ElementProperty|MagpieData minimum GSbandgap', 'ElementProperty|MagpieData maximum GSbandgap', 'ElementProperty|MagpieData range GSbandgap', 'ElementProperty|MagpieData mean GSbandgap', 'ElementProperty|MagpieData avg_dev GSbandgap']\n",
      "['ElementProperty|MagpieData mode GSbandgap', 'ElementProperty|MagpieData minimum GSmagmom', 'ElementProperty|MagpieData maximum GSmagmom', 'ElementProperty|MagpieData range GSmagmom', 'ElementProperty|MagpieData mean GSmagmom']\n",
      "['ElementProperty|MagpieData avg_dev GSmagmom', 'ElementProperty|MagpieData mode GSmagmom', 'ElementProperty|MagpieData minimum SpaceGroupNumber', 'ElementProperty|MagpieData maximum SpaceGroupNumber', 'ElementProperty|MagpieData range SpaceGroupNumber']\n",
      "['ElementProperty|MagpieData mean SpaceGroupNumber', 'ElementProperty|MagpieData avg_dev SpaceGroupNumber', 'ElementProperty|MagpieData mode SpaceGroupNumber', 'IonProperty|max ionic char', 'IonProperty|avg ionic char']\n",
      "['Miedema|Miedema_deltaH_inter', 'Miedema|Miedema_deltaH_amor', 'Miedema|Miedema_deltaH_ss_min', 'Stoichiometry|0-norm', 'Stoichiometry|2-norm']\n",
      "['Stoichiometry|3-norm', 'Stoichiometry|5-norm', 'Stoichiometry|7-norm', 'Stoichiometry|10-norm', 'TMetalFraction|transition metal fraction']\n",
      "['ValenceOrbital|avg s valence electrons', 'ValenceOrbital|avg p valence electrons', 'ValenceOrbital|avg d valence electrons', 'ValenceOrbital|avg f valence electrons', 'ValenceOrbital|frac s valence electrons']\n",
      "['ValenceOrbital|frac p valence electrons', 'ValenceOrbital|frac d valence electrons', 'ValenceOrbital|frac f valence electrons', 'YangSolidSolution|Yang omega', 'YangSolidSolution|Yang delta']\n",
      "['ElectronegativityDiff|minimum EN difference', 'ElectronegativityDiff|maximum EN difference', 'ElectronegativityDiff|range EN difference', 'ElectronegativityDiff|mean EN difference', 'ElectronegativityDiff|std_dev EN difference']\n",
      "['OxidationStates|minimum oxidation state', 'OxidationStates|maximum oxidation state', 'OxidationStates|range oxidation state', 'OxidationStates|std_dev oxidation state', 'DensityFeatures|density']\n",
      "['DensityFeatures|vpa', 'DensityFeatures|packing fraction', 'GlobalSymmetryFeatures|spacegroup_num', 'GlobalSymmetryFeatures|crystal_system', 'GlobalSymmetryFeatures|crystal_system_int']\n",
      "['GlobalSymmetryFeatures|is_centrosymmetric', 'GlobalSymmetryFeatures|n_symmetry_ops', 'SineCoulombMatrix|sine coulomb matrix eig 0', 'SineCoulombMatrix|sine coulomb matrix eig 1', 'SineCoulombMatrix|sine coulomb matrix eig 2']\n",
      "['SineCoulombMatrix|sine coulomb matrix eig 3', 'SineCoulombMatrix|sine coulomb matrix eig 4', 'SineCoulombMatrix|sine coulomb matrix eig 5', 'SineCoulombMatrix|sine coulomb matrix eig 6', 'SineCoulombMatrix|sine coulomb matrix eig 7']\n",
      "['SineCoulombMatrix|sine coulomb matrix eig 8', 'SineCoulombMatrix|sine coulomb matrix eig 9', 'SineCoulombMatrix|sine coulomb matrix eig 10', 'SineCoulombMatrix|sine coulomb matrix eig 11', 'SineCoulombMatrix|sine coulomb matrix eig 12']\n",
      "['SineCoulombMatrix|sine coulomb matrix eig 13', 'SineCoulombMatrix|sine coulomb matrix eig 14', 'SineCoulombMatrix|sine coulomb matrix eig 15', 'SineCoulombMatrix|sine coulomb matrix eig 16', 'SineCoulombMatrix|sine coulomb matrix eig 17']\n",
      "['SineCoulombMatrix|sine coulomb matrix eig 18', 'SineCoulombMatrix|sine coulomb matrix eig 19', 'SineCoulombMatrix|sine coulomb matrix eig 20', 'SineCoulombMatrix|sine coulomb matrix eig 21', 'SineCoulombMatrix|sine coulomb matrix eig 22']\n",
      "['SineCoulombMatrix|sine coulomb matrix eig 23', 'SineCoulombMatrix|sine coulomb matrix eig 24', 'SineCoulombMatrix|sine coulomb matrix eig 25', 'SineCoulombMatrix|sine coulomb matrix eig 26', 'SineCoulombMatrix|sine coulomb matrix eig 27']\n",
      "['SineCoulombMatrix|sine coulomb matrix eig 28', 'SineCoulombMatrix|sine coulomb matrix eig 29', 'SineCoulombMatrix|sine coulomb matrix eig 30', 'SineCoulombMatrix|sine coulomb matrix eig 31', 'SineCoulombMatrix|sine coulomb matrix eig 32']\n",
      "['SineCoulombMatrix|sine coulomb matrix eig 33', 'SineCoulombMatrix|sine coulomb matrix eig 34', 'SineCoulombMatrix|sine coulomb matrix eig 35', 'SineCoulombMatrix|sine coulomb matrix eig 36', 'SineCoulombMatrix|sine coulomb matrix eig 37']\n",
      "['SineCoulombMatrix|sine coulomb matrix eig 38', 'SineCoulombMatrix|sine coulomb matrix eig 39', 'SineCoulombMatrix|sine coulomb matrix eig 40', 'SineCoulombMatrix|sine coulomb matrix eig 41', 'SineCoulombMatrix|sine coulomb matrix eig 42']\n",
      "['SineCoulombMatrix|sine coulomb matrix eig 43', 'SineCoulombMatrix|sine coulomb matrix eig 44', 'SineCoulombMatrix|sine coulomb matrix eig 45', 'SineCoulombMatrix|sine coulomb matrix eig 46', 'SineCoulombMatrix|sine coulomb matrix eig 47']\n",
      "['SineCoulombMatrix|sine coulomb matrix eig 48', 'SineCoulombMatrix|sine coulomb matrix eig 49', 'SineCoulombMatrix|sine coulomb matrix eig 50', 'SineCoulombMatrix|sine coulomb matrix eig 51', 'SineCoulombMatrix|sine coulomb matrix eig 52']\n",
      "['SineCoulombMatrix|sine coulomb matrix eig 53', 'SineCoulombMatrix|sine coulomb matrix eig 54', 'SineCoulombMatrix|sine coulomb matrix eig 55', 'SineCoulombMatrix|sine coulomb matrix eig 56', 'SineCoulombMatrix|sine coulomb matrix eig 57']\n",
      "['SineCoulombMatrix|sine coulomb matrix eig 58', 'SineCoulombMatrix|sine coulomb matrix eig 59', 'SineCoulombMatrix|sine coulomb matrix eig 60', 'SineCoulombMatrix|sine coulomb matrix eig 61', 'SineCoulombMatrix|sine coulomb matrix eig 62']\n",
      "['SineCoulombMatrix|sine coulomb matrix eig 63', 'SineCoulombMatrix|sine coulomb matrix eig 64', 'SineCoulombMatrix|sine coulomb matrix eig 65', 'SineCoulombMatrix|sine coulomb matrix eig 66', 'SineCoulombMatrix|sine coulomb matrix eig 67']\n",
      "['SineCoulombMatrix|sine coulomb matrix eig 68', 'SineCoulombMatrix|sine coulomb matrix eig 69', 'SineCoulombMatrix|sine coulomb matrix eig 70', 'SineCoulombMatrix|sine coulomb matrix eig 71', 'SineCoulombMatrix|sine coulomb matrix eig 72']\n",
      "['SineCoulombMatrix|sine coulomb matrix eig 73', 'SineCoulombMatrix|sine coulomb matrix eig 74', 'SineCoulombMatrix|sine coulomb matrix eig 75', 'SineCoulombMatrix|sine coulomb matrix eig 76', 'SineCoulombMatrix|sine coulomb matrix eig 77']\n",
      "['SineCoulombMatrix|sine coulomb matrix eig 78', 'SineCoulombMatrix|sine coulomb matrix eig 79', 'SineCoulombMatrix|sine coulomb matrix eig 80', 'SineCoulombMatrix|sine coulomb matrix eig 81', 'SineCoulombMatrix|sine coulomb matrix eig 82']\n",
      "['SineCoulombMatrix|sine coulomb matrix eig 83', 'SineCoulombMatrix|sine coulomb matrix eig 84', 'SineCoulombMatrix|sine coulomb matrix eig 85', 'SineCoulombMatrix|sine coulomb matrix eig 86', 'SineCoulombMatrix|sine coulomb matrix eig 87']\n",
      "['SineCoulombMatrix|sine coulomb matrix eig 88', 'SineCoulombMatrix|sine coulomb matrix eig 89', 'SineCoulombMatrix|sine coulomb matrix eig 90', 'SineCoulombMatrix|sine coulomb matrix eig 91', 'SineCoulombMatrix|sine coulomb matrix eig 92']\n",
      "['SineCoulombMatrix|sine coulomb matrix eig 93', 'SineCoulombMatrix|sine coulomb matrix eig 94', 'SineCoulombMatrix|sine coulomb matrix eig 95', 'SineCoulombMatrix|sine coulomb matrix eig 96', 'SineCoulombMatrix|sine coulomb matrix eig 97']\n",
      "['SineCoulombMatrix|sine coulomb matrix eig 98', 'SineCoulombMatrix|sine coulomb matrix eig 99', 'SineCoulombMatrix|sine coulomb matrix eig 100', 'SineCoulombMatrix|sine coulomb matrix eig 101', 'SineCoulombMatrix|sine coulomb matrix eig 102']\n",
      "['SineCoulombMatrix|sine coulomb matrix eig 103', 'SineCoulombMatrix|sine coulomb matrix eig 104', 'SineCoulombMatrix|sine coulomb matrix eig 105', 'SineCoulombMatrix|sine coulomb matrix eig 106', 'SineCoulombMatrix|sine coulomb matrix eig 107']\n",
      "['SineCoulombMatrix|sine coulomb matrix eig 108', 'SineCoulombMatrix|sine coulomb matrix eig 109', 'SineCoulombMatrix|sine coulomb matrix eig 110', 'SineCoulombMatrix|sine coulomb matrix eig 111', 'SineCoulombMatrix|sine coulomb matrix eig 112']\n",
      "['SineCoulombMatrix|sine coulomb matrix eig 113', 'SineCoulombMatrix|sine coulomb matrix eig 114', 'SineCoulombMatrix|sine coulomb matrix eig 115', 'SineCoulombMatrix|sine coulomb matrix eig 116', 'SineCoulombMatrix|sine coulomb matrix eig 117']\n",
      "['SineCoulombMatrix|sine coulomb matrix eig 118', 'SineCoulombMatrix|sine coulomb matrix eig 119', 'SineCoulombMatrix|sine coulomb matrix eig 120', 'SineCoulombMatrix|sine coulomb matrix eig 121', 'SineCoulombMatrix|sine coulomb matrix eig 122']\n",
      "['SineCoulombMatrix|sine coulomb matrix eig 123', 'SineCoulombMatrix|sine coulomb matrix eig 124', 'SineCoulombMatrix|sine coulomb matrix eig 125', 'SineCoulombMatrix|sine coulomb matrix eig 126', 'SineCoulombMatrix|sine coulomb matrix eig 127']\n",
      "['SineCoulombMatrix|sine coulomb matrix eig 128', 'SineCoulombMatrix|sine coulomb matrix eig 129', 'SineCoulombMatrix|sine coulomb matrix eig 130', 'SineCoulombMatrix|sine coulomb matrix eig 131', 'SineCoulombMatrix|sine coulomb matrix eig 132']\n",
      "['SineCoulombMatrix|sine coulomb matrix eig 133', 'SineCoulombMatrix|sine coulomb matrix eig 134', 'SineCoulombMatrix|sine coulomb matrix eig 135', 'SineCoulombMatrix|sine coulomb matrix eig 136', 'SineCoulombMatrix|sine coulomb matrix eig 137']\n",
      "['SineCoulombMatrix|sine coulomb matrix eig 138', 'SineCoulombMatrix|sine coulomb matrix eig 139', 'SineCoulombMatrix|sine coulomb matrix eig 140', 'SineCoulombMatrix|sine coulomb matrix eig 141', 'SineCoulombMatrix|sine coulomb matrix eig 142']\n",
      "['SineCoulombMatrix|sine coulomb matrix eig 143', 'SineCoulombMatrix|sine coulomb matrix eig 144', 'SineCoulombMatrix|sine coulomb matrix eig 145', 'SineCoulombMatrix|sine coulomb matrix eig 146', 'SineCoulombMatrix|sine coulomb matrix eig 147']\n",
      "['SineCoulombMatrix|sine coulomb matrix eig 148', 'SineCoulombMatrix|sine coulomb matrix eig 149', 'SineCoulombMatrix|sine coulomb matrix eig 150', 'SineCoulombMatrix|sine coulomb matrix eig 151', 'SineCoulombMatrix|sine coulomb matrix eig 152']\n",
      "['SineCoulombMatrix|sine coulomb matrix eig 153', 'SineCoulombMatrix|sine coulomb matrix eig 154', 'SineCoulombMatrix|sine coulomb matrix eig 155', 'SineCoulombMatrix|sine coulomb matrix eig 156', 'SineCoulombMatrix|sine coulomb matrix eig 157']\n",
      "['SineCoulombMatrix|sine coulomb matrix eig 158', 'SineCoulombMatrix|sine coulomb matrix eig 159', 'SineCoulombMatrix|sine coulomb matrix eig 160', 'SineCoulombMatrix|sine coulomb matrix eig 161', 'SineCoulombMatrix|sine coulomb matrix eig 162']\n",
      "['SineCoulombMatrix|sine coulomb matrix eig 163', 'SineCoulombMatrix|sine coulomb matrix eig 164', 'SineCoulombMatrix|sine coulomb matrix eig 165', 'SineCoulombMatrix|sine coulomb matrix eig 166', 'SineCoulombMatrix|sine coulomb matrix eig 167']\n",
      "['SineCoulombMatrix|sine coulomb matrix eig 168', 'SineCoulombMatrix|sine coulomb matrix eig 169', 'SineCoulombMatrix|sine coulomb matrix eig 170', 'SineCoulombMatrix|sine coulomb matrix eig 171', 'SineCoulombMatrix|sine coulomb matrix eig 172']\n",
      "['SineCoulombMatrix|sine coulomb matrix eig 173', 'SineCoulombMatrix|sine coulomb matrix eig 174', 'SineCoulombMatrix|sine coulomb matrix eig 175', 'XRDPowderPattern|xrd_0', 'XRDPowderPattern|xrd_1']\n",
      "['XRDPowderPattern|xrd_2', 'XRDPowderPattern|xrd_3', 'XRDPowderPattern|xrd_4', 'XRDPowderPattern|xrd_5', 'XRDPowderPattern|xrd_6']\n",
      "['XRDPowderPattern|xrd_7', 'XRDPowderPattern|xrd_8', 'XRDPowderPattern|xrd_9', 'XRDPowderPattern|xrd_10', 'XRDPowderPattern|xrd_11']\n",
      "['XRDPowderPattern|xrd_12', 'XRDPowderPattern|xrd_13', 'XRDPowderPattern|xrd_14', 'XRDPowderPattern|xrd_15', 'XRDPowderPattern|xrd_16']\n",
      "['XRDPowderPattern|xrd_17', 'XRDPowderPattern|xrd_18', 'XRDPowderPattern|xrd_19', 'XRDPowderPattern|xrd_20', 'XRDPowderPattern|xrd_21']\n",
      "['XRDPowderPattern|xrd_22', 'XRDPowderPattern|xrd_23', 'XRDPowderPattern|xrd_24', 'XRDPowderPattern|xrd_25', 'XRDPowderPattern|xrd_26']\n",
      "['XRDPowderPattern|xrd_27', 'XRDPowderPattern|xrd_28', 'XRDPowderPattern|xrd_29', 'XRDPowderPattern|xrd_30', 'XRDPowderPattern|xrd_31']\n",
      "['XRDPowderPattern|xrd_32', 'XRDPowderPattern|xrd_33', 'XRDPowderPattern|xrd_34', 'XRDPowderPattern|xrd_35', 'XRDPowderPattern|xrd_36']\n",
      "['XRDPowderPattern|xrd_37', 'XRDPowderPattern|xrd_38', 'XRDPowderPattern|xrd_39', 'XRDPowderPattern|xrd_40', 'XRDPowderPattern|xrd_41']\n",
      "['XRDPowderPattern|xrd_42', 'XRDPowderPattern|xrd_43', 'XRDPowderPattern|xrd_44', 'XRDPowderPattern|xrd_45', 'XRDPowderPattern|xrd_46']\n",
      "['XRDPowderPattern|xrd_47', 'XRDPowderPattern|xrd_48', 'XRDPowderPattern|xrd_49', 'XRDPowderPattern|xrd_50', 'XRDPowderPattern|xrd_51']\n",
      "['XRDPowderPattern|xrd_52', 'XRDPowderPattern|xrd_53', 'XRDPowderPattern|xrd_54', 'XRDPowderPattern|xrd_55', 'XRDPowderPattern|xrd_56']\n",
      "['XRDPowderPattern|xrd_57', 'XRDPowderPattern|xrd_58', 'XRDPowderPattern|xrd_59', 'XRDPowderPattern|xrd_60', 'XRDPowderPattern|xrd_61']\n",
      "['XRDPowderPattern|xrd_62', 'XRDPowderPattern|xrd_63', 'XRDPowderPattern|xrd_64', 'XRDPowderPattern|xrd_65', 'XRDPowderPattern|xrd_66']\n",
      "['XRDPowderPattern|xrd_67', 'XRDPowderPattern|xrd_68', 'XRDPowderPattern|xrd_69', 'XRDPowderPattern|xrd_70', 'XRDPowderPattern|xrd_71']\n",
      "['XRDPowderPattern|xrd_72', 'XRDPowderPattern|xrd_73', 'XRDPowderPattern|xrd_74', 'XRDPowderPattern|xrd_75', 'XRDPowderPattern|xrd_76']\n",
      "['XRDPowderPattern|xrd_77', 'XRDPowderPattern|xrd_78', 'XRDPowderPattern|xrd_79', 'XRDPowderPattern|xrd_80', 'XRDPowderPattern|xrd_81']\n",
      "['XRDPowderPattern|xrd_82', 'XRDPowderPattern|xrd_83', 'XRDPowderPattern|xrd_84', 'XRDPowderPattern|xrd_85', 'XRDPowderPattern|xrd_86']\n",
      "['XRDPowderPattern|xrd_87', 'XRDPowderPattern|xrd_88', 'XRDPowderPattern|xrd_89', 'XRDPowderPattern|xrd_90', 'XRDPowderPattern|xrd_91']\n",
      "['XRDPowderPattern|xrd_92', 'XRDPowderPattern|xrd_93', 'XRDPowderPattern|xrd_94', 'XRDPowderPattern|xrd_95', 'XRDPowderPattern|xrd_96']\n",
      "['XRDPowderPattern|xrd_97', 'XRDPowderPattern|xrd_98', 'XRDPowderPattern|xrd_99', 'XRDPowderPattern|xrd_100', 'XRDPowderPattern|xrd_101']\n",
      "['XRDPowderPattern|xrd_102', 'XRDPowderPattern|xrd_103', 'XRDPowderPattern|xrd_104', 'XRDPowderPattern|xrd_105', 'XRDPowderPattern|xrd_106']\n",
      "['XRDPowderPattern|xrd_107', 'XRDPowderPattern|xrd_108', 'XRDPowderPattern|xrd_109', 'XRDPowderPattern|xrd_110', 'XRDPowderPattern|xrd_111']\n",
      "['XRDPowderPattern|xrd_112', 'XRDPowderPattern|xrd_113', 'XRDPowderPattern|xrd_114', 'XRDPowderPattern|xrd_115', 'XRDPowderPattern|xrd_116']\n",
      "['XRDPowderPattern|xrd_117', 'XRDPowderPattern|xrd_118', 'XRDPowderPattern|xrd_119', 'XRDPowderPattern|xrd_120', 'XRDPowderPattern|xrd_121']\n",
      "['XRDPowderPattern|xrd_122', 'XRDPowderPattern|xrd_123', 'XRDPowderPattern|xrd_124', 'XRDPowderPattern|xrd_125', 'XRDPowderPattern|xrd_126']\n",
      "['XRDPowderPattern|xrd_127']\n",
      "26/26 [==============================] - 0s 1ms/step\n",
      "26/26 [==============================] - 0s 960us/step\n",
      "26/26 [==============================] - 0s 1ms/step\n",
      "MAE_test - No GNN: 0.06556971403121567\n",
      "MSE_test - No GNN: 0.01536783405350447\n",
      "R2_test - No GNN: 0.9165846640356891\n"
     ]
    }
   ],
   "source": [
    "# finally we truncate the md_test dataframe and evaluate the model\n",
    "# first make a backup\n",
    "md_test.df_featurized_backup = md_test.df_featurized.copy(deep=True)\n",
    "\n",
    "# in the test data\n",
    "allcolumns = md_test.df_featurized.columns.tolist()\n",
    "col_position = allcolumns.index('MEGNet_OFMEncoded_v1_1')\n",
    "md_test.df_featurized = md_test.df_featurized.iloc[:, :col_position]\n",
    "print(f'Truncated dataframe, now has {md_test.df_featurized.shape[1]} columns')\n",
    "# pretty print columns\n",
    "allcolumns = md_test.df_featurized.columns.tolist()\n",
    "for i in range(0, len(allcolumns), 5):\n",
    "    print(allcolumns[i:i+5])\n",
    "\n",
    "# Evaluate the model in test data.\n",
    "test_results = best_model_simple.predict(md_test)\n",
    "# Get statistics of the evaluation comparing with target data.\n",
    "y_true = md_test.df_targets.values.flatten()\n",
    "y_pred = test_results.values.flatten()\n",
    "\n",
    "mae_test_simple = mean_absolute_error(y_true, y_pred)\n",
    "mse_test_simple = mean_squared_error(y_true, y_pred)\n",
    "r2_test_simple = r2_score(y_true, y_pred)\n",
    "\n",
    "print(f'MAE_test - No GNN: {mae_test_simple}')\n",
    "print(f'MSE_test - No GNN: {mse_test_simple}')\n",
    "print(f'R2_test - No GNN: {r2_test_simple}')\n"
   ]
  },
  {
   "cell_type": "code",
   "execution_count": 25,
   "metadata": {},
   "outputs": [
    {
     "data": {
      "image/png": "[encoded data removed]",
      "text/plain": [
       "<Figure size 1000x1500 with 3 Axes>"
      ]
     },
     "metadata": {},
     "output_type": "display_data"
    }
   ],
   "source": [
    "import matplotlib.pyplot as plt\n",
    "import numpy as np\n",
    "\n",
    "# Define the labels and results\n",
    "labels = ['Train', 'Test']\n",
    "mae_results = [mae_train, mae_test]\n",
    "mae_results_simple = [mae_train_simple, mae_test_simple]\n",
    "mse_results = [mse_train, mse_test]\n",
    "mse_results_simple = [mse_train_simple, mse_test_simple]\n",
    "r2_results = [r2_train, r2_test]\n",
    "r2_results_simple = [r2_train_simple, r2_test_simple]\n",
    "\n",
    "x = np.arange(len(labels))  # the label locations\n",
    "width = 0.35  # the width of the bars\n",
    "\n",
    "fig, axs = plt.subplots(3, 1, figsize=(10, 15))\n",
    "\n",
    "# Function to add text on top of bars\n",
    "def add_text(ax, rects):\n",
    "     for rect in rects:\n",
    "          height = rect.get_height()\n",
    "          ax.annotate(f'{height:.4f}',\n",
    "                         xy=(rect.get_x() + rect.get_width() / 2, height),\n",
    "                         xytext=(0, 3),  # 3 points vertical offset\n",
    "                         textcoords=\"offset points\",\n",
    "                         ha='center', va='bottom')\n",
    "\n",
    "# Plot MAE\n",
    "rects1 = axs[0].bar(x - width/2, mae_results, width, label='Omega Featurizer', color='skyblue')\n",
    "rects2 = axs[0].bar(x + width/2, mae_results_simple, width, label='DeBreuck Featurizer', color='lightgreen')\n",
    "axs[0].axhline(y=mae_train_simple, color='r', linestyle='--')\n",
    "axs[0].axhline(y=mae_test_simple, color='r', linestyle='--')\n",
    "axs[0].set_ylabel('MAE')\n",
    "axs[0].set_title('MAE by set and featurizer')\n",
    "axs[0].set_xticks(x)\n",
    "axs[0].set_xticklabels(labels)\n",
    "axs[0].legend()\n",
    "add_text(axs[0], rects1)\n",
    "add_text(axs[0], rects2)\n",
    "# Adjust the range\n",
    "axs[0].set_ylim([min(min(mae_results), min(mae_results_simple)) - 0.01, max(max(mae_results), max(mae_results_simple)) + 0.01])\n",
    "\n",
    "# Plot MSE\n",
    "rects1 = axs[1].bar(x - width/2, mse_results, width, label='Omega Featurizer', color='skyblue')\n",
    "rects2 = axs[1].bar(x + width/2, mse_results_simple, width, label='DeBreuck Featurizer', color='lightgreen')\n",
    "axs[1].axhline(y=mse_train_simple, color='r', linestyle='--')\n",
    "axs[1].axhline(y=mse_test_simple, color='r', linestyle='--')\n",
    "axs[1].set_ylabel('MSE')\n",
    "axs[1].set_title('MSE by set and featurizer')\n",
    "axs[1].set_xticks(x)\n",
    "axs[1].set_xticklabels(labels)\n",
    "axs[1].legend()\n",
    "add_text(axs[1], rects1)\n",
    "add_text(axs[1], rects2)\n",
    "# Adjust the range\n",
    "axs[1].set_ylim([min(min(mse_results), min(mse_results_simple)) - 0.001, max(max(mse_results), max(mse_results_simple)) + 0.001])\n",
    "\n",
    "# Plot R²\n",
    "rects1 = axs[2].bar(x - width/2, r2_results, width, label='Omega Featurizer', color='skyblue')\n",
    "rects2 = axs[2].bar(x + width/2, r2_results_simple, width, label='DeBreuck Featurizer', color='lightgreen')\n",
    "axs[2].axhline(y=r2_train_simple, color='r', linestyle='--')\n",
    "axs[2].axhline(y=r2_test_simple, color='r', linestyle='--')\n",
    "axs[2].set_ylabel('R²')\n",
    "axs[2].set_title('R² by set and featurizer')\n",
    "axs[2].set_xticks(x)\n",
    "axs[2].set_xticklabels(labels)\n",
    "axs[2].legend()\n",
    "add_text(axs[2], rects1)\n",
    "add_text(axs[2], rects2)\n",
    "# Adjust the range\n",
    "axs[2].set_ylim([min(min(r2_results), min(r2_results_simple)) - 0.01, max(max(r2_results), max(r2_results_simple)) + 0.01])\n",
    "\n",
    "fig.tight_layout()\n",
    "plt.show()"
   ]
  },
  {
   "cell_type": "code",
   "execution_count": 34,
   "metadata": {},
   "outputs": [
    {
     "data": {
      "image/png": "[encoded data removed]",
      "text/plain": [
       "<Figure size 1000x1000 with 1 Axes>"
      ]
     },
     "metadata": {},
     "output_type": "display_data"
    }
   ],
   "source": [
    "# Lets analyze the percent difference in the MAE between featurizers.\n",
    "import numpy as np\n",
    "import matplotlib.pyplot as plt\n",
    "\n",
    "# Calculate the percentage difference in MAE between train and test data\n",
    "mae_train_diff_percent = (mae_train - mae_train_simple) / mae_train_simple * 100\n",
    "mae_test_diff_percent = (mae_test - mae_test_simple) / mae_test_simple * 100\n",
    "\n",
    "# Plotting\n",
    "fig, ax = plt.subplots(1, 1, figsize=(10, 10))\n",
    "\n",
    "# Function to add text on top of bars\n",
    "def add_text(ax, rects, diffs):\n",
    "     for rect, diff in zip(rects, diffs):\n",
    "          height = rect.get_height()\n",
    "          ax.annotate(f'{height:.4f}\\n({diff:.2f}%)',\n",
    "                         xy=(rect.get_x() + rect.get_width() / 2, height),\n",
    "                         xytext=(0, 3),  # 3 points vertical offset\n",
    "                         textcoords=\"offset points\",\n",
    "                         ha='center', va='bottom')\n",
    "\n",
    "# Plot MAE\n",
    "rects1 = ax.bar(x - width/2, mae_results, width, label='Omega Featurizer', color='skyblue')\n",
    "rects2 = ax.bar(x + width/2, mae_results_simple, width, label='DeBreuck Featurizer', color='lightgreen')\n",
    "ax.axhline(y=mae_train_simple, color='r', linestyle='--')\n",
    "ax.axhline(y=mae_test_simple, color='r', linestyle='--')\n",
    "ax.set_ylabel('MAE')\n",
    "ax.set_title('MAE by set and featurizer')\n",
    "ax.set_xticks(x)\n",
    "ax.set_xticklabels(labels)\n",
    "ax.legend(loc='upper left')\n",
    "add_text(ax, rects1, [mae_train_diff_percent, mae_test_diff_percent])\n",
    "add_text(ax, rects2, [0, 0])  # No difference for simple featurizer\n",
    "# Adjust the range\n",
    "ax.set_ylim([min(min(mae_results), min(mae_results_simple)) - 0.01, max(max(mae_results), max(mae_results_simple)) + 0.01])\n",
    "\n",
    "plt.show()"
   ]
  },
  {
   "cell_type": "markdown",
   "metadata": {},
   "source": [
    "##### The simpler featurizer, based solely on MatMiner features (DeBreuck2020), shows clear overfitting on the training data and a significant drop in accuracy on the test set when compared to the GNN-enhanced OMEGA featurizer. This trend was observed to become even more pronounced with larger datasets, where the chemical and physical features struggle to capture complex patterns as effectively as graph models do, impacting predictive performance of traditional feature-based models."
   ]
  }
 ],
 "metadata": {
  "kernelspec": {
   "display_name": "Python 3",
   "language": "python",
   "name": "python3"
  },
  "language_info": {
   "codemirror_mode": {
    "name": "ipython",
    "version": 3
   },
   "file_extension": ".py",
   "mimetype": "text/x-python",
   "name": "python",
   "nbconvert_exporter": "python",
   "pygments_lexer": "ipython3",
   "version": "3.8.16"
  }
 },
 "nbformat": 4,
 "nbformat_minor": 2
}
